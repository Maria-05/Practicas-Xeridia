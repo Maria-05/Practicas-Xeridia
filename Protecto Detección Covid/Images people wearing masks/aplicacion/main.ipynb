{
 "cells": [
  {
   "cell_type": "code",
   "execution_count": null,
   "id": "0c91861a",
   "metadata": {},
   "outputs": [
    {
     "name": "stderr",
     "output_type": "stream",
     "text": [
      "2021-12-16 13:59:49.571945: I tensorflow/compiler/mlir/mlir_graph_optimization_pass.cc:185] None of the MLIR Optimization Passes are enabled (registered 2)\n"
     ]
    },
    {
     "name": "stdout",
     "output_type": "stream",
     "text": [
      "La clasifico como tipo: Mascarilla correctamente puesta\n"
     ]
    }
   ],
   "source": [
    "import cv2\n",
    "from keras.models import load_model\n",
    "import numpy as np\n",
    "\n",
    "\n",
    "model = load_model('trained_modelXception.h5')\n",
    "\n",
    "tipos = [\n",
    "    'Mascarilla correctamente puesta',\n",
    "    'Mascarilla por debajo de la nariz',\n",
    "    'Mascarilla en la barbilla',\n",
    "    'Sin mascarilla'\n",
    "]\n",
    "\n",
    "\n",
    "def predict(image):\n",
    "    X_test = []\n",
    "    image = cv2.cvtColor(image, cv2.COLOR_BGR2RGB)\n",
    "    image = cv2.resize(image, (300, 300))\n",
    "    X_test.append(image)\n",
    "    X_test = np.array(X_test)\n",
    "    prediction = model.predict(X_test)\n",
    "    return prediction\n",
    "\n",
    "\n",
    "def predic_on_camera(index):\n",
    "    cap = cv2.VideoCapture(index)\n",
    "    while True:\n",
    "        ret, frame = cap.read()\n",
    "        cv2.imshow('frame', frame)\n",
    "\n",
    "        if cv2.waitKey(1) & 0xFF == ord(' '):\n",
    "            print('La clasifico como tipo: {}'.format(tipos[np.argmax(predict(frame))]))\n",
    "\n",
    "        if cv2.waitKey(2) & 0xFF == ord('q'):\n",
    "            cap.release()\n",
    "            cv2.destroyAllWindows()\n",
    "            exit()\n",
    "\n",
    "\n",
    "# Pasar como index el numero de la camara, en mi caso el 2 porque tengo una externa, la webcam integrada es el 0\n",
    "def main():\n",
    "    predic_on_camera(0)\n",
    "\n",
    "\n",
    "if __name__ == '__main__':\n",
    "    main() "
   ]
  },
  {
   "cell_type": "code",
   "execution_count": null,
   "id": "6e4a498c",
   "metadata": {},
   "outputs": [],
   "source": [
    " "
   ]
  }
 ],
 "metadata": {
  "kernelspec": {
   "display_name": "Python 3 (ipykernel)",
   "language": "python",
   "name": "python3"
  },
  "language_info": {
   "codemirror_mode": {
    "name": "ipython",
    "version": 3
   },
   "file_extension": ".py",
   "mimetype": "text/x-python",
   "name": "python",
   "nbconvert_exporter": "python",
   "pygments_lexer": "ipython3",
   "version": "3.8.11"
  }
 },
 "nbformat": 4,
 "nbformat_minor": 5
}
