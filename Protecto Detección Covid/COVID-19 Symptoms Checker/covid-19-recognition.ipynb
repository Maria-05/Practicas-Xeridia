{
 "cells": [
  {
   "cell_type": "markdown",
   "id": "d707a686",
   "metadata": {
    "papermill": {
     "duration": 0.044475,
     "end_time": "2021-12-08T15:12:13.660963",
     "exception": false,
     "start_time": "2021-12-08T15:12:13.616488",
     "status": "completed"
    },
    "tags": []
   },
   "source": [
    "# COVID-19 Modelo Basado en Síntomas"
   ]
  },
  {
   "cell_type": "markdown",
   "id": "0ab479e0",
   "metadata": {
    "papermill": {
     "duration": 0.04231,
     "end_time": "2021-12-08T15:12:13.745882",
     "exception": false,
     "start_time": "2021-12-08T15:12:13.703572",
     "status": "completed"
    },
    "tags": []
   },
   "source": [
    "Estos datos ayudarán a identificar si alguna persona tiene una enfermedad por coronavirus o no en función de algunos síntomas definidos. Estos síntomas se basan en las pautas dadas por la Organización Mundial de la Salud (OMS)."
   ]
  },
  {
   "cell_type": "markdown",
   "id": "f436aaf4",
   "metadata": {
    "papermill": {
     "duration": 0.045197,
     "end_time": "2021-12-08T15:12:13.834819",
     "exception": false,
     "start_time": "2021-12-08T15:12:13.789622",
     "status": "completed"
    },
    "tags": []
   },
   "source": [
    "El conjunto de datos contiene **siete variables**\n",
    "A continuación se muestra la descripción de cada variable:\n",
    "- País: Lista de países visitados por la persona.\n",
    "- Edad: Clasificación del grupo de edad para cada persona, según el estándar de grupos de edad de la OMS.\n",
    "- Síntomas: fiebre, cansancio, dificultad para respirar, tos seca y dolor de garganta.\n",
    "- Experimente cualquier otro síntoma: dolores, congestión nasal, secreción nasal, diarrea y otros.\n",
    "- Gravedad: leve, moderada, grave\n",
    "- Contacto: ¿La persona se ha puesto en contacto con algún otro paciente de COVID-19?"
   ]
  },
  {
   "cell_type": "markdown",
   "id": "79478703",
   "metadata": {
    "papermill": {
     "duration": 0.045166,
     "end_time": "2021-12-08T15:12:13.931692",
     "exception": false,
     "start_time": "2021-12-08T15:12:13.886526",
     "status": "completed"
    },
    "tags": []
   },
   "source": [
    "Tenemos dos dos archivos CSV de datos:\n",
    "\n",
    "- Raw-Data: Este archivo contiene todas las posibles etiquetas categóricas de variables. Se utiliza para generar los datos limpios.\n",
    "- Datos limpios: Este archivo contiene todas las combinaciones posibles de datos de Raw-Data.csv, que se pueden utilizar para el análisis. La mayoría de las celdas contienen variables 0 y 1 dependiendo si la característica es positiva o no."
   ]
  },
  {
   "cell_type": "code",
   "execution_count": 1,
   "id": "759d4ed3",
   "metadata": {
    "_cell_guid": "b1076dfc-b9ad-4769-8c92-a6c4dae69d19",
    "_uuid": "8f2839f25d086af736a60e9eeb907d3b93b6e0e5",
    "execution": {
     "iopub.execute_input": "2021-12-08T15:12:14.021624Z",
     "iopub.status.busy": "2021-12-08T15:12:14.019829Z",
     "iopub.status.idle": "2021-12-08T15:12:15.099657Z",
     "shell.execute_reply": "2021-12-08T15:12:15.098925Z",
     "shell.execute_reply.started": "2021-12-08T14:50:12.454184Z"
    },
    "papermill": {
     "duration": 1.126715,
     "end_time": "2021-12-08T15:12:15.099831",
     "exception": false,
     "start_time": "2021-12-08T15:12:13.973116",
     "status": "completed"
    },
    "tags": []
   },
   "outputs": [
    {
     "name": "stdout",
     "output_type": "stream",
     "text": [
      "/kaggle/input/covid19-symptoms-checker/Cleaned-Data.csv\n",
      "/kaggle/input/covid19-symptoms-checker/Raw-Data.csv\n"
     ]
    }
   ],
   "source": [
    "# Librerías necesarias\n",
    "\n",
    "import numpy as np \n",
    "import pandas as pd \n",
    "import matplotlib.pyplot as plt\n",
    "import seaborn as sns\n",
    "plt.style.use('fivethirtyeight')\n",
    "import warnings\n",
    "warnings.filterwarnings('ignore')\n",
    "%matplotlib inline\n",
    "\n",
    "# Los archivos de datos están disponibles en el directorio \"../input/\" \n",
    "\n",
    "import os\n",
    "for dirname, _, filenames in os.walk('/kaggle/input'):\n",
    "    for filename in filenames:\n",
    "        print(os.path.join(dirname, filename))"
   ]
  },
  {
   "cell_type": "markdown",
   "id": "411873d3",
   "metadata": {
    "papermill": {
     "duration": 0.106518,
     "end_time": "2021-12-08T15:12:15.253539",
     "exception": false,
     "start_time": "2021-12-08T15:12:15.147021",
     "status": "completed"
    },
    "tags": []
   },
   "source": [
    "En esta celda cargamos el archivo Cleaned-Data.csv, contiene información de cada paciente.\n",
    "\n",
    "Mostramos las primeras 5 filas del conjunto de datos"
   ]
  },
  {
   "cell_type": "code",
   "execution_count": 2,
   "id": "ca73bcb6",
   "metadata": {
    "execution": {
     "iopub.execute_input": "2021-12-08T15:12:15.343089Z",
     "iopub.status.busy": "2021-12-08T15:12:15.342472Z",
     "iopub.status.idle": "2021-12-08T15:12:16.126570Z",
     "shell.execute_reply": "2021-12-08T15:12:16.127070Z",
     "shell.execute_reply.started": "2021-12-08T14:50:13.262497Z"
    },
    "papermill": {
     "duration": 0.831519,
     "end_time": "2021-12-08T15:12:16.127245",
     "exception": false,
     "start_time": "2021-12-08T15:12:15.295726",
     "status": "completed"
    },
    "tags": []
   },
   "outputs": [
    {
     "data": {
      "text/html": [
       "<div>\n",
       "<style scoped>\n",
       "    .dataframe tbody tr th:only-of-type {\n",
       "        vertical-align: middle;\n",
       "    }\n",
       "\n",
       "    .dataframe tbody tr th {\n",
       "        vertical-align: top;\n",
       "    }\n",
       "\n",
       "    .dataframe thead th {\n",
       "        text-align: right;\n",
       "    }\n",
       "</style>\n",
       "<table border=\"1\" class=\"dataframe\">\n",
       "  <thead>\n",
       "    <tr style=\"text-align: right;\">\n",
       "      <th></th>\n",
       "      <th>Fever</th>\n",
       "      <th>Tiredness</th>\n",
       "      <th>Dry-Cough</th>\n",
       "      <th>Difficulty-in-Breathing</th>\n",
       "      <th>Sore-Throat</th>\n",
       "      <th>None_Sympton</th>\n",
       "      <th>Pains</th>\n",
       "      <th>Nasal-Congestion</th>\n",
       "      <th>Runny-Nose</th>\n",
       "      <th>Diarrhea</th>\n",
       "      <th>...</th>\n",
       "      <th>Gender_Male</th>\n",
       "      <th>Gender_Transgender</th>\n",
       "      <th>Severity_Mild</th>\n",
       "      <th>Severity_Moderate</th>\n",
       "      <th>Severity_None</th>\n",
       "      <th>Severity_Severe</th>\n",
       "      <th>Contact_Dont-Know</th>\n",
       "      <th>Contact_No</th>\n",
       "      <th>Contact_Yes</th>\n",
       "      <th>Country</th>\n",
       "    </tr>\n",
       "  </thead>\n",
       "  <tbody>\n",
       "    <tr>\n",
       "      <th>0</th>\n",
       "      <td>1</td>\n",
       "      <td>1</td>\n",
       "      <td>1</td>\n",
       "      <td>1</td>\n",
       "      <td>1</td>\n",
       "      <td>0</td>\n",
       "      <td>1</td>\n",
       "      <td>1</td>\n",
       "      <td>1</td>\n",
       "      <td>1</td>\n",
       "      <td>...</td>\n",
       "      <td>1</td>\n",
       "      <td>0</td>\n",
       "      <td>1</td>\n",
       "      <td>0</td>\n",
       "      <td>0</td>\n",
       "      <td>0</td>\n",
       "      <td>0</td>\n",
       "      <td>0</td>\n",
       "      <td>1</td>\n",
       "      <td>China</td>\n",
       "    </tr>\n",
       "    <tr>\n",
       "      <th>1</th>\n",
       "      <td>1</td>\n",
       "      <td>1</td>\n",
       "      <td>1</td>\n",
       "      <td>1</td>\n",
       "      <td>1</td>\n",
       "      <td>0</td>\n",
       "      <td>1</td>\n",
       "      <td>1</td>\n",
       "      <td>1</td>\n",
       "      <td>1</td>\n",
       "      <td>...</td>\n",
       "      <td>1</td>\n",
       "      <td>0</td>\n",
       "      <td>1</td>\n",
       "      <td>0</td>\n",
       "      <td>0</td>\n",
       "      <td>0</td>\n",
       "      <td>0</td>\n",
       "      <td>1</td>\n",
       "      <td>0</td>\n",
       "      <td>China</td>\n",
       "    </tr>\n",
       "    <tr>\n",
       "      <th>2</th>\n",
       "      <td>1</td>\n",
       "      <td>1</td>\n",
       "      <td>1</td>\n",
       "      <td>1</td>\n",
       "      <td>1</td>\n",
       "      <td>0</td>\n",
       "      <td>1</td>\n",
       "      <td>1</td>\n",
       "      <td>1</td>\n",
       "      <td>1</td>\n",
       "      <td>...</td>\n",
       "      <td>1</td>\n",
       "      <td>0</td>\n",
       "      <td>1</td>\n",
       "      <td>0</td>\n",
       "      <td>0</td>\n",
       "      <td>0</td>\n",
       "      <td>1</td>\n",
       "      <td>0</td>\n",
       "      <td>0</td>\n",
       "      <td>China</td>\n",
       "    </tr>\n",
       "    <tr>\n",
       "      <th>3</th>\n",
       "      <td>1</td>\n",
       "      <td>1</td>\n",
       "      <td>1</td>\n",
       "      <td>1</td>\n",
       "      <td>1</td>\n",
       "      <td>0</td>\n",
       "      <td>1</td>\n",
       "      <td>1</td>\n",
       "      <td>1</td>\n",
       "      <td>1</td>\n",
       "      <td>...</td>\n",
       "      <td>1</td>\n",
       "      <td>0</td>\n",
       "      <td>0</td>\n",
       "      <td>1</td>\n",
       "      <td>0</td>\n",
       "      <td>0</td>\n",
       "      <td>0</td>\n",
       "      <td>0</td>\n",
       "      <td>1</td>\n",
       "      <td>China</td>\n",
       "    </tr>\n",
       "    <tr>\n",
       "      <th>4</th>\n",
       "      <td>1</td>\n",
       "      <td>1</td>\n",
       "      <td>1</td>\n",
       "      <td>1</td>\n",
       "      <td>1</td>\n",
       "      <td>0</td>\n",
       "      <td>1</td>\n",
       "      <td>1</td>\n",
       "      <td>1</td>\n",
       "      <td>1</td>\n",
       "      <td>...</td>\n",
       "      <td>1</td>\n",
       "      <td>0</td>\n",
       "      <td>0</td>\n",
       "      <td>1</td>\n",
       "      <td>0</td>\n",
       "      <td>0</td>\n",
       "      <td>0</td>\n",
       "      <td>1</td>\n",
       "      <td>0</td>\n",
       "      <td>China</td>\n",
       "    </tr>\n",
       "  </tbody>\n",
       "</table>\n",
       "<p>5 rows × 27 columns</p>\n",
       "</div>"
      ],
      "text/plain": [
       "   Fever  Tiredness  Dry-Cough  Difficulty-in-Breathing  Sore-Throat  \\\n",
       "0      1          1          1                        1            1   \n",
       "1      1          1          1                        1            1   \n",
       "2      1          1          1                        1            1   \n",
       "3      1          1          1                        1            1   \n",
       "4      1          1          1                        1            1   \n",
       "\n",
       "   None_Sympton  Pains  Nasal-Congestion  Runny-Nose  Diarrhea  ...  \\\n",
       "0             0      1                 1           1         1  ...   \n",
       "1             0      1                 1           1         1  ...   \n",
       "2             0      1                 1           1         1  ...   \n",
       "3             0      1                 1           1         1  ...   \n",
       "4             0      1                 1           1         1  ...   \n",
       "\n",
       "   Gender_Male  Gender_Transgender  Severity_Mild  Severity_Moderate  \\\n",
       "0            1                   0              1                  0   \n",
       "1            1                   0              1                  0   \n",
       "2            1                   0              1                  0   \n",
       "3            1                   0              0                  1   \n",
       "4            1                   0              0                  1   \n",
       "\n",
       "   Severity_None  Severity_Severe  Contact_Dont-Know  Contact_No  Contact_Yes  \\\n",
       "0              0                0                  0           0            1   \n",
       "1              0                0                  0           1            0   \n",
       "2              0                0                  1           0            0   \n",
       "3              0                0                  0           0            1   \n",
       "4              0                0                  0           1            0   \n",
       "\n",
       "   Country  \n",
       "0    China  \n",
       "1    China  \n",
       "2    China  \n",
       "3    China  \n",
       "4    China  \n",
       "\n",
       "[5 rows x 27 columns]"
      ]
     },
     "execution_count": 2,
     "metadata": {},
     "output_type": "execute_result"
    }
   ],
   "source": [
    "df = pd.read_csv(\"/kaggle/input/covid19-symptoms-checker/Cleaned-Data.csv\")\n",
    "df.head()"
   ]
  },
  {
   "cell_type": "markdown",
   "id": "fe4d62d0",
   "metadata": {
    "papermill": {
     "duration": 0.042551,
     "end_time": "2021-12-08T15:12:16.211037",
     "exception": false,
     "start_time": "2021-12-08T15:12:16.168486",
     "status": "completed"
    },
    "tags": []
   },
   "source": [
    "Mostramos las últimas 5 filas del conjunto de datos"
   ]
  },
  {
   "cell_type": "code",
   "execution_count": 3,
   "id": "9fe81638",
   "metadata": {
    "execution": {
     "iopub.execute_input": "2021-12-08T15:12:16.303358Z",
     "iopub.status.busy": "2021-12-08T15:12:16.302619Z",
     "iopub.status.idle": "2021-12-08T15:12:16.320520Z",
     "shell.execute_reply": "2021-12-08T15:12:16.321116Z",
     "shell.execute_reply.started": "2021-12-08T14:50:14.169942Z"
    },
    "papermill": {
     "duration": 0.066247,
     "end_time": "2021-12-08T15:12:16.321427",
     "exception": false,
     "start_time": "2021-12-08T15:12:16.255180",
     "status": "completed"
    },
    "tags": []
   },
   "outputs": [
    {
     "data": {
      "text/html": [
       "<div>\n",
       "<style scoped>\n",
       "    .dataframe tbody tr th:only-of-type {\n",
       "        vertical-align: middle;\n",
       "    }\n",
       "\n",
       "    .dataframe tbody tr th {\n",
       "        vertical-align: top;\n",
       "    }\n",
       "\n",
       "    .dataframe thead th {\n",
       "        text-align: right;\n",
       "    }\n",
       "</style>\n",
       "<table border=\"1\" class=\"dataframe\">\n",
       "  <thead>\n",
       "    <tr style=\"text-align: right;\">\n",
       "      <th></th>\n",
       "      <th>Fever</th>\n",
       "      <th>Tiredness</th>\n",
       "      <th>Dry-Cough</th>\n",
       "      <th>Difficulty-in-Breathing</th>\n",
       "      <th>Sore-Throat</th>\n",
       "      <th>None_Sympton</th>\n",
       "      <th>Pains</th>\n",
       "      <th>Nasal-Congestion</th>\n",
       "      <th>Runny-Nose</th>\n",
       "      <th>Diarrhea</th>\n",
       "      <th>...</th>\n",
       "      <th>Gender_Male</th>\n",
       "      <th>Gender_Transgender</th>\n",
       "      <th>Severity_Mild</th>\n",
       "      <th>Severity_Moderate</th>\n",
       "      <th>Severity_None</th>\n",
       "      <th>Severity_Severe</th>\n",
       "      <th>Contact_Dont-Know</th>\n",
       "      <th>Contact_No</th>\n",
       "      <th>Contact_Yes</th>\n",
       "      <th>Country</th>\n",
       "    </tr>\n",
       "  </thead>\n",
       "  <tbody>\n",
       "    <tr>\n",
       "      <th>316795</th>\n",
       "      <td>0</td>\n",
       "      <td>0</td>\n",
       "      <td>0</td>\n",
       "      <td>0</td>\n",
       "      <td>0</td>\n",
       "      <td>1</td>\n",
       "      <td>0</td>\n",
       "      <td>0</td>\n",
       "      <td>0</td>\n",
       "      <td>0</td>\n",
       "      <td>...</td>\n",
       "      <td>0</td>\n",
       "      <td>1</td>\n",
       "      <td>0</td>\n",
       "      <td>0</td>\n",
       "      <td>0</td>\n",
       "      <td>1</td>\n",
       "      <td>0</td>\n",
       "      <td>1</td>\n",
       "      <td>0</td>\n",
       "      <td>Other</td>\n",
       "    </tr>\n",
       "    <tr>\n",
       "      <th>316796</th>\n",
       "      <td>0</td>\n",
       "      <td>0</td>\n",
       "      <td>0</td>\n",
       "      <td>0</td>\n",
       "      <td>0</td>\n",
       "      <td>1</td>\n",
       "      <td>0</td>\n",
       "      <td>0</td>\n",
       "      <td>0</td>\n",
       "      <td>0</td>\n",
       "      <td>...</td>\n",
       "      <td>0</td>\n",
       "      <td>1</td>\n",
       "      <td>0</td>\n",
       "      <td>0</td>\n",
       "      <td>0</td>\n",
       "      <td>1</td>\n",
       "      <td>1</td>\n",
       "      <td>0</td>\n",
       "      <td>0</td>\n",
       "      <td>Other</td>\n",
       "    </tr>\n",
       "    <tr>\n",
       "      <th>316797</th>\n",
       "      <td>0</td>\n",
       "      <td>0</td>\n",
       "      <td>0</td>\n",
       "      <td>0</td>\n",
       "      <td>0</td>\n",
       "      <td>1</td>\n",
       "      <td>0</td>\n",
       "      <td>0</td>\n",
       "      <td>0</td>\n",
       "      <td>0</td>\n",
       "      <td>...</td>\n",
       "      <td>0</td>\n",
       "      <td>1</td>\n",
       "      <td>0</td>\n",
       "      <td>0</td>\n",
       "      <td>1</td>\n",
       "      <td>0</td>\n",
       "      <td>0</td>\n",
       "      <td>0</td>\n",
       "      <td>1</td>\n",
       "      <td>Other</td>\n",
       "    </tr>\n",
       "    <tr>\n",
       "      <th>316798</th>\n",
       "      <td>0</td>\n",
       "      <td>0</td>\n",
       "      <td>0</td>\n",
       "      <td>0</td>\n",
       "      <td>0</td>\n",
       "      <td>1</td>\n",
       "      <td>0</td>\n",
       "      <td>0</td>\n",
       "      <td>0</td>\n",
       "      <td>0</td>\n",
       "      <td>...</td>\n",
       "      <td>0</td>\n",
       "      <td>1</td>\n",
       "      <td>0</td>\n",
       "      <td>0</td>\n",
       "      <td>1</td>\n",
       "      <td>0</td>\n",
       "      <td>0</td>\n",
       "      <td>1</td>\n",
       "      <td>0</td>\n",
       "      <td>Other</td>\n",
       "    </tr>\n",
       "    <tr>\n",
       "      <th>316799</th>\n",
       "      <td>0</td>\n",
       "      <td>0</td>\n",
       "      <td>0</td>\n",
       "      <td>0</td>\n",
       "      <td>0</td>\n",
       "      <td>1</td>\n",
       "      <td>0</td>\n",
       "      <td>0</td>\n",
       "      <td>0</td>\n",
       "      <td>0</td>\n",
       "      <td>...</td>\n",
       "      <td>0</td>\n",
       "      <td>1</td>\n",
       "      <td>0</td>\n",
       "      <td>0</td>\n",
       "      <td>1</td>\n",
       "      <td>0</td>\n",
       "      <td>1</td>\n",
       "      <td>0</td>\n",
       "      <td>0</td>\n",
       "      <td>Other</td>\n",
       "    </tr>\n",
       "  </tbody>\n",
       "</table>\n",
       "<p>5 rows × 27 columns</p>\n",
       "</div>"
      ],
      "text/plain": [
       "        Fever  Tiredness  Dry-Cough  Difficulty-in-Breathing  Sore-Throat  \\\n",
       "316795      0          0          0                        0            0   \n",
       "316796      0          0          0                        0            0   \n",
       "316797      0          0          0                        0            0   \n",
       "316798      0          0          0                        0            0   \n",
       "316799      0          0          0                        0            0   \n",
       "\n",
       "        None_Sympton  Pains  Nasal-Congestion  Runny-Nose  Diarrhea  ...  \\\n",
       "316795             1      0                 0           0         0  ...   \n",
       "316796             1      0                 0           0         0  ...   \n",
       "316797             1      0                 0           0         0  ...   \n",
       "316798             1      0                 0           0         0  ...   \n",
       "316799             1      0                 0           0         0  ...   \n",
       "\n",
       "        Gender_Male  Gender_Transgender  Severity_Mild  Severity_Moderate  \\\n",
       "316795            0                   1              0                  0   \n",
       "316796            0                   1              0                  0   \n",
       "316797            0                   1              0                  0   \n",
       "316798            0                   1              0                  0   \n",
       "316799            0                   1              0                  0   \n",
       "\n",
       "        Severity_None  Severity_Severe  Contact_Dont-Know  Contact_No  \\\n",
       "316795              0                1                  0           1   \n",
       "316796              0                1                  1           0   \n",
       "316797              1                0                  0           0   \n",
       "316798              1                0                  0           1   \n",
       "316799              1                0                  1           0   \n",
       "\n",
       "        Contact_Yes  Country  \n",
       "316795            0    Other  \n",
       "316796            0    Other  \n",
       "316797            1    Other  \n",
       "316798            0    Other  \n",
       "316799            0    Other  \n",
       "\n",
       "[5 rows x 27 columns]"
      ]
     },
     "execution_count": 3,
     "metadata": {},
     "output_type": "execute_result"
    }
   ],
   "source": [
    "df.tail()"
   ]
  },
  {
   "cell_type": "markdown",
   "id": "a29bbbbe",
   "metadata": {
    "papermill": {
     "duration": 0.043468,
     "end_time": "2021-12-08T15:12:16.409288",
     "exception": false,
     "start_time": "2021-12-08T15:12:16.365820",
     "status": "completed"
    },
    "tags": []
   },
   "source": [
    "Imprimimos el número del conjunto de datos que tenemos. En este caso enocntramos un **316800 instancias de diferentes pacientes y 27 características de entrada** para cada paciente."
   ]
  },
  {
   "cell_type": "code",
   "execution_count": 4,
   "id": "9f2f0572",
   "metadata": {
    "execution": {
     "iopub.execute_input": "2021-12-08T15:12:16.508133Z",
     "iopub.status.busy": "2021-12-08T15:12:16.507013Z",
     "iopub.status.idle": "2021-12-08T15:12:16.510831Z",
     "shell.execute_reply": "2021-12-08T15:12:16.511349Z",
     "shell.execute_reply.started": "2021-12-08T14:50:14.19277Z"
    },
    "papermill": {
     "duration": 0.057685,
     "end_time": "2021-12-08T15:12:16.511587",
     "exception": false,
     "start_time": "2021-12-08T15:12:16.453902",
     "status": "completed"
    },
    "tags": []
   },
   "outputs": [
    {
     "name": "stdout",
     "output_type": "stream",
     "text": [
      "Tamaño del dataset (316800, 27)\n",
      "Filas: 316800 \n",
      "Columnas: 27\n"
     ]
    }
   ],
   "source": [
    "print(\"Tamaño del dataset\", df.shape)\n",
    "print(\"Filas:\",df.shape[0],\"\\nColumnas:\",df.shape[1])"
   ]
  },
  {
   "cell_type": "markdown",
   "id": "65f4ec67",
   "metadata": {
    "papermill": {
     "duration": 0.048765,
     "end_time": "2021-12-08T15:12:16.607127",
     "exception": false,
     "start_time": "2021-12-08T15:12:16.558362",
     "status": "completed"
    },
    "tags": []
   },
   "source": [
    "Miramos que número de pacientes presentaron ninguna severidad -> 79200"
   ]
  },
  {
   "cell_type": "code",
   "execution_count": 5,
   "id": "c7d3daee",
   "metadata": {
    "execution": {
     "iopub.execute_input": "2021-12-08T15:12:16.704124Z",
     "iopub.status.busy": "2021-12-08T15:12:16.703440Z",
     "iopub.status.idle": "2021-12-08T15:12:16.719055Z",
     "shell.execute_reply": "2021-12-08T15:12:16.719506Z",
     "shell.execute_reply.started": "2021-12-08T14:50:14.210171Z"
    },
    "papermill": {
     "duration": 0.062187,
     "end_time": "2021-12-08T15:12:16.719692",
     "exception": false,
     "start_time": "2021-12-08T15:12:16.657505",
     "status": "completed"
    },
    "tags": []
   },
   "outputs": [
    {
     "data": {
      "text/plain": [
       "0    237600\n",
       "1     79200\n",
       "Name: Severity_None, dtype: int64"
      ]
     },
     "execution_count": 5,
     "metadata": {},
     "output_type": "execute_result"
    }
   ],
   "source": [
    "df['Severity_None'].value_counts()"
   ]
  },
  {
   "cell_type": "markdown",
   "id": "88f35448",
   "metadata": {
    "papermill": {
     "duration": 0.050538,
     "end_time": "2021-12-08T15:12:16.817847",
     "exception": false,
     "start_time": "2021-12-08T15:12:16.767309",
     "status": "completed"
    },
    "tags": []
   },
   "source": [
    "Miramos que número de pacientes presentaron severidad suave"
   ]
  },
  {
   "cell_type": "code",
   "execution_count": 6,
   "id": "c7101d4d",
   "metadata": {
    "execution": {
     "iopub.execute_input": "2021-12-08T15:12:16.910492Z",
     "iopub.status.busy": "2021-12-08T15:12:16.909797Z",
     "iopub.status.idle": "2021-12-08T15:12:16.918281Z",
     "shell.execute_reply": "2021-12-08T15:12:16.917769Z",
     "shell.execute_reply.started": "2021-12-08T14:50:14.235974Z"
    },
    "papermill": {
     "duration": 0.055439,
     "end_time": "2021-12-08T15:12:16.918451",
     "exception": false,
     "start_time": "2021-12-08T15:12:16.863012",
     "status": "completed"
    },
    "tags": []
   },
   "outputs": [
    {
     "data": {
      "text/plain": [
       "0    237600\n",
       "1     79200\n",
       "Name: Severity_Mild, dtype: int64"
      ]
     },
     "execution_count": 6,
     "metadata": {},
     "output_type": "execute_result"
    }
   ],
   "source": [
    "df['Severity_Mild'].value_counts()"
   ]
  },
  {
   "cell_type": "markdown",
   "id": "64b0037f",
   "metadata": {
    "papermill": {
     "duration": 0.043713,
     "end_time": "2021-12-08T15:12:17.007768",
     "exception": false,
     "start_time": "2021-12-08T15:12:16.964055",
     "status": "completed"
    },
    "tags": []
   },
   "source": [
    "El número de pacientes que presentaron severidad moderada-> 79200"
   ]
  },
  {
   "cell_type": "code",
   "execution_count": 7,
   "id": "6cc55f5f",
   "metadata": {
    "execution": {
     "iopub.execute_input": "2021-12-08T15:12:17.110963Z",
     "iopub.status.busy": "2021-12-08T15:12:17.105069Z",
     "iopub.status.idle": "2021-12-08T15:12:17.114471Z",
     "shell.execute_reply": "2021-12-08T15:12:17.113877Z",
     "shell.execute_reply.started": "2021-12-08T14:50:14.256238Z"
    },
    "papermill": {
     "duration": 0.05955,
     "end_time": "2021-12-08T15:12:17.114636",
     "exception": false,
     "start_time": "2021-12-08T15:12:17.055086",
     "status": "completed"
    },
    "tags": []
   },
   "outputs": [
    {
     "data": {
      "text/plain": [
       "0    237600\n",
       "1     79200\n",
       "Name: Severity_Moderate, dtype: int64"
      ]
     },
     "execution_count": 7,
     "metadata": {},
     "output_type": "execute_result"
    }
   ],
   "source": [
    "df['Severity_Moderate'].value_counts()"
   ]
  },
  {
   "cell_type": "markdown",
   "id": "99bba01f",
   "metadata": {
    "papermill": {
     "duration": 0.042794,
     "end_time": "2021-12-08T15:12:17.202656",
     "exception": false,
     "start_time": "2021-12-08T15:12:17.159862",
     "status": "completed"
    },
    "tags": []
   },
   "source": [
    "Número de pacientes presentaron severidad severa -> 79200"
   ]
  },
  {
   "cell_type": "code",
   "execution_count": 8,
   "id": "b90b621e",
   "metadata": {
    "execution": {
     "iopub.execute_input": "2021-12-08T15:12:17.292550Z",
     "iopub.status.busy": "2021-12-08T15:12:17.291829Z",
     "iopub.status.idle": "2021-12-08T15:12:17.299551Z",
     "shell.execute_reply": "2021-12-08T15:12:17.299988Z",
     "shell.execute_reply.started": "2021-12-08T14:50:14.277073Z"
    },
    "papermill": {
     "duration": 0.054856,
     "end_time": "2021-12-08T15:12:17.300168",
     "exception": false,
     "start_time": "2021-12-08T15:12:17.245312",
     "status": "completed"
    },
    "tags": []
   },
   "outputs": [
    {
     "data": {
      "text/plain": [
       "0    237600\n",
       "1     79200\n",
       "Name: Severity_Severe, dtype: int64"
      ]
     },
     "execution_count": 8,
     "metadata": {},
     "output_type": "execute_result"
    }
   ],
   "source": [
    "df['Severity_Severe'].value_counts()"
   ]
  },
  {
   "cell_type": "markdown",
   "id": "d6cae48c",
   "metadata": {
    "papermill": {
     "duration": 0.042965,
     "end_time": "2021-12-08T15:12:17.386706",
     "exception": false,
     "start_time": "2021-12-08T15:12:17.343741",
     "status": "completed"
    },
    "tags": []
   },
   "source": [
    "OBSERVAMOS QUE TENEMOS LAS CARACTERÍSTICAS REGULADAS EN EL NÚMERO. TENEMOS DATOS DE TODAS LAS ETIQUETAS."
   ]
  },
  {
   "cell_type": "markdown",
   "id": "2e984623",
   "metadata": {
    "papermill": {
     "duration": 0.04704,
     "end_time": "2021-12-08T15:12:17.478083",
     "exception": false,
     "start_time": "2021-12-08T15:12:17.431043",
     "status": "completed"
    },
    "tags": []
   },
   "source": [
    "Primero vamos a realizar un análisis de los datos (Exploratory Data Analysis o EDA).\n",
    "\n",
    "Para comenzar controlamos el total de los valores nulos de las celdas."
   ]
  },
  {
   "cell_type": "code",
   "execution_count": 9,
   "id": "e5de7af1",
   "metadata": {
    "execution": {
     "iopub.execute_input": "2021-12-08T15:12:17.573090Z",
     "iopub.status.busy": "2021-12-08T15:12:17.572221Z",
     "iopub.status.idle": "2021-12-08T15:12:17.607004Z",
     "shell.execute_reply": "2021-12-08T15:12:17.606480Z",
     "shell.execute_reply.started": "2021-12-08T14:50:14.292091Z"
    },
    "papermill": {
     "duration": 0.085578,
     "end_time": "2021-12-08T15:12:17.607161",
     "exception": false,
     "start_time": "2021-12-08T15:12:17.521583",
     "status": "completed"
    },
    "tags": []
   },
   "outputs": [
    {
     "data": {
      "text/plain": [
       "Fever                      0\n",
       "Tiredness                  0\n",
       "Dry-Cough                  0\n",
       "Difficulty-in-Breathing    0\n",
       "Sore-Throat                0\n",
       "None_Sympton               0\n",
       "Pains                      0\n",
       "Nasal-Congestion           0\n",
       "Runny-Nose                 0\n",
       "Diarrhea                   0\n",
       "None_Experiencing          0\n",
       "Age_0-9                    0\n",
       "Age_10-19                  0\n",
       "Age_20-24                  0\n",
       "Age_25-59                  0\n",
       "Age_60+                    0\n",
       "Gender_Female              0\n",
       "Gender_Male                0\n",
       "Gender_Transgender         0\n",
       "Severity_Mild              0\n",
       "Severity_Moderate          0\n",
       "Severity_None              0\n",
       "Severity_Severe            0\n",
       "Contact_Dont-Know          0\n",
       "Contact_No                 0\n",
       "Contact_Yes                0\n",
       "Country                    0\n",
       "dtype: int64"
      ]
     },
     "execution_count": 9,
     "metadata": {},
     "output_type": "execute_result"
    }
   ],
   "source": [
    "df.isnull().sum()"
   ]
  },
  {
   "cell_type": "markdown",
   "id": "bacab971",
   "metadata": {
    "papermill": {
     "duration": 0.047168,
     "end_time": "2021-12-08T15:12:17.700086",
     "exception": false,
     "start_time": "2021-12-08T15:12:17.652918",
     "status": "completed"
    },
    "tags": []
   },
   "source": [
    "Como no tenemos ningún valor nulo, no realizamos ningún cambio inicial de los datos"
   ]
  },
  {
   "cell_type": "markdown",
   "id": "acb0f6e2",
   "metadata": {
    "papermill": {
     "duration": 0.045294,
     "end_time": "2021-12-08T15:12:17.792614",
     "exception": false,
     "start_time": "2021-12-08T15:12:17.747320",
     "status": "completed"
    },
    "tags": []
   },
   "source": [
    "Comprobamos que tenemos todas las características como enteros 0 o 1 dependiendo si el paciente presenta esa sintomatología o no.\n",
    "La única característica que no corresponde con un valor entero es Country."
   ]
  },
  {
   "cell_type": "code",
   "execution_count": 10,
   "id": "84c02bba",
   "metadata": {
    "execution": {
     "iopub.execute_input": "2021-12-08T15:12:17.896226Z",
     "iopub.status.busy": "2021-12-08T15:12:17.895584Z",
     "iopub.status.idle": "2021-12-08T15:12:17.940008Z",
     "shell.execute_reply": "2021-12-08T15:12:17.939240Z",
     "shell.execute_reply.started": "2021-12-08T14:50:14.364934Z"
    },
    "papermill": {
     "duration": 0.099374,
     "end_time": "2021-12-08T15:12:17.940186",
     "exception": false,
     "start_time": "2021-12-08T15:12:17.840812",
     "status": "completed"
    },
    "tags": []
   },
   "outputs": [
    {
     "name": "stdout",
     "output_type": "stream",
     "text": [
      "<class 'pandas.core.frame.DataFrame'>\n",
      "RangeIndex: 316800 entries, 0 to 316799\n",
      "Data columns (total 27 columns):\n",
      " #   Column                   Non-Null Count   Dtype \n",
      "---  ------                   --------------   ----- \n",
      " 0   Fever                    316800 non-null  int64 \n",
      " 1   Tiredness                316800 non-null  int64 \n",
      " 2   Dry-Cough                316800 non-null  int64 \n",
      " 3   Difficulty-in-Breathing  316800 non-null  int64 \n",
      " 4   Sore-Throat              316800 non-null  int64 \n",
      " 5   None_Sympton             316800 non-null  int64 \n",
      " 6   Pains                    316800 non-null  int64 \n",
      " 7   Nasal-Congestion         316800 non-null  int64 \n",
      " 8   Runny-Nose               316800 non-null  int64 \n",
      " 9   Diarrhea                 316800 non-null  int64 \n",
      " 10  None_Experiencing        316800 non-null  int64 \n",
      " 11  Age_0-9                  316800 non-null  int64 \n",
      " 12  Age_10-19                316800 non-null  int64 \n",
      " 13  Age_20-24                316800 non-null  int64 \n",
      " 14  Age_25-59                316800 non-null  int64 \n",
      " 15  Age_60+                  316800 non-null  int64 \n",
      " 16  Gender_Female            316800 non-null  int64 \n",
      " 17  Gender_Male              316800 non-null  int64 \n",
      " 18  Gender_Transgender       316800 non-null  int64 \n",
      " 19  Severity_Mild            316800 non-null  int64 \n",
      " 20  Severity_Moderate        316800 non-null  int64 \n",
      " 21  Severity_None            316800 non-null  int64 \n",
      " 22  Severity_Severe          316800 non-null  int64 \n",
      " 23  Contact_Dont-Know        316800 non-null  int64 \n",
      " 24  Contact_No               316800 non-null  int64 \n",
      " 25  Contact_Yes              316800 non-null  int64 \n",
      " 26  Country                  316800 non-null  object\n",
      "dtypes: int64(26), object(1)\n",
      "memory usage: 65.3+ MB\n"
     ]
    }
   ],
   "source": [
    "df.info()"
   ]
  },
  {
   "cell_type": "markdown",
   "id": "9ae27db0",
   "metadata": {
    "papermill": {
     "duration": 0.045688,
     "end_time": "2021-12-08T15:12:18.034622",
     "exception": false,
     "start_time": "2021-12-08T15:12:17.988934",
     "status": "completed"
    },
    "tags": []
   },
   "source": [
    "Comprobamos todos los valores que toma la característica Country"
   ]
  },
  {
   "cell_type": "code",
   "execution_count": 11,
   "id": "32e7769a",
   "metadata": {
    "execution": {
     "iopub.execute_input": "2021-12-08T15:12:18.137113Z",
     "iopub.status.busy": "2021-12-08T15:12:18.136451Z",
     "iopub.status.idle": "2021-12-08T15:12:18.161811Z",
     "shell.execute_reply": "2021-12-08T15:12:18.162353Z",
     "shell.execute_reply.started": "2021-12-08T14:50:14.434034Z"
    },
    "papermill": {
     "duration": 0.077376,
     "end_time": "2021-12-08T15:12:18.162545",
     "exception": false,
     "start_time": "2021-12-08T15:12:18.085169",
     "status": "completed"
    },
    "tags": []
   },
   "outputs": [
    {
     "name": "stdout",
     "output_type": "stream",
     "text": [
      "Número de valores que toma la característica Country ->\n"
     ]
    },
    {
     "data": {
      "text/plain": [
       "array(['China', 'Italy', 'Iran', 'Republic of Korean', 'France', 'Spain',\n",
       "       'Germany', 'UAE', 'Other-EUR', 'Other'], dtype=object)"
      ]
     },
     "execution_count": 11,
     "metadata": {},
     "output_type": "execute_result"
    }
   ],
   "source": [
    "print(\"Número de valores que toma la característica Country ->\")\n",
    "df['Country'].unique()"
   ]
  },
  {
   "cell_type": "markdown",
   "id": "b08d4937",
   "metadata": {
    "papermill": {
     "duration": 0.04933,
     "end_time": "2021-12-08T15:12:18.259924",
     "exception": false,
     "start_time": "2021-12-08T15:12:18.210594",
     "status": "completed"
    },
    "tags": []
   },
   "source": [
    "Podemos pensar que esta característica no va a ser la más importante de entre las que tenemos. Vamos a quitarla de nuestro conjunto de datos"
   ]
  },
  {
   "cell_type": "code",
   "execution_count": 12,
   "id": "624ccab0",
   "metadata": {
    "execution": {
     "iopub.execute_input": "2021-12-08T15:12:18.387934Z",
     "iopub.status.busy": "2021-12-08T15:12:18.355456Z",
     "iopub.status.idle": "2021-12-08T15:12:18.390930Z",
     "shell.execute_reply": "2021-12-08T15:12:18.390388Z",
     "shell.execute_reply.started": "2021-12-08T14:50:14.469666Z"
    },
    "papermill": {
     "duration": 0.083816,
     "end_time": "2021-12-08T15:12:18.391067",
     "exception": false,
     "start_time": "2021-12-08T15:12:18.307251",
     "status": "completed"
    },
    "tags": []
   },
   "outputs": [],
   "source": [
    "df.drop(\"Country\",axis=1,inplace=True)"
   ]
  },
  {
   "cell_type": "code",
   "execution_count": 13,
   "id": "412073f6",
   "metadata": {
    "execution": {
     "iopub.execute_input": "2021-12-08T15:12:18.492223Z",
     "iopub.status.busy": "2021-12-08T15:12:18.491500Z",
     "iopub.status.idle": "2021-12-08T15:12:18.530554Z",
     "shell.execute_reply": "2021-12-08T15:12:18.531041Z",
     "shell.execute_reply.started": "2021-12-08T14:50:14.510465Z"
    },
    "papermill": {
     "duration": 0.093133,
     "end_time": "2021-12-08T15:12:18.531211",
     "exception": false,
     "start_time": "2021-12-08T15:12:18.438078",
     "status": "completed"
    },
    "tags": []
   },
   "outputs": [
    {
     "data": {
      "text/html": [
       "<div>\n",
       "<style scoped>\n",
       "    .dataframe tbody tr th:only-of-type {\n",
       "        vertical-align: middle;\n",
       "    }\n",
       "\n",
       "    .dataframe tbody tr th {\n",
       "        vertical-align: top;\n",
       "    }\n",
       "\n",
       "    .dataframe thead th {\n",
       "        text-align: right;\n",
       "    }\n",
       "</style>\n",
       "<table border=\"1\" class=\"dataframe\">\n",
       "  <thead>\n",
       "    <tr style=\"text-align: right;\">\n",
       "      <th></th>\n",
       "      <th>Fever</th>\n",
       "      <th>Tiredness</th>\n",
       "      <th>Dry-Cough</th>\n",
       "      <th>Difficulty-in-Breathing</th>\n",
       "      <th>Sore-Throat</th>\n",
       "      <th>None_Sympton</th>\n",
       "      <th>Pains</th>\n",
       "      <th>Nasal-Congestion</th>\n",
       "      <th>Runny-Nose</th>\n",
       "      <th>Diarrhea</th>\n",
       "      <th>...</th>\n",
       "      <th>Gender_Female</th>\n",
       "      <th>Gender_Male</th>\n",
       "      <th>Gender_Transgender</th>\n",
       "      <th>Severity_Mild</th>\n",
       "      <th>Severity_Moderate</th>\n",
       "      <th>Severity_None</th>\n",
       "      <th>Severity_Severe</th>\n",
       "      <th>Contact_Dont-Know</th>\n",
       "      <th>Contact_No</th>\n",
       "      <th>Contact_Yes</th>\n",
       "    </tr>\n",
       "  </thead>\n",
       "  <tbody>\n",
       "    <tr>\n",
       "      <th>0</th>\n",
       "      <td>1</td>\n",
       "      <td>1</td>\n",
       "      <td>1</td>\n",
       "      <td>1</td>\n",
       "      <td>1</td>\n",
       "      <td>0</td>\n",
       "      <td>1</td>\n",
       "      <td>1</td>\n",
       "      <td>1</td>\n",
       "      <td>1</td>\n",
       "      <td>...</td>\n",
       "      <td>0</td>\n",
       "      <td>1</td>\n",
       "      <td>0</td>\n",
       "      <td>1</td>\n",
       "      <td>0</td>\n",
       "      <td>0</td>\n",
       "      <td>0</td>\n",
       "      <td>0</td>\n",
       "      <td>0</td>\n",
       "      <td>1</td>\n",
       "    </tr>\n",
       "    <tr>\n",
       "      <th>1</th>\n",
       "      <td>1</td>\n",
       "      <td>1</td>\n",
       "      <td>1</td>\n",
       "      <td>1</td>\n",
       "      <td>1</td>\n",
       "      <td>0</td>\n",
       "      <td>1</td>\n",
       "      <td>1</td>\n",
       "      <td>1</td>\n",
       "      <td>1</td>\n",
       "      <td>...</td>\n",
       "      <td>0</td>\n",
       "      <td>1</td>\n",
       "      <td>0</td>\n",
       "      <td>1</td>\n",
       "      <td>0</td>\n",
       "      <td>0</td>\n",
       "      <td>0</td>\n",
       "      <td>0</td>\n",
       "      <td>1</td>\n",
       "      <td>0</td>\n",
       "    </tr>\n",
       "    <tr>\n",
       "      <th>2</th>\n",
       "      <td>1</td>\n",
       "      <td>1</td>\n",
       "      <td>1</td>\n",
       "      <td>1</td>\n",
       "      <td>1</td>\n",
       "      <td>0</td>\n",
       "      <td>1</td>\n",
       "      <td>1</td>\n",
       "      <td>1</td>\n",
       "      <td>1</td>\n",
       "      <td>...</td>\n",
       "      <td>0</td>\n",
       "      <td>1</td>\n",
       "      <td>0</td>\n",
       "      <td>1</td>\n",
       "      <td>0</td>\n",
       "      <td>0</td>\n",
       "      <td>0</td>\n",
       "      <td>1</td>\n",
       "      <td>0</td>\n",
       "      <td>0</td>\n",
       "    </tr>\n",
       "    <tr>\n",
       "      <th>3</th>\n",
       "      <td>1</td>\n",
       "      <td>1</td>\n",
       "      <td>1</td>\n",
       "      <td>1</td>\n",
       "      <td>1</td>\n",
       "      <td>0</td>\n",
       "      <td>1</td>\n",
       "      <td>1</td>\n",
       "      <td>1</td>\n",
       "      <td>1</td>\n",
       "      <td>...</td>\n",
       "      <td>0</td>\n",
       "      <td>1</td>\n",
       "      <td>0</td>\n",
       "      <td>0</td>\n",
       "      <td>1</td>\n",
       "      <td>0</td>\n",
       "      <td>0</td>\n",
       "      <td>0</td>\n",
       "      <td>0</td>\n",
       "      <td>1</td>\n",
       "    </tr>\n",
       "    <tr>\n",
       "      <th>4</th>\n",
       "      <td>1</td>\n",
       "      <td>1</td>\n",
       "      <td>1</td>\n",
       "      <td>1</td>\n",
       "      <td>1</td>\n",
       "      <td>0</td>\n",
       "      <td>1</td>\n",
       "      <td>1</td>\n",
       "      <td>1</td>\n",
       "      <td>1</td>\n",
       "      <td>...</td>\n",
       "      <td>0</td>\n",
       "      <td>1</td>\n",
       "      <td>0</td>\n",
       "      <td>0</td>\n",
       "      <td>1</td>\n",
       "      <td>0</td>\n",
       "      <td>0</td>\n",
       "      <td>0</td>\n",
       "      <td>1</td>\n",
       "      <td>0</td>\n",
       "    </tr>\n",
       "    <tr>\n",
       "      <th>...</th>\n",
       "      <td>...</td>\n",
       "      <td>...</td>\n",
       "      <td>...</td>\n",
       "      <td>...</td>\n",
       "      <td>...</td>\n",
       "      <td>...</td>\n",
       "      <td>...</td>\n",
       "      <td>...</td>\n",
       "      <td>...</td>\n",
       "      <td>...</td>\n",
       "      <td>...</td>\n",
       "      <td>...</td>\n",
       "      <td>...</td>\n",
       "      <td>...</td>\n",
       "      <td>...</td>\n",
       "      <td>...</td>\n",
       "      <td>...</td>\n",
       "      <td>...</td>\n",
       "      <td>...</td>\n",
       "      <td>...</td>\n",
       "      <td>...</td>\n",
       "    </tr>\n",
       "    <tr>\n",
       "      <th>316795</th>\n",
       "      <td>0</td>\n",
       "      <td>0</td>\n",
       "      <td>0</td>\n",
       "      <td>0</td>\n",
       "      <td>0</td>\n",
       "      <td>1</td>\n",
       "      <td>0</td>\n",
       "      <td>0</td>\n",
       "      <td>0</td>\n",
       "      <td>0</td>\n",
       "      <td>...</td>\n",
       "      <td>0</td>\n",
       "      <td>0</td>\n",
       "      <td>1</td>\n",
       "      <td>0</td>\n",
       "      <td>0</td>\n",
       "      <td>0</td>\n",
       "      <td>1</td>\n",
       "      <td>0</td>\n",
       "      <td>1</td>\n",
       "      <td>0</td>\n",
       "    </tr>\n",
       "    <tr>\n",
       "      <th>316796</th>\n",
       "      <td>0</td>\n",
       "      <td>0</td>\n",
       "      <td>0</td>\n",
       "      <td>0</td>\n",
       "      <td>0</td>\n",
       "      <td>1</td>\n",
       "      <td>0</td>\n",
       "      <td>0</td>\n",
       "      <td>0</td>\n",
       "      <td>0</td>\n",
       "      <td>...</td>\n",
       "      <td>0</td>\n",
       "      <td>0</td>\n",
       "      <td>1</td>\n",
       "      <td>0</td>\n",
       "      <td>0</td>\n",
       "      <td>0</td>\n",
       "      <td>1</td>\n",
       "      <td>1</td>\n",
       "      <td>0</td>\n",
       "      <td>0</td>\n",
       "    </tr>\n",
       "    <tr>\n",
       "      <th>316797</th>\n",
       "      <td>0</td>\n",
       "      <td>0</td>\n",
       "      <td>0</td>\n",
       "      <td>0</td>\n",
       "      <td>0</td>\n",
       "      <td>1</td>\n",
       "      <td>0</td>\n",
       "      <td>0</td>\n",
       "      <td>0</td>\n",
       "      <td>0</td>\n",
       "      <td>...</td>\n",
       "      <td>0</td>\n",
       "      <td>0</td>\n",
       "      <td>1</td>\n",
       "      <td>0</td>\n",
       "      <td>0</td>\n",
       "      <td>1</td>\n",
       "      <td>0</td>\n",
       "      <td>0</td>\n",
       "      <td>0</td>\n",
       "      <td>1</td>\n",
       "    </tr>\n",
       "    <tr>\n",
       "      <th>316798</th>\n",
       "      <td>0</td>\n",
       "      <td>0</td>\n",
       "      <td>0</td>\n",
       "      <td>0</td>\n",
       "      <td>0</td>\n",
       "      <td>1</td>\n",
       "      <td>0</td>\n",
       "      <td>0</td>\n",
       "      <td>0</td>\n",
       "      <td>0</td>\n",
       "      <td>...</td>\n",
       "      <td>0</td>\n",
       "      <td>0</td>\n",
       "      <td>1</td>\n",
       "      <td>0</td>\n",
       "      <td>0</td>\n",
       "      <td>1</td>\n",
       "      <td>0</td>\n",
       "      <td>0</td>\n",
       "      <td>1</td>\n",
       "      <td>0</td>\n",
       "    </tr>\n",
       "    <tr>\n",
       "      <th>316799</th>\n",
       "      <td>0</td>\n",
       "      <td>0</td>\n",
       "      <td>0</td>\n",
       "      <td>0</td>\n",
       "      <td>0</td>\n",
       "      <td>1</td>\n",
       "      <td>0</td>\n",
       "      <td>0</td>\n",
       "      <td>0</td>\n",
       "      <td>0</td>\n",
       "      <td>...</td>\n",
       "      <td>0</td>\n",
       "      <td>0</td>\n",
       "      <td>1</td>\n",
       "      <td>0</td>\n",
       "      <td>0</td>\n",
       "      <td>1</td>\n",
       "      <td>0</td>\n",
       "      <td>1</td>\n",
       "      <td>0</td>\n",
       "      <td>0</td>\n",
       "    </tr>\n",
       "  </tbody>\n",
       "</table>\n",
       "<p>316800 rows × 26 columns</p>\n",
       "</div>"
      ],
      "text/plain": [
       "        Fever  Tiredness  Dry-Cough  Difficulty-in-Breathing  Sore-Throat  \\\n",
       "0           1          1          1                        1            1   \n",
       "1           1          1          1                        1            1   \n",
       "2           1          1          1                        1            1   \n",
       "3           1          1          1                        1            1   \n",
       "4           1          1          1                        1            1   \n",
       "...       ...        ...        ...                      ...          ...   \n",
       "316795      0          0          0                        0            0   \n",
       "316796      0          0          0                        0            0   \n",
       "316797      0          0          0                        0            0   \n",
       "316798      0          0          0                        0            0   \n",
       "316799      0          0          0                        0            0   \n",
       "\n",
       "        None_Sympton  Pains  Nasal-Congestion  Runny-Nose  Diarrhea  ...  \\\n",
       "0                  0      1                 1           1         1  ...   \n",
       "1                  0      1                 1           1         1  ...   \n",
       "2                  0      1                 1           1         1  ...   \n",
       "3                  0      1                 1           1         1  ...   \n",
       "4                  0      1                 1           1         1  ...   \n",
       "...              ...    ...               ...         ...       ...  ...   \n",
       "316795             1      0                 0           0         0  ...   \n",
       "316796             1      0                 0           0         0  ...   \n",
       "316797             1      0                 0           0         0  ...   \n",
       "316798             1      0                 0           0         0  ...   \n",
       "316799             1      0                 0           0         0  ...   \n",
       "\n",
       "        Gender_Female  Gender_Male  Gender_Transgender  Severity_Mild  \\\n",
       "0                   0            1                   0              1   \n",
       "1                   0            1                   0              1   \n",
       "2                   0            1                   0              1   \n",
       "3                   0            1                   0              0   \n",
       "4                   0            1                   0              0   \n",
       "...               ...          ...                 ...            ...   \n",
       "316795              0            0                   1              0   \n",
       "316796              0            0                   1              0   \n",
       "316797              0            0                   1              0   \n",
       "316798              0            0                   1              0   \n",
       "316799              0            0                   1              0   \n",
       "\n",
       "        Severity_Moderate  Severity_None  Severity_Severe  Contact_Dont-Know  \\\n",
       "0                       0              0                0                  0   \n",
       "1                       0              0                0                  0   \n",
       "2                       0              0                0                  1   \n",
       "3                       1              0                0                  0   \n",
       "4                       1              0                0                  0   \n",
       "...                   ...            ...              ...                ...   \n",
       "316795                  0              0                1                  0   \n",
       "316796                  0              0                1                  1   \n",
       "316797                  0              1                0                  0   \n",
       "316798                  0              1                0                  0   \n",
       "316799                  0              1                0                  1   \n",
       "\n",
       "        Contact_No  Contact_Yes  \n",
       "0                0            1  \n",
       "1                1            0  \n",
       "2                0            0  \n",
       "3                0            1  \n",
       "4                1            0  \n",
       "...            ...          ...  \n",
       "316795           1            0  \n",
       "316796           0            0  \n",
       "316797           0            1  \n",
       "316798           1            0  \n",
       "316799           0            0  \n",
       "\n",
       "[316800 rows x 26 columns]"
      ]
     },
     "execution_count": 13,
     "metadata": {},
     "output_type": "execute_result"
    }
   ],
   "source": [
    "df"
   ]
  },
  {
   "cell_type": "markdown",
   "id": "8b155cd7",
   "metadata": {
    "papermill": {
     "duration": 0.046499,
     "end_time": "2021-12-08T15:12:18.630421",
     "exception": false,
     "start_time": "2021-12-08T15:12:18.583922",
     "status": "completed"
    },
    "tags": []
   },
   "source": [
    "Realizamos un histograma para cada característica. De esta manera podemos comprobar el número de pacientes que han tenido síntomas como fiebre, cansancio o dificultad para respirar.\n",
    "\n",
    "También podemos mirar los rangos de edad de los pacientes o su género."
   ]
  },
  {
   "cell_type": "code",
   "execution_count": 14,
   "id": "87fae8fc",
   "metadata": {
    "execution": {
     "iopub.execute_input": "2021-12-08T15:12:18.729600Z",
     "iopub.status.busy": "2021-12-08T15:12:18.728950Z",
     "iopub.status.idle": "2021-12-08T15:12:23.379918Z",
     "shell.execute_reply": "2021-12-08T15:12:23.379348Z",
     "shell.execute_reply.started": "2021-12-08T14:50:14.566291Z"
    },
    "papermill": {
     "duration": 4.70183,
     "end_time": "2021-12-08T15:12:23.380057",
     "exception": false,
     "start_time": "2021-12-08T15:12:18.678227",
     "status": "completed"
    },
    "tags": []
   },
   "outputs": [
    {
     "data": {
      "text/plain": [
       "array([[<AxesSubplot:title={'center':'Fever'}>,\n",
       "        <AxesSubplot:title={'center':'Tiredness'}>,\n",
       "        <AxesSubplot:title={'center':'Dry-Cough'}>,\n",
       "        <AxesSubplot:title={'center':'Difficulty-in-Breathing'}>,\n",
       "        <AxesSubplot:title={'center':'Sore-Throat'}>],\n",
       "       [<AxesSubplot:title={'center':'None_Sympton'}>,\n",
       "        <AxesSubplot:title={'center':'Pains'}>,\n",
       "        <AxesSubplot:title={'center':'Nasal-Congestion'}>,\n",
       "        <AxesSubplot:title={'center':'Runny-Nose'}>,\n",
       "        <AxesSubplot:title={'center':'Diarrhea'}>],\n",
       "       [<AxesSubplot:title={'center':'None_Experiencing'}>,\n",
       "        <AxesSubplot:title={'center':'Age_0-9'}>,\n",
       "        <AxesSubplot:title={'center':'Age_10-19'}>,\n",
       "        <AxesSubplot:title={'center':'Age_20-24'}>,\n",
       "        <AxesSubplot:title={'center':'Age_25-59'}>],\n",
       "       [<AxesSubplot:title={'center':'Age_60+'}>,\n",
       "        <AxesSubplot:title={'center':'Gender_Female'}>,\n",
       "        <AxesSubplot:title={'center':'Gender_Male'}>,\n",
       "        <AxesSubplot:title={'center':'Gender_Transgender'}>,\n",
       "        <AxesSubplot:title={'center':'Severity_Mild'}>],\n",
       "       [<AxesSubplot:title={'center':'Severity_Moderate'}>,\n",
       "        <AxesSubplot:title={'center':'Severity_None'}>,\n",
       "        <AxesSubplot:title={'center':'Severity_Severe'}>,\n",
       "        <AxesSubplot:title={'center':'Contact_Dont-Know'}>,\n",
       "        <AxesSubplot:title={'center':'Contact_No'}>],\n",
       "       [<AxesSubplot:title={'center':'Contact_Yes'}>, <AxesSubplot:>,\n",
       "        <AxesSubplot:>, <AxesSubplot:>, <AxesSubplot:>]], dtype=object)"
      ]
     },
     "execution_count": 14,
     "metadata": {},
     "output_type": "execute_result"
    },
    {
     "data": {
      "image/png": "[encoded data removed]",
      "text/plain": [
       "<Figure size 2160x2160 with 30 Axes>"
      ]
     },
     "metadata": {
      "needs_background": "light"
     },
     "output_type": "display_data"
    }
   ],
   "source": [
    "df.hist(figsize=(30,30), edgecolor='black', color='darkseagreen')"
   ]
  },
  {
   "cell_type": "markdown",
   "id": "e70e5e0d",
   "metadata": {
    "papermill": {
     "duration": 0.051668,
     "end_time": "2021-12-08T15:12:23.481584",
     "exception": false,
     "start_time": "2021-12-08T15:12:23.429916",
     "status": "completed"
    },
    "tags": []
   },
   "source": [
    "Realizamos un filtro para separar la severidad:\n",
    "- Solo puedes estar en None, Mild, Moderate y Severe \n",
    "- El resto se pondrán a 'No'"
   ]
  },
  {
   "cell_type": "code",
   "execution_count": 15,
   "id": "c6001c2e",
   "metadata": {
    "execution": {
     "iopub.execute_input": "2021-12-08T15:12:23.590943Z",
     "iopub.status.busy": "2021-12-08T15:12:23.590280Z",
     "iopub.status.idle": "2021-12-08T15:12:23.592570Z",
     "shell.execute_reply": "2021-12-08T15:12:23.593018Z",
     "shell.execute_reply.started": "2021-12-08T14:50:19.645478Z"
    },
    "papermill": {
     "duration": 0.060752,
     "end_time": "2021-12-08T15:12:23.593190",
     "exception": false,
     "start_time": "2021-12-08T15:12:23.532438",
     "status": "completed"
    },
    "tags": []
   },
   "outputs": [],
   "source": [
    "severity_columns = df.filter(like='Severity_').columns"
   ]
  },
  {
   "cell_type": "code",
   "execution_count": 16,
   "id": "b1a3023d",
   "metadata": {
    "execution": {
     "iopub.execute_input": "2021-12-08T15:12:23.696315Z",
     "iopub.status.busy": "2021-12-08T15:12:23.695701Z",
     "iopub.status.idle": "2021-12-08T15:12:23.816127Z",
     "shell.execute_reply": "2021-12-08T15:12:23.815566Z",
     "shell.execute_reply.started": "2021-12-08T14:50:19.654814Z"
    },
    "papermill": {
     "duration": 0.172459,
     "end_time": "2021-12-08T15:12:23.816289",
     "exception": false,
     "start_time": "2021-12-08T15:12:23.643830",
     "status": "completed"
    },
    "tags": []
   },
   "outputs": [],
   "source": [
    "df['Severity_None'].replace({1:'None',0:'No'},inplace =True)\n",
    "df['Severity_Mild'].replace({1:'Mild',0:'No'},inplace =True)\n",
    "df['Severity_Moderate'].replace({1:'Moderate',0:'No'},inplace =True)\n",
    "df['Severity_Severe'].replace({1:'Severe',0:'No'},inplace =True)"
   ]
  },
  {
   "cell_type": "markdown",
   "id": "5c31eb58",
   "metadata": {
    "papermill": {
     "duration": 0.05257,
     "end_time": "2021-12-08T15:12:23.921233",
     "exception": false,
     "start_time": "2021-12-08T15:12:23.868663",
     "status": "completed"
    },
    "tags": []
   },
   "source": [
    "Aplicamos a todas las columnas que empiezen por Severity_ (filtro) las condiciones anteriores"
   ]
  },
  {
   "cell_type": "code",
   "execution_count": 17,
   "id": "a76e5e81",
   "metadata": {
    "execution": {
     "iopub.execute_input": "2021-12-08T15:12:24.032503Z",
     "iopub.status.busy": "2021-12-08T15:12:24.031241Z",
     "iopub.status.idle": "2021-12-08T15:12:24.727006Z",
     "shell.execute_reply": "2021-12-08T15:12:24.727503Z",
     "shell.execute_reply.started": "2021-12-08T14:50:19.80143Z"
    },
    "papermill": {
     "duration": 0.753554,
     "end_time": "2021-12-08T15:12:24.727685",
     "exception": false,
     "start_time": "2021-12-08T15:12:23.974131",
     "status": "completed"
    },
    "tags": []
   },
   "outputs": [],
   "source": [
    "df['Condition']=df[severity_columns].values.tolist()"
   ]
  },
  {
   "cell_type": "markdown",
   "id": "b7ca2407",
   "metadata": {
    "papermill": {
     "duration": 0.050438,
     "end_time": "2021-12-08T15:12:24.828580",
     "exception": false,
     "start_time": "2021-12-08T15:12:24.778142",
     "status": "completed"
    },
    "tags": []
   },
   "source": [
    "En nuestro dataframe tenemos una nueva condición que especifica el valor categórico de la severidad"
   ]
  },
  {
   "cell_type": "code",
   "execution_count": 18,
   "id": "30b67d9d",
   "metadata": {
    "execution": {
     "iopub.execute_input": "2021-12-08T15:12:24.932286Z",
     "iopub.status.busy": "2021-12-08T15:12:24.931667Z",
     "iopub.status.idle": "2021-12-08T15:12:24.949616Z",
     "shell.execute_reply": "2021-12-08T15:12:24.950194Z",
     "shell.execute_reply.started": "2021-12-08T14:50:20.784464Z"
    },
    "papermill": {
     "duration": 0.071619,
     "end_time": "2021-12-08T15:12:24.950389",
     "exception": false,
     "start_time": "2021-12-08T15:12:24.878770",
     "status": "completed"
    },
    "tags": []
   },
   "outputs": [
    {
     "data": {
      "text/html": [
       "<div>\n",
       "<style scoped>\n",
       "    .dataframe tbody tr th:only-of-type {\n",
       "        vertical-align: middle;\n",
       "    }\n",
       "\n",
       "    .dataframe tbody tr th {\n",
       "        vertical-align: top;\n",
       "    }\n",
       "\n",
       "    .dataframe thead th {\n",
       "        text-align: right;\n",
       "    }\n",
       "</style>\n",
       "<table border=\"1\" class=\"dataframe\">\n",
       "  <thead>\n",
       "    <tr style=\"text-align: right;\">\n",
       "      <th></th>\n",
       "      <th>Fever</th>\n",
       "      <th>Tiredness</th>\n",
       "      <th>Dry-Cough</th>\n",
       "      <th>Difficulty-in-Breathing</th>\n",
       "      <th>Sore-Throat</th>\n",
       "      <th>None_Sympton</th>\n",
       "      <th>Pains</th>\n",
       "      <th>Nasal-Congestion</th>\n",
       "      <th>Runny-Nose</th>\n",
       "      <th>Diarrhea</th>\n",
       "      <th>...</th>\n",
       "      <th>Gender_Male</th>\n",
       "      <th>Gender_Transgender</th>\n",
       "      <th>Severity_Mild</th>\n",
       "      <th>Severity_Moderate</th>\n",
       "      <th>Severity_None</th>\n",
       "      <th>Severity_Severe</th>\n",
       "      <th>Contact_Dont-Know</th>\n",
       "      <th>Contact_No</th>\n",
       "      <th>Contact_Yes</th>\n",
       "      <th>Condition</th>\n",
       "    </tr>\n",
       "  </thead>\n",
       "  <tbody>\n",
       "    <tr>\n",
       "      <th>0</th>\n",
       "      <td>1</td>\n",
       "      <td>1</td>\n",
       "      <td>1</td>\n",
       "      <td>1</td>\n",
       "      <td>1</td>\n",
       "      <td>0</td>\n",
       "      <td>1</td>\n",
       "      <td>1</td>\n",
       "      <td>1</td>\n",
       "      <td>1</td>\n",
       "      <td>...</td>\n",
       "      <td>1</td>\n",
       "      <td>0</td>\n",
       "      <td>Mild</td>\n",
       "      <td>No</td>\n",
       "      <td>No</td>\n",
       "      <td>No</td>\n",
       "      <td>0</td>\n",
       "      <td>0</td>\n",
       "      <td>1</td>\n",
       "      <td>[Mild, No, No, No]</td>\n",
       "    </tr>\n",
       "    <tr>\n",
       "      <th>1</th>\n",
       "      <td>1</td>\n",
       "      <td>1</td>\n",
       "      <td>1</td>\n",
       "      <td>1</td>\n",
       "      <td>1</td>\n",
       "      <td>0</td>\n",
       "      <td>1</td>\n",
       "      <td>1</td>\n",
       "      <td>1</td>\n",
       "      <td>1</td>\n",
       "      <td>...</td>\n",
       "      <td>1</td>\n",
       "      <td>0</td>\n",
       "      <td>Mild</td>\n",
       "      <td>No</td>\n",
       "      <td>No</td>\n",
       "      <td>No</td>\n",
       "      <td>0</td>\n",
       "      <td>1</td>\n",
       "      <td>0</td>\n",
       "      <td>[Mild, No, No, No]</td>\n",
       "    </tr>\n",
       "    <tr>\n",
       "      <th>2</th>\n",
       "      <td>1</td>\n",
       "      <td>1</td>\n",
       "      <td>1</td>\n",
       "      <td>1</td>\n",
       "      <td>1</td>\n",
       "      <td>0</td>\n",
       "      <td>1</td>\n",
       "      <td>1</td>\n",
       "      <td>1</td>\n",
       "      <td>1</td>\n",
       "      <td>...</td>\n",
       "      <td>1</td>\n",
       "      <td>0</td>\n",
       "      <td>Mild</td>\n",
       "      <td>No</td>\n",
       "      <td>No</td>\n",
       "      <td>No</td>\n",
       "      <td>1</td>\n",
       "      <td>0</td>\n",
       "      <td>0</td>\n",
       "      <td>[Mild, No, No, No]</td>\n",
       "    </tr>\n",
       "    <tr>\n",
       "      <th>3</th>\n",
       "      <td>1</td>\n",
       "      <td>1</td>\n",
       "      <td>1</td>\n",
       "      <td>1</td>\n",
       "      <td>1</td>\n",
       "      <td>0</td>\n",
       "      <td>1</td>\n",
       "      <td>1</td>\n",
       "      <td>1</td>\n",
       "      <td>1</td>\n",
       "      <td>...</td>\n",
       "      <td>1</td>\n",
       "      <td>0</td>\n",
       "      <td>No</td>\n",
       "      <td>Moderate</td>\n",
       "      <td>No</td>\n",
       "      <td>No</td>\n",
       "      <td>0</td>\n",
       "      <td>0</td>\n",
       "      <td>1</td>\n",
       "      <td>[No, Moderate, No, No]</td>\n",
       "    </tr>\n",
       "    <tr>\n",
       "      <th>4</th>\n",
       "      <td>1</td>\n",
       "      <td>1</td>\n",
       "      <td>1</td>\n",
       "      <td>1</td>\n",
       "      <td>1</td>\n",
       "      <td>0</td>\n",
       "      <td>1</td>\n",
       "      <td>1</td>\n",
       "      <td>1</td>\n",
       "      <td>1</td>\n",
       "      <td>...</td>\n",
       "      <td>1</td>\n",
       "      <td>0</td>\n",
       "      <td>No</td>\n",
       "      <td>Moderate</td>\n",
       "      <td>No</td>\n",
       "      <td>No</td>\n",
       "      <td>0</td>\n",
       "      <td>1</td>\n",
       "      <td>0</td>\n",
       "      <td>[No, Moderate, No, No]</td>\n",
       "    </tr>\n",
       "  </tbody>\n",
       "</table>\n",
       "<p>5 rows × 27 columns</p>\n",
       "</div>"
      ],
      "text/plain": [
       "   Fever  Tiredness  Dry-Cough  Difficulty-in-Breathing  Sore-Throat  \\\n",
       "0      1          1          1                        1            1   \n",
       "1      1          1          1                        1            1   \n",
       "2      1          1          1                        1            1   \n",
       "3      1          1          1                        1            1   \n",
       "4      1          1          1                        1            1   \n",
       "\n",
       "   None_Sympton  Pains  Nasal-Congestion  Runny-Nose  Diarrhea  ...  \\\n",
       "0             0      1                 1           1         1  ...   \n",
       "1             0      1                 1           1         1  ...   \n",
       "2             0      1                 1           1         1  ...   \n",
       "3             0      1                 1           1         1  ...   \n",
       "4             0      1                 1           1         1  ...   \n",
       "\n",
       "   Gender_Male  Gender_Transgender  Severity_Mild  Severity_Moderate  \\\n",
       "0            1                   0           Mild                 No   \n",
       "1            1                   0           Mild                 No   \n",
       "2            1                   0           Mild                 No   \n",
       "3            1                   0             No           Moderate   \n",
       "4            1                   0             No           Moderate   \n",
       "\n",
       "   Severity_None  Severity_Severe  Contact_Dont-Know  Contact_No  Contact_Yes  \\\n",
       "0             No               No                  0           0            1   \n",
       "1             No               No                  0           1            0   \n",
       "2             No               No                  1           0            0   \n",
       "3             No               No                  0           0            1   \n",
       "4             No               No                  0           1            0   \n",
       "\n",
       "                Condition  \n",
       "0      [Mild, No, No, No]  \n",
       "1      [Mild, No, No, No]  \n",
       "2      [Mild, No, No, No]  \n",
       "3  [No, Moderate, No, No]  \n",
       "4  [No, Moderate, No, No]  \n",
       "\n",
       "[5 rows x 27 columns]"
      ]
     },
     "execution_count": 18,
     "metadata": {},
     "output_type": "execute_result"
    }
   ],
   "source": [
    "df.head()"
   ]
  },
  {
   "cell_type": "markdown",
   "id": "649a724b",
   "metadata": {
    "papermill": {
     "duration": 0.049616,
     "end_time": "2021-12-08T15:12:25.050339",
     "exception": false,
     "start_time": "2021-12-08T15:12:25.000723",
     "status": "completed"
    },
    "tags": []
   },
   "source": [
    "Aún tenemos que quitar los valores añadidos de 'No'. Creamos una función para esto y la aplicamos"
   ]
  },
  {
   "cell_type": "code",
   "execution_count": 19,
   "id": "4c22f083",
   "metadata": {
    "execution": {
     "iopub.execute_input": "2021-12-08T15:12:25.156035Z",
     "iopub.status.busy": "2021-12-08T15:12:25.155396Z",
     "iopub.status.idle": "2021-12-08T15:12:25.158877Z",
     "shell.execute_reply": "2021-12-08T15:12:25.159426Z",
     "shell.execute_reply.started": "2021-12-08T14:50:20.812885Z"
    },
    "papermill": {
     "duration": 0.056798,
     "end_time": "2021-12-08T15:12:25.159603",
     "exception": false,
     "start_time": "2021-12-08T15:12:25.102805",
     "status": "completed"
    },
    "tags": []
   },
   "outputs": [],
   "source": [
    "def remove(lista):\n",
    "    lista = set(lista) \n",
    "    lista.discard(\"No\")\n",
    "    final = ''.join(lista)\n",
    "    return final"
   ]
  },
  {
   "cell_type": "code",
   "execution_count": 20,
   "id": "a34b4a0e",
   "metadata": {
    "execution": {
     "iopub.execute_input": "2021-12-08T15:12:25.263071Z",
     "iopub.status.busy": "2021-12-08T15:12:25.262450Z",
     "iopub.status.idle": "2021-12-08T15:12:25.454118Z",
     "shell.execute_reply": "2021-12-08T15:12:25.453586Z",
     "shell.execute_reply.started": "2021-12-08T14:50:20.82547Z"
    },
    "papermill": {
     "duration": 0.244626,
     "end_time": "2021-12-08T15:12:25.454273",
     "exception": false,
     "start_time": "2021-12-08T15:12:25.209647",
     "status": "completed"
    },
    "tags": []
   },
   "outputs": [],
   "source": [
    "df['Condition'] = df['Condition'].apply(remove)"
   ]
  },
  {
   "cell_type": "markdown",
   "id": "d0c121be",
   "metadata": {
    "papermill": {
     "duration": 0.050758,
     "end_time": "2021-12-08T15:12:25.556527",
     "exception": false,
     "start_time": "2021-12-08T15:12:25.505769",
     "status": "completed"
    },
    "tags": []
   },
   "source": [
    "Finalmente nos queda en la variable 'Condition' el valor de la severidad. Que será nuestra característica de salida del modelo"
   ]
  },
  {
   "cell_type": "code",
   "execution_count": 21,
   "id": "d761bfed",
   "metadata": {
    "execution": {
     "iopub.execute_input": "2021-12-08T15:12:25.659664Z",
     "iopub.status.busy": "2021-12-08T15:12:25.658995Z",
     "iopub.status.idle": "2021-12-08T15:12:25.676604Z",
     "shell.execute_reply": "2021-12-08T15:12:25.677170Z",
     "shell.execute_reply.started": "2021-12-08T14:50:21.134933Z"
    },
    "papermill": {
     "duration": 0.07033,
     "end_time": "2021-12-08T15:12:25.677350",
     "exception": false,
     "start_time": "2021-12-08T15:12:25.607020",
     "status": "completed"
    },
    "tags": []
   },
   "outputs": [
    {
     "data": {
      "text/html": [
       "<div>\n",
       "<style scoped>\n",
       "    .dataframe tbody tr th:only-of-type {\n",
       "        vertical-align: middle;\n",
       "    }\n",
       "\n",
       "    .dataframe tbody tr th {\n",
       "        vertical-align: top;\n",
       "    }\n",
       "\n",
       "    .dataframe thead th {\n",
       "        text-align: right;\n",
       "    }\n",
       "</style>\n",
       "<table border=\"1\" class=\"dataframe\">\n",
       "  <thead>\n",
       "    <tr style=\"text-align: right;\">\n",
       "      <th></th>\n",
       "      <th>Fever</th>\n",
       "      <th>Tiredness</th>\n",
       "      <th>Dry-Cough</th>\n",
       "      <th>Difficulty-in-Breathing</th>\n",
       "      <th>Sore-Throat</th>\n",
       "      <th>None_Sympton</th>\n",
       "      <th>Pains</th>\n",
       "      <th>Nasal-Congestion</th>\n",
       "      <th>Runny-Nose</th>\n",
       "      <th>Diarrhea</th>\n",
       "      <th>...</th>\n",
       "      <th>Gender_Male</th>\n",
       "      <th>Gender_Transgender</th>\n",
       "      <th>Severity_Mild</th>\n",
       "      <th>Severity_Moderate</th>\n",
       "      <th>Severity_None</th>\n",
       "      <th>Severity_Severe</th>\n",
       "      <th>Contact_Dont-Know</th>\n",
       "      <th>Contact_No</th>\n",
       "      <th>Contact_Yes</th>\n",
       "      <th>Condition</th>\n",
       "    </tr>\n",
       "  </thead>\n",
       "  <tbody>\n",
       "    <tr>\n",
       "      <th>0</th>\n",
       "      <td>1</td>\n",
       "      <td>1</td>\n",
       "      <td>1</td>\n",
       "      <td>1</td>\n",
       "      <td>1</td>\n",
       "      <td>0</td>\n",
       "      <td>1</td>\n",
       "      <td>1</td>\n",
       "      <td>1</td>\n",
       "      <td>1</td>\n",
       "      <td>...</td>\n",
       "      <td>1</td>\n",
       "      <td>0</td>\n",
       "      <td>Mild</td>\n",
       "      <td>No</td>\n",
       "      <td>No</td>\n",
       "      <td>No</td>\n",
       "      <td>0</td>\n",
       "      <td>0</td>\n",
       "      <td>1</td>\n",
       "      <td>Mild</td>\n",
       "    </tr>\n",
       "    <tr>\n",
       "      <th>1</th>\n",
       "      <td>1</td>\n",
       "      <td>1</td>\n",
       "      <td>1</td>\n",
       "      <td>1</td>\n",
       "      <td>1</td>\n",
       "      <td>0</td>\n",
       "      <td>1</td>\n",
       "      <td>1</td>\n",
       "      <td>1</td>\n",
       "      <td>1</td>\n",
       "      <td>...</td>\n",
       "      <td>1</td>\n",
       "      <td>0</td>\n",
       "      <td>Mild</td>\n",
       "      <td>No</td>\n",
       "      <td>No</td>\n",
       "      <td>No</td>\n",
       "      <td>0</td>\n",
       "      <td>1</td>\n",
       "      <td>0</td>\n",
       "      <td>Mild</td>\n",
       "    </tr>\n",
       "    <tr>\n",
       "      <th>2</th>\n",
       "      <td>1</td>\n",
       "      <td>1</td>\n",
       "      <td>1</td>\n",
       "      <td>1</td>\n",
       "      <td>1</td>\n",
       "      <td>0</td>\n",
       "      <td>1</td>\n",
       "      <td>1</td>\n",
       "      <td>1</td>\n",
       "      <td>1</td>\n",
       "      <td>...</td>\n",
       "      <td>1</td>\n",
       "      <td>0</td>\n",
       "      <td>Mild</td>\n",
       "      <td>No</td>\n",
       "      <td>No</td>\n",
       "      <td>No</td>\n",
       "      <td>1</td>\n",
       "      <td>0</td>\n",
       "      <td>0</td>\n",
       "      <td>Mild</td>\n",
       "    </tr>\n",
       "    <tr>\n",
       "      <th>3</th>\n",
       "      <td>1</td>\n",
       "      <td>1</td>\n",
       "      <td>1</td>\n",
       "      <td>1</td>\n",
       "      <td>1</td>\n",
       "      <td>0</td>\n",
       "      <td>1</td>\n",
       "      <td>1</td>\n",
       "      <td>1</td>\n",
       "      <td>1</td>\n",
       "      <td>...</td>\n",
       "      <td>1</td>\n",
       "      <td>0</td>\n",
       "      <td>No</td>\n",
       "      <td>Moderate</td>\n",
       "      <td>No</td>\n",
       "      <td>No</td>\n",
       "      <td>0</td>\n",
       "      <td>0</td>\n",
       "      <td>1</td>\n",
       "      <td>Moderate</td>\n",
       "    </tr>\n",
       "    <tr>\n",
       "      <th>4</th>\n",
       "      <td>1</td>\n",
       "      <td>1</td>\n",
       "      <td>1</td>\n",
       "      <td>1</td>\n",
       "      <td>1</td>\n",
       "      <td>0</td>\n",
       "      <td>1</td>\n",
       "      <td>1</td>\n",
       "      <td>1</td>\n",
       "      <td>1</td>\n",
       "      <td>...</td>\n",
       "      <td>1</td>\n",
       "      <td>0</td>\n",
       "      <td>No</td>\n",
       "      <td>Moderate</td>\n",
       "      <td>No</td>\n",
       "      <td>No</td>\n",
       "      <td>0</td>\n",
       "      <td>1</td>\n",
       "      <td>0</td>\n",
       "      <td>Moderate</td>\n",
       "    </tr>\n",
       "  </tbody>\n",
       "</table>\n",
       "<p>5 rows × 27 columns</p>\n",
       "</div>"
      ],
      "text/plain": [
       "   Fever  Tiredness  Dry-Cough  Difficulty-in-Breathing  Sore-Throat  \\\n",
       "0      1          1          1                        1            1   \n",
       "1      1          1          1                        1            1   \n",
       "2      1          1          1                        1            1   \n",
       "3      1          1          1                        1            1   \n",
       "4      1          1          1                        1            1   \n",
       "\n",
       "   None_Sympton  Pains  Nasal-Congestion  Runny-Nose  Diarrhea  ...  \\\n",
       "0             0      1                 1           1         1  ...   \n",
       "1             0      1                 1           1         1  ...   \n",
       "2             0      1                 1           1         1  ...   \n",
       "3             0      1                 1           1         1  ...   \n",
       "4             0      1                 1           1         1  ...   \n",
       "\n",
       "   Gender_Male  Gender_Transgender  Severity_Mild  Severity_Moderate  \\\n",
       "0            1                   0           Mild                 No   \n",
       "1            1                   0           Mild                 No   \n",
       "2            1                   0           Mild                 No   \n",
       "3            1                   0             No           Moderate   \n",
       "4            1                   0             No           Moderate   \n",
       "\n",
       "   Severity_None  Severity_Severe  Contact_Dont-Know  Contact_No  Contact_Yes  \\\n",
       "0             No               No                  0           0            1   \n",
       "1             No               No                  0           1            0   \n",
       "2             No               No                  1           0            0   \n",
       "3             No               No                  0           0            1   \n",
       "4             No               No                  0           1            0   \n",
       "\n",
       "  Condition  \n",
       "0      Mild  \n",
       "1      Mild  \n",
       "2      Mild  \n",
       "3  Moderate  \n",
       "4  Moderate  \n",
       "\n",
       "[5 rows x 27 columns]"
      ]
     },
     "execution_count": 21,
     "metadata": {},
     "output_type": "execute_result"
    }
   ],
   "source": [
    "df.head()"
   ]
  },
  {
   "cell_type": "code",
   "execution_count": 22,
   "id": "d1b2126a",
   "metadata": {
    "execution": {
     "iopub.execute_input": "2021-12-08T15:12:25.780633Z",
     "iopub.status.busy": "2021-12-08T15:12:25.779990Z",
     "iopub.status.idle": "2021-12-08T15:12:26.174114Z",
     "shell.execute_reply": "2021-12-08T15:12:26.173611Z",
     "shell.execute_reply.started": "2021-12-08T14:50:21.157405Z"
    },
    "papermill": {
     "duration": 0.446622,
     "end_time": "2021-12-08T15:12:26.174247",
     "exception": false,
     "start_time": "2021-12-08T15:12:25.727625",
     "status": "completed"
    },
    "tags": []
   },
   "outputs": [
    {
     "data": {
      "text/plain": [
       "<AxesSubplot:xlabel='Condition', ylabel='count'>"
      ]
     },
     "execution_count": 22,
     "metadata": {},
     "output_type": "execute_result"
    },
    {
     "data": {
      "image/png": "[encoded data removed]",
      "text/plain": [
       "<Figure size 432x288 with 1 Axes>"
      ]
     },
     "metadata": {
      "needs_background": "light"
     },
     "output_type": "display_data"
    }
   ],
   "source": [
    "sns.countplot(df['Condition'], palette=\"pastel\")"
   ]
  },
  {
   "cell_type": "markdown",
   "id": "cb91065b",
   "metadata": {
    "papermill": {
     "duration": 0.051697,
     "end_time": "2021-12-08T15:12:26.276875",
     "exception": false,
     "start_time": "2021-12-08T15:12:26.225178",
     "status": "completed"
    },
    "tags": []
   },
   "source": [
    "Ahora vamos a realizar el mismo procedimiento para agrupar características en la edad, género y tipo de contacto"
   ]
  },
  {
   "cell_type": "code",
   "execution_count": 23,
   "id": "349ac735",
   "metadata": {
    "execution": {
     "iopub.execute_input": "2021-12-08T15:12:26.387270Z",
     "iopub.status.busy": "2021-12-08T15:12:26.386639Z",
     "iopub.status.idle": "2021-12-08T15:12:26.409302Z",
     "shell.execute_reply": "2021-12-08T15:12:26.408721Z",
     "shell.execute_reply.started": "2021-12-08T14:50:21.758805Z"
    },
    "papermill": {
     "duration": 0.080198,
     "end_time": "2021-12-08T15:12:26.409464",
     "exception": false,
     "start_time": "2021-12-08T15:12:26.329266",
     "status": "completed"
    },
    "tags": []
   },
   "outputs": [],
   "source": [
    "age_columns = df.filter(like='Age_').columns\n",
    "gender_columns = df.filter(like='Gender_').columns\n",
    "contact_columns = df.filter(like='Contact_').columns"
   ]
  },
  {
   "cell_type": "markdown",
   "id": "8a9e4a06",
   "metadata": {
    "papermill": {
     "duration": 0.051213,
     "end_time": "2021-12-08T15:12:26.512618",
     "exception": false,
     "start_time": "2021-12-08T15:12:26.461405",
     "status": "completed"
    },
    "tags": []
   },
   "source": [
    "Creamos una categoría para la edad, otra para el género y otra para el contacto en la que la severidad sea nula\n",
    "- Sin riesgo por la edad\n",
    "- Sin riesgo por el género\n",
    "- Sin riesgo por el tipo de contacto"
   ]
  },
  {
   "cell_type": "code",
   "execution_count": 24,
   "id": "b142e6b3",
   "metadata": {
    "execution": {
     "iopub.execute_input": "2021-12-08T15:12:26.623171Z",
     "iopub.status.busy": "2021-12-08T15:12:26.622564Z",
     "iopub.status.idle": "2021-12-08T15:12:26.723738Z",
     "shell.execute_reply": "2021-12-08T15:12:26.723040Z",
     "shell.execute_reply.started": "2021-12-08T14:50:21.78976Z"
    },
    "papermill": {
     "duration": 0.160402,
     "end_time": "2021-12-08T15:12:26.723889",
     "exception": false,
     "start_time": "2021-12-08T15:12:26.563487",
     "status": "completed"
    },
    "tags": []
   },
   "outputs": [],
   "source": [
    "No_risk_age = df.groupby(['Severity_None'])[age_columns].sum()\n",
    "No_risk_gender = df.groupby(['Severity_None'])[gender_columns].sum()\n",
    "No_risk_contact = df.groupby(['Severity_None'])[contact_columns].sum()"
   ]
  },
  {
   "cell_type": "markdown",
   "id": "59b7f9d0",
   "metadata": {
    "papermill": {
     "duration": 0.053825,
     "end_time": "2021-12-08T15:12:26.831017",
     "exception": false,
     "start_time": "2021-12-08T15:12:26.777192",
     "status": "completed"
    },
    "tags": []
   },
   "source": [
    "Creamos otras tres para discernir entre Severity_Mild (severidad suave):\n",
    "- Con riesgo suave por la edad\n",
    "- Ccon riesgo suave por el género\n",
    "- Con riesgo suave por el tipo de contacto"
   ]
  },
  {
   "cell_type": "code",
   "execution_count": 25,
   "id": "18384360",
   "metadata": {
    "execution": {
     "iopub.execute_input": "2021-12-08T15:12:26.938774Z",
     "iopub.status.busy": "2021-12-08T15:12:26.938029Z",
     "iopub.status.idle": "2021-12-08T15:12:27.031171Z",
     "shell.execute_reply": "2021-12-08T15:12:27.030623Z",
     "shell.execute_reply.started": "2021-12-08T14:50:21.91843Z"
    },
    "papermill": {
     "duration": 0.147148,
     "end_time": "2021-12-08T15:12:27.031317",
     "exception": false,
     "start_time": "2021-12-08T15:12:26.884169",
     "status": "completed"
    },
    "tags": []
   },
   "outputs": [],
   "source": [
    "Low_risk_age = df.groupby(['Severity_Mild'])[age_columns].sum()\n",
    "Low_risk_gender = df.groupby(['Severity_Mild'])[gender_columns].sum()\n",
    "Low_risk_contact = df.groupby(['Severity_Mild'])[contact_columns].sum()"
   ]
  },
  {
   "cell_type": "markdown",
   "id": "a8c03129",
   "metadata": {
    "papermill": {
     "duration": 0.054441,
     "end_time": "2021-12-08T15:12:27.140792",
     "exception": false,
     "start_time": "2021-12-08T15:12:27.086351",
     "status": "completed"
    },
    "tags": []
   },
   "source": [
    "Separar entre Severity_Moderate (severidad moderada):\n",
    "- Con riesgo moderado por la edad\n",
    "- Ccon riesgo moderado por el género\n",
    "- Con riesgo moderado por el tipo de contacto"
   ]
  },
  {
   "cell_type": "code",
   "execution_count": 26,
   "id": "a2ffa13f",
   "metadata": {
    "execution": {
     "iopub.execute_input": "2021-12-08T15:12:27.262346Z",
     "iopub.status.busy": "2021-12-08T15:12:27.249030Z",
     "iopub.status.idle": "2021-12-08T15:12:27.339945Z",
     "shell.execute_reply": "2021-12-08T15:12:27.339423Z",
     "shell.execute_reply.started": "2021-12-08T14:50:22.037527Z"
    },
    "papermill": {
     "duration": 0.146837,
     "end_time": "2021-12-08T15:12:27.340108",
     "exception": false,
     "start_time": "2021-12-08T15:12:27.193271",
     "status": "completed"
    },
    "tags": []
   },
   "outputs": [],
   "source": [
    "Moderate_risk_age = df.groupby(['Severity_Moderate'])[age_columns].sum()\n",
    "Moderate_risk_gender = df.groupby(['Severity_Moderate'])[gender_columns].sum()\n",
    "Moderate_risk_contact = df.groupby(['Severity_Moderate'])[contact_columns].sum()"
   ]
  },
  {
   "cell_type": "markdown",
   "id": "45445571",
   "metadata": {
    "papermill": {
     "duration": 0.051926,
     "end_time": "2021-12-08T15:12:27.445686",
     "exception": false,
     "start_time": "2021-12-08T15:12:27.393760",
     "status": "completed"
    },
    "tags": []
   },
   "source": [
    "Separar entre Severity_Severe (severidad severa):\n",
    "- Con riesgo severo por la edad\n",
    "- Ccon riesgo severo por el género\n",
    "- Con riesgo severo por el tipo de contacto"
   ]
  },
  {
   "cell_type": "code",
   "execution_count": 27,
   "id": "d51181f0",
   "metadata": {
    "execution": {
     "iopub.execute_input": "2021-12-08T15:12:27.559761Z",
     "iopub.status.busy": "2021-12-08T15:12:27.559082Z",
     "iopub.status.idle": "2021-12-08T15:12:27.642519Z",
     "shell.execute_reply": "2021-12-08T15:12:27.643039Z",
     "shell.execute_reply.started": "2021-12-08T14:50:22.154884Z"
    },
    "papermill": {
     "duration": 0.144061,
     "end_time": "2021-12-08T15:12:27.643210",
     "exception": false,
     "start_time": "2021-12-08T15:12:27.499149",
     "status": "completed"
    },
    "tags": []
   },
   "outputs": [],
   "source": [
    "Severe_risk_age = df.groupby(['Severity_Severe'])[age_columns].sum()\n",
    "Severe_risk_gender = df.groupby(['Severity_Severe'])[gender_columns].sum()\n",
    "Severe_risk_contact = df.groupby(['Severity_Severe'])[contact_columns].sum()"
   ]
  },
  {
   "cell_type": "markdown",
   "id": "9f9546d3",
   "metadata": {
    "papermill": {
     "duration": 0.051909,
     "end_time": "2021-12-08T15:12:27.748992",
     "exception": false,
     "start_time": "2021-12-08T15:12:27.697083",
     "status": "completed"
    },
    "tags": []
   },
   "source": [
    "Como la característica importante Condition con valores None, Mild, Moderate y Severe ya la tenemos guardada en una única variable de salida; vamos a borrar las otras 4 columnas que no necesitamos\n",
    "- Severity_Mild \n",
    "- Severity_None\n",
    "- Severity_Moderate\n",
    "- Severity_Severe"
   ]
  },
  {
   "cell_type": "code",
   "execution_count": 28,
   "id": "e3662238",
   "metadata": {
    "execution": {
     "iopub.execute_input": "2021-12-08T15:12:27.857137Z",
     "iopub.status.busy": "2021-12-08T15:12:27.856537Z",
     "iopub.status.idle": "2021-12-08T15:12:27.874357Z",
     "shell.execute_reply": "2021-12-08T15:12:27.874949Z",
     "shell.execute_reply.started": "2021-12-08T14:50:22.273906Z"
    },
    "papermill": {
     "duration": 0.074503,
     "end_time": "2021-12-08T15:12:27.875118",
     "exception": false,
     "start_time": "2021-12-08T15:12:27.800615",
     "status": "completed"
    },
    "tags": []
   },
   "outputs": [
    {
     "data": {
      "text/html": [
       "<div>\n",
       "<style scoped>\n",
       "    .dataframe tbody tr th:only-of-type {\n",
       "        vertical-align: middle;\n",
       "    }\n",
       "\n",
       "    .dataframe tbody tr th {\n",
       "        vertical-align: top;\n",
       "    }\n",
       "\n",
       "    .dataframe thead th {\n",
       "        text-align: right;\n",
       "    }\n",
       "</style>\n",
       "<table border=\"1\" class=\"dataframe\">\n",
       "  <thead>\n",
       "    <tr style=\"text-align: right;\">\n",
       "      <th></th>\n",
       "      <th>Fever</th>\n",
       "      <th>Tiredness</th>\n",
       "      <th>Dry-Cough</th>\n",
       "      <th>Difficulty-in-Breathing</th>\n",
       "      <th>Sore-Throat</th>\n",
       "      <th>None_Sympton</th>\n",
       "      <th>Pains</th>\n",
       "      <th>Nasal-Congestion</th>\n",
       "      <th>Runny-Nose</th>\n",
       "      <th>Diarrhea</th>\n",
       "      <th>...</th>\n",
       "      <th>Gender_Male</th>\n",
       "      <th>Gender_Transgender</th>\n",
       "      <th>Severity_Mild</th>\n",
       "      <th>Severity_Moderate</th>\n",
       "      <th>Severity_None</th>\n",
       "      <th>Severity_Severe</th>\n",
       "      <th>Contact_Dont-Know</th>\n",
       "      <th>Contact_No</th>\n",
       "      <th>Contact_Yes</th>\n",
       "      <th>Condition</th>\n",
       "    </tr>\n",
       "  </thead>\n",
       "  <tbody>\n",
       "    <tr>\n",
       "      <th>0</th>\n",
       "      <td>1</td>\n",
       "      <td>1</td>\n",
       "      <td>1</td>\n",
       "      <td>1</td>\n",
       "      <td>1</td>\n",
       "      <td>0</td>\n",
       "      <td>1</td>\n",
       "      <td>1</td>\n",
       "      <td>1</td>\n",
       "      <td>1</td>\n",
       "      <td>...</td>\n",
       "      <td>1</td>\n",
       "      <td>0</td>\n",
       "      <td>Mild</td>\n",
       "      <td>No</td>\n",
       "      <td>No</td>\n",
       "      <td>No</td>\n",
       "      <td>0</td>\n",
       "      <td>0</td>\n",
       "      <td>1</td>\n",
       "      <td>Mild</td>\n",
       "    </tr>\n",
       "    <tr>\n",
       "      <th>1</th>\n",
       "      <td>1</td>\n",
       "      <td>1</td>\n",
       "      <td>1</td>\n",
       "      <td>1</td>\n",
       "      <td>1</td>\n",
       "      <td>0</td>\n",
       "      <td>1</td>\n",
       "      <td>1</td>\n",
       "      <td>1</td>\n",
       "      <td>1</td>\n",
       "      <td>...</td>\n",
       "      <td>1</td>\n",
       "      <td>0</td>\n",
       "      <td>Mild</td>\n",
       "      <td>No</td>\n",
       "      <td>No</td>\n",
       "      <td>No</td>\n",
       "      <td>0</td>\n",
       "      <td>1</td>\n",
       "      <td>0</td>\n",
       "      <td>Mild</td>\n",
       "    </tr>\n",
       "    <tr>\n",
       "      <th>2</th>\n",
       "      <td>1</td>\n",
       "      <td>1</td>\n",
       "      <td>1</td>\n",
       "      <td>1</td>\n",
       "      <td>1</td>\n",
       "      <td>0</td>\n",
       "      <td>1</td>\n",
       "      <td>1</td>\n",
       "      <td>1</td>\n",
       "      <td>1</td>\n",
       "      <td>...</td>\n",
       "      <td>1</td>\n",
       "      <td>0</td>\n",
       "      <td>Mild</td>\n",
       "      <td>No</td>\n",
       "      <td>No</td>\n",
       "      <td>No</td>\n",
       "      <td>1</td>\n",
       "      <td>0</td>\n",
       "      <td>0</td>\n",
       "      <td>Mild</td>\n",
       "    </tr>\n",
       "    <tr>\n",
       "      <th>3</th>\n",
       "      <td>1</td>\n",
       "      <td>1</td>\n",
       "      <td>1</td>\n",
       "      <td>1</td>\n",
       "      <td>1</td>\n",
       "      <td>0</td>\n",
       "      <td>1</td>\n",
       "      <td>1</td>\n",
       "      <td>1</td>\n",
       "      <td>1</td>\n",
       "      <td>...</td>\n",
       "      <td>1</td>\n",
       "      <td>0</td>\n",
       "      <td>No</td>\n",
       "      <td>Moderate</td>\n",
       "      <td>No</td>\n",
       "      <td>No</td>\n",
       "      <td>0</td>\n",
       "      <td>0</td>\n",
       "      <td>1</td>\n",
       "      <td>Moderate</td>\n",
       "    </tr>\n",
       "    <tr>\n",
       "      <th>4</th>\n",
       "      <td>1</td>\n",
       "      <td>1</td>\n",
       "      <td>1</td>\n",
       "      <td>1</td>\n",
       "      <td>1</td>\n",
       "      <td>0</td>\n",
       "      <td>1</td>\n",
       "      <td>1</td>\n",
       "      <td>1</td>\n",
       "      <td>1</td>\n",
       "      <td>...</td>\n",
       "      <td>1</td>\n",
       "      <td>0</td>\n",
       "      <td>No</td>\n",
       "      <td>Moderate</td>\n",
       "      <td>No</td>\n",
       "      <td>No</td>\n",
       "      <td>0</td>\n",
       "      <td>1</td>\n",
       "      <td>0</td>\n",
       "      <td>Moderate</td>\n",
       "    </tr>\n",
       "  </tbody>\n",
       "</table>\n",
       "<p>5 rows × 27 columns</p>\n",
       "</div>"
      ],
      "text/plain": [
       "   Fever  Tiredness  Dry-Cough  Difficulty-in-Breathing  Sore-Throat  \\\n",
       "0      1          1          1                        1            1   \n",
       "1      1          1          1                        1            1   \n",
       "2      1          1          1                        1            1   \n",
       "3      1          1          1                        1            1   \n",
       "4      1          1          1                        1            1   \n",
       "\n",
       "   None_Sympton  Pains  Nasal-Congestion  Runny-Nose  Diarrhea  ...  \\\n",
       "0             0      1                 1           1         1  ...   \n",
       "1             0      1                 1           1         1  ...   \n",
       "2             0      1                 1           1         1  ...   \n",
       "3             0      1                 1           1         1  ...   \n",
       "4             0      1                 1           1         1  ...   \n",
       "\n",
       "   Gender_Male  Gender_Transgender  Severity_Mild  Severity_Moderate  \\\n",
       "0            1                   0           Mild                 No   \n",
       "1            1                   0           Mild                 No   \n",
       "2            1                   0           Mild                 No   \n",
       "3            1                   0             No           Moderate   \n",
       "4            1                   0             No           Moderate   \n",
       "\n",
       "   Severity_None  Severity_Severe  Contact_Dont-Know  Contact_No  Contact_Yes  \\\n",
       "0             No               No                  0           0            1   \n",
       "1             No               No                  0           1            0   \n",
       "2             No               No                  1           0            0   \n",
       "3             No               No                  0           0            1   \n",
       "4             No               No                  0           1            0   \n",
       "\n",
       "  Condition  \n",
       "0      Mild  \n",
       "1      Mild  \n",
       "2      Mild  \n",
       "3  Moderate  \n",
       "4  Moderate  \n",
       "\n",
       "[5 rows x 27 columns]"
      ]
     },
     "execution_count": 28,
     "metadata": {},
     "output_type": "execute_result"
    }
   ],
   "source": [
    "df.head()"
   ]
  },
  {
   "cell_type": "code",
   "execution_count": 29,
   "id": "2cc9b456",
   "metadata": {
    "execution": {
     "iopub.execute_input": "2021-12-08T15:12:28.010346Z",
     "iopub.status.busy": "2021-12-08T15:12:28.007238Z",
     "iopub.status.idle": "2021-12-08T15:12:28.012273Z",
     "shell.execute_reply": "2021-12-08T15:12:28.013147Z",
     "shell.execute_reply.started": "2021-12-08T14:50:22.303001Z"
    },
    "papermill": {
     "duration": 0.085442,
     "end_time": "2021-12-08T15:12:28.013342",
     "exception": false,
     "start_time": "2021-12-08T15:12:27.927900",
     "status": "completed"
    },
    "tags": []
   },
   "outputs": [],
   "source": [
    "df.drop(severity_columns,axis=1,inplace=True)"
   ]
  },
  {
   "cell_type": "markdown",
   "id": "a0364fd9",
   "metadata": {
    "papermill": {
     "duration": 0.054754,
     "end_time": "2021-12-08T15:12:28.123920",
     "exception": false,
     "start_time": "2021-12-08T15:12:28.069166",
     "status": "completed"
    },
    "tags": []
   },
   "source": [
    "En el preprocesado de datos ya hemos eliminado varias columnas.\n",
    "Ahora vamos a tranformar la variable categórica (Mild,None, Moderate y Severe) con la librería LabelEncoder en una variable numérica"
   ]
  },
  {
   "cell_type": "code",
   "execution_count": 30,
   "id": "a9761209",
   "metadata": {
    "execution": {
     "iopub.execute_input": "2021-12-08T15:12:28.236067Z",
     "iopub.status.busy": "2021-12-08T15:12:28.235046Z",
     "iopub.status.idle": "2021-12-08T15:12:28.430887Z",
     "shell.execute_reply": "2021-12-08T15:12:28.431410Z",
     "shell.execute_reply.started": "2021-12-08T14:50:22.333927Z"
    },
    "papermill": {
     "duration": 0.253136,
     "end_time": "2021-12-08T15:12:28.431588",
     "exception": false,
     "start_time": "2021-12-08T15:12:28.178452",
     "status": "completed"
    },
    "tags": []
   },
   "outputs": [],
   "source": [
    "from sklearn import preprocessing\n",
    "le = preprocessing.LabelEncoder()\n",
    "df['Condition'] = le.fit_transform(df['Condition'])"
   ]
  },
  {
   "cell_type": "markdown",
   "id": "1ba8f3b9",
   "metadata": {
    "papermill": {
     "duration": 0.052615,
     "end_time": "2021-12-08T15:12:28.542099",
     "exception": false,
     "start_time": "2021-12-08T15:12:28.489484",
     "status": "completed"
    },
    "tags": []
   },
   "source": [
    "Tomará el valor 0,1,2,3\n",
    "\n",
    "**0-None\n",
    "1-Mild\n",
    "2-Moderate\n",
    "3-Severe**"
   ]
  },
  {
   "cell_type": "code",
   "execution_count": 31,
   "id": "20d8715c",
   "metadata": {
    "execution": {
     "iopub.execute_input": "2021-12-08T15:12:28.667763Z",
     "iopub.status.busy": "2021-12-08T15:12:28.666541Z",
     "iopub.status.idle": "2021-12-08T15:12:28.754146Z",
     "shell.execute_reply": "2021-12-08T15:12:28.754707Z",
     "shell.execute_reply.started": "2021-12-08T14:50:22.597501Z"
    },
    "papermill": {
     "duration": 0.159435,
     "end_time": "2021-12-08T15:12:28.754881",
     "exception": false,
     "start_time": "2021-12-08T15:12:28.595446",
     "status": "completed"
    },
    "tags": []
   },
   "outputs": [
    {
     "data": {
      "text/html": [
       "<div>\n",
       "<style scoped>\n",
       "    .dataframe tbody tr th:only-of-type {\n",
       "        vertical-align: middle;\n",
       "    }\n",
       "\n",
       "    .dataframe tbody tr th {\n",
       "        vertical-align: top;\n",
       "    }\n",
       "\n",
       "    .dataframe thead th {\n",
       "        text-align: right;\n",
       "    }\n",
       "</style>\n",
       "<table border=\"1\" class=\"dataframe\">\n",
       "  <thead>\n",
       "    <tr style=\"text-align: right;\">\n",
       "      <th></th>\n",
       "      <th>Fever</th>\n",
       "      <th>Tiredness</th>\n",
       "      <th>Dry-Cough</th>\n",
       "      <th>Difficulty-in-Breathing</th>\n",
       "      <th>Sore-Throat</th>\n",
       "      <th>None_Sympton</th>\n",
       "      <th>Pains</th>\n",
       "      <th>Nasal-Congestion</th>\n",
       "      <th>Runny-Nose</th>\n",
       "      <th>Diarrhea</th>\n",
       "      <th>...</th>\n",
       "      <th>Age_20-24</th>\n",
       "      <th>Age_25-59</th>\n",
       "      <th>Age_60+</th>\n",
       "      <th>Gender_Female</th>\n",
       "      <th>Gender_Male</th>\n",
       "      <th>Gender_Transgender</th>\n",
       "      <th>Contact_Dont-Know</th>\n",
       "      <th>Contact_No</th>\n",
       "      <th>Contact_Yes</th>\n",
       "      <th>Condition</th>\n",
       "    </tr>\n",
       "  </thead>\n",
       "  <tbody>\n",
       "    <tr>\n",
       "      <th>0</th>\n",
       "      <td>1</td>\n",
       "      <td>1</td>\n",
       "      <td>1</td>\n",
       "      <td>1</td>\n",
       "      <td>1</td>\n",
       "      <td>0</td>\n",
       "      <td>1</td>\n",
       "      <td>1</td>\n",
       "      <td>1</td>\n",
       "      <td>1</td>\n",
       "      <td>...</td>\n",
       "      <td>0</td>\n",
       "      <td>0</td>\n",
       "      <td>0</td>\n",
       "      <td>0</td>\n",
       "      <td>1</td>\n",
       "      <td>0</td>\n",
       "      <td>0</td>\n",
       "      <td>0</td>\n",
       "      <td>1</td>\n",
       "      <td>0</td>\n",
       "    </tr>\n",
       "    <tr>\n",
       "      <th>1</th>\n",
       "      <td>1</td>\n",
       "      <td>1</td>\n",
       "      <td>1</td>\n",
       "      <td>1</td>\n",
       "      <td>1</td>\n",
       "      <td>0</td>\n",
       "      <td>1</td>\n",
       "      <td>1</td>\n",
       "      <td>1</td>\n",
       "      <td>1</td>\n",
       "      <td>...</td>\n",
       "      <td>0</td>\n",
       "      <td>0</td>\n",
       "      <td>0</td>\n",
       "      <td>0</td>\n",
       "      <td>1</td>\n",
       "      <td>0</td>\n",
       "      <td>0</td>\n",
       "      <td>1</td>\n",
       "      <td>0</td>\n",
       "      <td>0</td>\n",
       "    </tr>\n",
       "    <tr>\n",
       "      <th>2</th>\n",
       "      <td>1</td>\n",
       "      <td>1</td>\n",
       "      <td>1</td>\n",
       "      <td>1</td>\n",
       "      <td>1</td>\n",
       "      <td>0</td>\n",
       "      <td>1</td>\n",
       "      <td>1</td>\n",
       "      <td>1</td>\n",
       "      <td>1</td>\n",
       "      <td>...</td>\n",
       "      <td>0</td>\n",
       "      <td>0</td>\n",
       "      <td>0</td>\n",
       "      <td>0</td>\n",
       "      <td>1</td>\n",
       "      <td>0</td>\n",
       "      <td>1</td>\n",
       "      <td>0</td>\n",
       "      <td>0</td>\n",
       "      <td>0</td>\n",
       "    </tr>\n",
       "    <tr>\n",
       "      <th>3</th>\n",
       "      <td>1</td>\n",
       "      <td>1</td>\n",
       "      <td>1</td>\n",
       "      <td>1</td>\n",
       "      <td>1</td>\n",
       "      <td>0</td>\n",
       "      <td>1</td>\n",
       "      <td>1</td>\n",
       "      <td>1</td>\n",
       "      <td>1</td>\n",
       "      <td>...</td>\n",
       "      <td>0</td>\n",
       "      <td>0</td>\n",
       "      <td>0</td>\n",
       "      <td>0</td>\n",
       "      <td>1</td>\n",
       "      <td>0</td>\n",
       "      <td>0</td>\n",
       "      <td>0</td>\n",
       "      <td>1</td>\n",
       "      <td>1</td>\n",
       "    </tr>\n",
       "    <tr>\n",
       "      <th>4</th>\n",
       "      <td>1</td>\n",
       "      <td>1</td>\n",
       "      <td>1</td>\n",
       "      <td>1</td>\n",
       "      <td>1</td>\n",
       "      <td>0</td>\n",
       "      <td>1</td>\n",
       "      <td>1</td>\n",
       "      <td>1</td>\n",
       "      <td>1</td>\n",
       "      <td>...</td>\n",
       "      <td>0</td>\n",
       "      <td>0</td>\n",
       "      <td>0</td>\n",
       "      <td>0</td>\n",
       "      <td>1</td>\n",
       "      <td>0</td>\n",
       "      <td>0</td>\n",
       "      <td>1</td>\n",
       "      <td>0</td>\n",
       "      <td>1</td>\n",
       "    </tr>\n",
       "    <tr>\n",
       "      <th>...</th>\n",
       "      <td>...</td>\n",
       "      <td>...</td>\n",
       "      <td>...</td>\n",
       "      <td>...</td>\n",
       "      <td>...</td>\n",
       "      <td>...</td>\n",
       "      <td>...</td>\n",
       "      <td>...</td>\n",
       "      <td>...</td>\n",
       "      <td>...</td>\n",
       "      <td>...</td>\n",
       "      <td>...</td>\n",
       "      <td>...</td>\n",
       "      <td>...</td>\n",
       "      <td>...</td>\n",
       "      <td>...</td>\n",
       "      <td>...</td>\n",
       "      <td>...</td>\n",
       "      <td>...</td>\n",
       "      <td>...</td>\n",
       "      <td>...</td>\n",
       "    </tr>\n",
       "    <tr>\n",
       "      <th>316795</th>\n",
       "      <td>0</td>\n",
       "      <td>0</td>\n",
       "      <td>0</td>\n",
       "      <td>0</td>\n",
       "      <td>0</td>\n",
       "      <td>1</td>\n",
       "      <td>0</td>\n",
       "      <td>0</td>\n",
       "      <td>0</td>\n",
       "      <td>0</td>\n",
       "      <td>...</td>\n",
       "      <td>0</td>\n",
       "      <td>0</td>\n",
       "      <td>1</td>\n",
       "      <td>0</td>\n",
       "      <td>0</td>\n",
       "      <td>1</td>\n",
       "      <td>0</td>\n",
       "      <td>1</td>\n",
       "      <td>0</td>\n",
       "      <td>3</td>\n",
       "    </tr>\n",
       "    <tr>\n",
       "      <th>316796</th>\n",
       "      <td>0</td>\n",
       "      <td>0</td>\n",
       "      <td>0</td>\n",
       "      <td>0</td>\n",
       "      <td>0</td>\n",
       "      <td>1</td>\n",
       "      <td>0</td>\n",
       "      <td>0</td>\n",
       "      <td>0</td>\n",
       "      <td>0</td>\n",
       "      <td>...</td>\n",
       "      <td>0</td>\n",
       "      <td>0</td>\n",
       "      <td>1</td>\n",
       "      <td>0</td>\n",
       "      <td>0</td>\n",
       "      <td>1</td>\n",
       "      <td>1</td>\n",
       "      <td>0</td>\n",
       "      <td>0</td>\n",
       "      <td>3</td>\n",
       "    </tr>\n",
       "    <tr>\n",
       "      <th>316797</th>\n",
       "      <td>0</td>\n",
       "      <td>0</td>\n",
       "      <td>0</td>\n",
       "      <td>0</td>\n",
       "      <td>0</td>\n",
       "      <td>1</td>\n",
       "      <td>0</td>\n",
       "      <td>0</td>\n",
       "      <td>0</td>\n",
       "      <td>0</td>\n",
       "      <td>...</td>\n",
       "      <td>0</td>\n",
       "      <td>0</td>\n",
       "      <td>1</td>\n",
       "      <td>0</td>\n",
       "      <td>0</td>\n",
       "      <td>1</td>\n",
       "      <td>0</td>\n",
       "      <td>0</td>\n",
       "      <td>1</td>\n",
       "      <td>2</td>\n",
       "    </tr>\n",
       "    <tr>\n",
       "      <th>316798</th>\n",
       "      <td>0</td>\n",
       "      <td>0</td>\n",
       "      <td>0</td>\n",
       "      <td>0</td>\n",
       "      <td>0</td>\n",
       "      <td>1</td>\n",
       "      <td>0</td>\n",
       "      <td>0</td>\n",
       "      <td>0</td>\n",
       "      <td>0</td>\n",
       "      <td>...</td>\n",
       "      <td>0</td>\n",
       "      <td>0</td>\n",
       "      <td>1</td>\n",
       "      <td>0</td>\n",
       "      <td>0</td>\n",
       "      <td>1</td>\n",
       "      <td>0</td>\n",
       "      <td>1</td>\n",
       "      <td>0</td>\n",
       "      <td>2</td>\n",
       "    </tr>\n",
       "    <tr>\n",
       "      <th>316799</th>\n",
       "      <td>0</td>\n",
       "      <td>0</td>\n",
       "      <td>0</td>\n",
       "      <td>0</td>\n",
       "      <td>0</td>\n",
       "      <td>1</td>\n",
       "      <td>0</td>\n",
       "      <td>0</td>\n",
       "      <td>0</td>\n",
       "      <td>0</td>\n",
       "      <td>...</td>\n",
       "      <td>0</td>\n",
       "      <td>0</td>\n",
       "      <td>1</td>\n",
       "      <td>0</td>\n",
       "      <td>0</td>\n",
       "      <td>1</td>\n",
       "      <td>1</td>\n",
       "      <td>0</td>\n",
       "      <td>0</td>\n",
       "      <td>2</td>\n",
       "    </tr>\n",
       "  </tbody>\n",
       "</table>\n",
       "<p>316800 rows × 23 columns</p>\n",
       "</div>"
      ],
      "text/plain": [
       "        Fever  Tiredness  Dry-Cough  Difficulty-in-Breathing  Sore-Throat  \\\n",
       "0           1          1          1                        1            1   \n",
       "1           1          1          1                        1            1   \n",
       "2           1          1          1                        1            1   \n",
       "3           1          1          1                        1            1   \n",
       "4           1          1          1                        1            1   \n",
       "...       ...        ...        ...                      ...          ...   \n",
       "316795      0          0          0                        0            0   \n",
       "316796      0          0          0                        0            0   \n",
       "316797      0          0          0                        0            0   \n",
       "316798      0          0          0                        0            0   \n",
       "316799      0          0          0                        0            0   \n",
       "\n",
       "        None_Sympton  Pains  Nasal-Congestion  Runny-Nose  Diarrhea  ...  \\\n",
       "0                  0      1                 1           1         1  ...   \n",
       "1                  0      1                 1           1         1  ...   \n",
       "2                  0      1                 1           1         1  ...   \n",
       "3                  0      1                 1           1         1  ...   \n",
       "4                  0      1                 1           1         1  ...   \n",
       "...              ...    ...               ...         ...       ...  ...   \n",
       "316795             1      0                 0           0         0  ...   \n",
       "316796             1      0                 0           0         0  ...   \n",
       "316797             1      0                 0           0         0  ...   \n",
       "316798             1      0                 0           0         0  ...   \n",
       "316799             1      0                 0           0         0  ...   \n",
       "\n",
       "        Age_20-24  Age_25-59  Age_60+  Gender_Female  Gender_Male  \\\n",
       "0               0          0        0              0            1   \n",
       "1               0          0        0              0            1   \n",
       "2               0          0        0              0            1   \n",
       "3               0          0        0              0            1   \n",
       "4               0          0        0              0            1   \n",
       "...           ...        ...      ...            ...          ...   \n",
       "316795          0          0        1              0            0   \n",
       "316796          0          0        1              0            0   \n",
       "316797          0          0        1              0            0   \n",
       "316798          0          0        1              0            0   \n",
       "316799          0          0        1              0            0   \n",
       "\n",
       "        Gender_Transgender  Contact_Dont-Know  Contact_No  Contact_Yes  \\\n",
       "0                        0                  0           0            1   \n",
       "1                        0                  0           1            0   \n",
       "2                        0                  1           0            0   \n",
       "3                        0                  0           0            1   \n",
       "4                        0                  0           1            0   \n",
       "...                    ...                ...         ...          ...   \n",
       "316795                   1                  0           1            0   \n",
       "316796                   1                  1           0            0   \n",
       "316797                   1                  0           0            1   \n",
       "316798                   1                  0           1            0   \n",
       "316799                   1                  1           0            0   \n",
       "\n",
       "        Condition  \n",
       "0               0  \n",
       "1               0  \n",
       "2               0  \n",
       "3               1  \n",
       "4               1  \n",
       "...           ...  \n",
       "316795          3  \n",
       "316796          3  \n",
       "316797          2  \n",
       "316798          2  \n",
       "316799          2  \n",
       "\n",
       "[316800 rows x 23 columns]"
      ]
     },
     "execution_count": 31,
     "metadata": {},
     "output_type": "execute_result"
    }
   ],
   "source": [
    "df"
   ]
  },
  {
   "cell_type": "markdown",
   "id": "a3229481",
   "metadata": {
    "papermill": {
     "duration": 0.057039,
     "end_time": "2021-12-08T15:12:28.866861",
     "exception": false,
     "start_time": "2021-12-08T15:12:28.809822",
     "status": "completed"
    },
    "tags": []
   },
   "source": [
    "Por último , vamos a mirar la correlación entre caracterísiticas con un heatmap."
   ]
  },
  {
   "cell_type": "code",
   "execution_count": 32,
   "id": "73877cd3",
   "metadata": {
    "execution": {
     "iopub.execute_input": "2021-12-08T15:12:28.984382Z",
     "iopub.status.busy": "2021-12-08T15:12:28.983687Z",
     "iopub.status.idle": "2021-12-08T15:12:32.084984Z",
     "shell.execute_reply": "2021-12-08T15:12:32.085490Z",
     "shell.execute_reply.started": "2021-12-08T14:50:22.712315Z"
    },
    "papermill": {
     "duration": 3.163495,
     "end_time": "2021-12-08T15:12:32.085672",
     "exception": false,
     "start_time": "2021-12-08T15:12:28.922177",
     "status": "completed"
    },
    "tags": []
   },
   "outputs": [
    {
     "data": {
      "image/png": "[encoded data removed]",
      "text/plain": [
       "<Figure size 720x576 with 2 Axes>"
      ]
     },
     "metadata": {
      "needs_background": "light"
     },
     "output_type": "display_data"
    }
   ],
   "source": [
    "sns.heatmap(df.corr(),annot=True,cmap='YlGnBu',linewidths=0.4) \n",
    "fig=plt.gcf()\n",
    "fig.set_size_inches(10,8)\n",
    "plt.show()"
   ]
  },
  {
   "cell_type": "markdown",
   "id": "0acfa5f9",
   "metadata": {
    "papermill": {
     "duration": 0.059848,
     "end_time": "2021-12-08T15:12:32.207825",
     "exception": false,
     "start_time": "2021-12-08T15:12:32.147977",
     "status": "completed"
    },
    "tags": []
   },
   "source": [
    "**ENTRENAMIENTO**\n",
    "\n",
    "En el conjunto de las características de entrada tenemos que eliminar la etqueta de salida. Además quitamos otras columnas que creemos que no son necesarias.\n",
    "\n",
    "La etiqueta de salida la guardamos en la variable y"
   ]
  },
  {
   "cell_type": "code",
   "execution_count": 33,
   "id": "32766b94",
   "metadata": {
    "execution": {
     "iopub.execute_input": "2021-12-08T15:12:32.335934Z",
     "iopub.status.busy": "2021-12-08T15:12:32.335232Z",
     "iopub.status.idle": "2021-12-08T15:12:32.391605Z",
     "shell.execute_reply": "2021-12-08T15:12:32.391037Z",
     "shell.execute_reply.started": "2021-12-08T14:50:26.111553Z"
    },
    "papermill": {
     "duration": 0.123664,
     "end_time": "2021-12-08T15:12:32.391746",
     "exception": false,
     "start_time": "2021-12-08T15:12:32.268082",
     "status": "completed"
    },
    "tags": []
   },
   "outputs": [],
   "source": [
    "X= df.drop(['Condition', 'Age_0-9', 'Age_10-19', 'Age_20-24', 'Age_25-59', 'Age_25-59', 'Age_60+', 'Gender_Female', 'Gender_Male', 'Gender_Transgender', 'Contact_Dont-Know', 'Contact_No', 'Contact_Yes' ],axis=1)\n",
    "y= df['Condition']"
   ]
  },
  {
   "cell_type": "markdown",
   "id": "cb09c4a5",
   "metadata": {
    "papermill": {
     "duration": 0.061998,
     "end_time": "2021-12-08T15:12:32.516243",
     "exception": false,
     "start_time": "2021-12-08T15:12:32.454245",
     "status": "completed"
    },
    "tags": []
   },
   "source": [
    "Dividimos el conjunto de datos en test y entrenamiento"
   ]
  },
  {
   "cell_type": "code",
   "execution_count": 34,
   "id": "49151fae",
   "metadata": {
    "execution": {
     "iopub.execute_input": "2021-12-08T15:12:32.651093Z",
     "iopub.status.busy": "2021-12-08T15:12:32.649686Z",
     "iopub.status.idle": "2021-12-08T15:12:32.793429Z",
     "shell.execute_reply": "2021-12-08T15:12:32.792902Z",
     "shell.execute_reply.started": "2021-12-08T14:50:26.173201Z"
    },
    "papermill": {
     "duration": 0.215309,
     "end_time": "2021-12-08T15:12:32.793580",
     "exception": false,
     "start_time": "2021-12-08T15:12:32.578271",
     "status": "completed"
    },
    "tags": []
   },
   "outputs": [],
   "source": [
    "from sklearn.model_selection import train_test_split\n",
    "X_train, X_test, y_train, y_test = train_test_split(X, y, test_size=0.3, random_state=42)"
   ]
  },
  {
   "cell_type": "code",
   "execution_count": 35,
   "id": "0bacb8b4",
   "metadata": {
    "execution": {
     "iopub.execute_input": "2021-12-08T15:12:32.921339Z",
     "iopub.status.busy": "2021-12-08T15:12:32.920640Z",
     "iopub.status.idle": "2021-12-08T15:12:32.925010Z",
     "shell.execute_reply": "2021-12-08T15:12:32.925647Z",
     "shell.execute_reply.started": "2021-12-08T14:50:26.304171Z"
    },
    "papermill": {
     "duration": 0.071945,
     "end_time": "2021-12-08T15:12:32.925827",
     "exception": false,
     "start_time": "2021-12-08T15:12:32.853882",
     "status": "completed"
    },
    "tags": []
   },
   "outputs": [
    {
     "name": "stdout",
     "output_type": "stream",
     "text": [
      "Tamaño de X_train (221760, 11)\n",
      "Tamaño de Y_train (221760,)\n",
      "Tamaño de X_test (95040, 11)\n",
      "Tamaño de Y_est (95040,)\n"
     ]
    }
   ],
   "source": [
    "print(\"Tamaño de X_train\",X_train.shape)\n",
    "print(\"Tamaño de Y_train\",y_train.shape)\n",
    "print(\"Tamaño de X_test\",X_test.shape)\n",
    "print(\"Tamaño de Y_est\", y_test.shape)"
   ]
  },
  {
   "cell_type": "markdown",
   "id": "03948dd4",
   "metadata": {
    "papermill": {
     "duration": 0.061605,
     "end_time": "2021-12-08T15:12:33.049736",
     "exception": false,
     "start_time": "2021-12-08T15:12:32.988131",
     "status": "completed"
    },
    "tags": []
   },
   "source": [
    "Esta función nos sirve para devolver la lista ordenada de forma aleatoria"
   ]
  },
  {
   "cell_type": "code",
   "execution_count": 36,
   "id": "4a18df44",
   "metadata": {
    "execution": {
     "iopub.execute_input": "2021-12-08T15:12:33.176036Z",
     "iopub.status.busy": "2021-12-08T15:12:33.175384Z",
     "iopub.status.idle": "2021-12-08T15:12:33.216219Z",
     "shell.execute_reply": "2021-12-08T15:12:33.216846Z",
     "shell.execute_reply.started": "2021-12-08T14:50:26.314971Z"
    },
    "papermill": {
     "duration": 0.104319,
     "end_time": "2021-12-08T15:12:33.217015",
     "exception": false,
     "start_time": "2021-12-08T15:12:33.112696",
     "status": "completed"
    },
    "tags": []
   },
   "outputs": [
    {
     "data": {
      "text/html": [
       "<div>\n",
       "<style scoped>\n",
       "    .dataframe tbody tr th:only-of-type {\n",
       "        vertical-align: middle;\n",
       "    }\n",
       "\n",
       "    .dataframe tbody tr th {\n",
       "        vertical-align: top;\n",
       "    }\n",
       "\n",
       "    .dataframe thead th {\n",
       "        text-align: right;\n",
       "    }\n",
       "</style>\n",
       "<table border=\"1\" class=\"dataframe\">\n",
       "  <thead>\n",
       "    <tr style=\"text-align: right;\">\n",
       "      <th></th>\n",
       "      <th>Fever</th>\n",
       "      <th>Tiredness</th>\n",
       "      <th>Dry-Cough</th>\n",
       "      <th>Difficulty-in-Breathing</th>\n",
       "      <th>Sore-Throat</th>\n",
       "      <th>None_Sympton</th>\n",
       "      <th>Pains</th>\n",
       "      <th>Nasal-Congestion</th>\n",
       "      <th>Runny-Nose</th>\n",
       "      <th>Diarrhea</th>\n",
       "      <th>None_Experiencing</th>\n",
       "    </tr>\n",
       "  </thead>\n",
       "  <tbody>\n",
       "    <tr>\n",
       "      <th>77729</th>\n",
       "      <td>0</td>\n",
       "      <td>0</td>\n",
       "      <td>0</td>\n",
       "      <td>1</td>\n",
       "      <td>1</td>\n",
       "      <td>0</td>\n",
       "      <td>0</td>\n",
       "      <td>0</td>\n",
       "      <td>0</td>\n",
       "      <td>1</td>\n",
       "      <td>0</td>\n",
       "    </tr>\n",
       "    <tr>\n",
       "      <th>9026</th>\n",
       "      <td>1</td>\n",
       "      <td>0</td>\n",
       "      <td>0</td>\n",
       "      <td>0</td>\n",
       "      <td>0</td>\n",
       "      <td>0</td>\n",
       "      <td>0</td>\n",
       "      <td>1</td>\n",
       "      <td>1</td>\n",
       "      <td>1</td>\n",
       "      <td>0</td>\n",
       "    </tr>\n",
       "    <tr>\n",
       "      <th>312162</th>\n",
       "      <td>0</td>\n",
       "      <td>0</td>\n",
       "      <td>0</td>\n",
       "      <td>1</td>\n",
       "      <td>1</td>\n",
       "      <td>0</td>\n",
       "      <td>0</td>\n",
       "      <td>0</td>\n",
       "      <td>0</td>\n",
       "      <td>1</td>\n",
       "      <td>0</td>\n",
       "    </tr>\n",
       "    <tr>\n",
       "      <th>171121</th>\n",
       "      <td>1</td>\n",
       "      <td>1</td>\n",
       "      <td>1</td>\n",
       "      <td>1</td>\n",
       "      <td>1</td>\n",
       "      <td>0</td>\n",
       "      <td>0</td>\n",
       "      <td>1</td>\n",
       "      <td>1</td>\n",
       "      <td>1</td>\n",
       "      <td>0</td>\n",
       "    </tr>\n",
       "    <tr>\n",
       "      <th>70259</th>\n",
       "      <td>1</td>\n",
       "      <td>0</td>\n",
       "      <td>0</td>\n",
       "      <td>0</td>\n",
       "      <td>0</td>\n",
       "      <td>0</td>\n",
       "      <td>1</td>\n",
       "      <td>1</td>\n",
       "      <td>0</td>\n",
       "      <td>0</td>\n",
       "      <td>0</td>\n",
       "    </tr>\n",
       "    <tr>\n",
       "      <th>...</th>\n",
       "      <td>...</td>\n",
       "      <td>...</td>\n",
       "      <td>...</td>\n",
       "      <td>...</td>\n",
       "      <td>...</td>\n",
       "      <td>...</td>\n",
       "      <td>...</td>\n",
       "      <td>...</td>\n",
       "      <td>...</td>\n",
       "      <td>...</td>\n",
       "      <td>...</td>\n",
       "    </tr>\n",
       "    <tr>\n",
       "      <th>191174</th>\n",
       "      <td>0</td>\n",
       "      <td>1</td>\n",
       "      <td>0</td>\n",
       "      <td>0</td>\n",
       "      <td>0</td>\n",
       "      <td>0</td>\n",
       "      <td>1</td>\n",
       "      <td>0</td>\n",
       "      <td>0</td>\n",
       "      <td>0</td>\n",
       "      <td>0</td>\n",
       "    </tr>\n",
       "    <tr>\n",
       "      <th>269675</th>\n",
       "      <td>0</td>\n",
       "      <td>0</td>\n",
       "      <td>1</td>\n",
       "      <td>1</td>\n",
       "      <td>0</td>\n",
       "      <td>0</td>\n",
       "      <td>0</td>\n",
       "      <td>0</td>\n",
       "      <td>0</td>\n",
       "      <td>0</td>\n",
       "      <td>1</td>\n",
       "    </tr>\n",
       "    <tr>\n",
       "      <th>207429</th>\n",
       "      <td>1</td>\n",
       "      <td>1</td>\n",
       "      <td>0</td>\n",
       "      <td>0</td>\n",
       "      <td>0</td>\n",
       "      <td>0</td>\n",
       "      <td>0</td>\n",
       "      <td>1</td>\n",
       "      <td>1</td>\n",
       "      <td>1</td>\n",
       "      <td>0</td>\n",
       "    </tr>\n",
       "    <tr>\n",
       "      <th>265251</th>\n",
       "      <td>0</td>\n",
       "      <td>0</td>\n",
       "      <td>1</td>\n",
       "      <td>1</td>\n",
       "      <td>1</td>\n",
       "      <td>0</td>\n",
       "      <td>0</td>\n",
       "      <td>1</td>\n",
       "      <td>1</td>\n",
       "      <td>0</td>\n",
       "      <td>0</td>\n",
       "    </tr>\n",
       "    <tr>\n",
       "      <th>110145</th>\n",
       "      <td>1</td>\n",
       "      <td>1</td>\n",
       "      <td>1</td>\n",
       "      <td>0</td>\n",
       "      <td>0</td>\n",
       "      <td>0</td>\n",
       "      <td>0</td>\n",
       "      <td>1</td>\n",
       "      <td>1</td>\n",
       "      <td>1</td>\n",
       "      <td>0</td>\n",
       "    </tr>\n",
       "  </tbody>\n",
       "</table>\n",
       "<p>221760 rows × 11 columns</p>\n",
       "</div>"
      ],
      "text/plain": [
       "        Fever  Tiredness  Dry-Cough  Difficulty-in-Breathing  Sore-Throat  \\\n",
       "77729       0          0          0                        1            1   \n",
       "9026        1          0          0                        0            0   \n",
       "312162      0          0          0                        1            1   \n",
       "171121      1          1          1                        1            1   \n",
       "70259       1          0          0                        0            0   \n",
       "...       ...        ...        ...                      ...          ...   \n",
       "191174      0          1          0                        0            0   \n",
       "269675      0          0          1                        1            0   \n",
       "207429      1          1          0                        0            0   \n",
       "265251      0          0          1                        1            1   \n",
       "110145      1          1          1                        0            0   \n",
       "\n",
       "        None_Sympton  Pains  Nasal-Congestion  Runny-Nose  Diarrhea  \\\n",
       "77729              0      0                 0           0         1   \n",
       "9026               0      0                 1           1         1   \n",
       "312162             0      0                 0           0         1   \n",
       "171121             0      0                 1           1         1   \n",
       "70259              0      1                 1           0         0   \n",
       "...              ...    ...               ...         ...       ...   \n",
       "191174             0      1                 0           0         0   \n",
       "269675             0      0                 0           0         0   \n",
       "207429             0      0                 1           1         1   \n",
       "265251             0      0                 1           1         0   \n",
       "110145             0      0                 1           1         1   \n",
       "\n",
       "        None_Experiencing  \n",
       "77729                   0  \n",
       "9026                    0  \n",
       "312162                  0  \n",
       "171121                  0  \n",
       "70259                   0  \n",
       "...                   ...  \n",
       "191174                  0  \n",
       "269675                  1  \n",
       "207429                  0  \n",
       "265251                  0  \n",
       "110145                  0  \n",
       "\n",
       "[221760 rows x 11 columns]"
      ]
     },
     "execution_count": 36,
     "metadata": {},
     "output_type": "execute_result"
    }
   ],
   "source": [
    "X_train.sample(frac=1)"
   ]
  },
  {
   "cell_type": "markdown",
   "id": "1b1427e6",
   "metadata": {
    "papermill": {
     "duration": 0.060957,
     "end_time": "2021-12-08T15:12:33.337969",
     "exception": false,
     "start_time": "2021-12-08T15:12:33.277012",
     "status": "completed"
    },
    "tags": []
   },
   "source": [
    "Importamos las librerías necesarias de deep learning"
   ]
  },
  {
   "cell_type": "code",
   "execution_count": 37,
   "id": "a5779a79",
   "metadata": {
    "execution": {
     "iopub.execute_input": "2021-12-08T15:12:33.460837Z",
     "iopub.status.busy": "2021-12-08T15:12:33.460128Z",
     "iopub.status.idle": "2021-12-08T15:12:39.818678Z",
     "shell.execute_reply": "2021-12-08T15:12:39.818029Z",
     "shell.execute_reply.started": "2021-12-08T14:50:26.372307Z"
    },
    "papermill": {
     "duration": 6.421394,
     "end_time": "2021-12-08T15:12:39.818825",
     "exception": false,
     "start_time": "2021-12-08T15:12:33.397431",
     "status": "completed"
    },
    "tags": []
   },
   "outputs": [],
   "source": [
    "import tensorflow as tf\n",
    "from tensorflow import keras\n",
    "from tensorflow.keras import layers\n",
    "from tensorflow.keras.layers import Dense, Dropout, Input\n",
    "from tensorflow.keras import models \n",
    "from tensorflow.keras.models import Sequential\n",
    "from keras.utils.np_utils import to_categorical"
   ]
  },
  {
   "cell_type": "markdown",
   "id": "cdcb03ff",
   "metadata": {
    "papermill": {
     "duration": 0.062244,
     "end_time": "2021-12-08T15:12:39.941840",
     "exception": false,
     "start_time": "2021-12-08T15:12:39.879596",
     "status": "completed"
    },
    "tags": []
   },
   "source": [
    "Conertimos la característica de salida que podría tomar el valor 0,1,2,3 a un vector con el valor 1 que representa la etiqueta y el resto a 0"
   ]
  },
  {
   "cell_type": "code",
   "execution_count": 38,
   "id": "041a545c",
   "metadata": {
    "execution": {
     "iopub.execute_input": "2021-12-08T15:12:40.069013Z",
     "iopub.status.busy": "2021-12-08T15:12:40.068298Z",
     "iopub.status.idle": "2021-12-08T15:12:40.079621Z",
     "shell.execute_reply": "2021-12-08T15:12:40.079077Z",
     "shell.execute_reply.started": "2021-12-08T14:50:26.854344Z"
    },
    "papermill": {
     "duration": 0.077043,
     "end_time": "2021-12-08T15:12:40.079760",
     "exception": false,
     "start_time": "2021-12-08T15:12:40.002717",
     "status": "completed"
    },
    "tags": []
   },
   "outputs": [
    {
     "data": {
      "text/plain": [
       "(221760, 4)"
      ]
     },
     "execution_count": 38,
     "metadata": {},
     "output_type": "execute_result"
    }
   ],
   "source": [
    "y_train = to_categorical(y_train, num_classes = 4)\n",
    "y_train.shape"
   ]
  },
  {
   "cell_type": "code",
   "execution_count": 39,
   "id": "f39bb4b2",
   "metadata": {
    "execution": {
     "iopub.execute_input": "2021-12-08T15:12:40.206253Z",
     "iopub.status.busy": "2021-12-08T15:12:40.205667Z",
     "iopub.status.idle": "2021-12-08T15:12:40.212795Z",
     "shell.execute_reply": "2021-12-08T15:12:40.213243Z",
     "shell.execute_reply.started": "2021-12-08T14:50:26.867599Z"
    },
    "papermill": {
     "duration": 0.07259,
     "end_time": "2021-12-08T15:12:40.213434",
     "exception": false,
     "start_time": "2021-12-08T15:12:40.140844",
     "status": "completed"
    },
    "tags": []
   },
   "outputs": [
    {
     "data": {
      "text/plain": [
       "(95040, 4)"
      ]
     },
     "execution_count": 39,
     "metadata": {},
     "output_type": "execute_result"
    }
   ],
   "source": [
    "y_test = to_categorical(y_test, num_classes=4)\n",
    "y_test.shape"
   ]
  },
  {
   "cell_type": "code",
   "execution_count": 40,
   "id": "b28e7f4d",
   "metadata": {
    "execution": {
     "iopub.execute_input": "2021-12-08T15:12:40.339774Z",
     "iopub.status.busy": "2021-12-08T15:12:40.339127Z",
     "iopub.status.idle": "2021-12-08T15:12:40.343986Z",
     "shell.execute_reply": "2021-12-08T15:12:40.344526Z",
     "shell.execute_reply.started": "2021-12-08T14:50:26.886589Z"
    },
    "papermill": {
     "duration": 0.070297,
     "end_time": "2021-12-08T15:12:40.344704",
     "exception": false,
     "start_time": "2021-12-08T15:12:40.274407",
     "status": "completed"
    },
    "tags": []
   },
   "outputs": [
    {
     "data": {
      "text/plain": [
       "array([[0., 1., 0., 0.],\n",
       "       [1., 0., 0., 0.],\n",
       "       [0., 0., 1., 0.],\n",
       "       ...,\n",
       "       [0., 1., 0., 0.],\n",
       "       [1., 0., 0., 0.],\n",
       "       [0., 0., 0., 1.]], dtype=float32)"
      ]
     },
     "execution_count": 40,
     "metadata": {},
     "output_type": "execute_result"
    }
   ],
   "source": [
    "y_test"
   ]
  },
  {
   "cell_type": "markdown",
   "id": "12922f1d",
   "metadata": {
    "papermill": {
     "duration": 0.061961,
     "end_time": "2021-12-08T15:12:40.468077",
     "exception": false,
     "start_time": "2021-12-08T15:12:40.406116",
     "status": "completed"
    },
    "tags": []
   },
   "source": [
    "Definimos nuestro modelo con las siguientes layers"
   ]
  },
  {
   "cell_type": "code",
   "execution_count": 41,
   "id": "8765b93b",
   "metadata": {
    "execution": {
     "iopub.execute_input": "2021-12-08T15:12:40.600760Z",
     "iopub.status.busy": "2021-12-08T15:12:40.599760Z",
     "iopub.status.idle": "2021-12-08T15:12:40.811222Z",
     "shell.execute_reply": "2021-12-08T15:12:40.809758Z",
     "shell.execute_reply.started": "2021-12-08T14:50:26.90079Z"
    },
    "papermill": {
     "duration": 0.281754,
     "end_time": "2021-12-08T15:12:40.811488",
     "exception": false,
     "start_time": "2021-12-08T15:12:40.529734",
     "status": "completed"
    },
    "tags": []
   },
   "outputs": [
    {
     "name": "stderr",
     "output_type": "stream",
     "text": [
      "\n",
      "User settings:\n",
      "\n",
      "   KMP_AFFINITY=granularity=fine,verbose,compact,1,0\n",
      "   KMP_BLOCKTIME=0\n",
      "   KMP_DUPLICATE_LIB_OK=True\n",
      "   KMP_INIT_AT_FORK=FALSE\n",
      "   KMP_SETTINGS=1\n",
      "   KMP_WARNINGS=0\n",
      "\n",
      "Effective settings:\n",
      "\n",
      "   KMP_ABORT_DELAY=0\n",
      "   KMP_ADAPTIVE_LOCK_PROPS='1,1024'\n",
      "   KMP_ALIGN_ALLOC=64\n",
      "   KMP_ALL_THREADPRIVATE=128\n",
      "   KMP_ATOMIC_MODE=2\n",
      "   KMP_BLOCKTIME=0\n",
      "   KMP_CPUINFO_FILE: value is not defined\n",
      "   KMP_DETERMINISTIC_REDUCTION=false\n",
      "   KMP_DEVICE_THREAD_LIMIT=2147483647\n",
      "   KMP_DISP_NUM_BUFFERS=7\n",
      "   KMP_DUPLICATE_LIB_OK=true\n",
      "   KMP_ENABLE_TASK_THROTTLING=true\n",
      "   KMP_FORCE_REDUCTION: value is not defined\n",
      "   KMP_FOREIGN_THREADS_THREADPRIVATE=true\n",
      "   KMP_FORKJOIN_BARRIER='2,2'\n",
      "   KMP_FORKJOIN_BARRIER_PATTERN='hyper,hyper'\n",
      "   KMP_GTID_MODE=3\n",
      "   KMP_HANDLE_SIGNALS=false\n",
      "   KMP_HOT_TEAMS_MAX_LEVEL=1\n",
      "   KMP_HOT_TEAMS_MODE=0\n",
      "   KMP_INIT_AT_FORK=true\n",
      "   KMP_LIBRARY=throughput\n",
      "   KMP_LOCK_KIND=queuing\n",
      "   KMP_MALLOC_POOL_INCR=1M\n",
      "   KMP_NUM_LOCKS_IN_BLOCK=1\n",
      "   KMP_PLAIN_BARRIER='2,2'\n",
      "   KMP_PLAIN_BARRIER_PATTERN='hyper,hyper'\n",
      "   KMP_REDUCTION_BARRIER='1,1'\n",
      "   KMP_REDUCTION_BARRIER_PATTERN='hyper,hyper'\n",
      "   KMP_SCHEDULE='static,balanced;guided,iterative'\n",
      "   KMP_SETTINGS=true\n",
      "   KMP_SPIN_BACKOFF_PARAMS='4096,100'\n",
      "   KMP_STACKOFFSET=64\n",
      "   KMP_STACKPAD=0\n",
      "   KMP_STACKSIZE=8M\n",
      "   KMP_STORAGE_MAP=false\n",
      "   KMP_TASKING=2\n",
      "   KMP_TASKLOOP_MIN_TASKS=0\n",
      "   KMP_TASK_STEALING_CONSTRAINT=1\n",
      "   KMP_TEAMS_THREAD_LIMIT=4\n",
      "   KMP_TOPOLOGY_METHOD=all\n",
      "   KMP_USE_YIELD=1\n",
      "   KMP_VERSION=false\n",
      "   KMP_WARNINGS=false\n",
      "   OMP_AFFINITY_FORMAT='OMP: pid %P tid %i thread %n bound to OS proc set {%A}'\n",
      "   OMP_ALLOCATOR=omp_default_mem_alloc\n",
      "   OMP_CANCELLATION=false\n",
      "   OMP_DEFAULT_DEVICE=0\n",
      "   OMP_DISPLAY_AFFINITY=false\n",
      "   OMP_DISPLAY_ENV=false\n",
      "   OMP_DYNAMIC=false\n",
      "   OMP_MAX_ACTIVE_LEVELS=1\n",
      "   OMP_MAX_TASK_PRIORITY=0\n",
      "   OMP_NESTED: deprecated; max-active-levels-var=1\n",
      "   OMP_NUM_THREADS: value is not defined\n",
      "   OMP_PLACES: value is not defined\n",
      "   OMP_PROC_BIND='intel'\n",
      "   OMP_SCHEDULE='static'\n",
      "   OMP_STACKSIZE=8M\n",
      "   OMP_TARGET_OFFLOAD=DEFAULT\n",
      "   OMP_THREAD_LIMIT=2147483647\n",
      "   OMP_WAIT_POLICY=PASSIVE\n",
      "   KMP_AFFINITY='verbose,warnings,respect,granularity=fine,compact,1,0'\n",
      "\n",
      "2021-12-08 15:12:40.636929: I tensorflow/core/common_runtime/process_util.cc:146] Creating new thread pool with default inter op setting: 2. Tune using inter_op_parallelism_threads for best performance.\n"
     ]
    }
   ],
   "source": [
    "model=keras.models.Sequential()\n",
    "model.add(keras.layers.Dense(units= 32, input_shape=(11,),activation='relu'))\n",
    "model.add(keras.layers.Dense(units= 64,activation='relu'))\n",
    "model.add(keras.layers.BatchNormalization())\n",
    "model.add(keras.layers.Dense(units= 128,activation='relu'))\n",
    "model.add(keras.layers.BatchNormalization())\n",
    "model.add(keras.layers.Dropout(0.2))\n",
    "model.add(keras.layers.Dense(units= 32,activation='relu'))\n",
    "model.add(keras.layers.BatchNormalization())\n",
    "model.add(keras.layers.Dropout(0.1))\n",
    "model.add(keras.layers.Dense(units= 16,activation='relu'))\n",
    "model.add(keras.layers.Dense(units= 8,activation='relu'))\n",
    "model.add(keras.layers.Dense(4,activation='softmax'))"
   ]
  },
  {
   "cell_type": "markdown",
   "id": "aa0a0bcc",
   "metadata": {
    "papermill": {
     "duration": 0.066829,
     "end_time": "2021-12-08T15:12:40.941576",
     "exception": false,
     "start_time": "2021-12-08T15:12:40.874747",
     "status": "completed"
    },
    "tags": []
   },
   "source": [
    "Comprobamos cual es el resumen de las capas de nuestro modelo"
   ]
  },
  {
   "cell_type": "code",
   "execution_count": 42,
   "id": "fdd7d956",
   "metadata": {
    "execution": {
     "iopub.execute_input": "2021-12-08T15:12:41.077438Z",
     "iopub.status.busy": "2021-12-08T15:12:41.076773Z",
     "iopub.status.idle": "2021-12-08T15:12:41.084982Z",
     "shell.execute_reply": "2021-12-08T15:12:41.084417Z",
     "shell.execute_reply.started": "2021-12-08T14:50:27.128015Z"
    },
    "papermill": {
     "duration": 0.082638,
     "end_time": "2021-12-08T15:12:41.085138",
     "exception": false,
     "start_time": "2021-12-08T15:12:41.002500",
     "status": "completed"
    },
    "tags": []
   },
   "outputs": [
    {
     "name": "stdout",
     "output_type": "stream",
     "text": [
      "Model: \"sequential\"\n",
      "_________________________________________________________________\n",
      "Layer (type)                 Output Shape              Param #   \n",
      "=================================================================\n",
      "dense (Dense)                (None, 32)                384       \n",
      "_________________________________________________________________\n",
      "dense_1 (Dense)              (None, 64)                2112      \n",
      "_________________________________________________________________\n",
      "batch_normalization (BatchNo (None, 64)                256       \n",
      "_________________________________________________________________\n",
      "dense_2 (Dense)              (None, 128)               8320      \n",
      "_________________________________________________________________\n",
      "batch_normalization_1 (Batch (None, 128)               512       \n",
      "_________________________________________________________________\n",
      "dropout (Dropout)            (None, 128)               0         \n",
      "_________________________________________________________________\n",
      "dense_3 (Dense)              (None, 32)                4128      \n",
      "_________________________________________________________________\n",
      "batch_normalization_2 (Batch (None, 32)                128       \n",
      "_________________________________________________________________\n",
      "dropout_1 (Dropout)          (None, 32)                0         \n",
      "_________________________________________________________________\n",
      "dense_4 (Dense)              (None, 16)                528       \n",
      "_________________________________________________________________\n",
      "dense_5 (Dense)              (None, 8)                 136       \n",
      "_________________________________________________________________\n",
      "dense_6 (Dense)              (None, 4)                 36        \n",
      "=================================================================\n",
      "Total params: 16,540\n",
      "Trainable params: 16,092\n",
      "Non-trainable params: 448\n",
      "_________________________________________________________________\n"
     ]
    }
   ],
   "source": [
    "model.summary()"
   ]
  },
  {
   "cell_type": "markdown",
   "id": "eb820b63",
   "metadata": {
    "papermill": {
     "duration": 0.073988,
     "end_time": "2021-12-08T15:12:41.221380",
     "exception": false,
     "start_time": "2021-12-08T15:12:41.147392",
     "status": "completed"
    },
    "tags": []
   },
   "source": [
    "Añadimos como función de pérdida categorical_crossentropy\n",
    "\n",
    "También añadimos como función de optimización Gradient Descent\n",
    "\n",
    "Finalmente queremos obtener como métrica el accuracy del problema."
   ]
  },
  {
   "cell_type": "code",
   "execution_count": 43,
   "id": "7eb485fd",
   "metadata": {
    "execution": {
     "iopub.execute_input": "2021-12-08T15:12:41.360561Z",
     "iopub.status.busy": "2021-12-08T15:12:41.359564Z",
     "iopub.status.idle": "2021-12-08T15:12:41.369109Z",
     "shell.execute_reply": "2021-12-08T15:12:41.369648Z",
     "shell.execute_reply.started": "2021-12-08T14:50:27.142486Z"
    },
    "papermill": {
     "duration": 0.083078,
     "end_time": "2021-12-08T15:12:41.369840",
     "exception": false,
     "start_time": "2021-12-08T15:12:41.286762",
     "status": "completed"
    },
    "tags": []
   },
   "outputs": [],
   "source": [
    "model.compile(loss='categorical_crossentropy',\n",
    "              optimizer='adam',\n",
    "              metrics=['accuracy'])"
   ]
  },
  {
   "cell_type": "markdown",
   "id": "0dc345b4",
   "metadata": {
    "papermill": {
     "duration": 0.063461,
     "end_time": "2021-12-08T15:12:41.497973",
     "exception": false,
     "start_time": "2021-12-08T15:12:41.434512",
     "status": "completed"
    },
    "tags": []
   },
   "source": [
    "Entrenamos nuestro modelo pasándole el conjunto de características de entramiento y la salida final."
   ]
  },
  {
   "cell_type": "code",
   "execution_count": 44,
   "id": "8a187a9b",
   "metadata": {
    "execution": {
     "iopub.execute_input": "2021-12-08T15:12:41.636584Z",
     "iopub.status.busy": "2021-12-08T15:12:41.635565Z",
     "iopub.status.idle": "2021-12-08T15:23:26.323951Z",
     "shell.execute_reply": "2021-12-08T15:23:26.323311Z"
    },
    "papermill": {
     "duration": 644.761178,
     "end_time": "2021-12-08T15:23:26.324274",
     "exception": false,
     "start_time": "2021-12-08T15:12:41.563096",
     "status": "completed"
    },
    "tags": []
   },
   "outputs": [
    {
     "name": "stderr",
     "output_type": "stream",
     "text": [
      "2021-12-08 15:12:41.747961: I tensorflow/compiler/mlir/mlir_graph_optimization_pass.cc:185] None of the MLIR Optimization Passes are enabled (registered 2)\n"
     ]
    },
    {
     "name": "stdout",
     "output_type": "stream",
     "text": [
      "Epoch 1/40\n",
      "3465/3465 - 18s - loss: 1.3903 - accuracy: 0.2486 - val_loss: 1.3869 - val_accuracy: 0.2502\n",
      "Epoch 2/40\n",
      "3465/3465 - 17s - loss: 1.3865 - accuracy: 0.2498 - val_loss: 1.3864 - val_accuracy: 0.2513\n",
      "Epoch 3/40\n",
      "3465/3465 - 17s - loss: 1.3864 - accuracy: 0.2502 - val_loss: 1.3865 - val_accuracy: 0.2490\n",
      "Epoch 4/40\n",
      "3465/3465 - 17s - loss: 1.3863 - accuracy: 0.2506 - val_loss: 1.3863 - val_accuracy: 0.2514\n",
      "Epoch 5/40\n",
      "3465/3465 - 16s - loss: 1.3864 - accuracy: 0.2488 - val_loss: 1.3863 - val_accuracy: 0.2491\n",
      "Epoch 6/40\n",
      "3465/3465 - 16s - loss: 1.3863 - accuracy: 0.2503 - val_loss: 1.3864 - val_accuracy: 0.2491\n",
      "Epoch 7/40\n",
      "3465/3465 - 16s - loss: 1.3864 - accuracy: 0.2489 - val_loss: 1.3863 - val_accuracy: 0.2514\n",
      "Epoch 8/40\n",
      "3465/3465 - 16s - loss: 1.3864 - accuracy: 0.2503 - val_loss: 1.3863 - val_accuracy: 0.2504\n",
      "Epoch 9/40\n",
      "3465/3465 - 17s - loss: 1.3864 - accuracy: 0.2502 - val_loss: 1.3864 - val_accuracy: 0.2504\n",
      "Epoch 10/40\n",
      "3465/3465 - 18s - loss: 1.3864 - accuracy: 0.2498 - val_loss: 1.3863 - val_accuracy: 0.2504\n",
      "Epoch 11/40\n",
      "3465/3465 - 17s - loss: 1.3864 - accuracy: 0.2487 - val_loss: 1.3863 - val_accuracy: 0.2514\n",
      "Epoch 12/40\n",
      "3465/3465 - 16s - loss: 1.3863 - accuracy: 0.2508 - val_loss: 1.3863 - val_accuracy: 0.2514\n",
      "Epoch 13/40\n",
      "3465/3465 - 17s - loss: 1.3864 - accuracy: 0.2489 - val_loss: 1.3863 - val_accuracy: 0.2490\n",
      "Epoch 14/40\n",
      "3465/3465 - 16s - loss: 1.3864 - accuracy: 0.2497 - val_loss: 1.3863 - val_accuracy: 0.2491\n",
      "Epoch 15/40\n",
      "3465/3465 - 17s - loss: 1.3863 - accuracy: 0.2502 - val_loss: 1.3863 - val_accuracy: 0.2504\n",
      "Epoch 16/40\n",
      "3465/3465 - 16s - loss: 1.3863 - accuracy: 0.2503 - val_loss: 1.3863 - val_accuracy: 0.2514\n",
      "Epoch 17/40\n",
      "3465/3465 - 16s - loss: 1.3863 - accuracy: 0.2504 - val_loss: 1.3864 - val_accuracy: 0.2490\n",
      "Epoch 18/40\n",
      "3465/3465 - 16s - loss: 1.3864 - accuracy: 0.2500 - val_loss: 1.3863 - val_accuracy: 0.2490\n",
      "Epoch 19/40\n",
      "3465/3465 - 16s - loss: 1.3863 - accuracy: 0.2493 - val_loss: 1.3863 - val_accuracy: 0.2491\n",
      "Epoch 20/40\n",
      "3465/3465 - 15s - loss: 1.3864 - accuracy: 0.2503 - val_loss: 1.3864 - val_accuracy: 0.2491\n",
      "Epoch 21/40\n",
      "3465/3465 - 16s - loss: 1.3863 - accuracy: 0.2504 - val_loss: 1.3864 - val_accuracy: 0.2504\n",
      "Epoch 22/40\n",
      "3465/3465 - 15s - loss: 1.3864 - accuracy: 0.2497 - val_loss: 1.3863 - val_accuracy: 0.2490\n",
      "Epoch 23/40\n",
      "3465/3465 - 16s - loss: 1.3864 - accuracy: 0.2496 - val_loss: 1.3863 - val_accuracy: 0.2490\n",
      "Epoch 24/40\n",
      "3465/3465 - 16s - loss: 1.3863 - accuracy: 0.2491 - val_loss: 1.3864 - val_accuracy: 0.2491\n",
      "Epoch 25/40\n",
      "3465/3465 - 15s - loss: 1.3864 - accuracy: 0.2497 - val_loss: 1.3864 - val_accuracy: 0.2490\n",
      "Epoch 26/40\n",
      "3465/3465 - 15s - loss: 1.3864 - accuracy: 0.2498 - val_loss: 1.3863 - val_accuracy: 0.2504\n",
      "Epoch 27/40\n",
      "3465/3465 - 15s - loss: 1.3864 - accuracy: 0.2500 - val_loss: 1.3863 - val_accuracy: 0.2490\n",
      "Epoch 28/40\n",
      "3465/3465 - 16s - loss: 1.3864 - accuracy: 0.2500 - val_loss: 1.3863 - val_accuracy: 0.2491\n",
      "Epoch 29/40\n",
      "3465/3465 - 15s - loss: 1.3863 - accuracy: 0.2514 - val_loss: 1.3864 - val_accuracy: 0.2490\n",
      "Epoch 30/40\n",
      "3465/3465 - 15s - loss: 1.3864 - accuracy: 0.2490 - val_loss: 1.3864 - val_accuracy: 0.2490\n",
      "Epoch 31/40\n",
      "3465/3465 - 16s - loss: 1.3864 - accuracy: 0.2483 - val_loss: 1.3863 - val_accuracy: 0.2514\n",
      "Epoch 32/40\n",
      "3465/3465 - 17s - loss: 1.3864 - accuracy: 0.2490 - val_loss: 1.3863 - val_accuracy: 0.2514\n",
      "Epoch 33/40\n",
      "3465/3465 - 16s - loss: 1.3864 - accuracy: 0.2501 - val_loss: 1.3863 - val_accuracy: 0.2504\n",
      "Epoch 34/40\n",
      "3465/3465 - 16s - loss: 1.3863 - accuracy: 0.2503 - val_loss: 1.3865 - val_accuracy: 0.2491\n",
      "Epoch 35/40\n",
      "3465/3465 - 16s - loss: 1.3864 - accuracy: 0.2494 - val_loss: 1.3863 - val_accuracy: 0.2514\n",
      "Epoch 36/40\n",
      "3465/3465 - 18s - loss: 1.3864 - accuracy: 0.2502 - val_loss: 1.3863 - val_accuracy: 0.2504\n",
      "Epoch 37/40\n",
      "3465/3465 - 15s - loss: 1.3864 - accuracy: 0.2503 - val_loss: 1.3864 - val_accuracy: 0.2491\n",
      "Epoch 38/40\n",
      "3465/3465 - 16s - loss: 1.3864 - accuracy: 0.2496 - val_loss: 1.3863 - val_accuracy: 0.2490\n",
      "Epoch 39/40\n",
      "3465/3465 - 15s - loss: 1.3864 - accuracy: 0.2500 - val_loss: 1.3864 - val_accuracy: 0.2504\n",
      "Epoch 40/40\n",
      "3465/3465 - 16s - loss: 1.3864 - accuracy: 0.2484 - val_loss: 1.3864 - val_accuracy: 0.2491\n"
     ]
    },
    {
     "data": {
      "text/plain": [
       "<keras.callbacks.History at 0x7f63e2070410>"
      ]
     },
     "execution_count": 44,
     "metadata": {},
     "output_type": "execute_result"
    }
   ],
   "source": [
    "model.fit(X_train, y_train, epochs=40, batch_size=64, verbose=2, validation_data=(X_test, y_test))"
   ]
  },
  {
   "cell_type": "code",
   "execution_count": 45,
   "id": "57f871ae",
   "metadata": {
    "execution": {
     "iopub.execute_input": "2021-12-08T15:23:26.491593Z",
     "iopub.status.busy": "2021-12-08T15:23:26.490478Z",
     "iopub.status.idle": "2021-12-08T15:23:31.519102Z",
     "shell.execute_reply": "2021-12-08T15:23:31.518461Z"
    },
    "papermill": {
     "duration": 5.115206,
     "end_time": "2021-12-08T15:23:31.519253",
     "exception": false,
     "start_time": "2021-12-08T15:23:26.404047",
     "status": "completed"
    },
    "tags": []
   },
   "outputs": [],
   "source": [
    "y_pred = model.predict(X_test)"
   ]
  },
  {
   "cell_type": "code",
   "execution_count": 46,
   "id": "7de7d214",
   "metadata": {
    "execution": {
     "iopub.execute_input": "2021-12-08T15:23:31.691782Z",
     "iopub.status.busy": "2021-12-08T15:23:31.691080Z",
     "iopub.status.idle": "2021-12-08T15:23:31.695289Z",
     "shell.execute_reply": "2021-12-08T15:23:31.694704Z"
    },
    "papermill": {
     "duration": 0.091651,
     "end_time": "2021-12-08T15:23:31.695456",
     "exception": false,
     "start_time": "2021-12-08T15:23:31.603805",
     "status": "completed"
    },
    "tags": []
   },
   "outputs": [],
   "source": [
    "y_pred = np.argmax(y_pred,axis=1)"
   ]
  },
  {
   "cell_type": "code",
   "execution_count": 47,
   "id": "49fa67af",
   "metadata": {
    "execution": {
     "iopub.execute_input": "2021-12-08T15:23:31.869809Z",
     "iopub.status.busy": "2021-12-08T15:23:31.867401Z",
     "iopub.status.idle": "2021-12-08T15:23:31.874006Z",
     "shell.execute_reply": "2021-12-08T15:23:31.873510Z"
    },
    "papermill": {
     "duration": 0.094388,
     "end_time": "2021-12-08T15:23:31.874142",
     "exception": false,
     "start_time": "2021-12-08T15:23:31.779754",
     "status": "completed"
    },
    "tags": []
   },
   "outputs": [
    {
     "data": {
      "text/plain": [
       "array([3, 3, 3, ..., 3, 3, 3])"
      ]
     },
     "execution_count": 47,
     "metadata": {},
     "output_type": "execute_result"
    }
   ],
   "source": [
    "y_pred"
   ]
  }
 ],
 "metadata": {
  "kernelspec": {
   "display_name": "Python 3",
   "language": "python",
   "name": "python3"
  },
  "language_info": {
   "codemirror_mode": {
    "name": "ipython",
    "version": 3
   },
   "file_extension": ".py",
   "mimetype": "text/x-python",
   "name": "python",
   "nbconvert_exporter": "python",
   "pygments_lexer": "ipython3",
   "version": "3.7.10"
  },
  "papermill": {
   "default_parameters": {},
   "duration": 691.19329,
   "end_time": "2021-12-08T15:23:34.914148",
   "environment_variables": {},
   "exception": null,
   "input_path": "__notebook__.ipynb",
   "output_path": "__notebook__.ipynb",
   "parameters": {},
   "start_time": "2021-12-08T15:12:03.720858",
   "version": "2.3.3"
  }
 },
 "nbformat": 4,
 "nbformat_minor": 5
}
