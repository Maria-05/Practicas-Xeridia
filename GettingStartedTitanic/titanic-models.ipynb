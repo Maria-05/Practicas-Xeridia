{
 "cells": [
  {
   "cell_type": "markdown",
   "id": "fe158f63",
   "metadata": {
    "papermill": {
     "duration": 0.052347,
     "end_time": "2021-10-15T14:32:16.618848",
     "exception": false,
     "start_time": "2021-10-15T14:32:16.566501",
     "status": "completed"
    },
    "tags": []
   },
   "source": [
    "# Getting started with Titanic"
   ]
  },
  {
   "cell_type": "code",
   "execution_count": 1,
   "id": "52eda8a7",
   "metadata": {
    "_cell_guid": "b1076dfc-b9ad-4769-8c92-a6c4dae69d19",
    "_uuid": "8f2839f25d086af736a60e9eeb907d3b93b6e0e5",
    "execution": {
     "iopub.execute_input": "2021-10-15T14:32:16.738211Z",
     "iopub.status.busy": "2021-10-15T14:32:16.737193Z",
     "iopub.status.idle": "2021-10-15T14:32:18.222233Z",
     "shell.execute_reply": "2021-10-15T14:32:18.223211Z",
     "shell.execute_reply.started": "2021-10-15T14:23:48.398046Z"
    },
    "papermill": {
     "duration": 1.55383,
     "end_time": "2021-10-15T14:32:18.223616",
     "exception": false,
     "start_time": "2021-10-15T14:32:16.669786",
     "status": "completed"
    },
    "tags": []
   },
   "outputs": [
    {
     "name": "stdout",
     "output_type": "stream",
     "text": [
      "/kaggle/input/titanic/train.csv\n",
      "/kaggle/input/titanic/test.csv\n",
      "/kaggle/input/titanic/gender_submission.csv\n"
     ]
    }
   ],
   "source": [
    "# Librerías necesarias\n",
    "\n",
    "import numpy as np \n",
    "from random import random\n",
    "\n",
    "#Visualization\n",
    "import matplotlib.pyplot as plt\n",
    "import seaborn as sns\n",
    "%matplotlib inline\n",
    "\n",
    "\n",
    "import pandas as pd \n",
    "\n",
    "\n",
    "from sklearn.linear_model import LogisticRegression, Perceptron\n",
    "from sklearn import tree, neighbors, ensemble, svm\n",
    "import xgboost as xgb\n",
    "\n",
    "# Los archivos de datos están disponibles en el directorio \"../input/\"\n",
    "\n",
    "import os\n",
    "for dirname, _, filenames in os.walk('/kaggle/input'):\n",
    "    for filename in filenames:\n",
    "        print(os.path.join(dirname, filename))"
   ]
  },
  {
   "cell_type": "markdown",
   "id": "2df342d0",
   "metadata": {
    "papermill": {
     "duration": 0.050798,
     "end_time": "2021-10-15T14:32:18.328399",
     "exception": false,
     "start_time": "2021-10-15T14:32:18.277601",
     "status": "completed"
    },
    "tags": []
   },
   "source": [
    "Hay tres archivos que existen en este fichero: (1) train.csv, (2) test.csv y (3) gender_submission.csv\n",
    "\n",
    "En esta celda cargamos el archivo train.csv, contiene información de los pasajeros a bordo (891 pasajeros, uno por cada celda en la tabla)\n",
    "\n",
    "Los valores en la columna \"Survived\" determinan si el pasajero sobrevivió o no:\n",
    "\n",
    "si es un \"1\", el pasajero sobrevivió\n",
    "si es un \"0\", el pasajero murió"
   ]
  },
  {
   "cell_type": "code",
   "execution_count": 2,
   "id": "1db925d1",
   "metadata": {
    "execution": {
     "iopub.execute_input": "2021-10-15T14:32:18.435364Z",
     "iopub.status.busy": "2021-10-15T14:32:18.434326Z",
     "iopub.status.idle": "2021-10-15T14:32:18.478158Z",
     "shell.execute_reply": "2021-10-15T14:32:18.478709Z",
     "shell.execute_reply.started": "2021-10-15T14:23:48.733022Z"
    },
    "papermill": {
     "duration": 0.098727,
     "end_time": "2021-10-15T14:32:18.478886",
     "exception": false,
     "start_time": "2021-10-15T14:32:18.380159",
     "status": "completed"
    },
    "tags": []
   },
   "outputs": [
    {
     "data": {
      "text/html": [
       "<div>\n",
       "<style scoped>\n",
       "    .dataframe tbody tr th:only-of-type {\n",
       "        vertical-align: middle;\n",
       "    }\n",
       "\n",
       "    .dataframe tbody tr th {\n",
       "        vertical-align: top;\n",
       "    }\n",
       "\n",
       "    .dataframe thead th {\n",
       "        text-align: right;\n",
       "    }\n",
       "</style>\n",
       "<table border=\"1\" class=\"dataframe\">\n",
       "  <thead>\n",
       "    <tr style=\"text-align: right;\">\n",
       "      <th></th>\n",
       "      <th>PassengerId</th>\n",
       "      <th>Survived</th>\n",
       "      <th>Pclass</th>\n",
       "      <th>Name</th>\n",
       "      <th>Sex</th>\n",
       "      <th>Age</th>\n",
       "      <th>SibSp</th>\n",
       "      <th>Parch</th>\n",
       "      <th>Ticket</th>\n",
       "      <th>Fare</th>\n",
       "      <th>Cabin</th>\n",
       "      <th>Embarked</th>\n",
       "    </tr>\n",
       "  </thead>\n",
       "  <tbody>\n",
       "    <tr>\n",
       "      <th>0</th>\n",
       "      <td>1</td>\n",
       "      <td>0</td>\n",
       "      <td>3</td>\n",
       "      <td>Braund, Mr. Owen Harris</td>\n",
       "      <td>male</td>\n",
       "      <td>22.0</td>\n",
       "      <td>1</td>\n",
       "      <td>0</td>\n",
       "      <td>A/5 21171</td>\n",
       "      <td>7.2500</td>\n",
       "      <td>NaN</td>\n",
       "      <td>S</td>\n",
       "    </tr>\n",
       "    <tr>\n",
       "      <th>1</th>\n",
       "      <td>2</td>\n",
       "      <td>1</td>\n",
       "      <td>1</td>\n",
       "      <td>Cumings, Mrs. John Bradley (Florence Briggs Th...</td>\n",
       "      <td>female</td>\n",
       "      <td>38.0</td>\n",
       "      <td>1</td>\n",
       "      <td>0</td>\n",
       "      <td>PC 17599</td>\n",
       "      <td>71.2833</td>\n",
       "      <td>C85</td>\n",
       "      <td>C</td>\n",
       "    </tr>\n",
       "    <tr>\n",
       "      <th>2</th>\n",
       "      <td>3</td>\n",
       "      <td>1</td>\n",
       "      <td>3</td>\n",
       "      <td>Heikkinen, Miss. Laina</td>\n",
       "      <td>female</td>\n",
       "      <td>26.0</td>\n",
       "      <td>0</td>\n",
       "      <td>0</td>\n",
       "      <td>STON/O2. 3101282</td>\n",
       "      <td>7.9250</td>\n",
       "      <td>NaN</td>\n",
       "      <td>S</td>\n",
       "    </tr>\n",
       "    <tr>\n",
       "      <th>3</th>\n",
       "      <td>4</td>\n",
       "      <td>1</td>\n",
       "      <td>1</td>\n",
       "      <td>Futrelle, Mrs. Jacques Heath (Lily May Peel)</td>\n",
       "      <td>female</td>\n",
       "      <td>35.0</td>\n",
       "      <td>1</td>\n",
       "      <td>0</td>\n",
       "      <td>113803</td>\n",
       "      <td>53.1000</td>\n",
       "      <td>C123</td>\n",
       "      <td>S</td>\n",
       "    </tr>\n",
       "    <tr>\n",
       "      <th>4</th>\n",
       "      <td>5</td>\n",
       "      <td>0</td>\n",
       "      <td>3</td>\n",
       "      <td>Allen, Mr. William Henry</td>\n",
       "      <td>male</td>\n",
       "      <td>35.0</td>\n",
       "      <td>0</td>\n",
       "      <td>0</td>\n",
       "      <td>373450</td>\n",
       "      <td>8.0500</td>\n",
       "      <td>NaN</td>\n",
       "      <td>S</td>\n",
       "    </tr>\n",
       "  </tbody>\n",
       "</table>\n",
       "</div>"
      ],
      "text/plain": [
       "   PassengerId  Survived  Pclass  \\\n",
       "0            1         0       3   \n",
       "1            2         1       1   \n",
       "2            3         1       3   \n",
       "3            4         1       1   \n",
       "4            5         0       3   \n",
       "\n",
       "                                                Name     Sex   Age  SibSp  \\\n",
       "0                            Braund, Mr. Owen Harris    male  22.0      1   \n",
       "1  Cumings, Mrs. John Bradley (Florence Briggs Th...  female  38.0      1   \n",
       "2                             Heikkinen, Miss. Laina  female  26.0      0   \n",
       "3       Futrelle, Mrs. Jacques Heath (Lily May Peel)  female  35.0      1   \n",
       "4                           Allen, Mr. William Henry    male  35.0      0   \n",
       "\n",
       "   Parch            Ticket     Fare Cabin Embarked  \n",
       "0      0         A/5 21171   7.2500   NaN        S  \n",
       "1      0          PC 17599  71.2833   C85        C  \n",
       "2      0  STON/O2. 3101282   7.9250   NaN        S  \n",
       "3      0            113803  53.1000  C123        S  \n",
       "4      0            373450   8.0500   NaN        S  "
      ]
     },
     "execution_count": 2,
     "metadata": {},
     "output_type": "execute_result"
    }
   ],
   "source": [
    "train = pd.read_csv(\"/kaggle/input/titanic/train.csv\")\n",
    "train.head()"
   ]
  },
  {
   "cell_type": "markdown",
   "id": "4fed29fb",
   "metadata": {
    "papermill": {
     "duration": 0.055448,
     "end_time": "2021-10-15T14:32:18.585935",
     "exception": false,
     "start_time": "2021-10-15T14:32:18.530487",
     "status": "completed"
    },
    "tags": []
   },
   "source": [
    "Vamos a mirar cuáles son las características de nuestros datos :\n",
    "\n",
    "Pclass : 1st = Upper Class 2nd = Middle Class 3rd = Lower Class\n",
    "\n",
    "sibsp : The # of siblings / spouses aboard the Titanic\n",
    "\n",
    " Sibling = brother, sister, stepbrother, stepsister \n",
    " Spouse = husband, wife \n",
    "parch : The # of parents / children aboard the Titanic Parent = mother, father Child = daughter, son, stepdaughter, stepson\n",
    "\n",
    "Ticket : Ticket number\n",
    "\n",
    "Fare : Passenger fare\n",
    "\n",
    "Cabin : Cabin number embarked\n",
    "\n",
    "Port of Embarkation: C = Cherbourg, Q = Queenstown, S = Southampton\n",
    "\n",
    "Adeamás tenemos las características Name, Sex y Age."
   ]
  },
  {
   "cell_type": "markdown",
   "id": "f28d6052",
   "metadata": {
    "papermill": {
     "duration": 0.051283,
     "end_time": "2021-10-15T14:32:18.753534",
     "exception": false,
     "start_time": "2021-10-15T14:32:18.702251",
     "status": "completed"
    },
    "tags": []
   },
   "source": [
    "En esta celda cargamos el archivo test.csv, contiene información pasajeros a bordo (418 pasajeros). A partir de los patrones de train.csv, se va predecir si el pasajero sobrevivió o no."
   ]
  },
  {
   "cell_type": "code",
   "execution_count": 3,
   "id": "e490022e",
   "metadata": {
    "execution": {
     "iopub.execute_input": "2021-10-15T14:32:18.862168Z",
     "iopub.status.busy": "2021-10-15T14:32:18.861365Z",
     "iopub.status.idle": "2021-10-15T14:32:18.882392Z",
     "shell.execute_reply": "2021-10-15T14:32:18.881796Z",
     "shell.execute_reply.started": "2021-10-15T14:23:48.759090Z"
    },
    "papermill": {
     "duration": 0.077377,
     "end_time": "2021-10-15T14:32:18.882545",
     "exception": false,
     "start_time": "2021-10-15T14:32:18.805168",
     "status": "completed"
    },
    "tags": []
   },
   "outputs": [],
   "source": [
    "test = pd.read_csv(\"/kaggle/input/titanic/test.csv\")\n",
    "test.head()\n",
    "\n",
    "female = pd.read_csv(\"/kaggle/input/titanic/gender_submission.csv\")"
   ]
  },
  {
   "cell_type": "markdown",
   "id": "acd48aa9",
   "metadata": {
    "papermill": {
     "duration": 0.052024,
     "end_time": "2021-10-15T14:32:18.988166",
     "exception": false,
     "start_time": "2021-10-15T14:32:18.936142",
     "status": "completed"
    },
    "tags": []
   },
   "source": [
    "El método describe() devuelve información estadística de los datos del dataframe"
   ]
  },
  {
   "cell_type": "code",
   "execution_count": 4,
   "id": "05a7fe58",
   "metadata": {
    "execution": {
     "iopub.execute_input": "2021-10-15T14:32:19.112381Z",
     "iopub.status.busy": "2021-10-15T14:32:19.111578Z",
     "iopub.status.idle": "2021-10-15T14:32:19.142119Z",
     "shell.execute_reply": "2021-10-15T14:32:19.141477Z",
     "shell.execute_reply.started": "2021-10-15T14:23:49.076143Z"
    },
    "papermill": {
     "duration": 0.101842,
     "end_time": "2021-10-15T14:32:19.142272",
     "exception": false,
     "start_time": "2021-10-15T14:32:19.040430",
     "status": "completed"
    },
    "tags": []
   },
   "outputs": [
    {
     "data": {
      "text/html": [
       "<div>\n",
       "<style scoped>\n",
       "    .dataframe tbody tr th:only-of-type {\n",
       "        vertical-align: middle;\n",
       "    }\n",
       "\n",
       "    .dataframe tbody tr th {\n",
       "        vertical-align: top;\n",
       "    }\n",
       "\n",
       "    .dataframe thead th {\n",
       "        text-align: right;\n",
       "    }\n",
       "</style>\n",
       "<table border=\"1\" class=\"dataframe\">\n",
       "  <thead>\n",
       "    <tr style=\"text-align: right;\">\n",
       "      <th></th>\n",
       "      <th>PassengerId</th>\n",
       "      <th>Survived</th>\n",
       "      <th>Pclass</th>\n",
       "      <th>Age</th>\n",
       "      <th>SibSp</th>\n",
       "      <th>Parch</th>\n",
       "      <th>Fare</th>\n",
       "    </tr>\n",
       "  </thead>\n",
       "  <tbody>\n",
       "    <tr>\n",
       "      <th>count</th>\n",
       "      <td>891.000000</td>\n",
       "      <td>891.000000</td>\n",
       "      <td>891.000000</td>\n",
       "      <td>714.000000</td>\n",
       "      <td>891.000000</td>\n",
       "      <td>891.000000</td>\n",
       "      <td>891.000000</td>\n",
       "    </tr>\n",
       "    <tr>\n",
       "      <th>mean</th>\n",
       "      <td>446.000000</td>\n",
       "      <td>0.383838</td>\n",
       "      <td>2.308642</td>\n",
       "      <td>29.699118</td>\n",
       "      <td>0.523008</td>\n",
       "      <td>0.381594</td>\n",
       "      <td>32.204208</td>\n",
       "    </tr>\n",
       "    <tr>\n",
       "      <th>std</th>\n",
       "      <td>257.353842</td>\n",
       "      <td>0.486592</td>\n",
       "      <td>0.836071</td>\n",
       "      <td>14.526497</td>\n",
       "      <td>1.102743</td>\n",
       "      <td>0.806057</td>\n",
       "      <td>49.693429</td>\n",
       "    </tr>\n",
       "    <tr>\n",
       "      <th>min</th>\n",
       "      <td>1.000000</td>\n",
       "      <td>0.000000</td>\n",
       "      <td>1.000000</td>\n",
       "      <td>0.420000</td>\n",
       "      <td>0.000000</td>\n",
       "      <td>0.000000</td>\n",
       "      <td>0.000000</td>\n",
       "    </tr>\n",
       "    <tr>\n",
       "      <th>25%</th>\n",
       "      <td>223.500000</td>\n",
       "      <td>0.000000</td>\n",
       "      <td>2.000000</td>\n",
       "      <td>20.125000</td>\n",
       "      <td>0.000000</td>\n",
       "      <td>0.000000</td>\n",
       "      <td>7.910400</td>\n",
       "    </tr>\n",
       "    <tr>\n",
       "      <th>50%</th>\n",
       "      <td>446.000000</td>\n",
       "      <td>0.000000</td>\n",
       "      <td>3.000000</td>\n",
       "      <td>28.000000</td>\n",
       "      <td>0.000000</td>\n",
       "      <td>0.000000</td>\n",
       "      <td>14.454200</td>\n",
       "    </tr>\n",
       "    <tr>\n",
       "      <th>75%</th>\n",
       "      <td>668.500000</td>\n",
       "      <td>1.000000</td>\n",
       "      <td>3.000000</td>\n",
       "      <td>38.000000</td>\n",
       "      <td>1.000000</td>\n",
       "      <td>0.000000</td>\n",
       "      <td>31.000000</td>\n",
       "    </tr>\n",
       "    <tr>\n",
       "      <th>max</th>\n",
       "      <td>891.000000</td>\n",
       "      <td>1.000000</td>\n",
       "      <td>3.000000</td>\n",
       "      <td>80.000000</td>\n",
       "      <td>8.000000</td>\n",
       "      <td>6.000000</td>\n",
       "      <td>512.329200</td>\n",
       "    </tr>\n",
       "  </tbody>\n",
       "</table>\n",
       "</div>"
      ],
      "text/plain": [
       "       PassengerId    Survived      Pclass         Age       SibSp  \\\n",
       "count   891.000000  891.000000  891.000000  714.000000  891.000000   \n",
       "mean    446.000000    0.383838    2.308642   29.699118    0.523008   \n",
       "std     257.353842    0.486592    0.836071   14.526497    1.102743   \n",
       "min       1.000000    0.000000    1.000000    0.420000    0.000000   \n",
       "25%     223.500000    0.000000    2.000000   20.125000    0.000000   \n",
       "50%     446.000000    0.000000    3.000000   28.000000    0.000000   \n",
       "75%     668.500000    1.000000    3.000000   38.000000    1.000000   \n",
       "max     891.000000    1.000000    3.000000   80.000000    8.000000   \n",
       "\n",
       "            Parch        Fare  \n",
       "count  891.000000  891.000000  \n",
       "mean     0.381594   32.204208  \n",
       "std      0.806057   49.693429  \n",
       "min      0.000000    0.000000  \n",
       "25%      0.000000    7.910400  \n",
       "50%      0.000000   14.454200  \n",
       "75%      0.000000   31.000000  \n",
       "max      6.000000  512.329200  "
      ]
     },
     "execution_count": 4,
     "metadata": {},
     "output_type": "execute_result"
    }
   ],
   "source": [
    "train.describe()"
   ]
  },
  {
   "cell_type": "markdown",
   "id": "1de6a9a8",
   "metadata": {
    "papermill": {
     "duration": 0.05382,
     "end_time": "2021-10-15T14:32:19.249305",
     "exception": false,
     "start_time": "2021-10-15T14:32:19.195485",
     "status": "completed"
    },
    "tags": []
   },
   "source": [
    "Primero vamos a realizar un análisis de los datos (Exploratory Data Analysis o EDA).\n",
    "\n",
    "Para comenzar a controlar el total de los valores nulos de las celdas."
   ]
  },
  {
   "cell_type": "code",
   "execution_count": 5,
   "id": "c6186624",
   "metadata": {
    "execution": {
     "iopub.execute_input": "2021-10-15T14:32:19.364154Z",
     "iopub.status.busy": "2021-10-15T14:32:19.363265Z",
     "iopub.status.idle": "2021-10-15T14:32:19.366726Z",
     "shell.execute_reply": "2021-10-15T14:32:19.367234Z",
     "shell.execute_reply.started": "2021-10-15T14:23:49.108814Z"
    },
    "papermill": {
     "duration": 0.065288,
     "end_time": "2021-10-15T14:32:19.367407",
     "exception": false,
     "start_time": "2021-10-15T14:32:19.302119",
     "status": "completed"
    },
    "tags": []
   },
   "outputs": [
    {
     "data": {
      "text/plain": [
       "PassengerId      0\n",
       "Survived         0\n",
       "Pclass           0\n",
       "Name             0\n",
       "Sex              0\n",
       "Age            177\n",
       "SibSp            0\n",
       "Parch            0\n",
       "Ticket           0\n",
       "Fare             0\n",
       "Cabin          687\n",
       "Embarked         2\n",
       "dtype: int64"
      ]
     },
     "execution_count": 5,
     "metadata": {},
     "output_type": "execute_result"
    }
   ],
   "source": [
    "train.isnull().sum()"
   ]
  },
  {
   "cell_type": "markdown",
   "id": "94dac3b1",
   "metadata": {
    "papermill": {
     "duration": 0.052337,
     "end_time": "2021-10-15T14:32:19.472188",
     "exception": false,
     "start_time": "2021-10-15T14:32:19.419851",
     "status": "completed"
    },
    "tags": []
   },
   "source": [
    "El método map() crea un nuevo array con los resultados de la llamada a la función indicada aplicados a cada uno de sus elementos."
   ]
  },
  {
   "cell_type": "code",
   "execution_count": 6,
   "id": "2d01f6ea",
   "metadata": {
    "execution": {
     "iopub.execute_input": "2021-10-15T14:32:19.591843Z",
     "iopub.status.busy": "2021-10-15T14:32:19.591053Z",
     "iopub.status.idle": "2021-10-15T14:32:19.593262Z",
     "shell.execute_reply": "2021-10-15T14:32:19.592659Z",
     "shell.execute_reply.started": "2021-10-15T14:23:49.122504Z"
    },
    "papermill": {
     "duration": 0.068608,
     "end_time": "2021-10-15T14:32:19.593406",
     "exception": false,
     "start_time": "2021-10-15T14:32:19.524798",
     "status": "completed"
    },
    "tags": []
   },
   "outputs": [],
   "source": [
    "train[\"Sex\"] = train[\"Sex\"].map({\"female\" : 1, \"male\" : 0 })\n",
    "test[\"Sex\"] = test[\"Sex\"].map({\"female\" : 1, \"male\" : 0 })"
   ]
  },
  {
   "cell_type": "markdown",
   "id": "bfc56c41",
   "metadata": {
    "papermill": {
     "duration": 0.053293,
     "end_time": "2021-10-15T14:32:19.700240",
     "exception": false,
     "start_time": "2021-10-15T14:32:19.646947",
     "status": "completed"
    },
    "tags": []
   },
   "source": [
    "La columna Cabina y Ticket podemos pensar que no es demasiado relevante para nuestro modelo. Vamos a borrarlas de nuestro conjunto de entrenamiento y test."
   ]
  },
  {
   "cell_type": "code",
   "execution_count": 7,
   "id": "86bc8935",
   "metadata": {
    "execution": {
     "iopub.execute_input": "2021-10-15T14:32:19.810965Z",
     "iopub.status.busy": "2021-10-15T14:32:19.810295Z",
     "iopub.status.idle": "2021-10-15T14:32:19.817052Z",
     "shell.execute_reply": "2021-10-15T14:32:19.817632Z",
     "shell.execute_reply.started": "2021-10-15T14:23:49.138365Z"
    },
    "papermill": {
     "duration": 0.063146,
     "end_time": "2021-10-15T14:32:19.817826",
     "exception": false,
     "start_time": "2021-10-15T14:32:19.754680",
     "status": "completed"
    },
    "tags": []
   },
   "outputs": [],
   "source": [
    "train.drop([\"Cabin\", \"Ticket\"], axis =1 ,inplace =True)\n",
    "test.drop([\"Cabin\", \"Ticket\"], axis =1 ,inplace =True)"
   ]
  },
  {
   "cell_type": "markdown",
   "id": "0f14652d",
   "metadata": {
    "papermill": {
     "duration": 0.052317,
     "end_time": "2021-10-15T14:32:19.922715",
     "exception": false,
     "start_time": "2021-10-15T14:32:19.870398",
     "status": "completed"
    },
    "tags": []
   },
   "source": [
    "Ahora hay que completar con los datos faltantes. \n",
    "\n",
    "Método que vamos a usar es completar con un valor aleatorio entre la media y la desviación estándar de la edad"
   ]
  },
  {
   "cell_type": "code",
   "execution_count": 8,
   "id": "49e9eb17",
   "metadata": {
    "execution": {
     "iopub.execute_input": "2021-10-15T14:32:20.038273Z",
     "iopub.status.busy": "2021-10-15T14:32:20.037195Z",
     "iopub.status.idle": "2021-10-15T14:32:20.039685Z",
     "shell.execute_reply": "2021-10-15T14:32:20.040176Z",
     "shell.execute_reply.started": "2021-10-15T14:23:49.152627Z"
    },
    "papermill": {
     "duration": 0.065229,
     "end_time": "2021-10-15T14:32:20.040361",
     "exception": false,
     "start_time": "2021-10-15T14:32:19.975132",
     "status": "completed"
    },
    "tags": []
   },
   "outputs": [],
   "source": [
    "mean1, std1 = np.mean(train[\"Age\"]), np.std(train[\"Age\"])\n",
    "mean2, std2 = np.mean(test[\"Age\"]), np.std(test[\"Age\"])\n",
    "\n",
    "#Los vacíos los representamos con 0\n",
    "train[\"Age\"].fillna(0.0, inplace=True)\n",
    "test[\"Age\"].fillna(0.0, inplace=True)"
   ]
  },
  {
   "cell_type": "markdown",
   "id": "d97b99ce",
   "metadata": {
    "papermill": {
     "duration": 0.054082,
     "end_time": "2021-10-15T14:32:20.149154",
     "exception": false,
     "start_time": "2021-10-15T14:32:20.095072",
     "status": "completed"
    },
    "tags": []
   },
   "source": [
    "Realizamos el procedimiento para datos de entrenamiento"
   ]
  },
  {
   "cell_type": "code",
   "execution_count": 9,
   "id": "095566c3",
   "metadata": {
    "execution": {
     "iopub.execute_input": "2021-10-15T14:32:20.264104Z",
     "iopub.status.busy": "2021-10-15T14:32:20.263197Z",
     "iopub.status.idle": "2021-10-15T14:32:20.350369Z",
     "shell.execute_reply": "2021-10-15T14:32:20.349758Z",
     "shell.execute_reply.started": "2021-10-15T14:23:49.162491Z"
    },
    "papermill": {
     "duration": 0.148442,
     "end_time": "2021-10-15T14:32:20.350537",
     "exception": false,
     "start_time": "2021-10-15T14:32:20.202095",
     "status": "completed"
    },
    "tags": []
   },
   "outputs": [
    {
     "name": "stderr",
     "output_type": "stream",
     "text": [
      "/opt/conda/lib/python3.7/site-packages/pandas/core/indexing.py:1732: SettingWithCopyWarning: \n",
      "A value is trying to be set on a copy of a slice from a DataFrame\n",
      "\n",
      "See the caveats in the documentation: https://pandas.pydata.org/pandas-docs/stable/user_guide/indexing.html#returning-a-view-versus-a-copy\n",
      "  self._setitem_single_block(indexer, value, name)\n"
     ]
    }
   ],
   "source": [
    "for i in range(len(train[\"Age\"])):\n",
    "    #Si es un 0, es que estaba vacío\n",
    "    if train[\"Age\"].iloc[i] == 0.0 :\n",
    "        train[\"Age\"].iloc[i] = mean1 + ((-1)**(np.random.choice([0,1])))*std1*random()"
   ]
  },
  {
   "cell_type": "markdown",
   "id": "b85691e3",
   "metadata": {
    "papermill": {
     "duration": 0.05462,
     "end_time": "2021-10-15T14:32:20.458435",
     "exception": false,
     "start_time": "2021-10-15T14:32:20.403815",
     "status": "completed"
    },
    "tags": []
   },
   "source": [
    "Realizamos el mismo procedimiento también para datos de test"
   ]
  },
  {
   "cell_type": "code",
   "execution_count": 10,
   "id": "31cd7eb2",
   "metadata": {
    "execution": {
     "iopub.execute_input": "2021-10-15T14:32:20.577771Z",
     "iopub.status.busy": "2021-10-15T14:32:20.577030Z",
     "iopub.status.idle": "2021-10-15T14:32:20.617622Z",
     "shell.execute_reply": "2021-10-15T14:32:20.616977Z",
     "shell.execute_reply.started": "2021-10-15T14:23:49.269945Z"
    },
    "papermill": {
     "duration": 0.105859,
     "end_time": "2021-10-15T14:32:20.617804",
     "exception": false,
     "start_time": "2021-10-15T14:32:20.511945",
     "status": "completed"
    },
    "tags": []
   },
   "outputs": [],
   "source": [
    "for i in range(len(test[\"Age\"])):\n",
    "    if test[\"Age\"].iloc[i] == 0.0 :\n",
    "        test[\"Age\"].iloc[i] = mean2 + ((-1)**(np.random.choice([0,1])))*std2*random()"
   ]
  },
  {
   "cell_type": "markdown",
   "id": "f2199241",
   "metadata": {
    "papermill": {
     "duration": 0.053772,
     "end_time": "2021-10-15T14:32:20.725551",
     "exception": false,
     "start_time": "2021-10-15T14:32:20.671779",
     "status": "completed"
    },
    "tags": []
   },
   "source": [
    "Vamos a seguir rellenando valores NaN\n",
    "\n",
    "Como podemos ver que la mayoría de personas embarcaron del puerto S, vamos a reemplazar los valores nulos por este puerto."
   ]
  },
  {
   "cell_type": "code",
   "execution_count": 11,
   "id": "4e0592f4",
   "metadata": {
    "execution": {
     "iopub.execute_input": "2021-10-15T14:32:20.841249Z",
     "iopub.status.busy": "2021-10-15T14:32:20.840504Z",
     "iopub.status.idle": "2021-10-15T14:32:20.843670Z",
     "shell.execute_reply": "2021-10-15T14:32:20.843051Z",
     "shell.execute_reply.started": "2021-10-15T14:23:49.330334Z"
    },
    "papermill": {
     "duration": 0.063091,
     "end_time": "2021-10-15T14:32:20.843821",
     "exception": false,
     "start_time": "2021-10-15T14:32:20.780730",
     "status": "completed"
    },
    "tags": []
   },
   "outputs": [],
   "source": [
    "train[\"Embarked\"].fillna(\"S\", inplace =True)"
   ]
  },
  {
   "cell_type": "markdown",
   "id": "fb0c1feb",
   "metadata": {
    "papermill": {
     "duration": 0.053721,
     "end_time": "2021-10-15T14:32:20.951711",
     "exception": false,
     "start_time": "2021-10-15T14:32:20.897990",
     "status": "completed"
    },
    "tags": []
   },
   "source": [
    "Miramos ahora la columna del nombre de los pasajeros"
   ]
  },
  {
   "cell_type": "code",
   "execution_count": 12,
   "id": "df96cb60",
   "metadata": {
    "execution": {
     "iopub.execute_input": "2021-10-15T14:32:21.069509Z",
     "iopub.status.busy": "2021-10-15T14:32:21.068733Z",
     "iopub.status.idle": "2021-10-15T14:32:21.073144Z",
     "shell.execute_reply": "2021-10-15T14:32:21.072580Z",
     "shell.execute_reply.started": "2021-10-15T14:23:49.339648Z"
    },
    "papermill": {
     "duration": 0.065799,
     "end_time": "2021-10-15T14:32:21.073304",
     "exception": false,
     "start_time": "2021-10-15T14:32:21.007505",
     "status": "completed"
    },
    "tags": []
   },
   "outputs": [
    {
     "data": {
      "text/plain": [
       "0                              Braund, Mr. Owen Harris\n",
       "1    Cumings, Mrs. John Bradley (Florence Briggs Th...\n",
       "2                               Heikkinen, Miss. Laina\n",
       "3         Futrelle, Mrs. Jacques Heath (Lily May Peel)\n",
       "4                             Allen, Mr. William Henry\n",
       "Name: Name, dtype: object"
      ]
     },
     "execution_count": 12,
     "metadata": {},
     "output_type": "execute_result"
    }
   ],
   "source": [
    "train[\"Name\"].head()"
   ]
  },
  {
   "cell_type": "markdown",
   "id": "e7acc4fc",
   "metadata": {
    "papermill": {
     "duration": 0.053585,
     "end_time": "2021-10-15T14:32:21.180864",
     "exception": false,
     "start_time": "2021-10-15T14:32:21.127279",
     "status": "completed"
    },
    "tags": []
   },
   "source": [
    "Podemos extraer las Iniciales del Nombre. Se nos puede ocurrir utilizar la columna Name, para utilizar el prefijo Mr or Mrs."
   ]
  },
  {
   "cell_type": "code",
   "execution_count": 13,
   "id": "7fc25145",
   "metadata": {
    "execution": {
     "iopub.execute_input": "2021-10-15T14:32:21.299918Z",
     "iopub.status.busy": "2021-10-15T14:32:21.299202Z",
     "iopub.status.idle": "2021-10-15T14:32:21.301640Z",
     "shell.execute_reply": "2021-10-15T14:32:21.300946Z",
     "shell.execute_reply.started": "2021-10-15T14:23:49.364198Z"
    },
    "papermill": {
     "duration": 0.06656,
     "end_time": "2021-10-15T14:32:21.301810",
     "exception": false,
     "start_time": "2021-10-15T14:32:21.235250",
     "status": "completed"
    },
    "tags": []
   },
   "outputs": [],
   "source": [
    "train['Title'] = train.Name.str.extract(' ([A-Za-z]+)\\.', expand=False)\n",
    "test['Title'] = test.Name.str.extract(' ([A-Za-z]+)\\.', expand=False)"
   ]
  },
  {
   "cell_type": "markdown",
   "id": "791f7d0f",
   "metadata": {
    "papermill": {
     "duration": 0.052795,
     "end_time": "2021-10-15T14:32:21.408327",
     "exception": false,
     "start_time": "2021-10-15T14:32:21.355532",
     "status": "completed"
    },
    "tags": []
   },
   "source": [
    "Contamos el número de prefijos que aparece en cada nombre."
   ]
  },
  {
   "cell_type": "code",
   "execution_count": 14,
   "id": "a4d4d1b6",
   "metadata": {
    "execution": {
     "iopub.execute_input": "2021-10-15T14:32:21.523512Z",
     "iopub.status.busy": "2021-10-15T14:32:21.522679Z",
     "iopub.status.idle": "2021-10-15T14:32:21.526402Z",
     "shell.execute_reply": "2021-10-15T14:32:21.525787Z",
     "shell.execute_reply.started": "2021-10-15T14:23:49.385903Z"
    },
    "papermill": {
     "duration": 0.064812,
     "end_time": "2021-10-15T14:32:21.526560",
     "exception": false,
     "start_time": "2021-10-15T14:32:21.461748",
     "status": "completed"
    },
    "tags": []
   },
   "outputs": [
    {
     "data": {
      "text/plain": [
       "Mr          517\n",
       "Miss        182\n",
       "Mrs         125\n",
       "Master       40\n",
       "Dr            7\n",
       "Rev           6\n",
       "Mlle          2\n",
       "Major         2\n",
       "Col           2\n",
       "Countess      1\n",
       "Capt          1\n",
       "Ms            1\n",
       "Sir           1\n",
       "Lady          1\n",
       "Mme           1\n",
       "Don           1\n",
       "Jonkheer      1\n",
       "Name: Title, dtype: int64"
      ]
     },
     "execution_count": 14,
     "metadata": {},
     "output_type": "execute_result"
    }
   ],
   "source": [
    "train[\"Title\"].value_counts()"
   ]
  },
  {
   "cell_type": "markdown",
   "id": "51cdfeae",
   "metadata": {
    "papermill": {
     "duration": 0.056137,
     "end_time": "2021-10-15T14:32:21.639895",
     "exception": false,
     "start_time": "2021-10-15T14:32:21.583758",
     "status": "completed"
    },
    "tags": []
   },
   "source": [
    "Hay ocaciones que Miss puede estar mal escrito con Mlle or Mme. Las reemplazamos por característica Rare."
   ]
  },
  {
   "cell_type": "code",
   "execution_count": 15,
   "id": "346c5569",
   "metadata": {
    "execution": {
     "iopub.execute_input": "2021-10-15T14:32:21.760921Z",
     "iopub.status.busy": "2021-10-15T14:32:21.754341Z",
     "iopub.status.idle": "2021-10-15T14:32:21.764162Z",
     "shell.execute_reply": "2021-10-15T14:32:21.764734Z",
     "shell.execute_reply.started": "2021-10-15T14:23:49.402468Z"
    },
    "papermill": {
     "duration": 0.070467,
     "end_time": "2021-10-15T14:32:21.764925",
     "exception": false,
     "start_time": "2021-10-15T14:32:21.694458",
     "status": "completed"
    },
    "tags": []
   },
   "outputs": [],
   "source": [
    "train[\"Title\"].replace([\"Dr\",\"Rev\",\"Col\",\"Mlle\",\"Major\",\"Sir\",\"Mme\",\"Jonkheer\",\"Lady\",\"Don\",\"Ms\",\"Countess\",\"Capt\"], \"Rare\", inplace =True)\n",
    "test[\"Title\"].replace([\"Dr\",\"Rev\",\"Col\",\"Mlle\",\"Major\",\"Sir\",\"Mme\",\"Jonkheer\",\"Lady\",\"Don\",\"Ms\",\"Countess\",\"Capt\"], \"Rare\", inplace =True)"
   ]
  },
  {
   "cell_type": "markdown",
   "id": "6725b07f",
   "metadata": {
    "papermill": {
     "duration": 0.054916,
     "end_time": "2021-10-15T14:32:21.873952",
     "exception": false,
     "start_time": "2021-10-15T14:32:21.819036",
     "status": "completed"
    },
    "tags": []
   },
   "source": [
    "Observamos los prefijos que aparecen únicos"
   ]
  },
  {
   "cell_type": "code",
   "execution_count": 16,
   "id": "f0e232d5",
   "metadata": {
    "execution": {
     "iopub.execute_input": "2021-10-15T14:32:21.989750Z",
     "iopub.status.busy": "2021-10-15T14:32:21.988730Z",
     "iopub.status.idle": "2021-10-15T14:32:21.992617Z",
     "shell.execute_reply": "2021-10-15T14:32:21.993102Z",
     "shell.execute_reply.started": "2021-10-15T14:23:49.421958Z"
    },
    "papermill": {
     "duration": 0.06512,
     "end_time": "2021-10-15T14:32:21.993281",
     "exception": false,
     "start_time": "2021-10-15T14:32:21.928161",
     "status": "completed"
    },
    "tags": []
   },
   "outputs": [
    {
     "data": {
      "text/plain": [
       "array(['Mr', 'Mrs', 'Miss', 'Master', 'Rare'], dtype=object)"
      ]
     },
     "execution_count": 16,
     "metadata": {},
     "output_type": "execute_result"
    }
   ],
   "source": [
    "train[\"Title\"].unique()"
   ]
  },
  {
   "cell_type": "markdown",
   "id": "8af7e8a8",
   "metadata": {
    "papermill": {
     "duration": 0.054347,
     "end_time": "2021-10-15T14:32:22.102464",
     "exception": false,
     "start_time": "2021-10-15T14:32:22.048117",
     "status": "completed"
    },
    "tags": []
   },
   "source": [
    "Cambiamos de una característica continua a una categórica para mayor compresión de nuestro conjunto de datos"
   ]
  },
  {
   "cell_type": "code",
   "execution_count": 17,
   "id": "859eeacd",
   "metadata": {
    "execution": {
     "iopub.execute_input": "2021-10-15T14:32:22.219390Z",
     "iopub.status.busy": "2021-10-15T14:32:22.218683Z",
     "iopub.status.idle": "2021-10-15T14:32:22.222205Z",
     "shell.execute_reply": "2021-10-15T14:32:22.221423Z",
     "shell.execute_reply.started": "2021-10-15T14:23:49.445670Z"
    },
    "papermill": {
     "duration": 0.066088,
     "end_time": "2021-10-15T14:32:22.222361",
     "exception": false,
     "start_time": "2021-10-15T14:32:22.156273",
     "status": "completed"
    },
    "tags": []
   },
   "outputs": [],
   "source": [
    "train[\"Title\"] = train[\"Title\"].map({\"Mr\": 1, \"Mrs\" : 2 , \"Miss\" : 3, \"Master\" : 4, \"Rare\" : 5})\n",
    "test[\"Title\"] = test[\"Title\"].map({\"Mr\": 1, \"Mrs\" : 2 , \"Miss\" : 3, \"Master\" : 4, \"Rare\" : 5})"
   ]
  },
  {
   "cell_type": "markdown",
   "id": "d96bd3ba",
   "metadata": {
    "papermill": {
     "duration": 0.057057,
     "end_time": "2021-10-15T14:32:22.334631",
     "exception": false,
     "start_time": "2021-10-15T14:32:22.277574",
     "status": "completed"
    },
    "tags": []
   },
   "source": [
    "Vemos los valores de la columna Embarque "
   ]
  },
  {
   "cell_type": "code",
   "execution_count": 18,
   "id": "86df8c0a",
   "metadata": {
    "execution": {
     "iopub.execute_input": "2021-10-15T14:32:22.454284Z",
     "iopub.status.busy": "2021-10-15T14:32:22.453506Z",
     "iopub.status.idle": "2021-10-15T14:32:22.458237Z",
     "shell.execute_reply": "2021-10-15T14:32:22.457700Z",
     "shell.execute_reply.started": "2021-10-15T14:23:49.458678Z"
    },
    "papermill": {
     "duration": 0.065915,
     "end_time": "2021-10-15T14:32:22.458389",
     "exception": false,
     "start_time": "2021-10-15T14:32:22.392474",
     "status": "completed"
    },
    "tags": []
   },
   "outputs": [
    {
     "data": {
      "text/plain": [
       "array(['S', 'C', 'Q'], dtype=object)"
      ]
     },
     "execution_count": 18,
     "metadata": {},
     "output_type": "execute_result"
    }
   ],
   "source": [
    "train[\"Embarked\"].unique()"
   ]
  },
  {
   "cell_type": "markdown",
   "id": "ff7cc491",
   "metadata": {
    "papermill": {
     "duration": 0.055574,
     "end_time": "2021-10-15T14:32:22.568973",
     "exception": false,
     "start_time": "2021-10-15T14:32:22.513399",
     "status": "completed"
    },
    "tags": []
   },
   "source": [
    "También necesitamos cambiar los puertos S, C y Q por los valores continuos 0, 1 y 2"
   ]
  },
  {
   "cell_type": "code",
   "execution_count": 19,
   "id": "b4903578",
   "metadata": {
    "execution": {
     "iopub.execute_input": "2021-10-15T14:32:22.711805Z",
     "iopub.status.busy": "2021-10-15T14:32:22.710896Z",
     "iopub.status.idle": "2021-10-15T14:32:22.714001Z",
     "shell.execute_reply": "2021-10-15T14:32:22.713146Z",
     "shell.execute_reply.started": "2021-10-15T14:23:49.478577Z"
    },
    "papermill": {
     "duration": 0.08715,
     "end_time": "2021-10-15T14:32:22.714161",
     "exception": false,
     "start_time": "2021-10-15T14:32:22.627011",
     "status": "completed"
    },
    "tags": []
   },
   "outputs": [],
   "source": [
    "train[\"Embarked\"] = train[\"Embarked\"].map({\"S\" : 0 , \"C\" : 1 , \"Q\" : 2})\n",
    "test[\"Embarked\"] = test[\"Embarked\"].map({\"S\" : 0 , \"C\" : 1 , \"Q\" : 2})"
   ]
  },
  {
   "cell_type": "markdown",
   "id": "839d9245",
   "metadata": {
    "papermill": {
     "duration": 0.059437,
     "end_time": "2021-10-15T14:32:22.839500",
     "exception": false,
     "start_time": "2021-10-15T14:32:22.780063",
     "status": "completed"
    },
    "tags": []
   },
   "source": [
    "Observamos los cambios que hemos hecho en el conjunto de datos"
   ]
  },
  {
   "cell_type": "code",
   "execution_count": 20,
   "id": "a90075c8",
   "metadata": {
    "execution": {
     "iopub.execute_input": "2021-10-15T14:32:22.971567Z",
     "iopub.status.busy": "2021-10-15T14:32:22.970535Z",
     "iopub.status.idle": "2021-10-15T14:32:22.976524Z",
     "shell.execute_reply": "2021-10-15T14:32:22.977070Z",
     "shell.execute_reply.started": "2021-10-15T14:23:49.596197Z"
    },
    "papermill": {
     "duration": 0.080206,
     "end_time": "2021-10-15T14:32:22.977257",
     "exception": false,
     "start_time": "2021-10-15T14:32:22.897051",
     "status": "completed"
    },
    "tags": []
   },
   "outputs": [
    {
     "data": {
      "text/html": [
       "<div>\n",
       "<style scoped>\n",
       "    .dataframe tbody tr th:only-of-type {\n",
       "        vertical-align: middle;\n",
       "    }\n",
       "\n",
       "    .dataframe tbody tr th {\n",
       "        vertical-align: top;\n",
       "    }\n",
       "\n",
       "    .dataframe thead th {\n",
       "        text-align: right;\n",
       "    }\n",
       "</style>\n",
       "<table border=\"1\" class=\"dataframe\">\n",
       "  <thead>\n",
       "    <tr style=\"text-align: right;\">\n",
       "      <th></th>\n",
       "      <th>PassengerId</th>\n",
       "      <th>Survived</th>\n",
       "      <th>Pclass</th>\n",
       "      <th>Name</th>\n",
       "      <th>Sex</th>\n",
       "      <th>Age</th>\n",
       "      <th>SibSp</th>\n",
       "      <th>Parch</th>\n",
       "      <th>Fare</th>\n",
       "      <th>Embarked</th>\n",
       "      <th>Title</th>\n",
       "    </tr>\n",
       "  </thead>\n",
       "  <tbody>\n",
       "    <tr>\n",
       "      <th>0</th>\n",
       "      <td>1</td>\n",
       "      <td>0</td>\n",
       "      <td>3</td>\n",
       "      <td>Braund, Mr. Owen Harris</td>\n",
       "      <td>0</td>\n",
       "      <td>22.0</td>\n",
       "      <td>1</td>\n",
       "      <td>0</td>\n",
       "      <td>7.2500</td>\n",
       "      <td>0</td>\n",
       "      <td>1</td>\n",
       "    </tr>\n",
       "    <tr>\n",
       "      <th>1</th>\n",
       "      <td>2</td>\n",
       "      <td>1</td>\n",
       "      <td>1</td>\n",
       "      <td>Cumings, Mrs. John Bradley (Florence Briggs Th...</td>\n",
       "      <td>1</td>\n",
       "      <td>38.0</td>\n",
       "      <td>1</td>\n",
       "      <td>0</td>\n",
       "      <td>71.2833</td>\n",
       "      <td>1</td>\n",
       "      <td>2</td>\n",
       "    </tr>\n",
       "    <tr>\n",
       "      <th>2</th>\n",
       "      <td>3</td>\n",
       "      <td>1</td>\n",
       "      <td>3</td>\n",
       "      <td>Heikkinen, Miss. Laina</td>\n",
       "      <td>1</td>\n",
       "      <td>26.0</td>\n",
       "      <td>0</td>\n",
       "      <td>0</td>\n",
       "      <td>7.9250</td>\n",
       "      <td>0</td>\n",
       "      <td>3</td>\n",
       "    </tr>\n",
       "    <tr>\n",
       "      <th>3</th>\n",
       "      <td>4</td>\n",
       "      <td>1</td>\n",
       "      <td>1</td>\n",
       "      <td>Futrelle, Mrs. Jacques Heath (Lily May Peel)</td>\n",
       "      <td>1</td>\n",
       "      <td>35.0</td>\n",
       "      <td>1</td>\n",
       "      <td>0</td>\n",
       "      <td>53.1000</td>\n",
       "      <td>0</td>\n",
       "      <td>2</td>\n",
       "    </tr>\n",
       "    <tr>\n",
       "      <th>4</th>\n",
       "      <td>5</td>\n",
       "      <td>0</td>\n",
       "      <td>3</td>\n",
       "      <td>Allen, Mr. William Henry</td>\n",
       "      <td>0</td>\n",
       "      <td>35.0</td>\n",
       "      <td>0</td>\n",
       "      <td>0</td>\n",
       "      <td>8.0500</td>\n",
       "      <td>0</td>\n",
       "      <td>1</td>\n",
       "    </tr>\n",
       "  </tbody>\n",
       "</table>\n",
       "</div>"
      ],
      "text/plain": [
       "   PassengerId  Survived  Pclass  \\\n",
       "0            1         0       3   \n",
       "1            2         1       1   \n",
       "2            3         1       3   \n",
       "3            4         1       1   \n",
       "4            5         0       3   \n",
       "\n",
       "                                                Name  Sex   Age  SibSp  Parch  \\\n",
       "0                            Braund, Mr. Owen Harris    0  22.0      1      0   \n",
       "1  Cumings, Mrs. John Bradley (Florence Briggs Th...    1  38.0      1      0   \n",
       "2                             Heikkinen, Miss. Laina    1  26.0      0      0   \n",
       "3       Futrelle, Mrs. Jacques Heath (Lily May Peel)    1  35.0      1      0   \n",
       "4                           Allen, Mr. William Henry    0  35.0      0      0   \n",
       "\n",
       "      Fare  Embarked  Title  \n",
       "0   7.2500         0      1  \n",
       "1  71.2833         1      2  \n",
       "2   7.9250         0      3  \n",
       "3  53.1000         0      2  \n",
       "4   8.0500         0      1  "
      ]
     },
     "execution_count": 20,
     "metadata": {},
     "output_type": "execute_result"
    }
   ],
   "source": [
    "train.head()"
   ]
  },
  {
   "cell_type": "markdown",
   "id": "6c9db444",
   "metadata": {
    "papermill": {
     "duration": 0.05689,
     "end_time": "2021-10-15T14:32:23.108448",
     "exception": false,
     "start_time": "2021-10-15T14:32:23.051558",
     "status": "completed"
    },
    "tags": []
   },
   "source": [
    "Podemos pensar que la columna Name no sea demasiado interesante. La quitamos"
   ]
  },
  {
   "cell_type": "code",
   "execution_count": 21,
   "id": "99804436",
   "metadata": {
    "execution": {
     "iopub.execute_input": "2021-10-15T14:32:23.225821Z",
     "iopub.status.busy": "2021-10-15T14:32:23.224556Z",
     "iopub.status.idle": "2021-10-15T14:32:23.230343Z",
     "shell.execute_reply": "2021-10-15T14:32:23.229381Z",
     "shell.execute_reply.started": "2021-10-15T14:23:49.613896Z"
    },
    "papermill": {
     "duration": 0.066907,
     "end_time": "2021-10-15T14:32:23.230539",
     "exception": false,
     "start_time": "2021-10-15T14:32:23.163632",
     "status": "completed"
    },
    "tags": []
   },
   "outputs": [],
   "source": [
    "train.drop([\"Name\"], inplace =True , axis = 1)\n",
    "test.drop([\"Name\"], inplace =True , axis = 1)"
   ]
  },
  {
   "cell_type": "code",
   "execution_count": 22,
   "id": "9b13e912",
   "metadata": {
    "execution": {
     "iopub.execute_input": "2021-10-15T14:32:23.361385Z",
     "iopub.status.busy": "2021-10-15T14:32:23.360552Z",
     "iopub.status.idle": "2021-10-15T14:32:23.363948Z",
     "shell.execute_reply": "2021-10-15T14:32:23.364448Z",
     "shell.execute_reply.started": "2021-10-15T14:23:50.304247Z"
    },
    "papermill": {
     "duration": 0.071673,
     "end_time": "2021-10-15T14:32:23.364616",
     "exception": false,
     "start_time": "2021-10-15T14:32:23.292943",
     "status": "completed"
    },
    "tags": []
   },
   "outputs": [
    {
     "data": {
      "text/html": [
       "<div>\n",
       "<style scoped>\n",
       "    .dataframe tbody tr th:only-of-type {\n",
       "        vertical-align: middle;\n",
       "    }\n",
       "\n",
       "    .dataframe tbody tr th {\n",
       "        vertical-align: top;\n",
       "    }\n",
       "\n",
       "    .dataframe thead th {\n",
       "        text-align: right;\n",
       "    }\n",
       "</style>\n",
       "<table border=\"1\" class=\"dataframe\">\n",
       "  <thead>\n",
       "    <tr style=\"text-align: right;\">\n",
       "      <th></th>\n",
       "      <th>PassengerId</th>\n",
       "      <th>Survived</th>\n",
       "      <th>Pclass</th>\n",
       "      <th>Sex</th>\n",
       "      <th>Age</th>\n",
       "      <th>SibSp</th>\n",
       "      <th>Parch</th>\n",
       "      <th>Fare</th>\n",
       "      <th>Embarked</th>\n",
       "      <th>Title</th>\n",
       "    </tr>\n",
       "  </thead>\n",
       "  <tbody>\n",
       "    <tr>\n",
       "      <th>0</th>\n",
       "      <td>1</td>\n",
       "      <td>0</td>\n",
       "      <td>3</td>\n",
       "      <td>0</td>\n",
       "      <td>22.0</td>\n",
       "      <td>1</td>\n",
       "      <td>0</td>\n",
       "      <td>7.2500</td>\n",
       "      <td>0</td>\n",
       "      <td>1</td>\n",
       "    </tr>\n",
       "    <tr>\n",
       "      <th>1</th>\n",
       "      <td>2</td>\n",
       "      <td>1</td>\n",
       "      <td>1</td>\n",
       "      <td>1</td>\n",
       "      <td>38.0</td>\n",
       "      <td>1</td>\n",
       "      <td>0</td>\n",
       "      <td>71.2833</td>\n",
       "      <td>1</td>\n",
       "      <td>2</td>\n",
       "    </tr>\n",
       "    <tr>\n",
       "      <th>2</th>\n",
       "      <td>3</td>\n",
       "      <td>1</td>\n",
       "      <td>3</td>\n",
       "      <td>1</td>\n",
       "      <td>26.0</td>\n",
       "      <td>0</td>\n",
       "      <td>0</td>\n",
       "      <td>7.9250</td>\n",
       "      <td>0</td>\n",
       "      <td>3</td>\n",
       "    </tr>\n",
       "    <tr>\n",
       "      <th>3</th>\n",
       "      <td>4</td>\n",
       "      <td>1</td>\n",
       "      <td>1</td>\n",
       "      <td>1</td>\n",
       "      <td>35.0</td>\n",
       "      <td>1</td>\n",
       "      <td>0</td>\n",
       "      <td>53.1000</td>\n",
       "      <td>0</td>\n",
       "      <td>2</td>\n",
       "    </tr>\n",
       "    <tr>\n",
       "      <th>4</th>\n",
       "      <td>5</td>\n",
       "      <td>0</td>\n",
       "      <td>3</td>\n",
       "      <td>0</td>\n",
       "      <td>35.0</td>\n",
       "      <td>0</td>\n",
       "      <td>0</td>\n",
       "      <td>8.0500</td>\n",
       "      <td>0</td>\n",
       "      <td>1</td>\n",
       "    </tr>\n",
       "  </tbody>\n",
       "</table>\n",
       "</div>"
      ],
      "text/plain": [
       "   PassengerId  Survived  Pclass  Sex   Age  SibSp  Parch     Fare  Embarked  \\\n",
       "0            1         0       3    0  22.0      1      0   7.2500         0   \n",
       "1            2         1       1    1  38.0      1      0  71.2833         1   \n",
       "2            3         1       3    1  26.0      0      0   7.9250         0   \n",
       "3            4         1       1    1  35.0      1      0  53.1000         0   \n",
       "4            5         0       3    0  35.0      0      0   8.0500         0   \n",
       "\n",
       "   Title  \n",
       "0      1  \n",
       "1      2  \n",
       "2      3  \n",
       "3      2  \n",
       "4      1  "
      ]
     },
     "execution_count": 22,
     "metadata": {},
     "output_type": "execute_result"
    }
   ],
   "source": [
    "train.head()"
   ]
  },
  {
   "cell_type": "markdown",
   "id": "f973af81",
   "metadata": {
    "papermill": {
     "duration": 0.057006,
     "end_time": "2021-10-15T14:32:23.477124",
     "exception": false,
     "start_time": "2021-10-15T14:32:23.420118",
     "status": "completed"
    },
    "tags": []
   },
   "source": [
    "Realizamos un gráfico sencillo para comprobar la incidencia de la edad en la columna Survived"
   ]
  },
  {
   "cell_type": "code",
   "execution_count": 23,
   "id": "664a1ee5",
   "metadata": {
    "execution": {
     "iopub.execute_input": "2021-10-15T14:32:23.593129Z",
     "iopub.status.busy": "2021-10-15T14:32:23.591738Z",
     "iopub.status.idle": "2021-10-15T14:32:24.148425Z",
     "shell.execute_reply": "2021-10-15T14:32:24.148977Z",
     "shell.execute_reply.started": "2021-10-15T14:23:50.323989Z"
    },
    "papermill": {
     "duration": 0.617211,
     "end_time": "2021-10-15T14:32:24.149182",
     "exception": false,
     "start_time": "2021-10-15T14:32:23.531971",
     "status": "completed"
    },
    "tags": []
   },
   "outputs": [
    {
     "data": {
      "text/plain": [
       "<seaborn.axisgrid.FacetGrid at 0x7f9cf436b6d0>"
      ]
     },
     "execution_count": 23,
     "metadata": {},
     "output_type": "execute_result"
    },
    {
     "data": {
      "image/png": "[encoded data removed]",
      "text/plain": [
       "<Figure size 432x216 with 2 Axes>"
      ]
     },
     "metadata": {
      "needs_background": "light"
     },
     "output_type": "display_data"
    }
   ],
   "source": [
    "g = sns.FacetGrid(train, col='Survived')\n",
    "g.map(plt.hist, 'Age', bins=20)"
   ]
  },
  {
   "cell_type": "markdown",
   "id": "dbb1aa72",
   "metadata": {
    "papermill": {
     "duration": 0.056636,
     "end_time": "2021-10-15T14:32:24.262625",
     "exception": false,
     "start_time": "2021-10-15T14:32:24.205989",
     "status": "completed"
    },
    "tags": []
   },
   "source": [
    "Realizamos el mismo gráfico para la variable Tarifa "
   ]
  },
  {
   "cell_type": "code",
   "execution_count": 24,
   "id": "e9310a69",
   "metadata": {
    "execution": {
     "iopub.execute_input": "2021-10-15T14:32:24.428262Z",
     "iopub.status.busy": "2021-10-15T14:32:24.387759Z",
     "iopub.status.idle": "2021-10-15T14:32:24.924875Z",
     "shell.execute_reply": "2021-10-15T14:32:24.924145Z",
     "shell.execute_reply.started": "2021-10-15T14:23:50.891713Z"
    },
    "papermill": {
     "duration": 0.605863,
     "end_time": "2021-10-15T14:32:24.925025",
     "exception": false,
     "start_time": "2021-10-15T14:32:24.319162",
     "status": "completed"
    },
    "tags": []
   },
   "outputs": [
    {
     "data": {
      "text/plain": [
       "<seaborn.axisgrid.FacetGrid at 0x7f9cec164350>"
      ]
     },
     "execution_count": 24,
     "metadata": {},
     "output_type": "execute_result"
    },
    {
     "data": {
      "image/png": "[encoded data removed]",
      "text/plain": [
       "<Figure size 432x216 with 2 Axes>"
      ]
     },
     "metadata": {
      "needs_background": "light"
     },
     "output_type": "display_data"
    }
   ],
   "source": [
    "g = sns.FacetGrid(train, col='Survived')\n",
    "g.map(plt.hist, 'Fare', bins=20)"
   ]
  },
  {
   "cell_type": "code",
   "execution_count": 25,
   "id": "df4ecfc6",
   "metadata": {
    "execution": {
     "iopub.execute_input": "2021-10-15T14:32:25.057242Z",
     "iopub.status.busy": "2021-10-15T14:32:25.056243Z",
     "iopub.status.idle": "2021-10-15T14:32:25.059857Z",
     "shell.execute_reply": "2021-10-15T14:32:25.060350Z",
     "shell.execute_reply.started": "2021-10-15T14:23:51.493629Z"
    },
    "papermill": {
     "duration": 0.077385,
     "end_time": "2021-10-15T14:32:25.060522",
     "exception": false,
     "start_time": "2021-10-15T14:32:24.983137",
     "status": "completed"
    },
    "tags": []
   },
   "outputs": [
    {
     "data": {
      "text/html": [
       "<div>\n",
       "<style scoped>\n",
       "    .dataframe tbody tr th:only-of-type {\n",
       "        vertical-align: middle;\n",
       "    }\n",
       "\n",
       "    .dataframe tbody tr th {\n",
       "        vertical-align: top;\n",
       "    }\n",
       "\n",
       "    .dataframe thead th {\n",
       "        text-align: right;\n",
       "    }\n",
       "</style>\n",
       "<table border=\"1\" class=\"dataframe\">\n",
       "  <thead>\n",
       "    <tr style=\"text-align: right;\">\n",
       "      <th></th>\n",
       "      <th>PassengerId</th>\n",
       "      <th>Pclass</th>\n",
       "      <th>Sex</th>\n",
       "      <th>Age</th>\n",
       "      <th>SibSp</th>\n",
       "      <th>Parch</th>\n",
       "      <th>Fare</th>\n",
       "      <th>Embarked</th>\n",
       "      <th>Title</th>\n",
       "    </tr>\n",
       "  </thead>\n",
       "  <tbody>\n",
       "    <tr>\n",
       "      <th>0</th>\n",
       "      <td>892</td>\n",
       "      <td>3</td>\n",
       "      <td>0</td>\n",
       "      <td>34.5</td>\n",
       "      <td>0</td>\n",
       "      <td>0</td>\n",
       "      <td>7.8292</td>\n",
       "      <td>2</td>\n",
       "      <td>1.0</td>\n",
       "    </tr>\n",
       "    <tr>\n",
       "      <th>1</th>\n",
       "      <td>893</td>\n",
       "      <td>3</td>\n",
       "      <td>1</td>\n",
       "      <td>47.0</td>\n",
       "      <td>1</td>\n",
       "      <td>0</td>\n",
       "      <td>7.0000</td>\n",
       "      <td>0</td>\n",
       "      <td>2.0</td>\n",
       "    </tr>\n",
       "    <tr>\n",
       "      <th>2</th>\n",
       "      <td>894</td>\n",
       "      <td>2</td>\n",
       "      <td>0</td>\n",
       "      <td>62.0</td>\n",
       "      <td>0</td>\n",
       "      <td>0</td>\n",
       "      <td>9.6875</td>\n",
       "      <td>2</td>\n",
       "      <td>1.0</td>\n",
       "    </tr>\n",
       "    <tr>\n",
       "      <th>3</th>\n",
       "      <td>895</td>\n",
       "      <td>3</td>\n",
       "      <td>0</td>\n",
       "      <td>27.0</td>\n",
       "      <td>0</td>\n",
       "      <td>0</td>\n",
       "      <td>8.6625</td>\n",
       "      <td>0</td>\n",
       "      <td>1.0</td>\n",
       "    </tr>\n",
       "    <tr>\n",
       "      <th>4</th>\n",
       "      <td>896</td>\n",
       "      <td>3</td>\n",
       "      <td>1</td>\n",
       "      <td>22.0</td>\n",
       "      <td>1</td>\n",
       "      <td>1</td>\n",
       "      <td>12.2875</td>\n",
       "      <td>0</td>\n",
       "      <td>2.0</td>\n",
       "    </tr>\n",
       "  </tbody>\n",
       "</table>\n",
       "</div>"
      ],
      "text/plain": [
       "   PassengerId  Pclass  Sex   Age  SibSp  Parch     Fare  Embarked  Title\n",
       "0          892       3    0  34.5      0      0   7.8292         2    1.0\n",
       "1          893       3    1  47.0      1      0   7.0000         0    2.0\n",
       "2          894       2    0  62.0      0      0   9.6875         2    1.0\n",
       "3          895       3    0  27.0      0      0   8.6625         0    1.0\n",
       "4          896       3    1  22.0      1      1  12.2875         0    2.0"
      ]
     },
     "execution_count": 25,
     "metadata": {},
     "output_type": "execute_result"
    }
   ],
   "source": [
    "test.head()"
   ]
  },
  {
   "cell_type": "markdown",
   "id": "2d229fef",
   "metadata": {
    "papermill": {
     "duration": 0.057647,
     "end_time": "2021-10-15T14:32:25.177448",
     "exception": false,
     "start_time": "2021-10-15T14:32:25.119801",
     "status": "completed"
    },
    "tags": []
   },
   "source": [
    "A partir de esta figura y la tabla anterior, podemos decir que es útil una división en 5 clases para la edad y 4 para la tarifa. Ordenamos también las dos variables."
   ]
  },
  {
   "cell_type": "code",
   "execution_count": 26,
   "id": "802ddba1",
   "metadata": {
    "execution": {
     "iopub.execute_input": "2021-10-15T14:32:25.297220Z",
     "iopub.status.busy": "2021-10-15T14:32:25.296191Z",
     "iopub.status.idle": "2021-10-15T14:32:25.330774Z",
     "shell.execute_reply": "2021-10-15T14:32:25.331284Z",
     "shell.execute_reply.started": "2021-10-15T14:23:51.509299Z"
    },
    "papermill": {
     "duration": 0.096078,
     "end_time": "2021-10-15T14:32:25.331479",
     "exception": false,
     "start_time": "2021-10-15T14:32:25.235401",
     "status": "completed"
    },
    "tags": []
   },
   "outputs": [],
   "source": [
    "train['Age_Class'] = pd.cut(train['Age'], 5)\n",
    "train['Fare_Class'] = pd.cut(train[\"Fare\"],4)\n",
    "\n",
    "train[['Age_Class', 'Survived']].groupby(['Age_Class'], as_index=False).mean().sort_values(by='Age_Class', ascending=True)\n",
    "train[['Fare_Class', 'Survived']].groupby(['Fare_Class'], as_index=False).mean().sort_values(by='Fare_Class', ascending=True)\n",
    "\n",
    "test['Age_Class'] = pd.cut(test['Age'], 5)\n",
    "test['Fare_Class'] = pd.cut(test[\"Fare\"],4)"
   ]
  },
  {
   "cell_type": "code",
   "execution_count": 27,
   "id": "fb5e67a9",
   "metadata": {
    "execution": {
     "iopub.execute_input": "2021-10-15T14:32:25.452588Z",
     "iopub.status.busy": "2021-10-15T14:32:25.451593Z",
     "iopub.status.idle": "2021-10-15T14:32:25.470247Z",
     "shell.execute_reply": "2021-10-15T14:32:25.469606Z",
     "shell.execute_reply.started": "2021-10-15T14:23:51.540486Z"
    },
    "papermill": {
     "duration": 0.080565,
     "end_time": "2021-10-15T14:32:25.470410",
     "exception": false,
     "start_time": "2021-10-15T14:32:25.389845",
     "status": "completed"
    },
    "tags": []
   },
   "outputs": [
    {
     "data": {
      "text/html": [
       "<div>\n",
       "<style scoped>\n",
       "    .dataframe tbody tr th:only-of-type {\n",
       "        vertical-align: middle;\n",
       "    }\n",
       "\n",
       "    .dataframe tbody tr th {\n",
       "        vertical-align: top;\n",
       "    }\n",
       "\n",
       "    .dataframe thead th {\n",
       "        text-align: right;\n",
       "    }\n",
       "</style>\n",
       "<table border=\"1\" class=\"dataframe\">\n",
       "  <thead>\n",
       "    <tr style=\"text-align: right;\">\n",
       "      <th></th>\n",
       "      <th>PassengerId</th>\n",
       "      <th>Survived</th>\n",
       "      <th>Pclass</th>\n",
       "      <th>Sex</th>\n",
       "      <th>Age</th>\n",
       "      <th>SibSp</th>\n",
       "      <th>Parch</th>\n",
       "      <th>Fare</th>\n",
       "      <th>Embarked</th>\n",
       "      <th>Title</th>\n",
       "      <th>Age_Class</th>\n",
       "      <th>Fare_Class</th>\n",
       "    </tr>\n",
       "  </thead>\n",
       "  <tbody>\n",
       "    <tr>\n",
       "      <th>0</th>\n",
       "      <td>1</td>\n",
       "      <td>0</td>\n",
       "      <td>3</td>\n",
       "      <td>0</td>\n",
       "      <td>22.0</td>\n",
       "      <td>1</td>\n",
       "      <td>0</td>\n",
       "      <td>7.2500</td>\n",
       "      <td>0</td>\n",
       "      <td>1</td>\n",
       "      <td>(16.336, 32.252]</td>\n",
       "      <td>(-0.512, 128.082]</td>\n",
       "    </tr>\n",
       "    <tr>\n",
       "      <th>1</th>\n",
       "      <td>2</td>\n",
       "      <td>1</td>\n",
       "      <td>1</td>\n",
       "      <td>1</td>\n",
       "      <td>38.0</td>\n",
       "      <td>1</td>\n",
       "      <td>0</td>\n",
       "      <td>71.2833</td>\n",
       "      <td>1</td>\n",
       "      <td>2</td>\n",
       "      <td>(32.252, 48.168]</td>\n",
       "      <td>(-0.512, 128.082]</td>\n",
       "    </tr>\n",
       "    <tr>\n",
       "      <th>2</th>\n",
       "      <td>3</td>\n",
       "      <td>1</td>\n",
       "      <td>3</td>\n",
       "      <td>1</td>\n",
       "      <td>26.0</td>\n",
       "      <td>0</td>\n",
       "      <td>0</td>\n",
       "      <td>7.9250</td>\n",
       "      <td>0</td>\n",
       "      <td>3</td>\n",
       "      <td>(16.336, 32.252]</td>\n",
       "      <td>(-0.512, 128.082]</td>\n",
       "    </tr>\n",
       "    <tr>\n",
       "      <th>3</th>\n",
       "      <td>4</td>\n",
       "      <td>1</td>\n",
       "      <td>1</td>\n",
       "      <td>1</td>\n",
       "      <td>35.0</td>\n",
       "      <td>1</td>\n",
       "      <td>0</td>\n",
       "      <td>53.1000</td>\n",
       "      <td>0</td>\n",
       "      <td>2</td>\n",
       "      <td>(32.252, 48.168]</td>\n",
       "      <td>(-0.512, 128.082]</td>\n",
       "    </tr>\n",
       "    <tr>\n",
       "      <th>4</th>\n",
       "      <td>5</td>\n",
       "      <td>0</td>\n",
       "      <td>3</td>\n",
       "      <td>0</td>\n",
       "      <td>35.0</td>\n",
       "      <td>0</td>\n",
       "      <td>0</td>\n",
       "      <td>8.0500</td>\n",
       "      <td>0</td>\n",
       "      <td>1</td>\n",
       "      <td>(32.252, 48.168]</td>\n",
       "      <td>(-0.512, 128.082]</td>\n",
       "    </tr>\n",
       "  </tbody>\n",
       "</table>\n",
       "</div>"
      ],
      "text/plain": [
       "   PassengerId  Survived  Pclass  Sex   Age  SibSp  Parch     Fare  Embarked  \\\n",
       "0            1         0       3    0  22.0      1      0   7.2500         0   \n",
       "1            2         1       1    1  38.0      1      0  71.2833         1   \n",
       "2            3         1       3    1  26.0      0      0   7.9250         0   \n",
       "3            4         1       1    1  35.0      1      0  53.1000         0   \n",
       "4            5         0       3    0  35.0      0      0   8.0500         0   \n",
       "\n",
       "   Title         Age_Class         Fare_Class  \n",
       "0      1  (16.336, 32.252]  (-0.512, 128.082]  \n",
       "1      2  (32.252, 48.168]  (-0.512, 128.082]  \n",
       "2      3  (16.336, 32.252]  (-0.512, 128.082]  \n",
       "3      2  (32.252, 48.168]  (-0.512, 128.082]  \n",
       "4      1  (32.252, 48.168]  (-0.512, 128.082]  "
      ]
     },
     "execution_count": 27,
     "metadata": {},
     "output_type": "execute_result"
    }
   ],
   "source": [
    "train.head()"
   ]
  },
  {
   "cell_type": "markdown",
   "id": "5d28ad40",
   "metadata": {
    "papermill": {
     "duration": 0.060352,
     "end_time": "2021-10-15T14:32:25.590781",
     "exception": false,
     "start_time": "2021-10-15T14:32:25.530429",
     "status": "completed"
    },
    "tags": []
   },
   "source": [
    "Utilizamos estas dos columnas para generar los rangos"
   ]
  },
  {
   "cell_type": "markdown",
   "id": "d58be8ae",
   "metadata": {
    "papermill": {
     "duration": 0.058136,
     "end_time": "2021-10-15T14:32:25.710272",
     "exception": false,
     "start_time": "2021-10-15T14:32:25.652136",
     "status": "completed"
    },
    "tags": []
   },
   "source": [
    "Como dijimos dividimos la edad en 0-4 variables.\n",
    "\n",
    "Como dijimos dividimos la tarifa en 0-3 variables.\n",
    "\n",
    "Realizamos el procedimiento para ambos conjuntos de datos\n"
   ]
  },
  {
   "cell_type": "code",
   "execution_count": 28,
   "id": "602c80cd",
   "metadata": {
    "execution": {
     "iopub.execute_input": "2021-10-15T14:32:25.848117Z",
     "iopub.status.busy": "2021-10-15T14:32:25.847345Z",
     "iopub.status.idle": "2021-10-15T14:32:25.849792Z",
     "shell.execute_reply": "2021-10-15T14:32:25.850285Z",
     "shell.execute_reply.started": "2021-10-15T14:23:51.564892Z"
    },
    "papermill": {
     "duration": 0.080109,
     "end_time": "2021-10-15T14:32:25.850467",
     "exception": false,
     "start_time": "2021-10-15T14:32:25.770358",
     "status": "completed"
    },
    "tags": []
   },
   "outputs": [],
   "source": [
    "train.loc[train[\"Age\"] <= 16 , \"Age\"] = 0  \n",
    "train.loc[(train[\"Age\"] > 16) & (train[\"Age\"] <= 32), \"Age\"] = 1\n",
    "train.loc[(train[\"Age\"] > 32) & (train[\"Age\"] <= 48), \"Age\"] = 2\n",
    "train.loc[(train[\"Age\"] > 48) & (train[\"Age\"] <= 64), \"Age\"] = 3\n",
    "train.loc[train['Age'] > 64, 'Age'] = 4\n",
    "\n",
    "train.loc[train[\"Fare\"] <= 128.082 , \"Fare\"] = 0  \n",
    "train.loc[(train[\"Fare\"] > 128.082) & (train[\"Fare\"] <= 256.165), \"Fare\"] = 1\n",
    "train.loc[(train[\"Fare\"] > 256.165) & (train[\"Fare\"] <= 384.247), \"Fare\"] = 2\n",
    "train.loc[train[\"Fare\"] > 384.247, \"Fare\"] = 3"
   ]
  },
  {
   "cell_type": "code",
   "execution_count": 29,
   "id": "677e4aae",
   "metadata": {
    "execution": {
     "iopub.execute_input": "2021-10-15T14:32:25.986827Z",
     "iopub.status.busy": "2021-10-15T14:32:25.985944Z",
     "iopub.status.idle": "2021-10-15T14:32:25.989342Z",
     "shell.execute_reply": "2021-10-15T14:32:25.988791Z",
     "shell.execute_reply.started": "2021-10-15T14:23:51.584708Z"
    },
    "papermill": {
     "duration": 0.079382,
     "end_time": "2021-10-15T14:32:25.989503",
     "exception": false,
     "start_time": "2021-10-15T14:32:25.910121",
     "status": "completed"
    },
    "tags": []
   },
   "outputs": [],
   "source": [
    "test.loc[test[\"Age\"] <= 16 , \"Age\"] = 0  \n",
    "test.loc[(test[\"Age\"] > 16) & (test[\"Age\"] <= 32), \"Age\"] = 1\n",
    "test.loc[(test[\"Age\"] > 32) & (test[\"Age\"] <= 48), \"Age\"] = 2\n",
    "test.loc[(test[\"Age\"] > 48) & (test[\"Age\"] <= 64), \"Age\"] = 3\n",
    "test.loc[test['Age'] > 64, 'Age'] = 4\n",
    "\n",
    "test.loc[test[\"Fare\"] <= 128.082 , \"Fare\"] = 0  \n",
    "test.loc[(test[\"Fare\"] > 128.082) & (test[\"Fare\"] <= 256.165), \"Fare\"] = 1\n",
    "test.loc[(test[\"Fare\"] > 256.165) & (test[\"Fare\"] <= 384.247), \"Fare\"] = 2\n",
    "test.loc[test[\"Fare\"] > 384.247, \"Fare\"] = 3"
   ]
  },
  {
   "cell_type": "markdown",
   "id": "c3acd1f1",
   "metadata": {
    "papermill": {
     "duration": 0.060549,
     "end_time": "2021-10-15T14:32:26.110854",
     "exception": false,
     "start_time": "2021-10-15T14:32:26.050305",
     "status": "completed"
    },
    "tags": []
   },
   "source": [
    "Ahora que estamos trabajando solo con valores numéricos, podemos encontrar las correlaciones entre los parámetros para ver si eliminar o agregar otros.\n",
    "\n",
    "Estas dos columnas no las necesitamos"
   ]
  },
  {
   "cell_type": "code",
   "execution_count": 30,
   "id": "aa2b1f6f",
   "metadata": {
    "execution": {
     "iopub.execute_input": "2021-10-15T14:32:26.237905Z",
     "iopub.status.busy": "2021-10-15T14:32:26.237154Z",
     "iopub.status.idle": "2021-10-15T14:32:26.240200Z",
     "shell.execute_reply": "2021-10-15T14:32:26.239326Z",
     "shell.execute_reply.started": "2021-10-15T14:23:51.604022Z"
    },
    "papermill": {
     "duration": 0.069727,
     "end_time": "2021-10-15T14:32:26.240365",
     "exception": false,
     "start_time": "2021-10-15T14:32:26.170638",
     "status": "completed"
    },
    "tags": []
   },
   "outputs": [],
   "source": [
    "train.drop([\"Age_Class\", \"Fare_Class\"], axis = 1 , inplace =True)\n",
    "test.drop([\"Age_Class\", \"Fare_Class\"], axis = 1 , inplace =True)"
   ]
  },
  {
   "cell_type": "markdown",
   "id": "8828403e",
   "metadata": {
    "papermill": {
     "duration": 0.058837,
     "end_time": "2021-10-15T14:32:26.359159",
     "exception": false,
     "start_time": "2021-10-15T14:32:26.300322",
     "status": "completed"
    },
    "tags": []
   },
   "source": [
    "Intentamos encontrar las relaciones entre las variables que mantenemos"
   ]
  },
  {
   "cell_type": "code",
   "execution_count": 31,
   "id": "ae0e007b",
   "metadata": {
    "execution": {
     "iopub.execute_input": "2021-10-15T14:32:26.482893Z",
     "iopub.status.busy": "2021-10-15T14:32:26.482117Z",
     "iopub.status.idle": "2021-10-15T14:32:54.150433Z",
     "shell.execute_reply": "2021-10-15T14:32:54.151005Z",
     "shell.execute_reply.started": "2021-10-15T14:23:51.621095Z"
    },
    "papermill": {
     "duration": 27.733145,
     "end_time": "2021-10-15T14:32:54.151207",
     "exception": false,
     "start_time": "2021-10-15T14:32:26.418062",
     "status": "completed"
    },
    "tags": []
   },
   "outputs": [
    {
     "name": "stderr",
     "output_type": "stream",
     "text": [
      "/opt/conda/lib/python3.7/site-packages/seaborn/axisgrid.py:2076: UserWarning: The `size` parameter has been renamed to `height`; please update your code.\n",
      "  warnings.warn(msg, UserWarning)\n"
     ]
    },
    {
     "data": {
      "text/plain": [
       "<seaborn.axisgrid.PairGrid at 0x7f9cec0232d0>"
      ]
     },
     "execution_count": 31,
     "metadata": {},
     "output_type": "execute_result"
    },
    {
     "data": {
      "image/png": "[encoded data removed]",
      "text/plain": [
       "<Figure size 1347.88x1296 with 90 Axes>"
      ]
     },
     "metadata": {
      "needs_background": "light"
     },
     "output_type": "display_data"
    }
   ],
   "source": [
    "sns.pairplot(train, hue =\"Survived\", size = 2)"
   ]
  },
  {
   "cell_type": "markdown",
   "id": "b8748140",
   "metadata": {
    "papermill": {
     "duration": 0.068436,
     "end_time": "2021-10-15T14:32:54.288834",
     "exception": false,
     "start_time": "2021-10-15T14:32:54.220398",
     "status": "completed"
    },
    "tags": []
   },
   "source": [
    "Por último, vamos a mirar la correlación entre caracterísiticas con nuestro heatmap."
   ]
  },
  {
   "cell_type": "code",
   "execution_count": 32,
   "id": "868e2039",
   "metadata": {
    "execution": {
     "iopub.execute_input": "2021-10-15T14:32:54.431781Z",
     "iopub.status.busy": "2021-10-15T14:32:54.430725Z",
     "iopub.status.idle": "2021-10-15T14:32:55.247041Z",
     "shell.execute_reply": "2021-10-15T14:32:55.247882Z",
     "shell.execute_reply.started": "2021-10-15T14:24:21.765998Z"
    },
    "papermill": {
     "duration": 0.890096,
     "end_time": "2021-10-15T14:32:55.248125",
     "exception": false,
     "start_time": "2021-10-15T14:32:54.358029",
     "status": "completed"
    },
    "tags": []
   },
   "outputs": [
    {
     "data": {
      "image/png": "[encoded data removed]",
      "text/plain": [
       "<Figure size 720x576 with 2 Axes>"
      ]
     },
     "metadata": {
      "needs_background": "light"
     },
     "output_type": "display_data"
    }
   ],
   "source": [
    "corrMatrix = train.corr()\n",
    "sns.heatmap(corrMatrix, annot=True)\n",
    "fig=plt.gcf()\n",
    "fig.set_size_inches(10,8)\n",
    "plt.show()"
   ]
  },
  {
   "cell_type": "markdown",
   "id": "374b2c69",
   "metadata": {
    "papermill": {
     "duration": 0.071374,
     "end_time": "2021-10-15T14:32:55.397236",
     "exception": false,
     "start_time": "2021-10-15T14:32:55.325862",
     "status": "completed"
    },
    "tags": []
   },
   "source": [
    "Existe una gran correlación entre los parámetros (Sexo, Título) y (Parch, SibSp). El sexo es una subparte del título por lo que podemos eliminarlo y podemos reemplazar Parch y SibSp por el tamaño de la familia (FamilySize)"
   ]
  },
  {
   "cell_type": "code",
   "execution_count": 33,
   "id": "6be92bf3",
   "metadata": {
    "execution": {
     "iopub.execute_input": "2021-10-15T14:32:55.547618Z",
     "iopub.status.busy": "2021-10-15T14:32:55.546593Z",
     "iopub.status.idle": "2021-10-15T14:32:55.553030Z",
     "shell.execute_reply": "2021-10-15T14:32:55.553610Z",
     "shell.execute_reply.started": "2021-10-15T14:24:22.594868Z"
    },
    "papermill": {
     "duration": 0.082726,
     "end_time": "2021-10-15T14:32:55.553811",
     "exception": false,
     "start_time": "2021-10-15T14:32:55.471085",
     "status": "completed"
    },
    "tags": []
   },
   "outputs": [],
   "source": [
    "test[\"FamilySize\"] = test[\"Parch\"] + test[\"SibSp\"] + 1\n",
    "train[\"FamilySize\"] = train[\"Parch\"] + train[\"SibSp\"] + 1"
   ]
  },
  {
   "cell_type": "code",
   "execution_count": 34,
   "id": "c4042ae8",
   "metadata": {
    "execution": {
     "iopub.execute_input": "2021-10-15T14:32:55.700471Z",
     "iopub.status.busy": "2021-10-15T14:32:55.699786Z",
     "iopub.status.idle": "2021-10-15T14:32:55.706680Z",
     "shell.execute_reply": "2021-10-15T14:32:55.707254Z",
     "shell.execute_reply.started": "2021-10-15T14:24:22.604154Z"
    },
    "papermill": {
     "duration": 0.082175,
     "end_time": "2021-10-15T14:32:55.707435",
     "exception": false,
     "start_time": "2021-10-15T14:32:55.625260",
     "status": "completed"
    },
    "tags": []
   },
   "outputs": [],
   "source": [
    "pass_test = test[\"PassengerId\"]\n",
    "test.drop([\"PassengerId\", \"Title\", \"Parch\", \"SibSp\",\"Fare\"], axis = 1, inplace =True )\n",
    "train.drop([\"PassengerId\", \"Title\", \"Parch\", \"SibSp\", \"Fare\"], axis = 1, inplace =True )"
   ]
  },
  {
   "cell_type": "markdown",
   "id": "20e3a950",
   "metadata": {
    "papermill": {
     "duration": 0.071462,
     "end_time": "2021-10-15T14:32:55.849914",
     "exception": false,
     "start_time": "2021-10-15T14:32:55.778452",
     "status": "completed"
    },
    "tags": []
   },
   "source": [
    "Esta es la apariencia final de los datos antes de entrenar el modelo"
   ]
  },
  {
   "cell_type": "code",
   "execution_count": 35,
   "id": "2b64a84e",
   "metadata": {
    "execution": {
     "iopub.execute_input": "2021-10-15T14:32:56.008396Z",
     "iopub.status.busy": "2021-10-15T14:32:56.007603Z",
     "iopub.status.idle": "2021-10-15T14:32:56.010521Z",
     "shell.execute_reply": "2021-10-15T14:32:56.011054Z",
     "shell.execute_reply.started": "2021-10-15T14:24:22.617364Z"
    },
    "papermill": {
     "duration": 0.088612,
     "end_time": "2021-10-15T14:32:56.011232",
     "exception": false,
     "start_time": "2021-10-15T14:32:55.922620",
     "status": "completed"
    },
    "tags": []
   },
   "outputs": [
    {
     "data": {
      "text/html": [
       "<div>\n",
       "<style scoped>\n",
       "    .dataframe tbody tr th:only-of-type {\n",
       "        vertical-align: middle;\n",
       "    }\n",
       "\n",
       "    .dataframe tbody tr th {\n",
       "        vertical-align: top;\n",
       "    }\n",
       "\n",
       "    .dataframe thead th {\n",
       "        text-align: right;\n",
       "    }\n",
       "</style>\n",
       "<table border=\"1\" class=\"dataframe\">\n",
       "  <thead>\n",
       "    <tr style=\"text-align: right;\">\n",
       "      <th></th>\n",
       "      <th>Survived</th>\n",
       "      <th>Pclass</th>\n",
       "      <th>Sex</th>\n",
       "      <th>Age</th>\n",
       "      <th>Embarked</th>\n",
       "      <th>FamilySize</th>\n",
       "    </tr>\n",
       "  </thead>\n",
       "  <tbody>\n",
       "    <tr>\n",
       "      <th>0</th>\n",
       "      <td>0</td>\n",
       "      <td>3</td>\n",
       "      <td>0</td>\n",
       "      <td>1.0</td>\n",
       "      <td>0</td>\n",
       "      <td>2</td>\n",
       "    </tr>\n",
       "    <tr>\n",
       "      <th>1</th>\n",
       "      <td>1</td>\n",
       "      <td>1</td>\n",
       "      <td>1</td>\n",
       "      <td>2.0</td>\n",
       "      <td>1</td>\n",
       "      <td>2</td>\n",
       "    </tr>\n",
       "    <tr>\n",
       "      <th>2</th>\n",
       "      <td>1</td>\n",
       "      <td>3</td>\n",
       "      <td>1</td>\n",
       "      <td>1.0</td>\n",
       "      <td>0</td>\n",
       "      <td>1</td>\n",
       "    </tr>\n",
       "    <tr>\n",
       "      <th>3</th>\n",
       "      <td>1</td>\n",
       "      <td>1</td>\n",
       "      <td>1</td>\n",
       "      <td>2.0</td>\n",
       "      <td>0</td>\n",
       "      <td>2</td>\n",
       "    </tr>\n",
       "    <tr>\n",
       "      <th>4</th>\n",
       "      <td>0</td>\n",
       "      <td>3</td>\n",
       "      <td>0</td>\n",
       "      <td>2.0</td>\n",
       "      <td>0</td>\n",
       "      <td>1</td>\n",
       "    </tr>\n",
       "  </tbody>\n",
       "</table>\n",
       "</div>"
      ],
      "text/plain": [
       "   Survived  Pclass  Sex  Age  Embarked  FamilySize\n",
       "0         0       3    0  1.0         0           2\n",
       "1         1       1    1  2.0         1           2\n",
       "2         1       3    1  1.0         0           1\n",
       "3         1       1    1  2.0         0           2\n",
       "4         0       3    0  2.0         0           1"
      ]
     },
     "execution_count": 35,
     "metadata": {},
     "output_type": "execute_result"
    }
   ],
   "source": [
    "train.head()"
   ]
  },
  {
   "cell_type": "markdown",
   "id": "6b3d7b1d",
   "metadata": {
    "papermill": {
     "duration": 0.071597,
     "end_time": "2021-10-15T14:32:56.155274",
     "exception": false,
     "start_time": "2021-10-15T14:32:56.083677",
     "status": "completed"
    },
    "tags": []
   },
   "source": [
    "Estamos comenzando a crear nuestros primeros modelos de Machine Learning para predecir resultados. Nos enfrentamos a un problema de clasificación supervisada, por lo que nos limitamos de entrada a estos modelos:\n",
    "\n",
    "- XGBClassifier \\ Regresión logística\n",
    "- Árbol de decisión\n",
    "- KNeighborsClassifier\n",
    "- Support Vector Machines \n",
    "- Random Forest \n",
    "- Naive Bayes "
   ]
  },
  {
   "cell_type": "code",
   "execution_count": 36,
   "id": "f7f2bbbe",
   "metadata": {
    "execution": {
     "iopub.execute_input": "2021-10-15T14:32:56.309271Z",
     "iopub.status.busy": "2021-10-15T14:32:56.301289Z",
     "iopub.status.idle": "2021-10-15T14:32:56.312439Z",
     "shell.execute_reply": "2021-10-15T14:32:56.311859Z",
     "shell.execute_reply.started": "2021-10-15T14:24:22.637697Z"
    },
    "papermill": {
     "duration": 0.085974,
     "end_time": "2021-10-15T14:32:56.312584",
     "exception": false,
     "start_time": "2021-10-15T14:32:56.226610",
     "status": "completed"
    },
    "tags": []
   },
   "outputs": [],
   "source": [
    "models, scores = [], []\n",
    "\n",
    "gbm =  xgb.XGBClassifier(n_estimators= 2000, objective= 'binary:logistic')\n",
    "\n",
    "lgr = LogisticRegression()\n",
    "\n",
    "dt = tree.DecisionTreeClassifier()\n",
    "\n",
    "knn1 = neighbors.KNeighborsClassifier(n_neighbors = 2)\n",
    "knn2 = neighbors.KNeighborsClassifier(n_neighbors = 4 )\n",
    "knn3 = neighbors.KNeighborsClassifier(n_neighbors = 10)\n",
    "knn4 = neighbors.KNeighborsClassifier(n_neighbors = 20)\n",
    "\n",
    "rf = ensemble.RandomForestClassifier(n_estimators=100, max_depth=5, random_state=1)\n",
    "rf1 = ensemble.RandomForestClassifier(n_estimators=200, max_depth=5, random_state=1)\n",
    "rf2 = ensemble.RandomForestClassifier(n_estimators=40, max_depth=5, random_state=1)\n",
    "rf3 = ensemble.RandomForestClassifier(n_estimators=500, max_depth=5, random_state=1)\n",
    "rf4 = ensemble.RandomForestClassifier(n_estimators=1000, max_depth=5, random_state=1)\n",
    "\n",
    "svc = svm.SVC()\n",
    "\n",
    "models.extend([gbm,lgr,dt,knn1,knn2,knn3,knn4, rf,rf1, rf2, rf3, rf4, svc])"
   ]
  },
  {
   "cell_type": "markdown",
   "id": "22f0b291",
   "metadata": {
    "papermill": {
     "duration": 0.071064,
     "end_time": "2021-10-15T14:32:56.456168",
     "exception": false,
     "start_time": "2021-10-15T14:32:56.385104",
     "status": "completed"
    },
    "tags": []
   },
   "source": [
    "Dividimos con nuestra función train_test_split nuestros datos en entrenamiento y validación"
   ]
  },
  {
   "cell_type": "code",
   "execution_count": 37,
   "id": "c83f8611",
   "metadata": {
    "execution": {
     "iopub.execute_input": "2021-10-15T14:32:56.607418Z",
     "iopub.status.busy": "2021-10-15T14:32:56.606674Z",
     "iopub.status.idle": "2021-10-15T14:32:56.610091Z",
     "shell.execute_reply": "2021-10-15T14:32:56.610570Z",
     "shell.execute_reply.started": "2021-10-15T14:24:22.650351Z"
    },
    "papermill": {
     "duration": 0.083011,
     "end_time": "2021-10-15T14:32:56.610788",
     "exception": false,
     "start_time": "2021-10-15T14:32:56.527777",
     "status": "completed"
    },
    "tags": []
   },
   "outputs": [],
   "source": [
    "from sklearn.model_selection import train_test_split\n",
    "Y_train = train[\"Survived\"]\n",
    "X_train = train.drop([\"Survived\"], axis= 1)\n",
    "x_train, x_val, y_train, y_val = train_test_split(X_train, Y_train, test_size=0.10, random_state = 42)"
   ]
  },
  {
   "cell_type": "markdown",
   "id": "323e4d7b",
   "metadata": {
    "papermill": {
     "duration": 0.071633,
     "end_time": "2021-10-15T14:32:56.756844",
     "exception": false,
     "start_time": "2021-10-15T14:32:56.685211",
     "status": "completed"
    },
    "tags": []
   },
   "source": [
    "Entrenamos todos los modelos y guardamos el score de cada uno de ellos para comprobar \n",
    "cual funciona mejor"
   ]
  },
  {
   "cell_type": "code",
   "execution_count": 38,
   "id": "387de73b",
   "metadata": {
    "execution": {
     "iopub.execute_input": "2021-10-15T14:32:56.905374Z",
     "iopub.status.busy": "2021-10-15T14:32:56.904566Z",
     "iopub.status.idle": "2021-10-15T14:33:02.172012Z",
     "shell.execute_reply": "2021-10-15T14:33:02.172559Z",
     "shell.execute_reply.started": "2021-10-15T14:24:22.672198Z"
    },
    "papermill": {
     "duration": 5.344132,
     "end_time": "2021-10-15T14:33:02.172771",
     "exception": false,
     "start_time": "2021-10-15T14:32:56.828639",
     "status": "completed"
    },
    "tags": []
   },
   "outputs": [
    {
     "name": "stderr",
     "output_type": "stream",
     "text": [
      "/opt/conda/lib/python3.7/site-packages/xgboost/sklearn.py:1146: UserWarning: The use of label encoder in XGBClassifier is deprecated and will be removed in a future release. To remove this warning, do the following: 1) Pass option use_label_encoder=False when constructing XGBClassifier object; and 2) Encode your labels (y) as integers starting with 0, i.e. 0, 1, 2, ..., [num_class - 1].\n",
      "  warnings.warn(label_encoder_deprecation_msg, UserWarning)\n"
     ]
    },
    {
     "name": "stdout",
     "output_type": "stream",
     "text": [
      "[14:32:56] WARNING: ../src/learner.cc:1095: Starting in XGBoost 1.3.0, the default evaluation metric used with the objective 'binary:logistic' was changed from 'error' to 'logloss'. Explicitly set eval_metric if you'd like to restore the old behavior.\n"
     ]
    }
   ],
   "source": [
    "for model in models :\n",
    "    model.fit(x_train, y_train)\n",
    "    score = model.score(x_val, y_val)\n",
    "    scores.append(score)"
   ]
  },
  {
   "cell_type": "markdown",
   "id": "8663dfc2",
   "metadata": {
    "papermill": {
     "duration": 0.07208,
     "end_time": "2021-10-15T14:33:02.318381",
     "exception": false,
     "start_time": "2021-10-15T14:33:02.246301",
     "status": "completed"
    },
    "tags": []
   },
   "source": [
    "Ordenamos los modelos según la clasificación correcta"
   ]
  },
  {
   "cell_type": "code",
   "execution_count": 39,
   "id": "bb7495d9",
   "metadata": {
    "execution": {
     "iopub.execute_input": "2021-10-15T14:33:02.468757Z",
     "iopub.status.busy": "2021-10-15T14:33:02.467606Z",
     "iopub.status.idle": "2021-10-15T14:33:02.774967Z",
     "shell.execute_reply": "2021-10-15T14:33:02.774394Z",
     "shell.execute_reply.started": "2021-10-15T14:24:28.199996Z"
    },
    "papermill": {
     "duration": 0.383889,
     "end_time": "2021-10-15T14:33:02.775110",
     "exception": false,
     "start_time": "2021-10-15T14:33:02.391221",
     "status": "completed"
    },
    "tags": []
   },
   "outputs": [
    {
     "data": {
      "text/html": [
       "<div>\n",
       "<style scoped>\n",
       "    .dataframe tbody tr th:only-of-type {\n",
       "        vertical-align: middle;\n",
       "    }\n",
       "\n",
       "    .dataframe tbody tr th {\n",
       "        vertical-align: top;\n",
       "    }\n",
       "\n",
       "    .dataframe thead th {\n",
       "        text-align: right;\n",
       "    }\n",
       "</style>\n",
       "<table border=\"1\" class=\"dataframe\">\n",
       "  <thead>\n",
       "    <tr style=\"text-align: right;\">\n",
       "      <th></th>\n",
       "      <th>Model</th>\n",
       "      <th>Score</th>\n",
       "    </tr>\n",
       "  </thead>\n",
       "  <tbody>\n",
       "    <tr>\n",
       "      <th>0</th>\n",
       "      <td>XGBClassifier(base_score=0.5, booster='gbtree'...</td>\n",
       "      <td>0.811111</td>\n",
       "    </tr>\n",
       "    <tr>\n",
       "      <th>1</th>\n",
       "      <td>LogisticRegression()</td>\n",
       "      <td>0.844444</td>\n",
       "    </tr>\n",
       "    <tr>\n",
       "      <th>2</th>\n",
       "      <td>DecisionTreeClassifier()</td>\n",
       "      <td>0.822222</td>\n",
       "    </tr>\n",
       "    <tr>\n",
       "      <th>3</th>\n",
       "      <td>KNeighborsClassifier(n_neighbors=2)</td>\n",
       "      <td>0.766667</td>\n",
       "    </tr>\n",
       "    <tr>\n",
       "      <th>4</th>\n",
       "      <td>KNeighborsClassifier(n_neighbors=4)</td>\n",
       "      <td>0.800000</td>\n",
       "    </tr>\n",
       "    <tr>\n",
       "      <th>5</th>\n",
       "      <td>KNeighborsClassifier(n_neighbors=10)</td>\n",
       "      <td>0.822222</td>\n",
       "    </tr>\n",
       "    <tr>\n",
       "      <th>6</th>\n",
       "      <td>KNeighborsClassifier(n_neighbors=20)</td>\n",
       "      <td>0.811111</td>\n",
       "    </tr>\n",
       "    <tr>\n",
       "      <th>7</th>\n",
       "      <td>(DecisionTreeClassifier(max_depth=5, max_featu...</td>\n",
       "      <td>0.833333</td>\n",
       "    </tr>\n",
       "    <tr>\n",
       "      <th>8</th>\n",
       "      <td>(DecisionTreeClassifier(max_depth=5, max_featu...</td>\n",
       "      <td>0.833333</td>\n",
       "    </tr>\n",
       "    <tr>\n",
       "      <th>9</th>\n",
       "      <td>(DecisionTreeClassifier(max_depth=5, max_featu...</td>\n",
       "      <td>0.811111</td>\n",
       "    </tr>\n",
       "    <tr>\n",
       "      <th>10</th>\n",
       "      <td>(DecisionTreeClassifier(max_depth=5, max_featu...</td>\n",
       "      <td>0.822222</td>\n",
       "    </tr>\n",
       "    <tr>\n",
       "      <th>11</th>\n",
       "      <td>(DecisionTreeClassifier(max_depth=5, max_featu...</td>\n",
       "      <td>0.822222</td>\n",
       "    </tr>\n",
       "    <tr>\n",
       "      <th>12</th>\n",
       "      <td>SVC()</td>\n",
       "      <td>0.822222</td>\n",
       "    </tr>\n",
       "  </tbody>\n",
       "</table>\n",
       "</div>"
      ],
      "text/plain": [
       "                                                Model     Score\n",
       "0   XGBClassifier(base_score=0.5, booster='gbtree'...  0.811111\n",
       "1                                LogisticRegression()  0.844444\n",
       "2                            DecisionTreeClassifier()  0.822222\n",
       "3                 KNeighborsClassifier(n_neighbors=2)  0.766667\n",
       "4                 KNeighborsClassifier(n_neighbors=4)  0.800000\n",
       "5                KNeighborsClassifier(n_neighbors=10)  0.822222\n",
       "6                KNeighborsClassifier(n_neighbors=20)  0.811111\n",
       "7   (DecisionTreeClassifier(max_depth=5, max_featu...  0.833333\n",
       "8   (DecisionTreeClassifier(max_depth=5, max_featu...  0.833333\n",
       "9   (DecisionTreeClassifier(max_depth=5, max_featu...  0.811111\n",
       "10  (DecisionTreeClassifier(max_depth=5, max_featu...  0.822222\n",
       "11  (DecisionTreeClassifier(max_depth=5, max_featu...  0.822222\n",
       "12                                              SVC()  0.822222"
      ]
     },
     "execution_count": 39,
     "metadata": {},
     "output_type": "execute_result"
    }
   ],
   "source": [
    "Model = pd.DataFrame({'Model': models, 'Score': scores})\n",
    "Model.sort_values('Score', ascending = False)\n",
    "Model"
   ]
  },
  {
   "cell_type": "markdown",
   "id": "b36c2506",
   "metadata": {
    "papermill": {
     "duration": 0.074852,
     "end_time": "2021-10-15T14:33:02.922537",
     "exception": false,
     "start_time": "2021-10-15T14:33:02.847685",
     "status": "completed"
    },
    "tags": []
   },
   "source": [
    "De acuerdo con estos resultados, podemos elegir el modelo \"XGBClassifier\" para nuestra clasificación, que da de las puntuaciones más altas."
   ]
  },
  {
   "cell_type": "code",
   "execution_count": 40,
   "id": "804720b4",
   "metadata": {
    "execution": {
     "iopub.execute_input": "2021-10-15T14:33:03.076987Z",
     "iopub.status.busy": "2021-10-15T14:33:03.075874Z",
     "iopub.status.idle": "2021-10-15T14:33:06.652907Z",
     "shell.execute_reply": "2021-10-15T14:33:06.653429Z",
     "shell.execute_reply.started": "2021-10-15T14:27:14.034026Z"
    },
    "papermill": {
     "duration": 3.658142,
     "end_time": "2021-10-15T14:33:06.653605",
     "exception": false,
     "start_time": "2021-10-15T14:33:02.995463",
     "status": "completed"
    },
    "tags": []
   },
   "outputs": [
    {
     "name": "stderr",
     "output_type": "stream",
     "text": [
      "/opt/conda/lib/python3.7/site-packages/xgboost/sklearn.py:1146: UserWarning: The use of label encoder in XGBClassifier is deprecated and will be removed in a future release. To remove this warning, do the following: 1) Pass option use_label_encoder=False when constructing XGBClassifier object; and 2) Encode your labels (y) as integers starting with 0, i.e. 0, 1, 2, ..., [num_class - 1].\n",
      "  warnings.warn(label_encoder_deprecation_msg, UserWarning)\n"
     ]
    },
    {
     "name": "stdout",
     "output_type": "stream",
     "text": [
      "[14:33:03] WARNING: ../src/learner.cc:1095: Starting in XGBoost 1.3.0, the default evaluation metric used with the objective 'binary:logistic' was changed from 'error' to 'logloss'. Explicitly set eval_metric if you'd like to restore the old behavior.\n"
     ]
    },
    {
     "data": {
      "text/plain": [
       "<AxesSubplot:>"
      ]
     },
     "execution_count": 40,
     "metadata": {},
     "output_type": "execute_result"
    },
    {
     "data": {
      "image/png": "[encoded data removed]",
      "text/plain": [
       "<Figure size 432x288 with 1 Axes>"
      ]
     },
     "metadata": {
      "needs_background": "light"
     },
     "output_type": "display_data"
    }
   ],
   "source": [
    "from xgboost import plot_tree\n",
    "model_final = models[0]\n",
    "model_final.fit(x_train, y_train)\n",
    "plot_tree(model_final)"
   ]
  },
  {
   "cell_type": "markdown",
   "id": "0f875b89",
   "metadata": {
    "papermill": {
     "duration": 0.075901,
     "end_time": "2021-10-15T14:33:06.804295",
     "exception": false,
     "start_time": "2021-10-15T14:33:06.728394",
     "status": "completed"
    },
    "tags": []
   },
   "source": [
    "Una vez realizado el entrenamiento, le pasamos al modelo nuevos ejemplos que no ha visto para que realice una predicción.\n",
    "\n",
    "Creamos el fichero final para submission.csv"
   ]
  },
  {
   "cell_type": "code",
   "execution_count": 41,
   "id": "0846a9d0",
   "metadata": {
    "execution": {
     "iopub.execute_input": "2021-10-15T14:33:06.964374Z",
     "iopub.status.busy": "2021-10-15T14:33:06.958232Z",
     "iopub.status.idle": "2021-10-15T14:33:07.410666Z",
     "shell.execute_reply": "2021-10-15T14:33:07.411240Z",
     "shell.execute_reply.started": "2021-10-15T14:24:31.739958Z"
    },
    "papermill": {
     "duration": 0.531314,
     "end_time": "2021-10-15T14:33:07.411468",
     "exception": false,
     "start_time": "2021-10-15T14:33:06.880154",
     "status": "completed"
    },
    "tags": []
   },
   "outputs": [],
   "source": [
    "rf1.fit(X_train, Y_train)\n",
    "test_pred = rf1.predict(test)\n",
    "\n",
    "submission = pd.DataFrame({\n",
    "        \"PassengerId\": pass_test,\n",
    "        \"Survived\": test_pred\n",
    "    })\n",
    "submission.to_csv('submission.csv', index=False)"
   ]
  }
 ],
 "metadata": {
  "kernelspec": {
   "display_name": "Python 3",
   "language": "python",
   "name": "python3"
  },
  "language_info": {
   "codemirror_mode": {
    "name": "ipython",
    "version": 3
   },
   "file_extension": ".py",
   "mimetype": "text/x-python",
   "name": "python",
   "nbconvert_exporter": "python",
   "pygments_lexer": "ipython3",
   "version": "3.7.10"
  },
  "papermill": {
   "default_parameters": {},
   "duration": 61.777026,
   "end_time": "2021-10-15T14:33:08.601450",
   "environment_variables": {},
   "exception": null,
   "input_path": "__notebook__.ipynb",
   "output_path": "__notebook__.ipynb",
   "parameters": {},
   "start_time": "2021-10-15T14:32:06.824424",
   "version": "2.3.3"
  }
 },
 "nbformat": 4,
 "nbformat_minor": 5
}
