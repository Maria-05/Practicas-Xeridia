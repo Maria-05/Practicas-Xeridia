{
 "cells": [
  {
   "cell_type": "markdown",
   "id": "93899a79",
   "metadata": {
    "papermill": {
     "duration": 0.082023,
     "end_time": "2021-10-13T14:15:28.808539",
     "exception": false,
     "start_time": "2021-10-13T14:15:28.726516",
     "status": "completed"
    },
    "tags": []
   },
   "source": [
    "# **Getting started with Titanic**"
   ]
  },
  {
   "cell_type": "code",
   "execution_count": 1,
   "id": "37b8e1d9",
   "metadata": {
    "_cell_guid": "b1076dfc-b9ad-4769-8c92-a6c4dae69d19",
    "_uuid": "8f2839f25d086af736a60e9eeb907d3b93b6e0e5",
    "execution": {
     "iopub.execute_input": "2021-10-13T14:15:28.971415Z",
     "iopub.status.busy": "2021-10-13T14:15:28.970222Z",
     "iopub.status.idle": "2021-10-13T14:15:30.040805Z",
     "shell.execute_reply": "2021-10-13T14:15:30.041693Z",
     "shell.execute_reply.started": "2021-10-13T14:08:50.635447Z"
    },
    "papermill": {
     "duration": 1.155191,
     "end_time": "2021-10-13T14:15:30.042361",
     "exception": false,
     "start_time": "2021-10-13T14:15:28.887170",
     "status": "completed"
    },
    "tags": []
   },
   "outputs": [
    {
     "name": "stdout",
     "output_type": "stream",
     "text": [
      "/kaggle/input/titanic/train.csv\n",
      "/kaggle/input/titanic/test.csv\n",
      "/kaggle/input/titanic/gender_submission.csv\n"
     ]
    }
   ],
   "source": [
    "# Librerías necesarias\n",
    "\n",
    "import numpy as np \n",
    "import pandas as pd \n",
    "import matplotlib.pyplot as plt\n",
    "import seaborn as sns\n",
    "plt.style.use('fivethirtyeight')\n",
    "import warnings\n",
    "warnings.filterwarnings('ignore')\n",
    "%matplotlib inline\n",
    "\n",
    "# Los archivos de datos están disponibles en el directorio \"../input/\" \n",
    "\n",
    "import os\n",
    "for dirname, _, filenames in os.walk('/kaggle/input'):\n",
    "    for filename in filenames:\n",
    "        print(os.path.join(dirname, filename))\n"
   ]
  },
  {
   "cell_type": "markdown",
   "id": "586717cd",
   "metadata": {
    "papermill": {
     "duration": 0.078424,
     "end_time": "2021-10-13T14:15:30.202372",
     "exception": false,
     "start_time": "2021-10-13T14:15:30.123948",
     "status": "completed"
    },
    "tags": []
   },
   "source": [
    "Hay tres archivos que existen en este fichero: (1) train.csv, (2) test.csv y (3) gender_submission.csv\n",
    "\n",
    "En esta celda cargamos el archivo train.csv, contiene información de los pasajeros a bordo (891 pasajeros, uno por cada celda en la tabla)\n",
    "\n",
    "Los valores en la columna \"Survived\" determinan si el pasajero sobrevivió o no: \n",
    "- si es un \"1\", el pasajero sobrevivió\n",
    "- si es un \"0\", el pasajero murió\n"
   ]
  },
  {
   "cell_type": "code",
   "execution_count": 2,
   "id": "dcfac731",
   "metadata": {
    "execution": {
     "iopub.execute_input": "2021-10-13T14:15:30.362658Z",
     "iopub.status.busy": "2021-10-13T14:15:30.361979Z",
     "iopub.status.idle": "2021-10-13T14:15:30.410546Z",
     "shell.execute_reply": "2021-10-13T14:15:30.409956Z",
     "shell.execute_reply.started": "2021-10-13T14:08:51.542701Z"
    },
    "papermill": {
     "duration": 0.129967,
     "end_time": "2021-10-13T14:15:30.410687",
     "exception": false,
     "start_time": "2021-10-13T14:15:30.280720",
     "status": "completed"
    },
    "tags": []
   },
   "outputs": [
    {
     "data": {
      "text/html": [
       "<div>\n",
       "<style scoped>\n",
       "    .dataframe tbody tr th:only-of-type {\n",
       "        vertical-align: middle;\n",
       "    }\n",
       "\n",
       "    .dataframe tbody tr th {\n",
       "        vertical-align: top;\n",
       "    }\n",
       "\n",
       "    .dataframe thead th {\n",
       "        text-align: right;\n",
       "    }\n",
       "</style>\n",
       "<table border=\"1\" class=\"dataframe\">\n",
       "  <thead>\n",
       "    <tr style=\"text-align: right;\">\n",
       "      <th></th>\n",
       "      <th>PassengerId</th>\n",
       "      <th>Survived</th>\n",
       "      <th>Pclass</th>\n",
       "      <th>Name</th>\n",
       "      <th>Sex</th>\n",
       "      <th>Age</th>\n",
       "      <th>SibSp</th>\n",
       "      <th>Parch</th>\n",
       "      <th>Ticket</th>\n",
       "      <th>Fare</th>\n",
       "      <th>Cabin</th>\n",
       "      <th>Embarked</th>\n",
       "    </tr>\n",
       "  </thead>\n",
       "  <tbody>\n",
       "    <tr>\n",
       "      <th>0</th>\n",
       "      <td>1</td>\n",
       "      <td>0</td>\n",
       "      <td>3</td>\n",
       "      <td>Braund, Mr. Owen Harris</td>\n",
       "      <td>male</td>\n",
       "      <td>22.0</td>\n",
       "      <td>1</td>\n",
       "      <td>0</td>\n",
       "      <td>A/5 21171</td>\n",
       "      <td>7.2500</td>\n",
       "      <td>NaN</td>\n",
       "      <td>S</td>\n",
       "    </tr>\n",
       "    <tr>\n",
       "      <th>1</th>\n",
       "      <td>2</td>\n",
       "      <td>1</td>\n",
       "      <td>1</td>\n",
       "      <td>Cumings, Mrs. John Bradley (Florence Briggs Th...</td>\n",
       "      <td>female</td>\n",
       "      <td>38.0</td>\n",
       "      <td>1</td>\n",
       "      <td>0</td>\n",
       "      <td>PC 17599</td>\n",
       "      <td>71.2833</td>\n",
       "      <td>C85</td>\n",
       "      <td>C</td>\n",
       "    </tr>\n",
       "    <tr>\n",
       "      <th>2</th>\n",
       "      <td>3</td>\n",
       "      <td>1</td>\n",
       "      <td>3</td>\n",
       "      <td>Heikkinen, Miss. Laina</td>\n",
       "      <td>female</td>\n",
       "      <td>26.0</td>\n",
       "      <td>0</td>\n",
       "      <td>0</td>\n",
       "      <td>STON/O2. 3101282</td>\n",
       "      <td>7.9250</td>\n",
       "      <td>NaN</td>\n",
       "      <td>S</td>\n",
       "    </tr>\n",
       "    <tr>\n",
       "      <th>3</th>\n",
       "      <td>4</td>\n",
       "      <td>1</td>\n",
       "      <td>1</td>\n",
       "      <td>Futrelle, Mrs. Jacques Heath (Lily May Peel)</td>\n",
       "      <td>female</td>\n",
       "      <td>35.0</td>\n",
       "      <td>1</td>\n",
       "      <td>0</td>\n",
       "      <td>113803</td>\n",
       "      <td>53.1000</td>\n",
       "      <td>C123</td>\n",
       "      <td>S</td>\n",
       "    </tr>\n",
       "    <tr>\n",
       "      <th>4</th>\n",
       "      <td>5</td>\n",
       "      <td>0</td>\n",
       "      <td>3</td>\n",
       "      <td>Allen, Mr. William Henry</td>\n",
       "      <td>male</td>\n",
       "      <td>35.0</td>\n",
       "      <td>0</td>\n",
       "      <td>0</td>\n",
       "      <td>373450</td>\n",
       "      <td>8.0500</td>\n",
       "      <td>NaN</td>\n",
       "      <td>S</td>\n",
       "    </tr>\n",
       "  </tbody>\n",
       "</table>\n",
       "</div>"
      ],
      "text/plain": [
       "   PassengerId  Survived  Pclass  \\\n",
       "0            1         0       3   \n",
       "1            2         1       1   \n",
       "2            3         1       3   \n",
       "3            4         1       1   \n",
       "4            5         0       3   \n",
       "\n",
       "                                                Name     Sex   Age  SibSp  \\\n",
       "0                            Braund, Mr. Owen Harris    male  22.0      1   \n",
       "1  Cumings, Mrs. John Bradley (Florence Briggs Th...  female  38.0      1   \n",
       "2                             Heikkinen, Miss. Laina  female  26.0      0   \n",
       "3       Futrelle, Mrs. Jacques Heath (Lily May Peel)  female  35.0      1   \n",
       "4                           Allen, Mr. William Henry    male  35.0      0   \n",
       "\n",
       "   Parch            Ticket     Fare Cabin Embarked  \n",
       "0      0         A/5 21171   7.2500   NaN        S  \n",
       "1      0          PC 17599  71.2833   C85        C  \n",
       "2      0  STON/O2. 3101282   7.9250   NaN        S  \n",
       "3      0            113803  53.1000  C123        S  \n",
       "4      0            373450   8.0500   NaN        S  "
      ]
     },
     "execution_count": 2,
     "metadata": {},
     "output_type": "execute_result"
    }
   ],
   "source": [
    "train_data = pd.read_csv(\"/kaggle/input/titanic/train.csv\")\n",
    "train_data.head()"
   ]
  },
  {
   "cell_type": "markdown",
   "id": "89288ad8",
   "metadata": {
    "papermill": {
     "duration": 0.079186,
     "end_time": "2021-10-13T14:15:30.570825",
     "exception": false,
     "start_time": "2021-10-13T14:15:30.491639",
     "status": "completed"
    },
    "tags": []
   },
   "source": [
    "Vamos a mirar cuáles son las características de nuestros datos :\n",
    "\n",
    "- Pclass : 1st = Upper Class 2nd = Middle Class 3rd = Lower Class\n",
    "\n",
    "- sibsp : The # of siblings / spouses aboard the Titanic \n",
    "       Sibling = brother, sister, stepbrother, stepsister \n",
    "       Spouse = husband, wife \n",
    "\n",
    "- parch : The # of parents / children aboard the Titanic \n",
    "    Parent = mother, father \n",
    "    Child = daughter, son, stepdaughter, stepson \n",
    "\n",
    "- Ticket : Ticket number\n",
    "\n",
    "- Fare : Passenger fare\n",
    "\n",
    "- Cabin : Cabin number embarked\n",
    "\n",
    "- Port of Embarkation: C = Cherbourg, Q = Queenstown, S = Southampton\n",
    "\n",
    "Adeamás tenemos las características Name, Sex y Age."
   ]
  },
  {
   "cell_type": "markdown",
   "id": "88a915c7",
   "metadata": {
    "papermill": {
     "duration": 0.079208,
     "end_time": "2021-10-13T14:15:30.729741",
     "exception": false,
     "start_time": "2021-10-13T14:15:30.650533",
     "status": "completed"
    },
    "tags": []
   },
   "source": [
    "En esta celda cargamos el archivo test.csv, contiene información pasajeros a bordo (418 pasajeros). A partir de los patrones de train.csv, se va predecir si el pasajero sobrevivió o no."
   ]
  },
  {
   "cell_type": "code",
   "execution_count": 3,
   "id": "46f0e2a5",
   "metadata": {
    "execution": {
     "iopub.execute_input": "2021-10-13T14:15:30.893658Z",
     "iopub.status.busy": "2021-10-13T14:15:30.892959Z",
     "iopub.status.idle": "2021-10-13T14:15:30.920029Z",
     "shell.execute_reply": "2021-10-13T14:15:30.920533Z",
     "shell.execute_reply.started": "2021-10-13T14:08:51.584282Z"
    },
    "papermill": {
     "duration": 0.111564,
     "end_time": "2021-10-13T14:15:30.920718",
     "exception": false,
     "start_time": "2021-10-13T14:15:30.809154",
     "status": "completed"
    },
    "tags": []
   },
   "outputs": [
    {
     "data": {
      "text/html": [
       "<div>\n",
       "<style scoped>\n",
       "    .dataframe tbody tr th:only-of-type {\n",
       "        vertical-align: middle;\n",
       "    }\n",
       "\n",
       "    .dataframe tbody tr th {\n",
       "        vertical-align: top;\n",
       "    }\n",
       "\n",
       "    .dataframe thead th {\n",
       "        text-align: right;\n",
       "    }\n",
       "</style>\n",
       "<table border=\"1\" class=\"dataframe\">\n",
       "  <thead>\n",
       "    <tr style=\"text-align: right;\">\n",
       "      <th></th>\n",
       "      <th>PassengerId</th>\n",
       "      <th>Pclass</th>\n",
       "      <th>Name</th>\n",
       "      <th>Sex</th>\n",
       "      <th>Age</th>\n",
       "      <th>SibSp</th>\n",
       "      <th>Parch</th>\n",
       "      <th>Ticket</th>\n",
       "      <th>Fare</th>\n",
       "      <th>Cabin</th>\n",
       "      <th>Embarked</th>\n",
       "    </tr>\n",
       "  </thead>\n",
       "  <tbody>\n",
       "    <tr>\n",
       "      <th>0</th>\n",
       "      <td>892</td>\n",
       "      <td>3</td>\n",
       "      <td>Kelly, Mr. James</td>\n",
       "      <td>male</td>\n",
       "      <td>34.5</td>\n",
       "      <td>0</td>\n",
       "      <td>0</td>\n",
       "      <td>330911</td>\n",
       "      <td>7.8292</td>\n",
       "      <td>NaN</td>\n",
       "      <td>Q</td>\n",
       "    </tr>\n",
       "    <tr>\n",
       "      <th>1</th>\n",
       "      <td>893</td>\n",
       "      <td>3</td>\n",
       "      <td>Wilkes, Mrs. James (Ellen Needs)</td>\n",
       "      <td>female</td>\n",
       "      <td>47.0</td>\n",
       "      <td>1</td>\n",
       "      <td>0</td>\n",
       "      <td>363272</td>\n",
       "      <td>7.0000</td>\n",
       "      <td>NaN</td>\n",
       "      <td>S</td>\n",
       "    </tr>\n",
       "    <tr>\n",
       "      <th>2</th>\n",
       "      <td>894</td>\n",
       "      <td>2</td>\n",
       "      <td>Myles, Mr. Thomas Francis</td>\n",
       "      <td>male</td>\n",
       "      <td>62.0</td>\n",
       "      <td>0</td>\n",
       "      <td>0</td>\n",
       "      <td>240276</td>\n",
       "      <td>9.6875</td>\n",
       "      <td>NaN</td>\n",
       "      <td>Q</td>\n",
       "    </tr>\n",
       "    <tr>\n",
       "      <th>3</th>\n",
       "      <td>895</td>\n",
       "      <td>3</td>\n",
       "      <td>Wirz, Mr. Albert</td>\n",
       "      <td>male</td>\n",
       "      <td>27.0</td>\n",
       "      <td>0</td>\n",
       "      <td>0</td>\n",
       "      <td>315154</td>\n",
       "      <td>8.6625</td>\n",
       "      <td>NaN</td>\n",
       "      <td>S</td>\n",
       "    </tr>\n",
       "    <tr>\n",
       "      <th>4</th>\n",
       "      <td>896</td>\n",
       "      <td>3</td>\n",
       "      <td>Hirvonen, Mrs. Alexander (Helga E Lindqvist)</td>\n",
       "      <td>female</td>\n",
       "      <td>22.0</td>\n",
       "      <td>1</td>\n",
       "      <td>1</td>\n",
       "      <td>3101298</td>\n",
       "      <td>12.2875</td>\n",
       "      <td>NaN</td>\n",
       "      <td>S</td>\n",
       "    </tr>\n",
       "  </tbody>\n",
       "</table>\n",
       "</div>"
      ],
      "text/plain": [
       "   PassengerId  Pclass                                          Name     Sex  \\\n",
       "0          892       3                              Kelly, Mr. James    male   \n",
       "1          893       3              Wilkes, Mrs. James (Ellen Needs)  female   \n",
       "2          894       2                     Myles, Mr. Thomas Francis    male   \n",
       "3          895       3                              Wirz, Mr. Albert    male   \n",
       "4          896       3  Hirvonen, Mrs. Alexander (Helga E Lindqvist)  female   \n",
       "\n",
       "    Age  SibSp  Parch   Ticket     Fare Cabin Embarked  \n",
       "0  34.5      0      0   330911   7.8292   NaN        Q  \n",
       "1  47.0      1      0   363272   7.0000   NaN        S  \n",
       "2  62.0      0      0   240276   9.6875   NaN        Q  \n",
       "3  27.0      0      0   315154   8.6625   NaN        S  \n",
       "4  22.0      1      1  3101298  12.2875   NaN        S  "
      ]
     },
     "execution_count": 3,
     "metadata": {},
     "output_type": "execute_result"
    }
   ],
   "source": [
    "test_data = pd.read_csv(\"/kaggle/input/titanic/test.csv\")\n",
    "test_data.head()"
   ]
  },
  {
   "cell_type": "markdown",
   "id": "2ffa2718",
   "metadata": {
    "papermill": {
     "duration": 0.080694,
     "end_time": "2021-10-13T14:15:31.082568",
     "exception": false,
     "start_time": "2021-10-13T14:15:31.001874",
     "status": "completed"
    },
    "tags": []
   },
   "source": [
    "Primero vamos a realizar un análisis de los datos (Exploratory Data Analysis o EDA). \n",
    "\n",
    "Para comenzar a controlar el total de los valores nulos de las celdas."
   ]
  },
  {
   "cell_type": "code",
   "execution_count": 4,
   "id": "490b0fb5",
   "metadata": {
    "execution": {
     "iopub.execute_input": "2021-10-13T14:15:31.255812Z",
     "iopub.status.busy": "2021-10-13T14:15:31.254806Z",
     "iopub.status.idle": "2021-10-13T14:15:31.260138Z",
     "shell.execute_reply": "2021-10-13T14:15:31.259455Z",
     "shell.execute_reply.started": "2021-10-13T14:08:51.610110Z"
    },
    "papermill": {
     "duration": 0.095945,
     "end_time": "2021-10-13T14:15:31.260313",
     "exception": false,
     "start_time": "2021-10-13T14:15:31.164368",
     "status": "completed"
    },
    "tags": []
   },
   "outputs": [
    {
     "data": {
      "text/plain": [
       "PassengerId      0\n",
       "Survived         0\n",
       "Pclass           0\n",
       "Name             0\n",
       "Sex              0\n",
       "Age            177\n",
       "SibSp            0\n",
       "Parch            0\n",
       "Ticket           0\n",
       "Fare             0\n",
       "Cabin          687\n",
       "Embarked         2\n",
       "dtype: int64"
      ]
     },
     "execution_count": 4,
     "metadata": {},
     "output_type": "execute_result"
    }
   ],
   "source": [
    "train_data.isnull().sum()"
   ]
  },
  {
   "cell_type": "markdown",
   "id": "601efa44",
   "metadata": {
    "papermill": {
     "duration": 0.079994,
     "end_time": "2021-10-13T14:15:31.423456",
     "exception": false,
     "start_time": "2021-10-13T14:15:31.343462",
     "status": "completed"
    },
    "tags": []
   },
   "source": [
    "Las columnas de Edad, la Cabina y el Embarque contienen valores nulos. Hay que intentar arreglar esas celdas para que contengan algún valor."
   ]
  },
  {
   "cell_type": "markdown",
   "id": "9cf7e687",
   "metadata": {
    "papermill": {
     "duration": 0.082869,
     "end_time": "2021-10-13T14:15:31.589518",
     "exception": false,
     "start_time": "2021-10-13T14:15:31.506649",
     "status": "completed"
    },
    "tags": []
   },
   "source": [
    "Vamos a realizar dos gráficos que representen el número de pasajeros que sobrevivieron."
   ]
  },
  {
   "cell_type": "code",
   "execution_count": 5,
   "id": "cac19e51",
   "metadata": {
    "execution": {
     "iopub.execute_input": "2021-10-13T14:15:31.778889Z",
     "iopub.status.busy": "2021-10-13T14:15:31.778169Z",
     "iopub.status.idle": "2021-10-13T14:15:32.094627Z",
     "shell.execute_reply": "2021-10-13T14:15:32.095169Z",
     "shell.execute_reply.started": "2021-10-13T14:08:51.620215Z"
    },
    "papermill": {
     "duration": 0.424272,
     "end_time": "2021-10-13T14:15:32.095386",
     "exception": false,
     "start_time": "2021-10-13T14:15:31.671114",
     "status": "completed"
    },
    "tags": []
   },
   "outputs": [
    {
     "data": {
      "image/png": "[encoded data removed]",
      "text/plain": [
       "<Figure size 864x576 with 2 Axes>"
      ]
     },
     "metadata": {
      "needs_background": "light"
     },
     "output_type": "display_data"
    }
   ],
   "source": [
    "f,ax=plt.subplots(1,2,figsize=(12,8))\n",
    "train_data['Survived'].value_counts().plot.pie(explode=[0,0.1],ax=ax[0], colors = ['peru', 'darkseagreen'] )\n",
    "ax[0].set_title('Personas que sobrevivieron al Titanic')\n",
    "sns.countplot('Survived',data=train_data, ax=ax[1], palette=\"pastel\")\n",
    "ax[1].set_title('Personas que sobrevivieron al Titanic')\n",
    "plt.show()"
   ]
  },
  {
   "cell_type": "markdown",
   "id": "8ccf7744",
   "metadata": {
    "papermill": {
     "duration": 0.09328,
     "end_time": "2021-10-13T14:15:32.272034",
     "exception": false,
     "start_time": "2021-10-13T14:15:32.178754",
     "status": "completed"
    },
    "tags": []
   },
   "source": [
    "Podemos observar que no demasiados pasajeros sobrevivieron. La clase 0 ( Not Survived ) es mayoritaria. \n",
    "\n",
    "Unos 330 pasajeros, del total de 891 pasajeros del trains.csv, sobrevivieron. \n",
    "\n",
    "Ahora debemos realizar un análisis más profundo para entender mejor los datos, y cómo distinguir entre la clase 0 y 1. Vamos a usar para ello las diferenets características del dataset. \n"
   ]
  },
  {
   "cell_type": "markdown",
   "id": "fa8eab1e",
   "metadata": {
    "papermill": {
     "duration": 0.082299,
     "end_time": "2021-10-13T14:15:32.453669",
     "exception": false,
     "start_time": "2021-10-13T14:15:32.371370",
     "status": "completed"
    },
    "tags": []
   },
   "source": [
    "Ahora vamos a observar los diferentes tipos de características que podemos encontrar.\n",
    "\n",
    "Por ejemplo tenemos como características categóricas en este dataset, el género o la supervivencia. Una categorical feature tiene dos o más categorías a las que puede pertenecer. \n",
    "\n",
    "En este celda contamos el número de instancias dependiendo de la categoría \"Sex\" y \"Survived\""
   ]
  },
  {
   "cell_type": "code",
   "execution_count": 6,
   "id": "75fd70f7",
   "metadata": {
    "execution": {
     "iopub.execute_input": "2021-10-13T14:15:32.620965Z",
     "iopub.status.busy": "2021-10-13T14:15:32.619967Z",
     "iopub.status.idle": "2021-10-13T14:15:32.629632Z",
     "shell.execute_reply": "2021-10-13T14:15:32.630222Z",
     "shell.execute_reply.started": "2021-10-13T14:08:51.966089Z"
    },
    "papermill": {
     "duration": 0.094289,
     "end_time": "2021-10-13T14:15:32.630416",
     "exception": false,
     "start_time": "2021-10-13T14:15:32.536127",
     "status": "completed"
    },
    "tags": []
   },
   "outputs": [
    {
     "data": {
      "text/plain": [
       "Sex     Survived\n",
       "female  0            81\n",
       "        1           233\n",
       "male    0           468\n",
       "        1           109\n",
       "Name: Survived, dtype: int64"
      ]
     },
     "execution_count": 6,
     "metadata": {},
     "output_type": "execute_result"
    }
   ],
   "source": [
    "train_data.groupby(['Sex','Survived'])['Survived'].count()"
   ]
  },
  {
   "cell_type": "code",
   "execution_count": 7,
   "id": "2aef3606",
   "metadata": {
    "execution": {
     "iopub.execute_input": "2021-10-13T14:15:32.800796Z",
     "iopub.status.busy": "2021-10-13T14:15:32.799795Z",
     "iopub.status.idle": "2021-10-13T14:15:33.151999Z",
     "shell.execute_reply": "2021-10-13T14:15:33.151465Z",
     "shell.execute_reply.started": "2021-10-13T14:08:51.979890Z"
    },
    "papermill": {
     "duration": 0.440295,
     "end_time": "2021-10-13T14:15:33.152165",
     "exception": false,
     "start_time": "2021-10-13T14:15:32.711870",
     "status": "completed"
    },
    "tags": []
   },
   "outputs": [
    {
     "data": {
      "image/png": "[encoded data removed]",
      "text/plain": [
       "<Figure size 864x576 with 2 Axes>"
      ]
     },
     "metadata": {
      "needs_background": "light"
     },
     "output_type": "display_data"
    }
   ],
   "source": [
    "f,ax=plt.subplots(1,2,figsize=(12,8))\n",
    "train_data[['Sex','Survived']].groupby(['Sex']).mean().plot.bar(ax=ax[0], color=['darkseagreen'])\n",
    "ax[0].set_title('Survived vs Género')\n",
    "sns.countplot('Sex',hue='Survived',data=train_data,ax=ax[1], palette=\"pastel\")\n",
    "ax[1].set_title('Género: Survived or Not')\n",
    "plt.show()"
   ]
  },
  {
   "cell_type": "markdown",
   "id": "a7e74fe7",
   "metadata": {
    "papermill": {
     "duration": 0.082286,
     "end_time": "2021-10-13T14:15:33.319674",
     "exception": false,
     "start_time": "2021-10-13T14:15:33.237388",
     "status": "completed"
    },
    "tags": []
   },
   "source": [
    "- Primero podemos observar que el número de hombres en el barco es mucho mayor que el número de mujeres. \n",
    "- Pero además en la segunda figura vemos que el número de supervivientes en las mujeres es casi el doble.\n",
    "\n",
    "Podemos pensar que esta característica es decisiva en nuestro modelo. Vamos a mirar otras."
   ]
  },
  {
   "cell_type": "markdown",
   "id": "46e9662f",
   "metadata": {
    "papermill": {
     "duration": 0.082874,
     "end_time": "2021-10-13T14:15:33.485410",
     "exception": false,
     "start_time": "2021-10-13T14:15:33.402536",
     "status": "completed"
    },
    "tags": []
   },
   "source": [
    "Ahora vamos a mirar una categoría ordinal. Este tipo de categoría tiene un orden entre los valores. En nuestro caso en el barco podemos encontrar tres tipos de clases sociales(\"Pclass\"). "
   ]
  },
  {
   "cell_type": "code",
   "execution_count": 8,
   "id": "4faeb100",
   "metadata": {
    "execution": {
     "iopub.execute_input": "2021-10-13T14:15:33.654988Z",
     "iopub.status.busy": "2021-10-13T14:15:33.653886Z",
     "iopub.status.idle": "2021-10-13T14:15:33.785002Z",
     "shell.execute_reply": "2021-10-13T14:15:33.784288Z",
     "shell.execute_reply.started": "2021-10-13T14:08:52.334827Z"
    },
    "papermill": {
     "duration": 0.217232,
     "end_time": "2021-10-13T14:15:33.785169",
     "exception": false,
     "start_time": "2021-10-13T14:15:33.567937",
     "status": "completed"
    },
    "tags": []
   },
   "outputs": [
    {
     "data": {
      "text/html": [
       "<style type=\"text/css\">\n",
       "#T_f489a_row0_col0, #T_f489a_row0_col2, #T_f489a_row1_col0, #T_f489a_row1_col1, #T_f489a_row1_col2 {\n",
       "  background-color: #b3e2cd;\n",
       "  color: #000000;\n",
       "}\n",
       "#T_f489a_row0_col1, #T_f489a_row2_col1 {\n",
       "  background-color: #fdcdac;\n",
       "  color: #000000;\n",
       "}\n",
       "#T_f489a_row2_col0 {\n",
       "  background-color: #e6f5c9;\n",
       "  color: #000000;\n",
       "}\n",
       "#T_f489a_row2_col2 {\n",
       "  background-color: #f4cae4;\n",
       "  color: #000000;\n",
       "}\n",
       "#T_f489a_row3_col0, #T_f489a_row3_col1, #T_f489a_row3_col2 {\n",
       "  background-color: #cccccc;\n",
       "  color: #000000;\n",
       "}\n",
       "</style>\n",
       "<table id=\"T_f489a_\">\n",
       "  <thead>\n",
       "    <tr>\n",
       "      <th class=\"index_name level0\" >Survived</th>\n",
       "      <th class=\"col_heading level0 col0\" >0</th>\n",
       "      <th class=\"col_heading level0 col1\" >1</th>\n",
       "      <th class=\"col_heading level0 col2\" >All</th>\n",
       "    </tr>\n",
       "    <tr>\n",
       "      <th class=\"index_name level0\" >Pclass</th>\n",
       "      <th class=\"blank col0\" >&nbsp;</th>\n",
       "      <th class=\"blank col1\" >&nbsp;</th>\n",
       "      <th class=\"blank col2\" >&nbsp;</th>\n",
       "    </tr>\n",
       "  </thead>\n",
       "  <tbody>\n",
       "    <tr>\n",
       "      <th id=\"T_f489a_level0_row0\" class=\"row_heading level0 row0\" >1</th>\n",
       "      <td id=\"T_f489a_row0_col0\" class=\"data row0 col0\" >80</td>\n",
       "      <td id=\"T_f489a_row0_col1\" class=\"data row0 col1\" >136</td>\n",
       "      <td id=\"T_f489a_row0_col2\" class=\"data row0 col2\" >216</td>\n",
       "    </tr>\n",
       "    <tr>\n",
       "      <th id=\"T_f489a_level0_row1\" class=\"row_heading level0 row1\" >2</th>\n",
       "      <td id=\"T_f489a_row1_col0\" class=\"data row1 col0\" >97</td>\n",
       "      <td id=\"T_f489a_row1_col1\" class=\"data row1 col1\" >87</td>\n",
       "      <td id=\"T_f489a_row1_col2\" class=\"data row1 col2\" >184</td>\n",
       "    </tr>\n",
       "    <tr>\n",
       "      <th id=\"T_f489a_level0_row2\" class=\"row_heading level0 row2\" >3</th>\n",
       "      <td id=\"T_f489a_row2_col0\" class=\"data row2 col0\" >372</td>\n",
       "      <td id=\"T_f489a_row2_col1\" class=\"data row2 col1\" >119</td>\n",
       "      <td id=\"T_f489a_row2_col2\" class=\"data row2 col2\" >491</td>\n",
       "    </tr>\n",
       "    <tr>\n",
       "      <th id=\"T_f489a_level0_row3\" class=\"row_heading level0 row3\" >All</th>\n",
       "      <td id=\"T_f489a_row3_col0\" class=\"data row3 col0\" >549</td>\n",
       "      <td id=\"T_f489a_row3_col1\" class=\"data row3 col1\" >342</td>\n",
       "      <td id=\"T_f489a_row3_col2\" class=\"data row3 col2\" >891</td>\n",
       "    </tr>\n",
       "  </tbody>\n",
       "</table>\n"
      ],
      "text/plain": [
       "<pandas.io.formats.style.Styler at 0x7fc0defed950>"
      ]
     },
     "execution_count": 8,
     "metadata": {},
     "output_type": "execute_result"
    }
   ],
   "source": [
    "pd.crosstab(train_data.Pclass,train_data.Survived,margins=True).style.background_gradient(cmap='Pastel2')"
   ]
  },
  {
   "cell_type": "code",
   "execution_count": 9,
   "id": "17bdeb6c",
   "metadata": {
    "execution": {
     "iopub.execute_input": "2021-10-13T14:15:33.983585Z",
     "iopub.status.busy": "2021-10-13T14:15:33.982784Z",
     "iopub.status.idle": "2021-10-13T14:15:34.316967Z",
     "shell.execute_reply": "2021-10-13T14:15:34.316308Z",
     "shell.execute_reply.started": "2021-10-13T14:08:52.467351Z"
    },
    "papermill": {
     "duration": 0.445775,
     "end_time": "2021-10-13T14:15:34.317119",
     "exception": false,
     "start_time": "2021-10-13T14:15:33.871344",
     "status": "completed"
    },
    "tags": []
   },
   "outputs": [
    {
     "data": {
      "image/png": "[encoded data removed]",
      "text/plain": [
       "<Figure size 1080x576 with 2 Axes>"
      ]
     },
     "metadata": {
      "needs_background": "light"
     },
     "output_type": "display_data"
    }
   ],
   "source": [
    "f,ax=plt.subplots(1,2,figsize=(15,8))\n",
    "train_data['Pclass'].value_counts().plot.bar(color=['brown','green','khaki'],ax=ax[0])\n",
    "ax[0].set_title('Número de pasajeros en cada clase')\n",
    "sns.countplot('Pclass',hue='Survived',data=train_data,ax=ax[1], palette=\"OrRd\")\n",
    "ax[1].set_title('Clase del barco : Sobrevivieron vs Muertos')\n",
    "plt.show()"
   ]
  },
  {
   "cell_type": "markdown",
   "id": "61dee5c6",
   "metadata": {
    "papermill": {
     "duration": 0.140565,
     "end_time": "2021-10-13T14:15:34.541612",
     "exception": false,
     "start_time": "2021-10-13T14:15:34.401047",
     "status": "completed"
    },
    "tags": []
   },
   "source": [
    "En el primer gráfico podemos ver la diferencia del número de personas en cada clase del barco. Podemos observar que los pasajeros de la Clase 1 se les dió preferencia a la hora del rescate. Solo hay que ver el número de pasajeros de la Clase 3 fue mucho mayor, pero la supervivencia de ellos fue mucho menor. \n",
    "\n",
    "Vamos a indagar un poco más y mirar el índice de conexión entre la Clase y el Género juntos."
   ]
  },
  {
   "cell_type": "code",
   "execution_count": 10,
   "id": "b5bff802",
   "metadata": {
    "execution": {
     "iopub.execute_input": "2021-10-13T14:15:34.719553Z",
     "iopub.status.busy": "2021-10-13T14:15:34.718859Z",
     "iopub.status.idle": "2021-10-13T14:15:34.943739Z",
     "shell.execute_reply": "2021-10-13T14:15:34.943168Z",
     "shell.execute_reply.started": "2021-10-13T14:08:52.764889Z"
    },
    "papermill": {
     "duration": 0.318545,
     "end_time": "2021-10-13T14:15:34.943885",
     "exception": false,
     "start_time": "2021-10-13T14:15:34.625340",
     "status": "completed"
    },
    "tags": []
   },
   "outputs": [
    {
     "data": {
      "text/html": [
       "<style type=\"text/css\">\n",
       "#T_2c157_row0_col0, #T_2c157_row0_col1, #T_2c157_row0_col2, #T_2c157_row0_col3, #T_2c157_row1_col2, #T_2c157_row3_col1, #T_2c157_row3_col2, #T_2c157_row3_col3 {\n",
       "  background-color: #b3e2cd;\n",
       "  color: #000000;\n",
       "}\n",
       "#T_2c157_row1_col0, #T_2c157_row2_col1, #T_2c157_row2_col3 {\n",
       "  background-color: #f4cae4;\n",
       "  color: #000000;\n",
       "}\n",
       "#T_2c157_row1_col1, #T_2c157_row2_col0 {\n",
       "  background-color: #cbd5e8;\n",
       "  color: #000000;\n",
       "}\n",
       "#T_2c157_row1_col3, #T_2c157_row3_col0 {\n",
       "  background-color: #fdcdac;\n",
       "  color: #000000;\n",
       "}\n",
       "#T_2c157_row2_col2 {\n",
       "  background-color: #e6f5c9;\n",
       "  color: #000000;\n",
       "}\n",
       "#T_2c157_row4_col0, #T_2c157_row4_col1, #T_2c157_row4_col2, #T_2c157_row4_col3 {\n",
       "  background-color: #cccccc;\n",
       "  color: #000000;\n",
       "}\n",
       "</style>\n",
       "<table id=\"T_2c157_\">\n",
       "  <thead>\n",
       "    <tr>\n",
       "      <th class=\"blank\" >&nbsp;</th>\n",
       "      <th class=\"index_name level0\" >Pclass</th>\n",
       "      <th class=\"col_heading level0 col0\" >1</th>\n",
       "      <th class=\"col_heading level0 col1\" >2</th>\n",
       "      <th class=\"col_heading level0 col2\" >3</th>\n",
       "      <th class=\"col_heading level0 col3\" >All</th>\n",
       "    </tr>\n",
       "    <tr>\n",
       "      <th class=\"index_name level0\" >Sex</th>\n",
       "      <th class=\"index_name level1\" >Survived</th>\n",
       "      <th class=\"blank col0\" >&nbsp;</th>\n",
       "      <th class=\"blank col1\" >&nbsp;</th>\n",
       "      <th class=\"blank col2\" >&nbsp;</th>\n",
       "      <th class=\"blank col3\" >&nbsp;</th>\n",
       "    </tr>\n",
       "  </thead>\n",
       "  <tbody>\n",
       "    <tr>\n",
       "      <th id=\"T_2c157_level0_row0\" class=\"row_heading level0 row0\" rowspan=\"2\">female</th>\n",
       "      <th id=\"T_2c157_level1_row0\" class=\"row_heading level1 row0\" >0</th>\n",
       "      <td id=\"T_2c157_row0_col0\" class=\"data row0 col0\" >3</td>\n",
       "      <td id=\"T_2c157_row0_col1\" class=\"data row0 col1\" >6</td>\n",
       "      <td id=\"T_2c157_row0_col2\" class=\"data row0 col2\" >72</td>\n",
       "      <td id=\"T_2c157_row0_col3\" class=\"data row0 col3\" >81</td>\n",
       "    </tr>\n",
       "    <tr>\n",
       "      <th id=\"T_2c157_level1_row1\" class=\"row_heading level1 row1\" >1</th>\n",
       "      <td id=\"T_2c157_row1_col0\" class=\"data row1 col0\" >91</td>\n",
       "      <td id=\"T_2c157_row1_col1\" class=\"data row1 col1\" >70</td>\n",
       "      <td id=\"T_2c157_row1_col2\" class=\"data row1 col2\" >72</td>\n",
       "      <td id=\"T_2c157_row1_col3\" class=\"data row1 col3\" >233</td>\n",
       "    </tr>\n",
       "    <tr>\n",
       "      <th id=\"T_2c157_level0_row2\" class=\"row_heading level0 row2\" rowspan=\"2\">male</th>\n",
       "      <th id=\"T_2c157_level1_row2\" class=\"row_heading level1 row2\" >0</th>\n",
       "      <td id=\"T_2c157_row2_col0\" class=\"data row2 col0\" >77</td>\n",
       "      <td id=\"T_2c157_row2_col1\" class=\"data row2 col1\" >91</td>\n",
       "      <td id=\"T_2c157_row2_col2\" class=\"data row2 col2\" >300</td>\n",
       "      <td id=\"T_2c157_row2_col3\" class=\"data row2 col3\" >468</td>\n",
       "    </tr>\n",
       "    <tr>\n",
       "      <th id=\"T_2c157_level1_row3\" class=\"row_heading level1 row3\" >1</th>\n",
       "      <td id=\"T_2c157_row3_col0\" class=\"data row3 col0\" >45</td>\n",
       "      <td id=\"T_2c157_row3_col1\" class=\"data row3 col1\" >17</td>\n",
       "      <td id=\"T_2c157_row3_col2\" class=\"data row3 col2\" >47</td>\n",
       "      <td id=\"T_2c157_row3_col3\" class=\"data row3 col3\" >109</td>\n",
       "    </tr>\n",
       "    <tr>\n",
       "      <th id=\"T_2c157_level0_row4\" class=\"row_heading level0 row4\" >All</th>\n",
       "      <th id=\"T_2c157_level1_row4\" class=\"row_heading level1 row4\" ></th>\n",
       "      <td id=\"T_2c157_row4_col0\" class=\"data row4 col0\" >216</td>\n",
       "      <td id=\"T_2c157_row4_col1\" class=\"data row4 col1\" >184</td>\n",
       "      <td id=\"T_2c157_row4_col2\" class=\"data row4 col2\" >491</td>\n",
       "      <td id=\"T_2c157_row4_col3\" class=\"data row4 col3\" >891</td>\n",
       "    </tr>\n",
       "  </tbody>\n",
       "</table>\n"
      ],
      "text/plain": [
       "<pandas.io.formats.style.Styler at 0x7fc0e7991d50>"
      ]
     },
     "execution_count": 10,
     "metadata": {},
     "output_type": "execute_result"
    }
   ],
   "source": [
    "pd.crosstab([train_data.Sex,train_data.Survived],train_data.Pclass,margins=True).style.background_gradient(cmap='Pastel2')"
   ]
  },
  {
   "cell_type": "code",
   "execution_count": 11,
   "id": "1fa65799",
   "metadata": {
    "execution": {
     "iopub.execute_input": "2021-10-13T14:15:35.143816Z",
     "iopub.status.busy": "2021-10-13T14:15:35.124138Z",
     "iopub.status.idle": "2021-10-13T14:15:35.727917Z",
     "shell.execute_reply": "2021-10-13T14:15:35.727355Z",
     "shell.execute_reply.started": "2021-10-13T14:08:52.932007Z"
    },
    "papermill": {
     "duration": 0.699983,
     "end_time": "2021-10-13T14:15:35.728085",
     "exception": false,
     "start_time": "2021-10-13T14:15:35.028102",
     "status": "completed"
    },
    "tags": []
   },
   "outputs": [
    {
     "data": {
      "image/png": "[encoded data removed]",
      "text/plain": [
       "<Figure size 430.5x360 with 1 Axes>"
      ]
     },
     "metadata": {
      "needs_background": "light"
     },
     "output_type": "display_data"
    }
   ],
   "source": [
    "sns.factorplot('Pclass','Survived',hue='Sex',data=train_data, palette=\"Purples\")\n",
    "plt.show()"
   ]
  },
  {
   "cell_type": "markdown",
   "id": "7c87c2f3",
   "metadata": {
    "papermill": {
     "duration": 0.095642,
     "end_time": "2021-10-13T14:15:35.909466",
     "exception": false,
     "start_time": "2021-10-13T14:15:35.813824",
     "status": "completed"
    },
    "tags": []
   },
   "source": [
    "En la anterior figura podemos ver la separación entre dos características categóricas, usamos para ello FactorPlot.\n",
    "\n",
    "Gracias al gráfico podemos ver que la supervivencia de Mujeres de Clase 1 es casi del 96 %. \n",
    "\n",
    "Aunque podemos ver que las Mujeres en general tuvieron más prefrencia incluso sin mirar la Clase.\n",
    "\n",
    "Podemos asegurar que la Clase (Pclass) es otra de las características de vital importancia para nuestro modelo."
   ]
  },
  {
   "cell_type": "markdown",
   "id": "4c6b7a09",
   "metadata": {
    "papermill": {
     "duration": 0.088213,
     "end_time": "2021-10-13T14:15:36.084041",
     "exception": false,
     "start_time": "2021-10-13T14:15:35.995828",
     "status": "completed"
    },
    "tags": []
   },
   "source": [
    "Ahora miraremos la característica de la Edad en nuestro modelo. Esta es un feature continua, que toma entre dos valores entre un punto."
   ]
  },
  {
   "cell_type": "code",
   "execution_count": 12,
   "id": "c18d64ea",
   "metadata": {
    "execution": {
     "iopub.execute_input": "2021-10-13T14:15:36.262661Z",
     "iopub.status.busy": "2021-10-13T14:15:36.261607Z",
     "iopub.status.idle": "2021-10-13T14:15:36.271222Z",
     "shell.execute_reply": "2021-10-13T14:15:36.270702Z",
     "shell.execute_reply.started": "2021-10-13T14:08:53.464264Z"
    },
    "papermill": {
     "duration": 0.10056,
     "end_time": "2021-10-13T14:15:36.271394",
     "exception": false,
     "start_time": "2021-10-13T14:15:36.170834",
     "status": "completed"
    },
    "tags": []
   },
   "outputs": [
    {
     "name": "stdout",
     "output_type": "stream",
     "text": [
      "Pasajero más mayor: 80.0 años\n",
      "Pasajero más joven: 0.42 años\n",
      "Media de edad en el Titanic: 29.69911764705882 años\n"
     ]
    }
   ],
   "source": [
    "print('Pasajero más mayor:',train_data['Age'].max(),'años')\n",
    "print('Pasajero más joven:',train_data['Age'].min(),'años')\n",
    "print('Media de edad en el Titanic:',train_data['Age'].mean(),'años')"
   ]
  },
  {
   "cell_type": "code",
   "execution_count": 13,
   "id": "9d7319c0",
   "metadata": {
    "execution": {
     "iopub.execute_input": "2021-10-13T14:15:36.468124Z",
     "iopub.status.busy": "2021-10-13T14:15:36.459996Z",
     "iopub.status.idle": "2021-10-13T14:15:36.912729Z",
     "shell.execute_reply": "2021-10-13T14:15:36.912058Z",
     "shell.execute_reply.started": "2021-10-13T14:08:53.473238Z"
    },
    "papermill": {
     "duration": 0.555277,
     "end_time": "2021-10-13T14:15:36.912873",
     "exception": false,
     "start_time": "2021-10-13T14:15:36.357596",
     "status": "completed"
    },
    "tags": []
   },
   "outputs": [
    {
     "data": {
      "image/png": "[encoded data removed]",
      "text/plain": [
       "<Figure size 1080x576 with 2 Axes>"
      ]
     },
     "metadata": {
      "needs_background": "light"
     },
     "output_type": "display_data"
    }
   ],
   "source": [
    "f,ax=plt.subplots(1,2,figsize=(15,8))\n",
    "sns.violinplot(\"Pclass\",\"Age\", hue=\"Survived\", data=train_data,split=True,ax=ax[0], palette=\"Pastel1\")\n",
    "ax[0].set_title('Clase y Edad vs Supervivencia')\n",
    "ax[0].set_yticks(range(0,110,10))\n",
    "sns.violinplot(\"Sex\",\"Age\", hue=\"Survived\", data=train_data,split=True,ax=ax[1], palette=\"Pastel2\")\n",
    "ax[1].set_title('Sexo y Edad vs Supervivencia')\n",
    "ax[1].set_yticks(range(0,110,10))\n",
    "plt.show()"
   ]
  },
  {
   "cell_type": "markdown",
   "id": "ad2f01e3",
   "metadata": {
    "papermill": {
     "duration": 0.08773,
     "end_time": "2021-10-13T14:15:37.088935",
     "exception": false,
     "start_time": "2021-10-13T14:15:37.001205",
     "status": "completed"
    },
    "tags": []
   },
   "source": [
    "Podemos realizar las siguientes observaciones de la figura:\n",
    "\n",
    "1) La probabilidad de supervivencia de los niños parece independiente de la edad.\n",
    "\n",
    "2) La probabilidad de supervivencia en la Clase 1 es lato e incluso mejro para las mujeres.\n",
    "\n",
    "3) Para los hombres, la probabilidad de supervivencia baja al aumentar la edad.\n",
    "\n",
    "4) La probabilidad de supervivencia de las mujeres es mayor."
   ]
  },
  {
   "cell_type": "markdown",
   "id": "9e4e15c2",
   "metadata": {
    "papermill": {
     "duration": 0.090409,
     "end_time": "2021-10-13T14:15:37.267125",
     "exception": false,
     "start_time": "2021-10-13T14:15:37.176716",
     "status": "completed"
    },
    "tags": []
   },
   "source": [
    "Como hemos visto hay muchos valores nulos en la columna de la Edad. Para reemplazar los valores NaN, podemos asignarles el valor de la media. \n",
    "\n",
    "Pero no podemos asignar un valor tan iomportante como la edad de manera aleatoria. \n",
    "\n",
    "Se nos puede ocurrir utilizar la columna Name, para utilizar el prefijo Mr or Mrs como intuición de la Edad. "
   ]
  },
  {
   "cell_type": "code",
   "execution_count": 14,
   "id": "548f9b84",
   "metadata": {
    "execution": {
     "iopub.execute_input": "2021-10-13T14:15:37.508359Z",
     "iopub.status.busy": "2021-10-13T14:15:37.507557Z",
     "iopub.status.idle": "2021-10-13T14:15:37.510346Z",
     "shell.execute_reply": "2021-10-13T14:15:37.509823Z",
     "shell.execute_reply.started": "2021-10-13T14:08:53.946855Z"
    },
    "papermill": {
     "duration": 0.154566,
     "end_time": "2021-10-13T14:15:37.510518",
     "exception": false,
     "start_time": "2021-10-13T14:15:37.355952",
     "status": "completed"
    },
    "tags": []
   },
   "outputs": [],
   "source": [
    "train_data['Initial']=0\n",
    "for i in train_data:\n",
    "    train_data['Initial']=train_data.Name.str.extract('([A-Za-z]+)\\.') "
   ]
  },
  {
   "cell_type": "markdown",
   "id": "d4acfe59",
   "metadata": {
    "papermill": {
     "duration": 0.092485,
     "end_time": "2021-10-13T14:15:37.694311",
     "exception": false,
     "start_time": "2021-10-13T14:15:37.601826",
     "status": "completed"
    },
    "tags": []
   },
   "source": [
    "Asi podemos extraer las Iniciales del Nombre."
   ]
  },
  {
   "cell_type": "code",
   "execution_count": 15,
   "id": "ec026971",
   "metadata": {
    "execution": {
     "iopub.execute_input": "2021-10-13T14:15:37.883973Z",
     "iopub.status.busy": "2021-10-13T14:15:37.881374Z",
     "iopub.status.idle": "2021-10-13T14:15:37.928043Z",
     "shell.execute_reply": "2021-10-13T14:15:37.927432Z",
     "shell.execute_reply.started": "2021-10-13T14:08:54.009224Z"
    },
    "papermill": {
     "duration": 0.143953,
     "end_time": "2021-10-13T14:15:37.928217",
     "exception": false,
     "start_time": "2021-10-13T14:15:37.784264",
     "status": "completed"
    },
    "tags": []
   },
   "outputs": [
    {
     "data": {
      "text/html": [
       "<style type=\"text/css\">\n",
       "#T_8a818_row0_col0, #T_8a818_row0_col1, #T_8a818_row0_col3, #T_8a818_row0_col4, #T_8a818_row0_col5, #T_8a818_row0_col7, #T_8a818_row0_col8, #T_8a818_row0_col12, #T_8a818_row0_col15, #T_8a818_row0_col16, #T_8a818_row1_col2, #T_8a818_row1_col6, #T_8a818_row1_col9, #T_8a818_row1_col10, #T_8a818_row1_col11, #T_8a818_row1_col13, #T_8a818_row1_col14 {\n",
       "  background-color: #b3e2cd;\n",
       "  color: #000000;\n",
       "}\n",
       "#T_8a818_row0_col2, #T_8a818_row0_col6, #T_8a818_row0_col9, #T_8a818_row0_col10, #T_8a818_row0_col11, #T_8a818_row0_col13, #T_8a818_row0_col14, #T_8a818_row1_col0, #T_8a818_row1_col1, #T_8a818_row1_col3, #T_8a818_row1_col4, #T_8a818_row1_col5, #T_8a818_row1_col7, #T_8a818_row1_col8, #T_8a818_row1_col12, #T_8a818_row1_col15, #T_8a818_row1_col16 {\n",
       "  background-color: #cccccc;\n",
       "  color: #000000;\n",
       "}\n",
       "</style>\n",
       "<table id=\"T_8a818_\">\n",
       "  <thead>\n",
       "    <tr>\n",
       "      <th class=\"index_name level0\" >Initial</th>\n",
       "      <th class=\"col_heading level0 col0\" >Capt</th>\n",
       "      <th class=\"col_heading level0 col1\" >Col</th>\n",
       "      <th class=\"col_heading level0 col2\" >Countess</th>\n",
       "      <th class=\"col_heading level0 col3\" >Don</th>\n",
       "      <th class=\"col_heading level0 col4\" >Dr</th>\n",
       "      <th class=\"col_heading level0 col5\" >Jonkheer</th>\n",
       "      <th class=\"col_heading level0 col6\" >Lady</th>\n",
       "      <th class=\"col_heading level0 col7\" >Major</th>\n",
       "      <th class=\"col_heading level0 col8\" >Master</th>\n",
       "      <th class=\"col_heading level0 col9\" >Miss</th>\n",
       "      <th class=\"col_heading level0 col10\" >Mlle</th>\n",
       "      <th class=\"col_heading level0 col11\" >Mme</th>\n",
       "      <th class=\"col_heading level0 col12\" >Mr</th>\n",
       "      <th class=\"col_heading level0 col13\" >Mrs</th>\n",
       "      <th class=\"col_heading level0 col14\" >Ms</th>\n",
       "      <th class=\"col_heading level0 col15\" >Rev</th>\n",
       "      <th class=\"col_heading level0 col16\" >Sir</th>\n",
       "    </tr>\n",
       "    <tr>\n",
       "      <th class=\"index_name level0\" >Sex</th>\n",
       "      <th class=\"blank col0\" >&nbsp;</th>\n",
       "      <th class=\"blank col1\" >&nbsp;</th>\n",
       "      <th class=\"blank col2\" >&nbsp;</th>\n",
       "      <th class=\"blank col3\" >&nbsp;</th>\n",
       "      <th class=\"blank col4\" >&nbsp;</th>\n",
       "      <th class=\"blank col5\" >&nbsp;</th>\n",
       "      <th class=\"blank col6\" >&nbsp;</th>\n",
       "      <th class=\"blank col7\" >&nbsp;</th>\n",
       "      <th class=\"blank col8\" >&nbsp;</th>\n",
       "      <th class=\"blank col9\" >&nbsp;</th>\n",
       "      <th class=\"blank col10\" >&nbsp;</th>\n",
       "      <th class=\"blank col11\" >&nbsp;</th>\n",
       "      <th class=\"blank col12\" >&nbsp;</th>\n",
       "      <th class=\"blank col13\" >&nbsp;</th>\n",
       "      <th class=\"blank col14\" >&nbsp;</th>\n",
       "      <th class=\"blank col15\" >&nbsp;</th>\n",
       "      <th class=\"blank col16\" >&nbsp;</th>\n",
       "    </tr>\n",
       "  </thead>\n",
       "  <tbody>\n",
       "    <tr>\n",
       "      <th id=\"T_8a818_level0_row0\" class=\"row_heading level0 row0\" >female</th>\n",
       "      <td id=\"T_8a818_row0_col0\" class=\"data row0 col0\" >0</td>\n",
       "      <td id=\"T_8a818_row0_col1\" class=\"data row0 col1\" >0</td>\n",
       "      <td id=\"T_8a818_row0_col2\" class=\"data row0 col2\" >1</td>\n",
       "      <td id=\"T_8a818_row0_col3\" class=\"data row0 col3\" >0</td>\n",
       "      <td id=\"T_8a818_row0_col4\" class=\"data row0 col4\" >1</td>\n",
       "      <td id=\"T_8a818_row0_col5\" class=\"data row0 col5\" >0</td>\n",
       "      <td id=\"T_8a818_row0_col6\" class=\"data row0 col6\" >1</td>\n",
       "      <td id=\"T_8a818_row0_col7\" class=\"data row0 col7\" >0</td>\n",
       "      <td id=\"T_8a818_row0_col8\" class=\"data row0 col8\" >0</td>\n",
       "      <td id=\"T_8a818_row0_col9\" class=\"data row0 col9\" >182</td>\n",
       "      <td id=\"T_8a818_row0_col10\" class=\"data row0 col10\" >2</td>\n",
       "      <td id=\"T_8a818_row0_col11\" class=\"data row0 col11\" >1</td>\n",
       "      <td id=\"T_8a818_row0_col12\" class=\"data row0 col12\" >0</td>\n",
       "      <td id=\"T_8a818_row0_col13\" class=\"data row0 col13\" >125</td>\n",
       "      <td id=\"T_8a818_row0_col14\" class=\"data row0 col14\" >1</td>\n",
       "      <td id=\"T_8a818_row0_col15\" class=\"data row0 col15\" >0</td>\n",
       "      <td id=\"T_8a818_row0_col16\" class=\"data row0 col16\" >0</td>\n",
       "    </tr>\n",
       "    <tr>\n",
       "      <th id=\"T_8a818_level0_row1\" class=\"row_heading level0 row1\" >male</th>\n",
       "      <td id=\"T_8a818_row1_col0\" class=\"data row1 col0\" >1</td>\n",
       "      <td id=\"T_8a818_row1_col1\" class=\"data row1 col1\" >2</td>\n",
       "      <td id=\"T_8a818_row1_col2\" class=\"data row1 col2\" >0</td>\n",
       "      <td id=\"T_8a818_row1_col3\" class=\"data row1 col3\" >1</td>\n",
       "      <td id=\"T_8a818_row1_col4\" class=\"data row1 col4\" >6</td>\n",
       "      <td id=\"T_8a818_row1_col5\" class=\"data row1 col5\" >1</td>\n",
       "      <td id=\"T_8a818_row1_col6\" class=\"data row1 col6\" >0</td>\n",
       "      <td id=\"T_8a818_row1_col7\" class=\"data row1 col7\" >2</td>\n",
       "      <td id=\"T_8a818_row1_col8\" class=\"data row1 col8\" >40</td>\n",
       "      <td id=\"T_8a818_row1_col9\" class=\"data row1 col9\" >0</td>\n",
       "      <td id=\"T_8a818_row1_col10\" class=\"data row1 col10\" >0</td>\n",
       "      <td id=\"T_8a818_row1_col11\" class=\"data row1 col11\" >0</td>\n",
       "      <td id=\"T_8a818_row1_col12\" class=\"data row1 col12\" >517</td>\n",
       "      <td id=\"T_8a818_row1_col13\" class=\"data row1 col13\" >0</td>\n",
       "      <td id=\"T_8a818_row1_col14\" class=\"data row1 col14\" >0</td>\n",
       "      <td id=\"T_8a818_row1_col15\" class=\"data row1 col15\" >6</td>\n",
       "      <td id=\"T_8a818_row1_col16\" class=\"data row1 col16\" >1</td>\n",
       "    </tr>\n",
       "  </tbody>\n",
       "</table>\n"
      ],
      "text/plain": [
       "<pandas.io.formats.style.Styler at 0x7fc0df235e50>"
      ]
     },
     "execution_count": 15,
     "metadata": {},
     "output_type": "execute_result"
    }
   ],
   "source": [
    "pd.crosstab(train_data.Initial,train_data.Sex).T.style.background_gradient(cmap='Pastel2') "
   ]
  },
  {
   "cell_type": "markdown",
   "id": "d58b7c7a",
   "metadata": {
    "papermill": {
     "duration": 0.089925,
     "end_time": "2021-10-13T14:15:38.112528",
     "exception": false,
     "start_time": "2021-10-13T14:15:38.022603",
     "status": "completed"
    },
    "tags": []
   },
   "source": [
    "Hay ocaciones que Miss puede estar mal escrito con Mlle or Mme. Las reemplazamos."
   ]
  },
  {
   "cell_type": "code",
   "execution_count": 16,
   "id": "f303bd80",
   "metadata": {
    "execution": {
     "iopub.execute_input": "2021-10-13T14:15:38.303638Z",
     "iopub.status.busy": "2021-10-13T14:15:38.302846Z",
     "iopub.status.idle": "2021-10-13T14:15:38.305755Z",
     "shell.execute_reply": "2021-10-13T14:15:38.305193Z",
     "shell.execute_reply.started": "2021-10-13T14:08:54.064317Z"
    },
    "papermill": {
     "duration": 0.103044,
     "end_time": "2021-10-13T14:15:38.305920",
     "exception": false,
     "start_time": "2021-10-13T14:15:38.202876",
     "status": "completed"
    },
    "tags": []
   },
   "outputs": [],
   "source": [
    "train_data['Initial'].replace(['Mlle','Mme','Ms','Dr','Major','Lady','Countess','Jonkheer','Col','Rev','Capt','Sir','Don'],['Miss','Miss','Miss','Mr','Mr','Mrs','Mrs','Other','Other','Other','Mr','Mr','Mr'],inplace=True)"
   ]
  },
  {
   "cell_type": "markdown",
   "id": "3767cb11",
   "metadata": {
    "papermill": {
     "duration": 0.08985,
     "end_time": "2021-10-13T14:15:38.485440",
     "exception": false,
     "start_time": "2021-10-13T14:15:38.395590",
     "status": "completed"
    },
    "tags": []
   },
   "source": [
    "Vamos a mirar la media de edad por cada prefijo de Nombre."
   ]
  },
  {
   "cell_type": "code",
   "execution_count": 17,
   "id": "ed641d9b",
   "metadata": {
    "execution": {
     "iopub.execute_input": "2021-10-13T14:15:38.676353Z",
     "iopub.status.busy": "2021-10-13T14:15:38.675198Z",
     "iopub.status.idle": "2021-10-13T14:15:38.679630Z",
     "shell.execute_reply": "2021-10-13T14:15:38.678876Z",
     "shell.execute_reply.started": "2021-10-13T14:08:54.074211Z"
    },
    "papermill": {
     "duration": 0.10345,
     "end_time": "2021-10-13T14:15:38.679792",
     "exception": false,
     "start_time": "2021-10-13T14:15:38.576342",
     "status": "completed"
    },
    "tags": []
   },
   "outputs": [
    {
     "data": {
      "text/plain": [
       "Initial\n",
       "Master     4.574167\n",
       "Miss      21.860000\n",
       "Mr        32.739609\n",
       "Mrs       35.981818\n",
       "Other     45.888889\n",
       "Name: Age, dtype: float64"
      ]
     },
     "execution_count": 17,
     "metadata": {},
     "output_type": "execute_result"
    }
   ],
   "source": [
    "train_data.groupby('Initial')['Age'].mean()"
   ]
  },
  {
   "cell_type": "markdown",
   "id": "5602404b",
   "metadata": {
    "papermill": {
     "duration": 0.090726,
     "end_time": "2021-10-13T14:15:38.861505",
     "exception": false,
     "start_time": "2021-10-13T14:15:38.770779",
     "status": "completed"
    },
    "tags": []
   },
   "source": [
    "Vamos ahora a reemplazarlos con la edad media"
   ]
  },
  {
   "cell_type": "code",
   "execution_count": 18,
   "id": "30071e13",
   "metadata": {
    "execution": {
     "iopub.execute_input": "2021-10-13T14:15:39.094958Z",
     "iopub.status.busy": "2021-10-13T14:15:39.094108Z",
     "iopub.status.idle": "2021-10-13T14:15:39.096690Z",
     "shell.execute_reply": "2021-10-13T14:15:39.096120Z",
     "shell.execute_reply.started": "2021-10-13T14:08:54.089363Z"
    },
    "papermill": {
     "duration": 0.117696,
     "end_time": "2021-10-13T14:15:39.096861",
     "exception": false,
     "start_time": "2021-10-13T14:15:38.979165",
     "status": "completed"
    },
    "tags": []
   },
   "outputs": [],
   "source": [
    "train_data.loc[(train_data.Age.isnull())&(train_data.Initial=='Mr'),'Age']=33\n",
    "train_data.loc[(train_data.Age.isnull())&(train_data.Initial=='Mrs'),'Age']=36\n",
    "train_data.loc[(train_data.Age.isnull())&(train_data.Initial=='Master'),'Age']=5\n",
    "train_data.loc[(train_data.Age.isnull())&(train_data.Initial=='Miss'),'Age']=22\n",
    "train_data.loc[(train_data.Age.isnull())&(train_data.Initial=='Other'),'Age']=46"
   ]
  },
  {
   "cell_type": "markdown",
   "id": "30f9919f",
   "metadata": {
    "papermill": {
     "duration": 0.090801,
     "end_time": "2021-10-13T14:15:39.278123",
     "exception": false,
     "start_time": "2021-10-13T14:15:39.187322",
     "status": "completed"
    },
    "tags": []
   },
   "source": [
    "Ahora podemos asegurar que no hay valor nulo para la columna Edad"
   ]
  },
  {
   "cell_type": "code",
   "execution_count": 19,
   "id": "2440f7f7",
   "metadata": {
    "execution": {
     "iopub.execute_input": "2021-10-13T14:15:39.465707Z",
     "iopub.status.busy": "2021-10-13T14:15:39.464963Z",
     "iopub.status.idle": "2021-10-13T14:15:39.468804Z",
     "shell.execute_reply": "2021-10-13T14:15:39.468297Z",
     "shell.execute_reply.started": "2021-10-13T14:08:54.104798Z"
    },
    "papermill": {
     "duration": 0.100621,
     "end_time": "2021-10-13T14:15:39.468986",
     "exception": false,
     "start_time": "2021-10-13T14:15:39.368365",
     "status": "completed"
    },
    "tags": []
   },
   "outputs": [
    {
     "data": {
      "text/plain": [
       "False"
      ]
     },
     "execution_count": 19,
     "metadata": {},
     "output_type": "execute_result"
    }
   ],
   "source": [
    "train_data.Age.isnull().any()"
   ]
  },
  {
   "cell_type": "code",
   "execution_count": 20,
   "id": "8c4f0cd8",
   "metadata": {
    "execution": {
     "iopub.execute_input": "2021-10-13T14:15:39.679962Z",
     "iopub.status.busy": "2021-10-13T14:15:39.676299Z",
     "iopub.status.idle": "2021-10-13T14:15:40.125802Z",
     "shell.execute_reply": "2021-10-13T14:15:40.126388Z",
     "shell.execute_reply.started": "2021-10-13T14:08:54.120011Z"
    },
    "papermill": {
     "duration": 0.564862,
     "end_time": "2021-10-13T14:15:40.126610",
     "exception": false,
     "start_time": "2021-10-13T14:15:39.561748",
     "status": "completed"
    },
    "tags": []
   },
   "outputs": [
    {
     "data": {
      "image/png": "[encoded data removed]",
      "text/plain": [
       "<Figure size 1296x720 with 2 Axes>"
      ]
     },
     "metadata": {
      "needs_background": "light"
     },
     "output_type": "display_data"
    }
   ],
   "source": [
    "f,ax=plt.subplots(1,2,figsize=(18,10))\n",
    "train_data[train_data['Survived']==0].Age.plot.hist(ax=ax[0],bins=20,edgecolor='black',color='mistyrose')\n",
    "ax[0].set_title('No sobrevivieron')\n",
    "train_data[train_data['Survived']==1].Age.plot.hist(ax=ax[1],bins=20,edgecolor='black', color='darkseagreen')\n",
    "ax[1].set_title('Sobrevivieron')\n",
    "plt.show()"
   ]
  },
  {
   "cell_type": "markdown",
   "id": "45e0608d",
   "metadata": {
    "papermill": {
     "duration": 0.09122,
     "end_time": "2021-10-13T14:15:40.309496",
     "exception": false,
     "start_time": "2021-10-13T14:15:40.218276",
     "status": "completed"
    },
    "tags": []
   },
   "source": [
    "Ahora vamos a tarazar obbservaciones de las anteriores figuras:\n",
    "\n",
    "1) Hay muy pocos niños que no sobreviviesen. \n",
    "\n",
    "2) Solo hay un pasajero de 80 años que sobreviviese.\n",
    "\n",
    "3) El número máximo de muertos están entre 30-40 años."
   ]
  },
  {
   "cell_type": "markdown",
   "id": "f44516c5",
   "metadata": {
    "papermill": {
     "duration": 0.090647,
     "end_time": "2021-10-13T14:15:40.491121",
     "exception": false,
     "start_time": "2021-10-13T14:15:40.400474",
     "status": "completed"
    },
    "tags": []
   },
   "source": [
    "Hay otra característica categórica en el datset, \"Embarked\". Se paró en tres puertos C, Q, S. Vamos a ver que consecuencias tuvo esta característica."
   ]
  },
  {
   "cell_type": "code",
   "execution_count": 21,
   "id": "ce9e310a",
   "metadata": {
    "execution": {
     "iopub.execute_input": "2021-10-13T14:15:40.679229Z",
     "iopub.status.busy": "2021-10-13T14:15:40.678556Z",
     "iopub.status.idle": "2021-10-13T14:15:40.761139Z",
     "shell.execute_reply": "2021-10-13T14:15:40.761678Z",
     "shell.execute_reply.started": "2021-10-13T14:08:54.612967Z"
    },
    "papermill": {
     "duration": 0.177847,
     "end_time": "2021-10-13T14:15:40.761878",
     "exception": false,
     "start_time": "2021-10-13T14:15:40.584031",
     "status": "completed"
    },
    "tags": []
   },
   "outputs": [
    {
     "data": {
      "text/html": [
       "<style type=\"text/css\">\n",
       "#T_1e709_row0_col0, #T_1e709_row0_col2, #T_1e709_row0_col4, #T_1e709_row1_col0, #T_1e709_row1_col1, #T_1e709_row1_col2, #T_1e709_row1_col3, #T_1e709_row1_col4, #T_1e709_row2_col0, #T_1e709_row2_col1, #T_1e709_row2_col2, #T_1e709_row2_col3, #T_1e709_row2_col4, #T_1e709_row3_col0, #T_1e709_row3_col1, #T_1e709_row3_col2, #T_1e709_row3_col3, #T_1e709_row3_col4, #T_1e709_row4_col0, #T_1e709_row4_col1, #T_1e709_row4_col2, #T_1e709_row4_col3, #T_1e709_row4_col4, #T_1e709_row5_col0, #T_1e709_row5_col1, #T_1e709_row5_col2, #T_1e709_row5_col3, #T_1e709_row5_col4, #T_1e709_row6_col0, #T_1e709_row6_col2, #T_1e709_row7_col0 {\n",
       "  background-color: #b3e2cd;\n",
       "  color: #000000;\n",
       "}\n",
       "#T_1e709_row0_col1, #T_1e709_row0_col3, #T_1e709_row6_col1, #T_1e709_row6_col4, #T_1e709_row7_col2, #T_1e709_row7_col3, #T_1e709_row7_col4, #T_1e709_row8_col1 {\n",
       "  background-color: #fdcdac;\n",
       "  color: #000000;\n",
       "}\n",
       "#T_1e709_row6_col3, #T_1e709_row7_col1, #T_1e709_row8_col3 {\n",
       "  background-color: #cbd5e8;\n",
       "  color: #000000;\n",
       "}\n",
       "#T_1e709_row8_col0 {\n",
       "  background-color: #fff2ae;\n",
       "  color: #000000;\n",
       "}\n",
       "#T_1e709_row8_col2, #T_1e709_row8_col4 {\n",
       "  background-color: #f4cae4;\n",
       "  color: #000000;\n",
       "}\n",
       "#T_1e709_row9_col0, #T_1e709_row9_col1, #T_1e709_row9_col2, #T_1e709_row9_col3, #T_1e709_row9_col4 {\n",
       "  background-color: #cccccc;\n",
       "  color: #000000;\n",
       "}\n",
       "</style>\n",
       "<table id=\"T_1e709_\">\n",
       "  <thead>\n",
       "    <tr>\n",
       "      <th class=\"blank\" >&nbsp;</th>\n",
       "      <th class=\"index_name level0\" >Sex</th>\n",
       "      <th class=\"col_heading level0 col0\" colspan=\"2\">female</th>\n",
       "      <th class=\"col_heading level0 col2\" colspan=\"2\">male</th>\n",
       "      <th class=\"col_heading level0 col4\" >All</th>\n",
       "    </tr>\n",
       "    <tr>\n",
       "      <th class=\"blank\" >&nbsp;</th>\n",
       "      <th class=\"index_name level1\" >Survived</th>\n",
       "      <th class=\"col_heading level1 col0\" >0</th>\n",
       "      <th class=\"col_heading level1 col1\" >1</th>\n",
       "      <th class=\"col_heading level1 col2\" >0</th>\n",
       "      <th class=\"col_heading level1 col3\" >1</th>\n",
       "      <th class=\"col_heading level1 col4\" ></th>\n",
       "    </tr>\n",
       "    <tr>\n",
       "      <th class=\"index_name level0\" >Embarked</th>\n",
       "      <th class=\"index_name level1\" >Pclass</th>\n",
       "      <th class=\"blank col0\" >&nbsp;</th>\n",
       "      <th class=\"blank col1\" >&nbsp;</th>\n",
       "      <th class=\"blank col2\" >&nbsp;</th>\n",
       "      <th class=\"blank col3\" >&nbsp;</th>\n",
       "      <th class=\"blank col4\" >&nbsp;</th>\n",
       "    </tr>\n",
       "  </thead>\n",
       "  <tbody>\n",
       "    <tr>\n",
       "      <th id=\"T_1e709_level0_row0\" class=\"row_heading level0 row0\" rowspan=\"3\">C</th>\n",
       "      <th id=\"T_1e709_level1_row0\" class=\"row_heading level1 row0\" >1</th>\n",
       "      <td id=\"T_1e709_row0_col0\" class=\"data row0 col0\" >1</td>\n",
       "      <td id=\"T_1e709_row0_col1\" class=\"data row0 col1\" >42</td>\n",
       "      <td id=\"T_1e709_row0_col2\" class=\"data row0 col2\" >25</td>\n",
       "      <td id=\"T_1e709_row0_col3\" class=\"data row0 col3\" >17</td>\n",
       "      <td id=\"T_1e709_row0_col4\" class=\"data row0 col4\" >85</td>\n",
       "    </tr>\n",
       "    <tr>\n",
       "      <th id=\"T_1e709_level1_row1\" class=\"row_heading level1 row1\" >2</th>\n",
       "      <td id=\"T_1e709_row1_col0\" class=\"data row1 col0\" >0</td>\n",
       "      <td id=\"T_1e709_row1_col1\" class=\"data row1 col1\" >7</td>\n",
       "      <td id=\"T_1e709_row1_col2\" class=\"data row1 col2\" >8</td>\n",
       "      <td id=\"T_1e709_row1_col3\" class=\"data row1 col3\" >2</td>\n",
       "      <td id=\"T_1e709_row1_col4\" class=\"data row1 col4\" >17</td>\n",
       "    </tr>\n",
       "    <tr>\n",
       "      <th id=\"T_1e709_level1_row2\" class=\"row_heading level1 row2\" >3</th>\n",
       "      <td id=\"T_1e709_row2_col0\" class=\"data row2 col0\" >8</td>\n",
       "      <td id=\"T_1e709_row2_col1\" class=\"data row2 col1\" >15</td>\n",
       "      <td id=\"T_1e709_row2_col2\" class=\"data row2 col2\" >33</td>\n",
       "      <td id=\"T_1e709_row2_col3\" class=\"data row2 col3\" >10</td>\n",
       "      <td id=\"T_1e709_row2_col4\" class=\"data row2 col4\" >66</td>\n",
       "    </tr>\n",
       "    <tr>\n",
       "      <th id=\"T_1e709_level0_row3\" class=\"row_heading level0 row3\" rowspan=\"3\">Q</th>\n",
       "      <th id=\"T_1e709_level1_row3\" class=\"row_heading level1 row3\" >1</th>\n",
       "      <td id=\"T_1e709_row3_col0\" class=\"data row3 col0\" >0</td>\n",
       "      <td id=\"T_1e709_row3_col1\" class=\"data row3 col1\" >1</td>\n",
       "      <td id=\"T_1e709_row3_col2\" class=\"data row3 col2\" >1</td>\n",
       "      <td id=\"T_1e709_row3_col3\" class=\"data row3 col3\" >0</td>\n",
       "      <td id=\"T_1e709_row3_col4\" class=\"data row3 col4\" >2</td>\n",
       "    </tr>\n",
       "    <tr>\n",
       "      <th id=\"T_1e709_level1_row4\" class=\"row_heading level1 row4\" >2</th>\n",
       "      <td id=\"T_1e709_row4_col0\" class=\"data row4 col0\" >0</td>\n",
       "      <td id=\"T_1e709_row4_col1\" class=\"data row4 col1\" >2</td>\n",
       "      <td id=\"T_1e709_row4_col2\" class=\"data row4 col2\" >1</td>\n",
       "      <td id=\"T_1e709_row4_col3\" class=\"data row4 col3\" >0</td>\n",
       "      <td id=\"T_1e709_row4_col4\" class=\"data row4 col4\" >3</td>\n",
       "    </tr>\n",
       "    <tr>\n",
       "      <th id=\"T_1e709_level1_row5\" class=\"row_heading level1 row5\" >3</th>\n",
       "      <td id=\"T_1e709_row5_col0\" class=\"data row5 col0\" >9</td>\n",
       "      <td id=\"T_1e709_row5_col1\" class=\"data row5 col1\" >24</td>\n",
       "      <td id=\"T_1e709_row5_col2\" class=\"data row5 col2\" >36</td>\n",
       "      <td id=\"T_1e709_row5_col3\" class=\"data row5 col3\" >3</td>\n",
       "      <td id=\"T_1e709_row5_col4\" class=\"data row5 col4\" >72</td>\n",
       "    </tr>\n",
       "    <tr>\n",
       "      <th id=\"T_1e709_level0_row6\" class=\"row_heading level0 row6\" rowspan=\"3\">S</th>\n",
       "      <th id=\"T_1e709_level1_row6\" class=\"row_heading level1 row6\" >1</th>\n",
       "      <td id=\"T_1e709_row6_col0\" class=\"data row6 col0\" >2</td>\n",
       "      <td id=\"T_1e709_row6_col1\" class=\"data row6 col1\" >46</td>\n",
       "      <td id=\"T_1e709_row6_col2\" class=\"data row6 col2\" >51</td>\n",
       "      <td id=\"T_1e709_row6_col3\" class=\"data row6 col3\" >28</td>\n",
       "      <td id=\"T_1e709_row6_col4\" class=\"data row6 col4\" >127</td>\n",
       "    </tr>\n",
       "    <tr>\n",
       "      <th id=\"T_1e709_level1_row7\" class=\"row_heading level1 row7\" >2</th>\n",
       "      <td id=\"T_1e709_row7_col0\" class=\"data row7 col0\" >6</td>\n",
       "      <td id=\"T_1e709_row7_col1\" class=\"data row7 col1\" >61</td>\n",
       "      <td id=\"T_1e709_row7_col2\" class=\"data row7 col2\" >82</td>\n",
       "      <td id=\"T_1e709_row7_col3\" class=\"data row7 col3\" >15</td>\n",
       "      <td id=\"T_1e709_row7_col4\" class=\"data row7 col4\" >164</td>\n",
       "    </tr>\n",
       "    <tr>\n",
       "      <th id=\"T_1e709_level1_row8\" class=\"row_heading level1 row8\" >3</th>\n",
       "      <td id=\"T_1e709_row8_col0\" class=\"data row8 col0\" >55</td>\n",
       "      <td id=\"T_1e709_row8_col1\" class=\"data row8 col1\" >33</td>\n",
       "      <td id=\"T_1e709_row8_col2\" class=\"data row8 col2\" >231</td>\n",
       "      <td id=\"T_1e709_row8_col3\" class=\"data row8 col3\" >34</td>\n",
       "      <td id=\"T_1e709_row8_col4\" class=\"data row8 col4\" >353</td>\n",
       "    </tr>\n",
       "    <tr>\n",
       "      <th id=\"T_1e709_level0_row9\" class=\"row_heading level0 row9\" >All</th>\n",
       "      <th id=\"T_1e709_level1_row9\" class=\"row_heading level1 row9\" ></th>\n",
       "      <td id=\"T_1e709_row9_col0\" class=\"data row9 col0\" >81</td>\n",
       "      <td id=\"T_1e709_row9_col1\" class=\"data row9 col1\" >231</td>\n",
       "      <td id=\"T_1e709_row9_col2\" class=\"data row9 col2\" >468</td>\n",
       "      <td id=\"T_1e709_row9_col3\" class=\"data row9 col3\" >109</td>\n",
       "      <td id=\"T_1e709_row9_col4\" class=\"data row9 col4\" >889</td>\n",
       "    </tr>\n",
       "  </tbody>\n",
       "</table>\n"
      ],
      "text/plain": [
       "<pandas.io.formats.style.Styler at 0x7fc0dd537a50>"
      ]
     },
     "execution_count": 21,
     "metadata": {},
     "output_type": "execute_result"
    }
   ],
   "source": [
    "pd.crosstab([train_data.Embarked,train_data.Pclass],[train_data.Sex,train_data.Survived],margins=True).style.background_gradient(cmap='Pastel2')"
   ]
  },
  {
   "cell_type": "code",
   "execution_count": 22,
   "id": "f0a0546f",
   "metadata": {
    "execution": {
     "iopub.execute_input": "2021-10-13T14:15:40.954776Z",
     "iopub.status.busy": "2021-10-13T14:15:40.954003Z",
     "iopub.status.idle": "2021-10-13T14:15:41.332195Z",
     "shell.execute_reply": "2021-10-13T14:15:41.332725Z",
     "shell.execute_reply.started": "2021-10-13T14:08:54.704994Z"
    },
    "papermill": {
     "duration": 0.478221,
     "end_time": "2021-10-13T14:15:41.332937",
     "exception": false,
     "start_time": "2021-10-13T14:15:40.854716",
     "status": "completed"
    },
    "tags": []
   },
   "outputs": [
    {
     "data": {
      "image/png": "[encoded data removed]",
      "text/plain": [
       "<Figure size 360x360 with 1 Axes>"
      ]
     },
     "metadata": {
      "needs_background": "light"
     },
     "output_type": "display_data"
    }
   ],
   "source": [
    "sns.factorplot('Embarked','Survived',data=train_data, color=\"salmon\")\n",
    "fig=plt.gcf()\n",
    "fig.set_size_inches(5,5)\n",
    "plt.show()"
   ]
  },
  {
   "cell_type": "markdown",
   "id": "e5949844",
   "metadata": {
    "papermill": {
     "duration": 0.09083,
     "end_time": "2021-10-13T14:15:41.515410",
     "exception": false,
     "start_time": "2021-10-13T14:15:41.424580",
     "status": "completed"
    },
    "tags": []
   },
   "source": [
    "Aquí podemos ver la probabilidad de sobrevivir dependinedo del puerto del que embarcases. La probabilidad de supervivencia del Puerto C es la mayor del 0.55, mientras que el puerto S y Q tienen una probabilidad mucho menor."
   ]
  },
  {
   "cell_type": "code",
   "execution_count": 23,
   "id": "fa0d9142",
   "metadata": {
    "execution": {
     "iopub.execute_input": "2021-10-13T14:15:41.709923Z",
     "iopub.status.busy": "2021-10-13T14:15:41.709294Z",
     "iopub.status.idle": "2021-10-13T14:15:42.408023Z",
     "shell.execute_reply": "2021-10-13T14:15:42.408547Z",
     "shell.execute_reply.started": "2021-10-13T14:08:55.080569Z"
    },
    "papermill": {
     "duration": 0.800759,
     "end_time": "2021-10-13T14:15:42.408752",
     "exception": false,
     "start_time": "2021-10-13T14:15:41.607993",
     "status": "completed"
    },
    "tags": []
   },
   "outputs": [
    {
     "data": {
      "image/png": "[encoded data removed]",
      "text/plain": [
       "<Figure size 1296x1080 with 4 Axes>"
      ]
     },
     "metadata": {
      "needs_background": "light"
     },
     "output_type": "display_data"
    }
   ],
   "source": [
    "f,ax=plt.subplots(2,2,figsize=(18,15))\n",
    "sns.countplot('Embarked',data=train_data,ax=ax[0,0], palette=\"Pastel1\")\n",
    "ax[0,0].set_title('Número de Pasajeros que Embarcaron en cada Puerto')\n",
    "sns.countplot('Embarked',hue='Sex',data=train_data,ax=ax[0,1], palette=\"Pastel2\")\n",
    "ax[0,1].set_title('Hombres-Mujeres en Embarque de cada Puerto')\n",
    "sns.countplot('Embarked',hue='Survived',data=train_data,ax=ax[1,0], palette=\"Set2\")\n",
    "ax[1,0].set_title('Embarcados en cada puerto vs Personas que sobrevivieron')\n",
    "sns.countplot('Embarked',hue='Pclass',data=train_data,ax=ax[1,1], palette=\"Set3\")\n",
    "ax[1,1].set_title('Embarcados en Puerto vs Clase')\n",
    "plt.subplots_adjust(wspace=0.2,hspace=0.5)\n",
    "plt.show()"
   ]
  },
  {
   "cell_type": "markdown",
   "id": "2a4a71c9",
   "metadata": {
    "papermill": {
     "duration": 0.094811,
     "end_time": "2021-10-13T14:15:42.599334",
     "exception": false,
     "start_time": "2021-10-13T14:15:42.504523",
     "status": "completed"
    },
    "tags": []
   },
   "source": [
    "Vamos a realizar alguna observación de las siguientes figuras:\n",
    "\n",
    "1) La mayoría de pasajeros que embarcaron en el puerto S eran de Clase 3.\n",
    "\n",
    "2) En el puerto C parece que hubo muchas probabilidades de sobrevivir. Esto puede que fuese porque hubiese muchos pasajeros de Clase 1 y Clase 2.\n",
    "\n",
    "3) En el puerto S embarcaron personas ricas (Clase 1). Pero como hubo muchos pasajeros de otras clases, las probilidades de sobrevivir son bajas. \n",
    "\n",
    "4) En el puerto Q solo embarcaron pasajeros de Clase 3.\n",
    "\n",
    "5) Hubo muy pocos pasajeros que embarcasen en puerto Q."
   ]
  },
  {
   "cell_type": "code",
   "execution_count": 24,
   "id": "aca15721",
   "metadata": {
    "execution": {
     "iopub.execute_input": "2021-10-13T14:15:42.794165Z",
     "iopub.status.busy": "2021-10-13T14:15:42.793304Z",
     "iopub.status.idle": "2021-10-13T14:15:44.138995Z",
     "shell.execute_reply": "2021-10-13T14:15:44.138410Z",
     "shell.execute_reply.started": "2021-10-13T14:08:55.746588Z"
    },
    "papermill": {
     "duration": 1.445974,
     "end_time": "2021-10-13T14:15:44.139154",
     "exception": false,
     "start_time": "2021-10-13T14:15:42.693180",
     "status": "completed"
    },
    "tags": []
   },
   "outputs": [
    {
     "data": {
      "image/png": "[encoded data removed]",
      "text/plain": [
       "<Figure size 1150.5x360 with 3 Axes>"
      ]
     },
     "metadata": {
      "needs_background": "light"
     },
     "output_type": "display_data"
    }
   ],
   "source": [
    "sns.factorplot('Pclass','Survived',hue='Sex',col='Embarked',data=train_data, palette=\"Purples\")\n",
    "plt.show()"
   ]
  },
  {
   "cell_type": "markdown",
   "id": "7e883ba2",
   "metadata": {
    "papermill": {
     "duration": 0.097461,
     "end_time": "2021-10-13T14:15:44.333524",
     "exception": false,
     "start_time": "2021-10-13T14:15:44.236063",
     "status": "completed"
    },
    "tags": []
   },
   "source": [
    "Vamos a realizar alguna observación de las siguientes figuras:\n",
    "\n",
    "1) El índice de supervivencia es casi de 1 para Mujeres de Clase 1 y Clase 2.\n",
    "\n",
    "2) Para los hombres el índice de supervivencia de Clase 3 es muy bajo. "
   ]
  },
  {
   "cell_type": "markdown",
   "id": "ad50afb9",
   "metadata": {
    "papermill": {
     "duration": 0.09585,
     "end_time": "2021-10-13T14:15:44.525203",
     "exception": false,
     "start_time": "2021-10-13T14:15:44.429353",
     "status": "completed"
    },
    "tags": []
   },
   "source": [
    "Vamos a seguir rellenando valores NaN\n",
    "\n",
    "Como podemos ver que la mayoría de personas embarcaron del puerto S, vamos a reemplazar los valores nulos por este puerto."
   ]
  },
  {
   "cell_type": "code",
   "execution_count": 25,
   "id": "6e25cbfd",
   "metadata": {
    "execution": {
     "iopub.execute_input": "2021-10-13T14:15:44.722775Z",
     "iopub.status.busy": "2021-10-13T14:15:44.721752Z",
     "iopub.status.idle": "2021-10-13T14:15:44.726490Z",
     "shell.execute_reply": "2021-10-13T14:15:44.727001Z",
     "shell.execute_reply.started": "2021-10-13T14:08:57.061119Z"
    },
    "papermill": {
     "duration": 0.105218,
     "end_time": "2021-10-13T14:15:44.727202",
     "exception": false,
     "start_time": "2021-10-13T14:15:44.621984",
     "status": "completed"
    },
    "tags": []
   },
   "outputs": [],
   "source": [
    "train_data['Embarked'].fillna('S',inplace=True)"
   ]
  },
  {
   "cell_type": "markdown",
   "id": "b152aafa",
   "metadata": {
    "papermill": {
     "duration": 0.102959,
     "end_time": "2021-10-13T14:15:44.926628",
     "exception": false,
     "start_time": "2021-10-13T14:15:44.823669",
     "status": "completed"
    },
    "tags": []
   },
   "source": [
    "Asegurar que no queden valores nulos."
   ]
  },
  {
   "cell_type": "code",
   "execution_count": 26,
   "id": "ccffef6d",
   "metadata": {
    "execution": {
     "iopub.execute_input": "2021-10-13T14:15:45.127131Z",
     "iopub.status.busy": "2021-10-13T14:15:45.123742Z",
     "iopub.status.idle": "2021-10-13T14:15:45.131726Z",
     "shell.execute_reply": "2021-10-13T14:15:45.131092Z",
     "shell.execute_reply.started": "2021-10-13T14:08:57.069300Z"
    },
    "papermill": {
     "duration": 0.10721,
     "end_time": "2021-10-13T14:15:45.131881",
     "exception": false,
     "start_time": "2021-10-13T14:15:45.024671",
     "status": "completed"
    },
    "tags": []
   },
   "outputs": [
    {
     "data": {
      "text/plain": [
       "False"
      ]
     },
     "execution_count": 26,
     "metadata": {},
     "output_type": "execute_result"
    }
   ],
   "source": [
    "train_data.Embarked.isnull().any()"
   ]
  },
  {
   "cell_type": "markdown",
   "id": "df36de3f",
   "metadata": {
    "papermill": {
     "duration": 0.095755,
     "end_time": "2021-10-13T14:15:45.323614",
     "exception": false,
     "start_time": "2021-10-13T14:15:45.227859",
     "status": "completed"
    },
    "tags": []
   },
   "source": [
    "Vamos ahorar a mirar una nueva característica (SibSip). La mayoría de personas viajaron con compañía y vamos a ver la influencia de esta carcterística en el dataset. \n",
    "\n",
    "Esta característica representa si una persona viajó sola o con familiares."
   ]
  },
  {
   "cell_type": "code",
   "execution_count": 27,
   "id": "6e350f3d",
   "metadata": {
    "execution": {
     "iopub.execute_input": "2021-10-13T14:15:45.531658Z",
     "iopub.status.busy": "2021-10-13T14:15:45.522533Z",
     "iopub.status.idle": "2021-10-13T14:15:45.547426Z",
     "shell.execute_reply": "2021-10-13T14:15:45.547904Z",
     "shell.execute_reply.started": "2021-10-13T14:08:57.085103Z"
    },
    "papermill": {
     "duration": 0.12869,
     "end_time": "2021-10-13T14:15:45.548114",
     "exception": false,
     "start_time": "2021-10-13T14:15:45.419424",
     "status": "completed"
    },
    "tags": []
   },
   "outputs": [
    {
     "data": {
      "text/html": [
       "<style type=\"text/css\">\n",
       "#T_4034c_row0_col0, #T_4034c_row0_col1 {\n",
       "  background-color: #cccccc;\n",
       "  color: #000000;\n",
       "}\n",
       "#T_4034c_row1_col0 {\n",
       "  background-color: #fdcdac;\n",
       "  color: #000000;\n",
       "}\n",
       "#T_4034c_row1_col1 {\n",
       "  background-color: #e6f5c9;\n",
       "  color: #000000;\n",
       "}\n",
       "#T_4034c_row2_col0, #T_4034c_row2_col1, #T_4034c_row3_col0, #T_4034c_row3_col1, #T_4034c_row4_col0, #T_4034c_row4_col1, #T_4034c_row5_col0, #T_4034c_row5_col1, #T_4034c_row6_col0, #T_4034c_row6_col1 {\n",
       "  background-color: #b3e2cd;\n",
       "  color: #000000;\n",
       "}\n",
       "</style>\n",
       "<table id=\"T_4034c_\">\n",
       "  <thead>\n",
       "    <tr>\n",
       "      <th class=\"index_name level0\" >Survived</th>\n",
       "      <th class=\"col_heading level0 col0\" >0</th>\n",
       "      <th class=\"col_heading level0 col1\" >1</th>\n",
       "    </tr>\n",
       "    <tr>\n",
       "      <th class=\"index_name level0\" >SibSp</th>\n",
       "      <th class=\"blank col0\" >&nbsp;</th>\n",
       "      <th class=\"blank col1\" >&nbsp;</th>\n",
       "    </tr>\n",
       "  </thead>\n",
       "  <tbody>\n",
       "    <tr>\n",
       "      <th id=\"T_4034c_level0_row0\" class=\"row_heading level0 row0\" >0</th>\n",
       "      <td id=\"T_4034c_row0_col0\" class=\"data row0 col0\" >398</td>\n",
       "      <td id=\"T_4034c_row0_col1\" class=\"data row0 col1\" >210</td>\n",
       "    </tr>\n",
       "    <tr>\n",
       "      <th id=\"T_4034c_level0_row1\" class=\"row_heading level0 row1\" >1</th>\n",
       "      <td id=\"T_4034c_row1_col0\" class=\"data row1 col0\" >97</td>\n",
       "      <td id=\"T_4034c_row1_col1\" class=\"data row1 col1\" >112</td>\n",
       "    </tr>\n",
       "    <tr>\n",
       "      <th id=\"T_4034c_level0_row2\" class=\"row_heading level0 row2\" >2</th>\n",
       "      <td id=\"T_4034c_row2_col0\" class=\"data row2 col0\" >15</td>\n",
       "      <td id=\"T_4034c_row2_col1\" class=\"data row2 col1\" >13</td>\n",
       "    </tr>\n",
       "    <tr>\n",
       "      <th id=\"T_4034c_level0_row3\" class=\"row_heading level0 row3\" >3</th>\n",
       "      <td id=\"T_4034c_row3_col0\" class=\"data row3 col0\" >12</td>\n",
       "      <td id=\"T_4034c_row3_col1\" class=\"data row3 col1\" >4</td>\n",
       "    </tr>\n",
       "    <tr>\n",
       "      <th id=\"T_4034c_level0_row4\" class=\"row_heading level0 row4\" >4</th>\n",
       "      <td id=\"T_4034c_row4_col0\" class=\"data row4 col0\" >15</td>\n",
       "      <td id=\"T_4034c_row4_col1\" class=\"data row4 col1\" >3</td>\n",
       "    </tr>\n",
       "    <tr>\n",
       "      <th id=\"T_4034c_level0_row5\" class=\"row_heading level0 row5\" >5</th>\n",
       "      <td id=\"T_4034c_row5_col0\" class=\"data row5 col0\" >5</td>\n",
       "      <td id=\"T_4034c_row5_col1\" class=\"data row5 col1\" >0</td>\n",
       "    </tr>\n",
       "    <tr>\n",
       "      <th id=\"T_4034c_level0_row6\" class=\"row_heading level0 row6\" >8</th>\n",
       "      <td id=\"T_4034c_row6_col0\" class=\"data row6 col0\" >7</td>\n",
       "      <td id=\"T_4034c_row6_col1\" class=\"data row6 col1\" >0</td>\n",
       "    </tr>\n",
       "  </tbody>\n",
       "</table>\n"
      ],
      "text/plain": [
       "<pandas.io.formats.style.Styler at 0x7fc0dd391a10>"
      ]
     },
     "execution_count": 27,
     "metadata": {},
     "output_type": "execute_result"
    }
   ],
   "source": [
    "pd.crosstab([train_data.SibSp],train_data.Survived).style.background_gradient(cmap='Pastel2')"
   ]
  },
  {
   "cell_type": "code",
   "execution_count": 28,
   "id": "22ac27bb",
   "metadata": {
    "execution": {
     "iopub.execute_input": "2021-10-13T14:15:45.767590Z",
     "iopub.status.busy": "2021-10-13T14:15:45.766747Z",
     "iopub.status.idle": "2021-10-13T14:15:46.846851Z",
     "shell.execute_reply": "2021-10-13T14:15:46.846293Z",
     "shell.execute_reply.started": "2021-10-13T14:08:57.118206Z"
    },
    "papermill": {
     "duration": 1.201068,
     "end_time": "2021-10-13T14:15:46.847001",
     "exception": false,
     "start_time": "2021-10-13T14:15:45.645933",
     "status": "completed"
    },
    "tags": []
   },
   "outputs": [
    {
     "data": {
      "image/png": "[encoded data removed]",
      "text/plain": [
       "<Figure size 1440x576 with 2 Axes>"
      ]
     },
     "metadata": {
      "needs_background": "light"
     },
     "output_type": "display_data"
    },
    {
     "data": {
      "image/png": "[encoded data removed]",
      "text/plain": [
       "<Figure size 360x360 with 1 Axes>"
      ]
     },
     "metadata": {
      "needs_background": "light"
     },
     "output_type": "display_data"
    }
   ],
   "source": [
    "f,ax=plt.subplots(1,2,figsize=(20,8))\n",
    "sns.barplot('SibSp','Survived',data=train_data,ax=ax[0])\n",
    "ax[0].set_title('SibSp vs Survived')\n",
    "sns.factorplot('SibSp','Survived',data=train_data,ax=ax[1], palette=\"Purples\")\n",
    "ax[1].set_title('SibSp vs Survived')\n",
    "plt.show()"
   ]
  },
  {
   "cell_type": "code",
   "execution_count": 29,
   "id": "f49c0ca5",
   "metadata": {
    "execution": {
     "iopub.execute_input": "2021-10-13T14:15:47.055272Z",
     "iopub.status.busy": "2021-10-13T14:15:47.051084Z",
     "iopub.status.idle": "2021-10-13T14:15:47.073386Z",
     "shell.execute_reply": "2021-10-13T14:15:47.073828Z",
     "shell.execute_reply.started": "2021-10-13T14:08:58.205493Z"
    },
    "papermill": {
     "duration": 0.128998,
     "end_time": "2021-10-13T14:15:47.073998",
     "exception": false,
     "start_time": "2021-10-13T14:15:46.945000",
     "status": "completed"
    },
    "tags": []
   },
   "outputs": [
    {
     "data": {
      "text/html": [
       "<style type=\"text/css\">\n",
       "#T_1db70_row0_col0, #T_1db70_row0_col1, #T_1db70_row0_col2 {\n",
       "  background-color: #cccccc;\n",
       "  color: #000000;\n",
       "}\n",
       "#T_1db70_row1_col0 {\n",
       "  background-color: #e6f5c9;\n",
       "  color: #000000;\n",
       "}\n",
       "#T_1db70_row1_col1 {\n",
       "  background-color: #f4cae4;\n",
       "  color: #000000;\n",
       "}\n",
       "#T_1db70_row1_col2 {\n",
       "  background-color: #fdcdac;\n",
       "  color: #000000;\n",
       "}\n",
       "#T_1db70_row2_col0, #T_1db70_row2_col1, #T_1db70_row2_col2, #T_1db70_row3_col0, #T_1db70_row3_col1, #T_1db70_row3_col2, #T_1db70_row4_col0, #T_1db70_row4_col1, #T_1db70_row4_col2, #T_1db70_row5_col0, #T_1db70_row5_col1, #T_1db70_row5_col2, #T_1db70_row6_col0, #T_1db70_row6_col1, #T_1db70_row6_col2 {\n",
       "  background-color: #b3e2cd;\n",
       "  color: #000000;\n",
       "}\n",
       "</style>\n",
       "<table id=\"T_1db70_\">\n",
       "  <thead>\n",
       "    <tr>\n",
       "      <th class=\"index_name level0\" >Pclass</th>\n",
       "      <th class=\"col_heading level0 col0\" >1</th>\n",
       "      <th class=\"col_heading level0 col1\" >2</th>\n",
       "      <th class=\"col_heading level0 col2\" >3</th>\n",
       "    </tr>\n",
       "    <tr>\n",
       "      <th class=\"index_name level0\" >SibSp</th>\n",
       "      <th class=\"blank col0\" >&nbsp;</th>\n",
       "      <th class=\"blank col1\" >&nbsp;</th>\n",
       "      <th class=\"blank col2\" >&nbsp;</th>\n",
       "    </tr>\n",
       "  </thead>\n",
       "  <tbody>\n",
       "    <tr>\n",
       "      <th id=\"T_1db70_level0_row0\" class=\"row_heading level0 row0\" >0</th>\n",
       "      <td id=\"T_1db70_row0_col0\" class=\"data row0 col0\" >137</td>\n",
       "      <td id=\"T_1db70_row0_col1\" class=\"data row0 col1\" >120</td>\n",
       "      <td id=\"T_1db70_row0_col2\" class=\"data row0 col2\" >351</td>\n",
       "    </tr>\n",
       "    <tr>\n",
       "      <th id=\"T_1db70_level0_row1\" class=\"row_heading level0 row1\" >1</th>\n",
       "      <td id=\"T_1db70_row1_col0\" class=\"data row1 col0\" >71</td>\n",
       "      <td id=\"T_1db70_row1_col1\" class=\"data row1 col1\" >55</td>\n",
       "      <td id=\"T_1db70_row1_col2\" class=\"data row1 col2\" >83</td>\n",
       "    </tr>\n",
       "    <tr>\n",
       "      <th id=\"T_1db70_level0_row2\" class=\"row_heading level0 row2\" >2</th>\n",
       "      <td id=\"T_1db70_row2_col0\" class=\"data row2 col0\" >5</td>\n",
       "      <td id=\"T_1db70_row2_col1\" class=\"data row2 col1\" >8</td>\n",
       "      <td id=\"T_1db70_row2_col2\" class=\"data row2 col2\" >15</td>\n",
       "    </tr>\n",
       "    <tr>\n",
       "      <th id=\"T_1db70_level0_row3\" class=\"row_heading level0 row3\" >3</th>\n",
       "      <td id=\"T_1db70_row3_col0\" class=\"data row3 col0\" >3</td>\n",
       "      <td id=\"T_1db70_row3_col1\" class=\"data row3 col1\" >1</td>\n",
       "      <td id=\"T_1db70_row3_col2\" class=\"data row3 col2\" >12</td>\n",
       "    </tr>\n",
       "    <tr>\n",
       "      <th id=\"T_1db70_level0_row4\" class=\"row_heading level0 row4\" >4</th>\n",
       "      <td id=\"T_1db70_row4_col0\" class=\"data row4 col0\" >0</td>\n",
       "      <td id=\"T_1db70_row4_col1\" class=\"data row4 col1\" >0</td>\n",
       "      <td id=\"T_1db70_row4_col2\" class=\"data row4 col2\" >18</td>\n",
       "    </tr>\n",
       "    <tr>\n",
       "      <th id=\"T_1db70_level0_row5\" class=\"row_heading level0 row5\" >5</th>\n",
       "      <td id=\"T_1db70_row5_col0\" class=\"data row5 col0\" >0</td>\n",
       "      <td id=\"T_1db70_row5_col1\" class=\"data row5 col1\" >0</td>\n",
       "      <td id=\"T_1db70_row5_col2\" class=\"data row5 col2\" >5</td>\n",
       "    </tr>\n",
       "    <tr>\n",
       "      <th id=\"T_1db70_level0_row6\" class=\"row_heading level0 row6\" >8</th>\n",
       "      <td id=\"T_1db70_row6_col0\" class=\"data row6 col0\" >0</td>\n",
       "      <td id=\"T_1db70_row6_col1\" class=\"data row6 col1\" >0</td>\n",
       "      <td id=\"T_1db70_row6_col2\" class=\"data row6 col2\" >7</td>\n",
       "    </tr>\n",
       "  </tbody>\n",
       "</table>\n"
      ],
      "text/plain": [
       "<pandas.io.formats.style.Styler at 0x7fc0dcf94310>"
      ]
     },
     "execution_count": 29,
     "metadata": {},
     "output_type": "execute_result"
    }
   ],
   "source": [
    "pd.crosstab(train_data.SibSp,train_data.Pclass).style.background_gradient(cmap='Pastel2')"
   ]
  },
  {
   "cell_type": "markdown",
   "id": "7e0b5a70",
   "metadata": {
    "papermill": {
     "duration": 0.0973,
     "end_time": "2021-10-13T14:15:47.269101",
     "exception": false,
     "start_time": "2021-10-13T14:15:47.171801",
     "status": "completed"
    },
    "tags": []
   },
   "source": [
    "El barplot y factorplot muestra que si un pasajero está solo tiene en torno al 30% de índice de supervivencia. Al aumentar el número de familiares decrece el índice de supervivencia. Tiene sentido, si estamos con familia intentaremos salvar a nuestros seres queridos. \n",
    "\n",
    "Pero en vamos que viajando con miembros de familia de entre 5-8, es del 0%. A lo mejor es por la clase.\n",
    "\n",
    "Más tarde vemos que es así, las personas con más de 3 hermanos estaban casi todos en Clase 3. Familias más humildes y con mayor número de hijos.\n"
   ]
  },
  {
   "cell_type": "markdown",
   "id": "307578bc",
   "metadata": {
    "papermill": {
     "duration": 0.097454,
     "end_time": "2021-10-13T14:15:47.464582",
     "exception": false,
     "start_time": "2021-10-13T14:15:47.367128",
     "status": "completed"
    },
    "tags": []
   },
   "source": [
    "Ahora miramos otra característica importante, la tarifa."
   ]
  },
  {
   "cell_type": "code",
   "execution_count": 30,
   "id": "9f7bfb3e",
   "metadata": {
    "execution": {
     "iopub.execute_input": "2021-10-13T14:15:47.668528Z",
     "iopub.status.busy": "2021-10-13T14:15:47.667781Z",
     "iopub.status.idle": "2021-10-13T14:15:47.670597Z",
     "shell.execute_reply": "2021-10-13T14:15:47.671090Z",
     "shell.execute_reply.started": "2021-10-13T14:08:58.237141Z"
    },
    "papermill": {
     "duration": 0.10894,
     "end_time": "2021-10-13T14:15:47.671319",
     "exception": false,
     "start_time": "2021-10-13T14:15:47.562379",
     "status": "completed"
    },
    "tags": []
   },
   "outputs": [
    {
     "name": "stdout",
     "output_type": "stream",
     "text": [
      "La tarifa más alta fue: 512.3292\n",
      "La tarifa más baja fue: 0.0\n",
      "La tarifa media fue: 32.2042079685746\n"
     ]
    }
   ],
   "source": [
    "print('La tarifa más alta fue:',train_data['Fare'].max())\n",
    "print('La tarifa más baja fue:',train_data['Fare'].min())\n",
    "print('La tarifa media fue:',train_data['Fare'].mean())"
   ]
  },
  {
   "cell_type": "code",
   "execution_count": 31,
   "id": "28eedb89",
   "metadata": {
    "execution": {
     "iopub.execute_input": "2021-10-13T14:15:48.082478Z",
     "iopub.status.busy": "2021-10-13T14:15:48.081638Z",
     "iopub.status.idle": "2021-10-13T14:15:48.732362Z",
     "shell.execute_reply": "2021-10-13T14:15:48.731629Z",
     "shell.execute_reply.started": "2021-10-13T14:08:58.245286Z"
    },
    "papermill": {
     "duration": 0.95911,
     "end_time": "2021-10-13T14:15:48.732535",
     "exception": false,
     "start_time": "2021-10-13T14:15:47.773425",
     "status": "completed"
    },
    "tags": []
   },
   "outputs": [
    {
     "data": {
      "image/png": "[encoded data removed]",
      "text/plain": [
       "<Figure size 1440x576 with 3 Axes>"
      ]
     },
     "metadata": {
      "needs_background": "light"
     },
     "output_type": "display_data"
    }
   ],
   "source": [
    "f,ax=plt.subplots(1,3,figsize=(20,8))\n",
    "sns.distplot(train_data[train_data['Pclass']==1].Fare,ax=ax[0], color=\"orange\")\n",
    "ax[0].set_title('Tarifa en clase 1')\n",
    "sns.distplot(train_data[train_data['Pclass']==2].Fare,ax=ax[1], color=\"darkolivegreen\")\n",
    "ax[1].set_title('Tarifa en clase 2')\n",
    "sns.distplot(train_data[train_data['Pclass']==3].Fare,ax=ax[2])\n",
    "ax[2].set_title('Tarifa en clase 3')\n",
    "plt.show()"
   ]
  },
  {
   "cell_type": "markdown",
   "id": "9cd02e46",
   "metadata": {
    "papermill": {
     "duration": 0.103675,
     "end_time": "2021-10-13T14:15:48.939378",
     "exception": false,
     "start_time": "2021-10-13T14:15:48.835703",
     "status": "completed"
    },
    "tags": []
   },
   "source": [
    "En estos gráficos podemos ver la proporción de las tarifas en las distintas clases. Parece una característica correlacionada con las clase del barco."
   ]
  },
  {
   "cell_type": "markdown",
   "id": "d1207e29",
   "metadata": {
    "papermill": {
     "duration": 0.100854,
     "end_time": "2021-10-13T14:15:49.143766",
     "exception": false,
     "start_time": "2021-10-13T14:15:49.042912",
     "status": "completed"
    },
    "tags": []
   },
   "source": [
    "Por último en nuestro EDA, vamos a mirar la correlación entre caracterísiticas con nuestro heatmap."
   ]
  },
  {
   "cell_type": "code",
   "execution_count": 32,
   "id": "fa3c7665",
   "metadata": {
    "execution": {
     "iopub.execute_input": "2021-10-13T14:15:49.357533Z",
     "iopub.status.busy": "2021-10-13T14:15:49.356761Z",
     "iopub.status.idle": "2021-10-13T14:15:49.902387Z",
     "shell.execute_reply": "2021-10-13T14:15:49.901456Z",
     "shell.execute_reply.started": "2021-10-13T14:08:59.064903Z"
    },
    "papermill": {
     "duration": 0.656135,
     "end_time": "2021-10-13T14:15:49.902619",
     "exception": false,
     "start_time": "2021-10-13T14:15:49.246484",
     "status": "completed"
    },
    "tags": []
   },
   "outputs": [
    {
     "data": {
      "image/png": "[encoded data removed]",
      "text/plain": [
       "<Figure size 720x576 with 2 Axes>"
      ]
     },
     "metadata": {
      "needs_background": "light"
     },
     "output_type": "display_data"
    }
   ],
   "source": [
    "sns.heatmap(train_data.corr(),annot=True,cmap='RdYlGn',linewidths=0.4) \n",
    "fig=plt.gcf()\n",
    "fig.set_size_inches(10,8)\n",
    "plt.show()"
   ]
  },
  {
   "cell_type": "markdown",
   "id": "e412864a",
   "metadata": {
    "papermill": {
     "duration": 0.102606,
     "end_time": "2021-10-13T14:15:50.131207",
     "exception": false,
     "start_time": "2021-10-13T14:15:50.028601",
     "status": "completed"
    },
    "tags": []
   },
   "source": [
    "\n",
    "- POSITIVE CORRELATION: If an increase in feature A leads to increase in feature B, then they are positively correlated. A value 1 means perfect positive correlation.\n",
    "\n",
    "- NEGATIVE CORRELATION: If an increase in feature A leads to decrease in feature B, then they are negatively correlated. A value -1 means perfect negative correlation.\n",
    "\n",
    "Si dos características están correlacionadas positivamente, indica que la información que contienen es muy similar. Esto se conoce como MultiColinearity.\n",
    "\n",
    "A lo mejor esa información es rebundante y no necesitamos usarla. En el proceso de entrenamiento debemos intentar eliminar este tipo de información.\n",
    "\n",
    "En nuestro heatmap no hay ninguna característica que este demasiado correlacionada con otra."
   ]
  },
  {
   "cell_type": "markdown",
   "id": "80cc2d11",
   "metadata": {
    "papermill": {
     "duration": 0.101283,
     "end_time": "2021-10-13T14:15:50.333874",
     "exception": false,
     "start_time": "2021-10-13T14:15:50.232591",
     "status": "completed"
    },
    "tags": []
   },
   "source": [
    "Después de realizar el preprocesado de datos vamos a contruir nuestro modelo\n",
    "\n",
    "Observamos nuestro conjunto de datos"
   ]
  },
  {
   "cell_type": "code",
   "execution_count": 33,
   "id": "76cfce25",
   "metadata": {
    "execution": {
     "iopub.execute_input": "2021-10-13T14:15:50.556640Z",
     "iopub.status.busy": "2021-10-13T14:15:50.555960Z",
     "iopub.status.idle": "2021-10-13T14:15:50.564131Z",
     "shell.execute_reply": "2021-10-13T14:15:50.563535Z",
     "shell.execute_reply.started": "2021-10-13T14:08:59.575318Z"
    },
    "papermill": {
     "duration": 0.128101,
     "end_time": "2021-10-13T14:15:50.564308",
     "exception": false,
     "start_time": "2021-10-13T14:15:50.436207",
     "status": "completed"
    },
    "tags": []
   },
   "outputs": [
    {
     "data": {
      "text/html": [
       "<div>\n",
       "<style scoped>\n",
       "    .dataframe tbody tr th:only-of-type {\n",
       "        vertical-align: middle;\n",
       "    }\n",
       "\n",
       "    .dataframe tbody tr th {\n",
       "        vertical-align: top;\n",
       "    }\n",
       "\n",
       "    .dataframe thead th {\n",
       "        text-align: right;\n",
       "    }\n",
       "</style>\n",
       "<table border=\"1\" class=\"dataframe\">\n",
       "  <thead>\n",
       "    <tr style=\"text-align: right;\">\n",
       "      <th></th>\n",
       "      <th>PassengerId</th>\n",
       "      <th>Survived</th>\n",
       "      <th>Pclass</th>\n",
       "      <th>Name</th>\n",
       "      <th>Sex</th>\n",
       "      <th>Age</th>\n",
       "      <th>SibSp</th>\n",
       "      <th>Parch</th>\n",
       "      <th>Ticket</th>\n",
       "      <th>Fare</th>\n",
       "      <th>Cabin</th>\n",
       "      <th>Embarked</th>\n",
       "      <th>Initial</th>\n",
       "    </tr>\n",
       "  </thead>\n",
       "  <tbody>\n",
       "    <tr>\n",
       "      <th>0</th>\n",
       "      <td>1</td>\n",
       "      <td>0</td>\n",
       "      <td>3</td>\n",
       "      <td>Braund, Mr. Owen Harris</td>\n",
       "      <td>male</td>\n",
       "      <td>22.0</td>\n",
       "      <td>1</td>\n",
       "      <td>0</td>\n",
       "      <td>A/5 21171</td>\n",
       "      <td>7.2500</td>\n",
       "      <td>NaN</td>\n",
       "      <td>S</td>\n",
       "      <td>Mr</td>\n",
       "    </tr>\n",
       "    <tr>\n",
       "      <th>1</th>\n",
       "      <td>2</td>\n",
       "      <td>1</td>\n",
       "      <td>1</td>\n",
       "      <td>Cumings, Mrs. John Bradley (Florence Briggs Th...</td>\n",
       "      <td>female</td>\n",
       "      <td>38.0</td>\n",
       "      <td>1</td>\n",
       "      <td>0</td>\n",
       "      <td>PC 17599</td>\n",
       "      <td>71.2833</td>\n",
       "      <td>C85</td>\n",
       "      <td>C</td>\n",
       "      <td>Mrs</td>\n",
       "    </tr>\n",
       "    <tr>\n",
       "      <th>2</th>\n",
       "      <td>3</td>\n",
       "      <td>1</td>\n",
       "      <td>3</td>\n",
       "      <td>Heikkinen, Miss. Laina</td>\n",
       "      <td>female</td>\n",
       "      <td>26.0</td>\n",
       "      <td>0</td>\n",
       "      <td>0</td>\n",
       "      <td>STON/O2. 3101282</td>\n",
       "      <td>7.9250</td>\n",
       "      <td>NaN</td>\n",
       "      <td>S</td>\n",
       "      <td>Miss</td>\n",
       "    </tr>\n",
       "    <tr>\n",
       "      <th>3</th>\n",
       "      <td>4</td>\n",
       "      <td>1</td>\n",
       "      <td>1</td>\n",
       "      <td>Futrelle, Mrs. Jacques Heath (Lily May Peel)</td>\n",
       "      <td>female</td>\n",
       "      <td>35.0</td>\n",
       "      <td>1</td>\n",
       "      <td>0</td>\n",
       "      <td>113803</td>\n",
       "      <td>53.1000</td>\n",
       "      <td>C123</td>\n",
       "      <td>S</td>\n",
       "      <td>Mrs</td>\n",
       "    </tr>\n",
       "    <tr>\n",
       "      <th>4</th>\n",
       "      <td>5</td>\n",
       "      <td>0</td>\n",
       "      <td>3</td>\n",
       "      <td>Allen, Mr. William Henry</td>\n",
       "      <td>male</td>\n",
       "      <td>35.0</td>\n",
       "      <td>0</td>\n",
       "      <td>0</td>\n",
       "      <td>373450</td>\n",
       "      <td>8.0500</td>\n",
       "      <td>NaN</td>\n",
       "      <td>S</td>\n",
       "      <td>Mr</td>\n",
       "    </tr>\n",
       "  </tbody>\n",
       "</table>\n",
       "</div>"
      ],
      "text/plain": [
       "   PassengerId  Survived  Pclass  \\\n",
       "0            1         0       3   \n",
       "1            2         1       1   \n",
       "2            3         1       3   \n",
       "3            4         1       1   \n",
       "4            5         0       3   \n",
       "\n",
       "                                                Name     Sex   Age  SibSp  \\\n",
       "0                            Braund, Mr. Owen Harris    male  22.0      1   \n",
       "1  Cumings, Mrs. John Bradley (Florence Briggs Th...  female  38.0      1   \n",
       "2                             Heikkinen, Miss. Laina  female  26.0      0   \n",
       "3       Futrelle, Mrs. Jacques Heath (Lily May Peel)  female  35.0      1   \n",
       "4                           Allen, Mr. William Henry    male  35.0      0   \n",
       "\n",
       "   Parch            Ticket     Fare Cabin Embarked Initial  \n",
       "0      0         A/5 21171   7.2500   NaN        S      Mr  \n",
       "1      0          PC 17599  71.2833   C85        C     Mrs  \n",
       "2      0  STON/O2. 3101282   7.9250   NaN        S    Miss  \n",
       "3      0            113803  53.1000  C123        S     Mrs  \n",
       "4      0            373450   8.0500   NaN        S      Mr  "
      ]
     },
     "execution_count": 33,
     "metadata": {},
     "output_type": "execute_result"
    }
   ],
   "source": [
    "train_data.head()"
   ]
  },
  {
   "cell_type": "markdown",
   "id": "f7b5c870",
   "metadata": {
    "papermill": {
     "duration": 0.102866,
     "end_time": "2021-10-13T14:15:50.772064",
     "exception": false,
     "start_time": "2021-10-13T14:15:50.669198",
     "status": "completed"
    },
    "tags": []
   },
   "source": [
    "La columna Cabina podemos pensar que no es demasiado relevante para nuestro modelo. Vamos a borrarla de nuestro conjunto de entrenamiento y test."
   ]
  },
  {
   "cell_type": "code",
   "execution_count": 34,
   "id": "a4f92673",
   "metadata": {
    "execution": {
     "iopub.execute_input": "2021-10-13T14:15:50.993599Z",
     "iopub.status.busy": "2021-10-13T14:15:50.992849Z",
     "iopub.status.idle": "2021-10-13T14:15:50.995587Z",
     "shell.execute_reply": "2021-10-13T14:15:50.995043Z",
     "shell.execute_reply.started": "2021-10-13T14:08:59.591818Z"
    },
    "papermill": {
     "duration": 0.115799,
     "end_time": "2021-10-13T14:15:50.995755",
     "exception": false,
     "start_time": "2021-10-13T14:15:50.879956",
     "status": "completed"
    },
    "tags": []
   },
   "outputs": [],
   "source": [
    "train_data.drop('Cabin', axis = 1, inplace = True)\n",
    "test_data.drop('Cabin', axis = 1, inplace = True)"
   ]
  },
  {
   "cell_type": "markdown",
   "id": "6a51bc27",
   "metadata": {
    "papermill": {
     "duration": 0.10263,
     "end_time": "2021-10-13T14:15:51.202032",
     "exception": false,
     "start_time": "2021-10-13T14:15:51.099402",
     "status": "completed"
    },
    "tags": []
   },
   "source": [
    "Comprobamos que se ha borrado correctamente. También habría que comprobarlo de nuestro conjunto test."
   ]
  },
  {
   "cell_type": "code",
   "execution_count": 35,
   "id": "ca4bb2c4",
   "metadata": {
    "execution": {
     "iopub.execute_input": "2021-10-13T14:15:51.424463Z",
     "iopub.status.busy": "2021-10-13T14:15:51.423755Z",
     "iopub.status.idle": "2021-10-13T14:15:51.427443Z",
     "shell.execute_reply": "2021-10-13T14:15:51.426915Z",
     "shell.execute_reply.started": "2021-10-13T14:08:59.604341Z"
    },
    "papermill": {
     "duration": 0.122736,
     "end_time": "2021-10-13T14:15:51.427604",
     "exception": false,
     "start_time": "2021-10-13T14:15:51.304868",
     "status": "completed"
    },
    "tags": []
   },
   "outputs": [
    {
     "data": {
      "text/html": [
       "<div>\n",
       "<style scoped>\n",
       "    .dataframe tbody tr th:only-of-type {\n",
       "        vertical-align: middle;\n",
       "    }\n",
       "\n",
       "    .dataframe tbody tr th {\n",
       "        vertical-align: top;\n",
       "    }\n",
       "\n",
       "    .dataframe thead th {\n",
       "        text-align: right;\n",
       "    }\n",
       "</style>\n",
       "<table border=\"1\" class=\"dataframe\">\n",
       "  <thead>\n",
       "    <tr style=\"text-align: right;\">\n",
       "      <th></th>\n",
       "      <th>PassengerId</th>\n",
       "      <th>Survived</th>\n",
       "      <th>Pclass</th>\n",
       "      <th>Name</th>\n",
       "      <th>Sex</th>\n",
       "      <th>Age</th>\n",
       "      <th>SibSp</th>\n",
       "      <th>Parch</th>\n",
       "      <th>Ticket</th>\n",
       "      <th>Fare</th>\n",
       "      <th>Embarked</th>\n",
       "      <th>Initial</th>\n",
       "    </tr>\n",
       "  </thead>\n",
       "  <tbody>\n",
       "    <tr>\n",
       "      <th>0</th>\n",
       "      <td>1</td>\n",
       "      <td>0</td>\n",
       "      <td>3</td>\n",
       "      <td>Braund, Mr. Owen Harris</td>\n",
       "      <td>male</td>\n",
       "      <td>22.0</td>\n",
       "      <td>1</td>\n",
       "      <td>0</td>\n",
       "      <td>A/5 21171</td>\n",
       "      <td>7.2500</td>\n",
       "      <td>S</td>\n",
       "      <td>Mr</td>\n",
       "    </tr>\n",
       "    <tr>\n",
       "      <th>1</th>\n",
       "      <td>2</td>\n",
       "      <td>1</td>\n",
       "      <td>1</td>\n",
       "      <td>Cumings, Mrs. John Bradley (Florence Briggs Th...</td>\n",
       "      <td>female</td>\n",
       "      <td>38.0</td>\n",
       "      <td>1</td>\n",
       "      <td>0</td>\n",
       "      <td>PC 17599</td>\n",
       "      <td>71.2833</td>\n",
       "      <td>C</td>\n",
       "      <td>Mrs</td>\n",
       "    </tr>\n",
       "    <tr>\n",
       "      <th>2</th>\n",
       "      <td>3</td>\n",
       "      <td>1</td>\n",
       "      <td>3</td>\n",
       "      <td>Heikkinen, Miss. Laina</td>\n",
       "      <td>female</td>\n",
       "      <td>26.0</td>\n",
       "      <td>0</td>\n",
       "      <td>0</td>\n",
       "      <td>STON/O2. 3101282</td>\n",
       "      <td>7.9250</td>\n",
       "      <td>S</td>\n",
       "      <td>Miss</td>\n",
       "    </tr>\n",
       "    <tr>\n",
       "      <th>3</th>\n",
       "      <td>4</td>\n",
       "      <td>1</td>\n",
       "      <td>1</td>\n",
       "      <td>Futrelle, Mrs. Jacques Heath (Lily May Peel)</td>\n",
       "      <td>female</td>\n",
       "      <td>35.0</td>\n",
       "      <td>1</td>\n",
       "      <td>0</td>\n",
       "      <td>113803</td>\n",
       "      <td>53.1000</td>\n",
       "      <td>S</td>\n",
       "      <td>Mrs</td>\n",
       "    </tr>\n",
       "    <tr>\n",
       "      <th>4</th>\n",
       "      <td>5</td>\n",
       "      <td>0</td>\n",
       "      <td>3</td>\n",
       "      <td>Allen, Mr. William Henry</td>\n",
       "      <td>male</td>\n",
       "      <td>35.0</td>\n",
       "      <td>0</td>\n",
       "      <td>0</td>\n",
       "      <td>373450</td>\n",
       "      <td>8.0500</td>\n",
       "      <td>S</td>\n",
       "      <td>Mr</td>\n",
       "    </tr>\n",
       "  </tbody>\n",
       "</table>\n",
       "</div>"
      ],
      "text/plain": [
       "   PassengerId  Survived  Pclass  \\\n",
       "0            1         0       3   \n",
       "1            2         1       1   \n",
       "2            3         1       3   \n",
       "3            4         1       1   \n",
       "4            5         0       3   \n",
       "\n",
       "                                                Name     Sex   Age  SibSp  \\\n",
       "0                            Braund, Mr. Owen Harris    male  22.0      1   \n",
       "1  Cumings, Mrs. John Bradley (Florence Briggs Th...  female  38.0      1   \n",
       "2                             Heikkinen, Miss. Laina  female  26.0      0   \n",
       "3       Futrelle, Mrs. Jacques Heath (Lily May Peel)  female  35.0      1   \n",
       "4                           Allen, Mr. William Henry    male  35.0      0   \n",
       "\n",
       "   Parch            Ticket     Fare Embarked Initial  \n",
       "0      0         A/5 21171   7.2500        S      Mr  \n",
       "1      0          PC 17599  71.2833        C     Mrs  \n",
       "2      0  STON/O2. 3101282   7.9250        S    Miss  \n",
       "3      0            113803  53.1000        S     Mrs  \n",
       "4      0            373450   8.0500        S      Mr  "
      ]
     },
     "execution_count": 35,
     "metadata": {},
     "output_type": "execute_result"
    }
   ],
   "source": [
    "train_data.head()"
   ]
  },
  {
   "cell_type": "markdown",
   "id": "a0a26069",
   "metadata": {
    "papermill": {
     "duration": 0.104927,
     "end_time": "2021-10-13T14:15:51.636270",
     "exception": false,
     "start_time": "2021-10-13T14:15:51.531343",
     "status": "completed"
    },
    "tags": []
   },
   "source": [
    "Realizamos la combinación de datos de entrenamiento y test para que nos sea más sencillo modificar las acciones que queremos en ambas partes. Anteriormente ya habíamos cambiado la edad por la media en el conjunto de entrenamiento, lo hacemos también para el de prueba. Lo mismo para la tarifa y para el embarque ( el puerto S es mayoritario)"
   ]
  },
  {
   "cell_type": "code",
   "execution_count": 36,
   "id": "183f770d",
   "metadata": {
    "execution": {
     "iopub.execute_input": "2021-10-13T14:15:51.851391Z",
     "iopub.status.busy": "2021-10-13T14:15:51.850607Z",
     "iopub.status.idle": "2021-10-13T14:15:51.853699Z",
     "shell.execute_reply": "2021-10-13T14:15:51.853150Z",
     "shell.execute_reply.started": "2021-10-13T14:08:59.627519Z"
    },
    "papermill": {
     "duration": 0.115489,
     "end_time": "2021-10-13T14:15:51.853865",
     "exception": false,
     "start_time": "2021-10-13T14:15:51.738376",
     "status": "completed"
    },
    "tags": []
   },
   "outputs": [],
   "source": [
    "combined_data = [train_data, test_data]\n",
    "for data in combined_data:\n",
    "    data.Age.fillna(data.Age.mean(), inplace = True)\n",
    "    data.Fare.fillna(data.Fare.mean(), inplace = True)\n",
    "train_data.Embarked.fillna('S', inplace = True)"
   ]
  },
  {
   "cell_type": "markdown",
   "id": "d5a8a88d",
   "metadata": {
    "papermill": {
     "duration": 0.10506,
     "end_time": "2021-10-13T14:15:52.063767",
     "exception": false,
     "start_time": "2021-10-13T14:15:51.958707",
     "status": "completed"
    },
    "tags": []
   },
   "source": [
    "Para entrenar nuestra red neuronal necesitamos deshacernos de las características categóricas y transformarlas en entradas que nuestra red pueda aprender."
   ]
  },
  {
   "cell_type": "code",
   "execution_count": 37,
   "id": "822f843e",
   "metadata": {
    "execution": {
     "iopub.execute_input": "2021-10-13T14:15:52.282482Z",
     "iopub.status.busy": "2021-10-13T14:15:52.281821Z",
     "iopub.status.idle": "2021-10-13T14:15:52.284402Z",
     "shell.execute_reply": "2021-10-13T14:15:52.283723Z",
     "shell.execute_reply.started": "2021-10-13T14:08:59.642951Z"
    },
    "papermill": {
     "duration": 0.116622,
     "end_time": "2021-10-13T14:15:52.284577",
     "exception": false,
     "start_time": "2021-10-13T14:15:52.167955",
     "status": "completed"
    },
    "tags": []
   },
   "outputs": [],
   "source": [
    "def change_gender(x):\n",
    "    if x == 'male':\n",
    "        return 0\n",
    "    elif x == 'female':\n",
    "        return 1\n",
    "train_data.Sex = train_data.Sex.apply(change_gender)\n",
    "test_data.Sex = test_data.Sex.apply(change_gender)"
   ]
  },
  {
   "cell_type": "markdown",
   "id": "354cf315",
   "metadata": {
    "papermill": {
     "duration": 0.10467,
     "end_time": "2021-10-13T14:15:52.493077",
     "exception": false,
     "start_time": "2021-10-13T14:15:52.388407",
     "status": "completed"
    },
    "tags": []
   },
   "source": [
    "También necesitamos cambiar los puertos S, C y Q por los valores continuos 1, 2 y 3"
   ]
  },
  {
   "cell_type": "code",
   "execution_count": 38,
   "id": "11696ed1",
   "metadata": {
    "execution": {
     "iopub.execute_input": "2021-10-13T14:15:52.709438Z",
     "iopub.status.busy": "2021-10-13T14:15:52.708738Z",
     "iopub.status.idle": "2021-10-13T14:15:52.713954Z",
     "shell.execute_reply": "2021-10-13T14:15:52.713291Z",
     "shell.execute_reply.started": "2021-10-13T14:08:59.656467Z"
    },
    "papermill": {
     "duration": 0.116722,
     "end_time": "2021-10-13T14:15:52.714116",
     "exception": false,
     "start_time": "2021-10-13T14:15:52.597394",
     "status": "completed"
    },
    "tags": []
   },
   "outputs": [],
   "source": [
    "change = {'S':1,'C':2,'Q':0}\n",
    "train_data.Embarked = train_data.Embarked.map(change)\n",
    "test_data.Embarked = test_data.Embarked.map(change)"
   ]
  },
  {
   "cell_type": "markdown",
   "id": "7a463bbf",
   "metadata": {
    "papermill": {
     "duration": 0.106051,
     "end_time": "2021-10-13T14:15:52.925102",
     "exception": false,
     "start_time": "2021-10-13T14:15:52.819051",
     "status": "completed"
    },
    "tags": []
   },
   "source": [
    "Las características SibSp y Parch están altamente relacionadas por ello las combinamos y creamos una característica nueva Alone. \n",
    "\n",
    "Dependiendo si la persona viajó sola o no, se escribirá un 0 o un 1."
   ]
  },
  {
   "cell_type": "code",
   "execution_count": 39,
   "id": "64d87e3a",
   "metadata": {
    "execution": {
     "iopub.execute_input": "2021-10-13T14:15:53.148734Z",
     "iopub.status.busy": "2021-10-13T14:15:53.147934Z",
     "iopub.status.idle": "2021-10-13T14:15:53.151237Z",
     "shell.execute_reply": "2021-10-13T14:15:53.150667Z",
     "shell.execute_reply.started": "2021-10-13T14:08:59.670432Z"
    },
    "papermill": {
     "duration": 0.120061,
     "end_time": "2021-10-13T14:15:53.151435",
     "exception": false,
     "start_time": "2021-10-13T14:15:53.031374",
     "status": "completed"
    },
    "tags": []
   },
   "outputs": [],
   "source": [
    "train_data['Alone'] = train_data.SibSp + train_data.Parch\n",
    "test_data['Alone'] = test_data.SibSp + test_data.Parch\n",
    "\n",
    "train_data.Alone = train_data.Alone.apply(lambda x: 1 if x == 0 else 0)\n",
    "test_data.Alone = test_data.Alone.apply(lambda x: 1 if x == 0 else 0)"
   ]
  },
  {
   "cell_type": "markdown",
   "id": "7a2c2c93",
   "metadata": {
    "papermill": {
     "duration": 0.1032,
     "end_time": "2021-10-13T14:15:53.359913",
     "exception": false,
     "start_time": "2021-10-13T14:15:53.256713",
     "status": "completed"
    },
    "tags": []
   },
   "source": [
    "Quitamos estas columnas que ya no utilizaremos"
   ]
  },
  {
   "cell_type": "code",
   "execution_count": 40,
   "id": "2230953b",
   "metadata": {
    "execution": {
     "iopub.execute_input": "2021-10-13T14:15:53.574454Z",
     "iopub.status.busy": "2021-10-13T14:15:53.573433Z",
     "iopub.status.idle": "2021-10-13T14:15:53.578106Z",
     "shell.execute_reply": "2021-10-13T14:15:53.578719Z",
     "shell.execute_reply.started": "2021-10-13T14:08:59.685406Z"
    },
    "papermill": {
     "duration": 0.115368,
     "end_time": "2021-10-13T14:15:53.578919",
     "exception": false,
     "start_time": "2021-10-13T14:15:53.463551",
     "status": "completed"
    },
    "tags": []
   },
   "outputs": [],
   "source": [
    "train_data.drop(['SibSp','Parch'], axis = 1, inplace = True)\n",
    "test_data.drop(['SibSp','Parch'], axis = 1, inplace = True )"
   ]
  },
  {
   "cell_type": "markdown",
   "id": "3017db8e",
   "metadata": {
    "papermill": {
     "duration": 0.102174,
     "end_time": "2021-10-13T14:15:53.786722",
     "exception": false,
     "start_time": "2021-10-13T14:15:53.684548",
     "status": "completed"
    },
    "tags": []
   },
   "source": [
    "Comprobamos si los cambios que hemos realizado son los que queremos en nuestro conjunto de datos final"
   ]
  },
  {
   "cell_type": "code",
   "execution_count": 41,
   "id": "854b03b3",
   "metadata": {
    "execution": {
     "iopub.execute_input": "2021-10-13T14:15:54.009427Z",
     "iopub.status.busy": "2021-10-13T14:15:53.997283Z",
     "iopub.status.idle": "2021-10-13T14:15:54.013733Z",
     "shell.execute_reply": "2021-10-13T14:15:54.013191Z",
     "shell.execute_reply.started": "2021-10-13T14:08:59.701614Z"
    },
    "papermill": {
     "duration": 0.124666,
     "end_time": "2021-10-13T14:15:54.013873",
     "exception": false,
     "start_time": "2021-10-13T14:15:53.889207",
     "status": "completed"
    },
    "tags": []
   },
   "outputs": [
    {
     "data": {
      "text/html": [
       "<div>\n",
       "<style scoped>\n",
       "    .dataframe tbody tr th:only-of-type {\n",
       "        vertical-align: middle;\n",
       "    }\n",
       "\n",
       "    .dataframe tbody tr th {\n",
       "        vertical-align: top;\n",
       "    }\n",
       "\n",
       "    .dataframe thead th {\n",
       "        text-align: right;\n",
       "    }\n",
       "</style>\n",
       "<table border=\"1\" class=\"dataframe\">\n",
       "  <thead>\n",
       "    <tr style=\"text-align: right;\">\n",
       "      <th></th>\n",
       "      <th>PassengerId</th>\n",
       "      <th>Survived</th>\n",
       "      <th>Pclass</th>\n",
       "      <th>Name</th>\n",
       "      <th>Sex</th>\n",
       "      <th>Age</th>\n",
       "      <th>Ticket</th>\n",
       "      <th>Fare</th>\n",
       "      <th>Embarked</th>\n",
       "      <th>Initial</th>\n",
       "      <th>Alone</th>\n",
       "    </tr>\n",
       "  </thead>\n",
       "  <tbody>\n",
       "    <tr>\n",
       "      <th>0</th>\n",
       "      <td>1</td>\n",
       "      <td>0</td>\n",
       "      <td>3</td>\n",
       "      <td>Braund, Mr. Owen Harris</td>\n",
       "      <td>0</td>\n",
       "      <td>22.0</td>\n",
       "      <td>A/5 21171</td>\n",
       "      <td>7.2500</td>\n",
       "      <td>1</td>\n",
       "      <td>Mr</td>\n",
       "      <td>0</td>\n",
       "    </tr>\n",
       "    <tr>\n",
       "      <th>1</th>\n",
       "      <td>2</td>\n",
       "      <td>1</td>\n",
       "      <td>1</td>\n",
       "      <td>Cumings, Mrs. John Bradley (Florence Briggs Th...</td>\n",
       "      <td>1</td>\n",
       "      <td>38.0</td>\n",
       "      <td>PC 17599</td>\n",
       "      <td>71.2833</td>\n",
       "      <td>2</td>\n",
       "      <td>Mrs</td>\n",
       "      <td>0</td>\n",
       "    </tr>\n",
       "    <tr>\n",
       "      <th>2</th>\n",
       "      <td>3</td>\n",
       "      <td>1</td>\n",
       "      <td>3</td>\n",
       "      <td>Heikkinen, Miss. Laina</td>\n",
       "      <td>1</td>\n",
       "      <td>26.0</td>\n",
       "      <td>STON/O2. 3101282</td>\n",
       "      <td>7.9250</td>\n",
       "      <td>1</td>\n",
       "      <td>Miss</td>\n",
       "      <td>1</td>\n",
       "    </tr>\n",
       "    <tr>\n",
       "      <th>3</th>\n",
       "      <td>4</td>\n",
       "      <td>1</td>\n",
       "      <td>1</td>\n",
       "      <td>Futrelle, Mrs. Jacques Heath (Lily May Peel)</td>\n",
       "      <td>1</td>\n",
       "      <td>35.0</td>\n",
       "      <td>113803</td>\n",
       "      <td>53.1000</td>\n",
       "      <td>1</td>\n",
       "      <td>Mrs</td>\n",
       "      <td>0</td>\n",
       "    </tr>\n",
       "    <tr>\n",
       "      <th>4</th>\n",
       "      <td>5</td>\n",
       "      <td>0</td>\n",
       "      <td>3</td>\n",
       "      <td>Allen, Mr. William Henry</td>\n",
       "      <td>0</td>\n",
       "      <td>35.0</td>\n",
       "      <td>373450</td>\n",
       "      <td>8.0500</td>\n",
       "      <td>1</td>\n",
       "      <td>Mr</td>\n",
       "      <td>1</td>\n",
       "    </tr>\n",
       "  </tbody>\n",
       "</table>\n",
       "</div>"
      ],
      "text/plain": [
       "   PassengerId  Survived  Pclass  \\\n",
       "0            1         0       3   \n",
       "1            2         1       1   \n",
       "2            3         1       3   \n",
       "3            4         1       1   \n",
       "4            5         0       3   \n",
       "\n",
       "                                                Name  Sex   Age  \\\n",
       "0                            Braund, Mr. Owen Harris    0  22.0   \n",
       "1  Cumings, Mrs. John Bradley (Florence Briggs Th...    1  38.0   \n",
       "2                             Heikkinen, Miss. Laina    1  26.0   \n",
       "3       Futrelle, Mrs. Jacques Heath (Lily May Peel)    1  35.0   \n",
       "4                           Allen, Mr. William Henry    0  35.0   \n",
       "\n",
       "             Ticket     Fare  Embarked Initial  Alone  \n",
       "0         A/5 21171   7.2500         1      Mr      0  \n",
       "1          PC 17599  71.2833         2     Mrs      0  \n",
       "2  STON/O2. 3101282   7.9250         1    Miss      1  \n",
       "3            113803  53.1000         1     Mrs      0  \n",
       "4            373450   8.0500         1      Mr      1  "
      ]
     },
     "execution_count": 41,
     "metadata": {},
     "output_type": "execute_result"
    }
   ],
   "source": [
    "train_data.head()"
   ]
  },
  {
   "cell_type": "markdown",
   "id": "c6a02412",
   "metadata": {
    "papermill": {
     "duration": 0.102717,
     "end_time": "2021-10-13T14:15:54.220635",
     "exception": false,
     "start_time": "2021-10-13T14:15:54.117918",
     "status": "completed"
    },
    "tags": []
   },
   "source": [
    "Este paso ya lo realizamos anteriormente en nuestro preprocesado de datos. Ahora lo hacemos para los datos de prueba también."
   ]
  },
  {
   "cell_type": "code",
   "execution_count": 42,
   "id": "76545085",
   "metadata": {
    "execution": {
     "iopub.execute_input": "2021-10-13T14:15:54.437541Z",
     "iopub.status.busy": "2021-10-13T14:15:54.436584Z",
     "iopub.status.idle": "2021-10-13T14:15:54.440134Z",
     "shell.execute_reply": "2021-10-13T14:15:54.440587Z",
     "shell.execute_reply.started": "2021-10-13T14:08:59.722291Z"
    },
    "papermill": {
     "duration": 0.115749,
     "end_time": "2021-10-13T14:15:54.440756",
     "exception": false,
     "start_time": "2021-10-13T14:15:54.325007",
     "status": "completed"
    },
    "tags": []
   },
   "outputs": [
    {
     "data": {
      "text/plain": [
       "17"
      ]
     },
     "execution_count": 42,
     "metadata": {},
     "output_type": "execute_result"
    }
   ],
   "source": [
    "train_data.Name.str.extract(' ([A-Za-z]+)\\.', expand=False).unique().size"
   ]
  },
  {
   "cell_type": "code",
   "execution_count": 43,
   "id": "05da9901",
   "metadata": {
    "execution": {
     "iopub.execute_input": "2021-10-13T14:15:54.666696Z",
     "iopub.status.busy": "2021-10-13T14:15:54.653698Z",
     "iopub.status.idle": "2021-10-13T14:15:54.670056Z",
     "shell.execute_reply": "2021-10-13T14:15:54.669542Z",
     "shell.execute_reply.started": "2021-10-13T14:08:59.735804Z"
    },
    "papermill": {
     "duration": 0.1258,
     "end_time": "2021-10-13T14:15:54.670204",
     "exception": false,
     "start_time": "2021-10-13T14:15:54.544404",
     "status": "completed"
    },
    "tags": []
   },
   "outputs": [],
   "source": [
    "for data in combined_data:\n",
    "    data['Title'] = data.Name.str.extract('([A-Za-z]+)\\.', expand = False)\n",
    "    data.drop('Name', axis = 1, inplace = True)"
   ]
  },
  {
   "cell_type": "code",
   "execution_count": 44,
   "id": "66694bde",
   "metadata": {
    "execution": {
     "iopub.execute_input": "2021-10-13T14:15:54.890482Z",
     "iopub.status.busy": "2021-10-13T14:15:54.889532Z",
     "iopub.status.idle": "2021-10-13T14:15:54.894523Z",
     "shell.execute_reply": "2021-10-13T14:15:54.893856Z",
     "shell.execute_reply.started": "2021-10-13T14:08:59.753398Z"
    },
    "papermill": {
     "duration": 0.12026,
     "end_time": "2021-10-13T14:15:54.894667",
     "exception": false,
     "start_time": "2021-10-13T14:15:54.774407",
     "status": "completed"
    },
    "tags": []
   },
   "outputs": [
    {
     "data": {
      "text/plain": [
       "Mr          517\n",
       "Miss        182\n",
       "Mrs         125\n",
       "Master       40\n",
       "Dr            7\n",
       "Rev           6\n",
       "Mlle          2\n",
       "Major         2\n",
       "Col           2\n",
       "Countess      1\n",
       "Capt          1\n",
       "Ms            1\n",
       "Sir           1\n",
       "Lady          1\n",
       "Mme           1\n",
       "Don           1\n",
       "Jonkheer      1\n",
       "Name: Title, dtype: int64"
      ]
     },
     "execution_count": 44,
     "metadata": {},
     "output_type": "execute_result"
    }
   ],
   "source": [
    "train_data.Title.value_counts()"
   ]
  },
  {
   "cell_type": "code",
   "execution_count": 45,
   "id": "e235eed8",
   "metadata": {
    "execution": {
     "iopub.execute_input": "2021-10-13T14:15:55.115594Z",
     "iopub.status.busy": "2021-10-13T14:15:55.114624Z",
     "iopub.status.idle": "2021-10-13T14:15:55.119514Z",
     "shell.execute_reply": "2021-10-13T14:15:55.118993Z",
     "shell.execute_reply.started": "2021-10-13T14:08:59.766673Z"
    },
    "papermill": {
     "duration": 0.119727,
     "end_time": "2021-10-13T14:15:55.119679",
     "exception": false,
     "start_time": "2021-10-13T14:15:54.999952",
     "status": "completed"
    },
    "tags": []
   },
   "outputs": [
    {
     "data": {
      "text/plain": [
       "array(['Mr', 'Mrs', 'Miss', 'Master', 'Ms', 'Col', 'Rev', 'Dr', 'Dona'],\n",
       "      dtype=object)"
      ]
     },
     "execution_count": 45,
     "metadata": {},
     "output_type": "execute_result"
    }
   ],
   "source": [
    "test_data.Title.unique()"
   ]
  },
  {
   "cell_type": "markdown",
   "id": "ed83d112",
   "metadata": {
    "papermill": {
     "duration": 0.103998,
     "end_time": "2021-10-13T14:15:55.330675",
     "exception": false,
     "start_time": "2021-10-13T14:15:55.226677",
     "status": "completed"
    },
    "tags": []
   },
   "source": [
    "Los prefijos que menos aparecen los tratamos con el prefijo \"Rare\""
   ]
  },
  {
   "cell_type": "code",
   "execution_count": 46,
   "id": "0d92126d",
   "metadata": {
    "execution": {
     "iopub.execute_input": "2021-10-13T14:15:55.551596Z",
     "iopub.status.busy": "2021-10-13T14:15:55.546854Z",
     "iopub.status.idle": "2021-10-13T14:15:55.554334Z",
     "shell.execute_reply": "2021-10-13T14:15:55.553645Z",
     "shell.execute_reply.started": "2021-10-13T14:08:59.781382Z"
    },
    "papermill": {
     "duration": 0.119628,
     "end_time": "2021-10-13T14:15:55.554498",
     "exception": false,
     "start_time": "2021-10-13T14:15:55.434870",
     "status": "completed"
    },
    "tags": []
   },
   "outputs": [],
   "source": [
    "least_occuring = [ 'Don', 'Rev', 'Dr', 'Mme', 'Ms',\n",
    "       'Major', 'Lady', 'Sir', 'Mlle', 'Col', 'Capt', 'Countess','Dona',\n",
    "       'Jonkheer']\n",
    "for data in combined_data:\n",
    "    data.Title = data.Title.replace(least_occuring, 'Rare')"
   ]
  },
  {
   "cell_type": "markdown",
   "id": "ad716d44",
   "metadata": {
    "papermill": {
     "duration": 0.104826,
     "end_time": "2021-10-13T14:15:55.766368",
     "exception": false,
     "start_time": "2021-10-13T14:15:55.661542",
     "status": "completed"
    },
    "tags": []
   },
   "source": [
    "Cambiamos de una característica categórica a una continua para nuestra red"
   ]
  },
  {
   "cell_type": "code",
   "execution_count": 47,
   "id": "6d70ec4e",
   "metadata": {
    "execution": {
     "iopub.execute_input": "2021-10-13T14:15:55.991927Z",
     "iopub.status.busy": "2021-10-13T14:15:55.991199Z",
     "iopub.status.idle": "2021-10-13T14:15:55.995286Z",
     "shell.execute_reply": "2021-10-13T14:15:55.995807Z",
     "shell.execute_reply.started": "2021-10-13T14:08:59.796162Z"
    },
    "papermill": {
     "duration": 0.12341,
     "end_time": "2021-10-13T14:15:55.996012",
     "exception": false,
     "start_time": "2021-10-13T14:15:55.872602",
     "status": "completed"
    },
    "tags": []
   },
   "outputs": [],
   "source": [
    "title_mapping = {\"Mr\": 1, \"Miss\": 2, \"Mrs\": 3, \"Master\": 4, \"Rare\": 5}\n",
    "for data in combined_data:\n",
    "    data['Title'] = data['Title'].map(title_mapping)"
   ]
  },
  {
   "cell_type": "code",
   "execution_count": 48,
   "id": "6a9ce5e4",
   "metadata": {
    "execution": {
     "iopub.execute_input": "2021-10-13T14:15:56.210654Z",
     "iopub.status.busy": "2021-10-13T14:15:56.209967Z",
     "iopub.status.idle": "2021-10-13T14:15:56.223636Z",
     "shell.execute_reply": "2021-10-13T14:15:56.224124Z",
     "shell.execute_reply.started": "2021-10-13T14:08:59.806353Z"
    },
    "papermill": {
     "duration": 0.122243,
     "end_time": "2021-10-13T14:15:56.224345",
     "exception": false,
     "start_time": "2021-10-13T14:15:56.102102",
     "status": "completed"
    },
    "tags": []
   },
   "outputs": [
    {
     "data": {
      "text/html": [
       "<div>\n",
       "<style scoped>\n",
       "    .dataframe tbody tr th:only-of-type {\n",
       "        vertical-align: middle;\n",
       "    }\n",
       "\n",
       "    .dataframe tbody tr th {\n",
       "        vertical-align: top;\n",
       "    }\n",
       "\n",
       "    .dataframe thead th {\n",
       "        text-align: right;\n",
       "    }\n",
       "</style>\n",
       "<table border=\"1\" class=\"dataframe\">\n",
       "  <thead>\n",
       "    <tr style=\"text-align: right;\">\n",
       "      <th></th>\n",
       "      <th>PassengerId</th>\n",
       "      <th>Survived</th>\n",
       "      <th>Pclass</th>\n",
       "      <th>Sex</th>\n",
       "      <th>Age</th>\n",
       "      <th>Ticket</th>\n",
       "      <th>Fare</th>\n",
       "      <th>Embarked</th>\n",
       "      <th>Initial</th>\n",
       "      <th>Alone</th>\n",
       "      <th>Title</th>\n",
       "    </tr>\n",
       "  </thead>\n",
       "  <tbody>\n",
       "    <tr>\n",
       "      <th>0</th>\n",
       "      <td>1</td>\n",
       "      <td>0</td>\n",
       "      <td>3</td>\n",
       "      <td>0</td>\n",
       "      <td>22.0</td>\n",
       "      <td>A/5 21171</td>\n",
       "      <td>7.2500</td>\n",
       "      <td>1</td>\n",
       "      <td>Mr</td>\n",
       "      <td>0</td>\n",
       "      <td>1</td>\n",
       "    </tr>\n",
       "    <tr>\n",
       "      <th>1</th>\n",
       "      <td>2</td>\n",
       "      <td>1</td>\n",
       "      <td>1</td>\n",
       "      <td>1</td>\n",
       "      <td>38.0</td>\n",
       "      <td>PC 17599</td>\n",
       "      <td>71.2833</td>\n",
       "      <td>2</td>\n",
       "      <td>Mrs</td>\n",
       "      <td>0</td>\n",
       "      <td>3</td>\n",
       "    </tr>\n",
       "    <tr>\n",
       "      <th>2</th>\n",
       "      <td>3</td>\n",
       "      <td>1</td>\n",
       "      <td>3</td>\n",
       "      <td>1</td>\n",
       "      <td>26.0</td>\n",
       "      <td>STON/O2. 3101282</td>\n",
       "      <td>7.9250</td>\n",
       "      <td>1</td>\n",
       "      <td>Miss</td>\n",
       "      <td>1</td>\n",
       "      <td>2</td>\n",
       "    </tr>\n",
       "    <tr>\n",
       "      <th>3</th>\n",
       "      <td>4</td>\n",
       "      <td>1</td>\n",
       "      <td>1</td>\n",
       "      <td>1</td>\n",
       "      <td>35.0</td>\n",
       "      <td>113803</td>\n",
       "      <td>53.1000</td>\n",
       "      <td>1</td>\n",
       "      <td>Mrs</td>\n",
       "      <td>0</td>\n",
       "      <td>3</td>\n",
       "    </tr>\n",
       "    <tr>\n",
       "      <th>4</th>\n",
       "      <td>5</td>\n",
       "      <td>0</td>\n",
       "      <td>3</td>\n",
       "      <td>0</td>\n",
       "      <td>35.0</td>\n",
       "      <td>373450</td>\n",
       "      <td>8.0500</td>\n",
       "      <td>1</td>\n",
       "      <td>Mr</td>\n",
       "      <td>1</td>\n",
       "      <td>1</td>\n",
       "    </tr>\n",
       "  </tbody>\n",
       "</table>\n",
       "</div>"
      ],
      "text/plain": [
       "   PassengerId  Survived  Pclass  Sex   Age            Ticket     Fare  \\\n",
       "0            1         0       3    0  22.0         A/5 21171   7.2500   \n",
       "1            2         1       1    1  38.0          PC 17599  71.2833   \n",
       "2            3         1       3    1  26.0  STON/O2. 3101282   7.9250   \n",
       "3            4         1       1    1  35.0            113803  53.1000   \n",
       "4            5         0       3    0  35.0            373450   8.0500   \n",
       "\n",
       "   Embarked Initial  Alone  Title  \n",
       "0         1      Mr      0      1  \n",
       "1         2     Mrs      0      3  \n",
       "2         1    Miss      1      2  \n",
       "3         1     Mrs      0      3  \n",
       "4         1      Mr      1      1  "
      ]
     },
     "execution_count": 48,
     "metadata": {},
     "output_type": "execute_result"
    }
   ],
   "source": [
    "train_data.head()"
   ]
  },
  {
   "cell_type": "markdown",
   "id": "2a259151",
   "metadata": {
    "papermill": {
     "duration": 0.105006,
     "end_time": "2021-10-13T14:15:56.436159",
     "exception": false,
     "start_time": "2021-10-13T14:15:56.331153",
     "status": "completed"
    },
    "tags": []
   },
   "source": [
    "Pensamos que las siguientes tres columnas de características ya no las necesitamos y las eliminamos. "
   ]
  },
  {
   "cell_type": "code",
   "execution_count": 49,
   "id": "7a641c13",
   "metadata": {
    "execution": {
     "iopub.execute_input": "2021-10-13T14:15:56.650880Z",
     "iopub.status.busy": "2021-10-13T14:15:56.650201Z",
     "iopub.status.idle": "2021-10-13T14:15:56.656493Z",
     "shell.execute_reply": "2021-10-13T14:15:56.657034Z",
     "shell.execute_reply.started": "2021-10-13T14:08:59.827776Z"
    },
    "papermill": {
     "duration": 0.115697,
     "end_time": "2021-10-13T14:15:56.657299",
     "exception": false,
     "start_time": "2021-10-13T14:15:56.541602",
     "status": "completed"
    },
    "tags": []
   },
   "outputs": [],
   "source": [
    "columns_to_drop = ['PassengerId','Ticket', 'Initial']\n",
    "train_data.drop(columns_to_drop, axis = 1, inplace = True)\n",
    "test_data.drop(columns_to_drop[1], axis = 1, inplace = True)"
   ]
  },
  {
   "cell_type": "markdown",
   "id": "5a4e9526",
   "metadata": {
    "papermill": {
     "duration": 0.109077,
     "end_time": "2021-10-13T14:15:56.872865",
     "exception": false,
     "start_time": "2021-10-13T14:15:56.763788",
     "status": "completed"
    },
    "tags": []
   },
   "source": [
    "Comprobamos que tenemos los datos de la manera que queríamos"
   ]
  },
  {
   "cell_type": "code",
   "execution_count": 50,
   "id": "fbb15a04",
   "metadata": {
    "execution": {
     "iopub.execute_input": "2021-10-13T14:15:57.091626Z",
     "iopub.status.busy": "2021-10-13T14:15:57.090909Z",
     "iopub.status.idle": "2021-10-13T14:15:57.103720Z",
     "shell.execute_reply": "2021-10-13T14:15:57.103078Z",
     "shell.execute_reply.started": "2021-10-13T14:08:59.840026Z"
    },
    "papermill": {
     "duration": 0.122347,
     "end_time": "2021-10-13T14:15:57.103881",
     "exception": false,
     "start_time": "2021-10-13T14:15:56.981534",
     "status": "completed"
    },
    "tags": []
   },
   "outputs": [
    {
     "data": {
      "text/html": [
       "<div>\n",
       "<style scoped>\n",
       "    .dataframe tbody tr th:only-of-type {\n",
       "        vertical-align: middle;\n",
       "    }\n",
       "\n",
       "    .dataframe tbody tr th {\n",
       "        vertical-align: top;\n",
       "    }\n",
       "\n",
       "    .dataframe thead th {\n",
       "        text-align: right;\n",
       "    }\n",
       "</style>\n",
       "<table border=\"1\" class=\"dataframe\">\n",
       "  <thead>\n",
       "    <tr style=\"text-align: right;\">\n",
       "      <th></th>\n",
       "      <th>Survived</th>\n",
       "      <th>Pclass</th>\n",
       "      <th>Sex</th>\n",
       "      <th>Age</th>\n",
       "      <th>Fare</th>\n",
       "      <th>Embarked</th>\n",
       "      <th>Alone</th>\n",
       "      <th>Title</th>\n",
       "    </tr>\n",
       "  </thead>\n",
       "  <tbody>\n",
       "    <tr>\n",
       "      <th>0</th>\n",
       "      <td>0</td>\n",
       "      <td>3</td>\n",
       "      <td>0</td>\n",
       "      <td>22.0</td>\n",
       "      <td>7.2500</td>\n",
       "      <td>1</td>\n",
       "      <td>0</td>\n",
       "      <td>1</td>\n",
       "    </tr>\n",
       "    <tr>\n",
       "      <th>1</th>\n",
       "      <td>1</td>\n",
       "      <td>1</td>\n",
       "      <td>1</td>\n",
       "      <td>38.0</td>\n",
       "      <td>71.2833</td>\n",
       "      <td>2</td>\n",
       "      <td>0</td>\n",
       "      <td>3</td>\n",
       "    </tr>\n",
       "    <tr>\n",
       "      <th>2</th>\n",
       "      <td>1</td>\n",
       "      <td>3</td>\n",
       "      <td>1</td>\n",
       "      <td>26.0</td>\n",
       "      <td>7.9250</td>\n",
       "      <td>1</td>\n",
       "      <td>1</td>\n",
       "      <td>2</td>\n",
       "    </tr>\n",
       "    <tr>\n",
       "      <th>3</th>\n",
       "      <td>1</td>\n",
       "      <td>1</td>\n",
       "      <td>1</td>\n",
       "      <td>35.0</td>\n",
       "      <td>53.1000</td>\n",
       "      <td>1</td>\n",
       "      <td>0</td>\n",
       "      <td>3</td>\n",
       "    </tr>\n",
       "    <tr>\n",
       "      <th>4</th>\n",
       "      <td>0</td>\n",
       "      <td>3</td>\n",
       "      <td>0</td>\n",
       "      <td>35.0</td>\n",
       "      <td>8.0500</td>\n",
       "      <td>1</td>\n",
       "      <td>1</td>\n",
       "      <td>1</td>\n",
       "    </tr>\n",
       "  </tbody>\n",
       "</table>\n",
       "</div>"
      ],
      "text/plain": [
       "   Survived  Pclass  Sex   Age     Fare  Embarked  Alone  Title\n",
       "0         0       3    0  22.0   7.2500         1      0      1\n",
       "1         1       1    1  38.0  71.2833         2      0      3\n",
       "2         1       3    1  26.0   7.9250         1      1      2\n",
       "3         1       1    1  35.0  53.1000         1      0      3\n",
       "4         0       3    0  35.0   8.0500         1      1      1"
      ]
     },
     "execution_count": 50,
     "metadata": {},
     "output_type": "execute_result"
    }
   ],
   "source": [
    "train_data.head()"
   ]
  },
  {
   "cell_type": "markdown",
   "id": "d8ccdc41",
   "metadata": {
    "papermill": {
     "duration": 0.106922,
     "end_time": "2021-10-13T14:15:57.316711",
     "exception": false,
     "start_time": "2021-10-13T14:15:57.209789",
     "status": "completed"
    },
    "tags": []
   },
   "source": [
    "Solo nos falta cambiar le edad a una característica categórica. Para ello creamos cuatro rangas de edad y los asignamos a los valores 0,1,2,3,4"
   ]
  },
  {
   "cell_type": "code",
   "execution_count": 51,
   "id": "e3e2456a",
   "metadata": {
    "execution": {
     "iopub.execute_input": "2021-10-13T14:15:57.547166Z",
     "iopub.status.busy": "2021-10-13T14:15:57.542120Z",
     "iopub.status.idle": "2021-10-13T14:15:57.551178Z",
     "shell.execute_reply": "2021-10-13T14:15:57.550607Z",
     "shell.execute_reply.started": "2021-10-13T14:08:59.858455Z"
    },
    "papermill": {
     "duration": 0.12793,
     "end_time": "2021-10-13T14:15:57.551364",
     "exception": false,
     "start_time": "2021-10-13T14:15:57.423434",
     "status": "completed"
    },
    "tags": []
   },
   "outputs": [],
   "source": [
    "for dataset in combined_data:    \n",
    "    dataset.loc[ dataset['Age'] <= 16, 'Age'] = 0\n",
    "    dataset.loc[(dataset['Age'] > 16) & (dataset['Age'] <= 32), 'Age'] = 1\n",
    "    dataset.loc[(dataset['Age'] > 32) & (dataset['Age'] <= 48), 'Age'] = 2\n",
    "    dataset.loc[(dataset['Age'] > 48) & (dataset['Age'] <= 64), 'Age'] = 3\n",
    "    dataset.loc[ dataset['Age'] > 64, 'Age'] = 4"
   ]
  },
  {
   "cell_type": "markdown",
   "id": "fbf1be72",
   "metadata": {
    "papermill": {
     "duration": 0.106183,
     "end_time": "2021-10-13T14:15:57.766844",
     "exception": false,
     "start_time": "2021-10-13T14:15:57.660661",
     "status": "completed"
    },
    "tags": []
   },
   "source": [
    "Hacemos el mismo procedimiento para la tarifa pagada por los pasajeros"
   ]
  },
  {
   "cell_type": "code",
   "execution_count": 52,
   "id": "5f3117f8",
   "metadata": {
    "execution": {
     "iopub.execute_input": "2021-10-13T14:15:57.983287Z",
     "iopub.status.busy": "2021-10-13T14:15:57.982597Z",
     "iopub.status.idle": "2021-10-13T14:15:57.994541Z",
     "shell.execute_reply": "2021-10-13T14:15:57.995042Z",
     "shell.execute_reply.started": "2021-10-13T14:08:59.876052Z"
    },
    "papermill": {
     "duration": 0.122919,
     "end_time": "2021-10-13T14:15:57.995231",
     "exception": false,
     "start_time": "2021-10-13T14:15:57.872312",
     "status": "completed"
    },
    "tags": []
   },
   "outputs": [],
   "source": [
    "for data in combined_data:\n",
    "    data.loc[data['Fare'] < 30, 'Fare'] = 1\n",
    "    data.loc[(data['Fare'] >= 30) & (data['Fare'] < 50),'Fare'] = 2\n",
    "    data.loc[(data['Fare'] >= 50) & (data['Fare'] < 100),'Fare'] = 3\n",
    "    data.loc[(data['Fare'] >= 100),'Fare'] = 4"
   ]
  },
  {
   "cell_type": "markdown",
   "id": "707db731",
   "metadata": {
    "papermill": {
     "duration": 0.104802,
     "end_time": "2021-10-13T14:15:58.207124",
     "exception": false,
     "start_time": "2021-10-13T14:15:58.102322",
     "status": "completed"
    },
    "tags": []
   },
   "source": [
    "Ahora ya tenemos los datos preparados para entrenar nuestra red"
   ]
  },
  {
   "cell_type": "code",
   "execution_count": 53,
   "id": "8d1c9028",
   "metadata": {
    "execution": {
     "iopub.execute_input": "2021-10-13T14:15:58.432301Z",
     "iopub.status.busy": "2021-10-13T14:15:58.431373Z",
     "iopub.status.idle": "2021-10-13T14:15:58.436133Z",
     "shell.execute_reply": "2021-10-13T14:15:58.435616Z",
     "shell.execute_reply.started": "2021-10-13T14:08:59.893972Z"
    },
    "papermill": {
     "duration": 0.122963,
     "end_time": "2021-10-13T14:15:58.436289",
     "exception": false,
     "start_time": "2021-10-13T14:15:58.313326",
     "status": "completed"
    },
    "tags": []
   },
   "outputs": [
    {
     "data": {
      "text/html": [
       "<div>\n",
       "<style scoped>\n",
       "    .dataframe tbody tr th:only-of-type {\n",
       "        vertical-align: middle;\n",
       "    }\n",
       "\n",
       "    .dataframe tbody tr th {\n",
       "        vertical-align: top;\n",
       "    }\n",
       "\n",
       "    .dataframe thead th {\n",
       "        text-align: right;\n",
       "    }\n",
       "</style>\n",
       "<table border=\"1\" class=\"dataframe\">\n",
       "  <thead>\n",
       "    <tr style=\"text-align: right;\">\n",
       "      <th></th>\n",
       "      <th>Survived</th>\n",
       "      <th>Pclass</th>\n",
       "      <th>Sex</th>\n",
       "      <th>Age</th>\n",
       "      <th>Fare</th>\n",
       "      <th>Embarked</th>\n",
       "      <th>Alone</th>\n",
       "      <th>Title</th>\n",
       "    </tr>\n",
       "  </thead>\n",
       "  <tbody>\n",
       "    <tr>\n",
       "      <th>0</th>\n",
       "      <td>0</td>\n",
       "      <td>3</td>\n",
       "      <td>0</td>\n",
       "      <td>1.0</td>\n",
       "      <td>1.0</td>\n",
       "      <td>1</td>\n",
       "      <td>0</td>\n",
       "      <td>1</td>\n",
       "    </tr>\n",
       "    <tr>\n",
       "      <th>1</th>\n",
       "      <td>1</td>\n",
       "      <td>1</td>\n",
       "      <td>1</td>\n",
       "      <td>2.0</td>\n",
       "      <td>3.0</td>\n",
       "      <td>2</td>\n",
       "      <td>0</td>\n",
       "      <td>3</td>\n",
       "    </tr>\n",
       "    <tr>\n",
       "      <th>2</th>\n",
       "      <td>1</td>\n",
       "      <td>3</td>\n",
       "      <td>1</td>\n",
       "      <td>1.0</td>\n",
       "      <td>1.0</td>\n",
       "      <td>1</td>\n",
       "      <td>1</td>\n",
       "      <td>2</td>\n",
       "    </tr>\n",
       "    <tr>\n",
       "      <th>3</th>\n",
       "      <td>1</td>\n",
       "      <td>1</td>\n",
       "      <td>1</td>\n",
       "      <td>2.0</td>\n",
       "      <td>3.0</td>\n",
       "      <td>1</td>\n",
       "      <td>0</td>\n",
       "      <td>3</td>\n",
       "    </tr>\n",
       "    <tr>\n",
       "      <th>4</th>\n",
       "      <td>0</td>\n",
       "      <td>3</td>\n",
       "      <td>0</td>\n",
       "      <td>2.0</td>\n",
       "      <td>1.0</td>\n",
       "      <td>1</td>\n",
       "      <td>1</td>\n",
       "      <td>1</td>\n",
       "    </tr>\n",
       "  </tbody>\n",
       "</table>\n",
       "</div>"
      ],
      "text/plain": [
       "   Survived  Pclass  Sex  Age  Fare  Embarked  Alone  Title\n",
       "0         0       3    0  1.0   1.0         1      0      1\n",
       "1         1       1    1  2.0   3.0         2      0      3\n",
       "2         1       3    1  1.0   1.0         1      1      2\n",
       "3         1       1    1  2.0   3.0         1      0      3\n",
       "4         0       3    0  2.0   1.0         1      1      1"
      ]
     },
     "execution_count": 53,
     "metadata": {},
     "output_type": "execute_result"
    }
   ],
   "source": [
    "train_data.head()"
   ]
  },
  {
   "cell_type": "markdown",
   "id": "9ea53ccb",
   "metadata": {
    "papermill": {
     "duration": 0.105525,
     "end_time": "2021-10-13T14:15:58.650376",
     "exception": false,
     "start_time": "2021-10-13T14:15:58.544851",
     "status": "completed"
    },
    "tags": []
   },
   "source": [
    "Dividimos nuestro conjunto de datos. \n",
    "- Las características de nuestros datos de entrenamiento estarán en X_train.\n",
    "- La característica de salida estará en Y_train. \"Survived\".\n",
    "- X_test es lo que le vamos a dar a nuestra red para que realice las predicciones una vez entrenado el modelo. Un conjunto de datos etiquetados."
   ]
  },
  {
   "cell_type": "code",
   "execution_count": 54,
   "id": "a69e49d7",
   "metadata": {
    "execution": {
     "iopub.execute_input": "2021-10-13T14:15:58.872140Z",
     "iopub.status.busy": "2021-10-13T14:15:58.871004Z",
     "iopub.status.idle": "2021-10-13T14:15:58.882226Z",
     "shell.execute_reply": "2021-10-13T14:15:58.880888Z",
     "shell.execute_reply.started": "2021-10-13T14:08:59.911838Z"
    },
    "papermill": {
     "duration": 0.123044,
     "end_time": "2021-10-13T14:15:58.882486",
     "exception": false,
     "start_time": "2021-10-13T14:15:58.759442",
     "status": "completed"
    },
    "tags": []
   },
   "outputs": [
    {
     "name": "stdout",
     "output_type": "stream",
     "text": [
      "Tamaño de X_train (891, 7)\n",
      "Tamaño de Y_train (891,)\n",
      "Tamaño de X_test (418, 7)\n"
     ]
    }
   ],
   "source": [
    "X_train = train_data.drop(\"Survived\", axis=1)\n",
    "Y_train = train_data[\"Survived\"]\n",
    "X_test = test_data.drop(\"PassengerId\", axis = 1)\n",
    "print(\"Tamaño de X_train\",X_train.shape)\n",
    "print(\"Tamaño de Y_train\",Y_train.shape)\n",
    "print(\"Tamaño de X_test\",X_test.shape)"
   ]
  },
  {
   "cell_type": "markdown",
   "id": "04271012",
   "metadata": {
    "papermill": {
     "duration": 0.110155,
     "end_time": "2021-10-13T14:15:59.102637",
     "exception": false,
     "start_time": "2021-10-13T14:15:58.992482",
     "status": "completed"
    },
    "tags": []
   },
   "source": [
    "Importamos las librerías necesarias que vamos a utilizar"
   ]
  },
  {
   "cell_type": "code",
   "execution_count": 55,
   "id": "a8873c13",
   "metadata": {
    "execution": {
     "iopub.execute_input": "2021-10-13T14:15:59.324943Z",
     "iopub.status.busy": "2021-10-13T14:15:59.324262Z",
     "iopub.status.idle": "2021-10-13T14:16:05.200887Z",
     "shell.execute_reply": "2021-10-13T14:16:05.200174Z",
     "shell.execute_reply.started": "2021-10-13T14:08:59.921938Z"
    },
    "papermill": {
     "duration": 5.990618,
     "end_time": "2021-10-13T14:16:05.201049",
     "exception": false,
     "start_time": "2021-10-13T14:15:59.210431",
     "status": "completed"
    },
    "tags": []
   },
   "outputs": [
    {
     "name": "stderr",
     "output_type": "stream",
     "text": [
      "2021-10-13 14:15:59.998581: W tensorflow/stream_executor/platform/default/dso_loader.cc:60] Could not load dynamic library 'libcudart.so.11.0'; dlerror: libcudart.so.11.0: cannot open shared object file: No such file or directory; LD_LIBRARY_PATH: /opt/conda/lib\n",
      "2021-10-13 14:15:59.998735: I tensorflow/stream_executor/cuda/cudart_stub.cc:29] Ignore above cudart dlerror if you do not have a GPU set up on your machine.\n"
     ]
    }
   ],
   "source": [
    "import tensorflow as tf\n",
    "from tensorflow import keras\n",
    "from tensorflow.keras import layers\n",
    "from tensorflow.keras.layers import Dense, Dropout, Input\n",
    "from tensorflow.keras import models \n",
    "from tensorflow.keras.models import Sequential"
   ]
  },
  {
   "cell_type": "markdown",
   "id": "e6a6bd75",
   "metadata": {
    "papermill": {
     "duration": 0.105632,
     "end_time": "2021-10-13T14:16:05.414224",
     "exception": false,
     "start_time": "2021-10-13T14:16:05.308592",
     "status": "completed"
    },
    "tags": []
   },
   "source": [
    "Definimos nuestro modelo con las siguientes layers"
   ]
  },
  {
   "cell_type": "code",
   "execution_count": 56,
   "id": "f8e85ec0",
   "metadata": {
    "execution": {
     "iopub.execute_input": "2021-10-13T14:16:05.637571Z",
     "iopub.status.busy": "2021-10-13T14:16:05.636882Z",
     "iopub.status.idle": "2021-10-13T14:16:05.808508Z",
     "shell.execute_reply": "2021-10-13T14:16:05.809190Z",
     "shell.execute_reply.started": "2021-10-13T14:09:05.056631Z"
    },
    "papermill": {
     "duration": 0.288856,
     "end_time": "2021-10-13T14:16:05.809491",
     "exception": false,
     "start_time": "2021-10-13T14:16:05.520635",
     "status": "completed"
    },
    "tags": []
   },
   "outputs": [
    {
     "name": "stderr",
     "output_type": "stream",
     "text": [
      "2021-10-13 14:16:05.668739: I tensorflow/compiler/jit/xla_cpu_device.cc:41] Not creating XLA devices, tf_xla_enable_xla_devices not set\n",
      "2021-10-13 14:16:05.671795: W tensorflow/stream_executor/platform/default/dso_loader.cc:60] Could not load dynamic library 'libcuda.so.1'; dlerror: libcuda.so.1: cannot open shared object file: No such file or directory; LD_LIBRARY_PATH: /opt/conda/lib\n",
      "2021-10-13 14:16:05.671839: W tensorflow/stream_executor/cuda/cuda_driver.cc:326] failed call to cuInit: UNKNOWN ERROR (303)\n",
      "2021-10-13 14:16:05.671868: I tensorflow/stream_executor/cuda/cuda_diagnostics.cc:156] kernel driver does not appear to be running on this host (7ad967fa9b99): /proc/driver/nvidia/version does not exist\n",
      "2021-10-13 14:16:05.673085: I tensorflow/core/platform/cpu_feature_guard.cc:142] This TensorFlow binary is optimized with oneAPI Deep Neural Network Library (oneDNN) to use the following CPU instructions in performance-critical operations:  AVX2 FMA\n",
      "To enable them in other operations, rebuild TensorFlow with the appropriate compiler flags.\n",
      "2021-10-13 14:16:05.673604: I tensorflow/compiler/jit/xla_gpu_device.cc:99] Not creating XLA devices, tf_xla_enable_xla_devices not set\n"
     ]
    }
   ],
   "source": [
    "model = Sequential([\n",
    "    layers.Dense(units = 32, input_shape = (7,), activation = 'relu'),\n",
    "    layers.Dense(units = 64, activation = 'relu', kernel_initializer = 'he_normal', use_bias = False),\n",
    "    layers.BatchNormalization(),\n",
    "    layers.Dense(units = 128, activation = 'relu',kernel_initializer = 'he_normal', use_bias = False),\n",
    "    layers.Dropout(0.1),\n",
    "    layers.Dense(units = 64, activation = 'relu',kernel_initializer = 'he_normal', use_bias = False),\n",
    "    layers.Dropout(0.1),\n",
    "    layers.Dense(units = 32, activation = 'relu'),\n",
    "    layers.Dropout(0.15),\n",
    "    layers.Dense(units = 16, activation = 'relu'),\n",
    "    layers.Dense(units = 8, activation = 'relu',kernel_initializer = 'he_normal', use_bias = False),\n",
    "    layers.Dense(units =1 , activation = 'sigmoid')\n",
    "])"
   ]
  },
  {
   "cell_type": "markdown",
   "id": "b18fd956",
   "metadata": {
    "papermill": {
     "duration": 0.107849,
     "end_time": "2021-10-13T14:16:06.032839",
     "exception": false,
     "start_time": "2021-10-13T14:16:05.924990",
     "status": "completed"
    },
    "tags": []
   },
   "source": [
    "Comprobamos cual es el resumen de las capas de nuestro modelo"
   ]
  },
  {
   "cell_type": "code",
   "execution_count": 57,
   "id": "e46100dd",
   "metadata": {
    "execution": {
     "iopub.execute_input": "2021-10-13T14:16:06.258340Z",
     "iopub.status.busy": "2021-10-13T14:16:06.257626Z",
     "iopub.status.idle": "2021-10-13T14:16:06.264830Z",
     "shell.execute_reply": "2021-10-13T14:16:06.264188Z",
     "shell.execute_reply.started": "2021-10-13T14:09:05.216705Z"
    },
    "papermill": {
     "duration": 0.12386,
     "end_time": "2021-10-13T14:16:06.265003",
     "exception": false,
     "start_time": "2021-10-13T14:16:06.141143",
     "status": "completed"
    },
    "tags": []
   },
   "outputs": [
    {
     "name": "stdout",
     "output_type": "stream",
     "text": [
      "Model: \"sequential\"\n",
      "_________________________________________________________________\n",
      "Layer (type)                 Output Shape              Param #   \n",
      "=================================================================\n",
      "dense (Dense)                (None, 32)                256       \n",
      "_________________________________________________________________\n",
      "dense_1 (Dense)              (None, 64)                2048      \n",
      "_________________________________________________________________\n",
      "batch_normalization (BatchNo (None, 64)                256       \n",
      "_________________________________________________________________\n",
      "dense_2 (Dense)              (None, 128)               8192      \n",
      "_________________________________________________________________\n",
      "dropout (Dropout)            (None, 128)               0         \n",
      "_________________________________________________________________\n",
      "dense_3 (Dense)              (None, 64)                8192      \n",
      "_________________________________________________________________\n",
      "dropout_1 (Dropout)          (None, 64)                0         \n",
      "_________________________________________________________________\n",
      "dense_4 (Dense)              (None, 32)                2080      \n",
      "_________________________________________________________________\n",
      "dropout_2 (Dropout)          (None, 32)                0         \n",
      "_________________________________________________________________\n",
      "dense_5 (Dense)              (None, 16)                528       \n",
      "_________________________________________________________________\n",
      "dense_6 (Dense)              (None, 8)                 128       \n",
      "_________________________________________________________________\n",
      "dense_7 (Dense)              (None, 1)                 9         \n",
      "=================================================================\n",
      "Total params: 21,689\n",
      "Trainable params: 21,561\n",
      "Non-trainable params: 128\n",
      "_________________________________________________________________\n"
     ]
    }
   ],
   "source": [
    " model.summary()"
   ]
  },
  {
   "cell_type": "markdown",
   "id": "8cf45873",
   "metadata": {
    "papermill": {
     "duration": 0.107853,
     "end_time": "2021-10-13T14:16:06.483025",
     "exception": false,
     "start_time": "2021-10-13T14:16:06.375172",
     "status": "completed"
    },
    "tags": []
   },
   "source": [
    "Añadimos como función de pérdida binary_crossentropy, que es la adecuada para un problema de clasificación binaria.\n",
    "\n",
    "También añadimos como función de optimización Adam. También se ha probado con la función Gradient Descent, obteniendo peores resultados.\n",
    "\n",
    "Finalmente queremos obtener como métrica el accuracy del problema."
   ]
  },
  {
   "cell_type": "code",
   "execution_count": 58,
   "id": "daaa283e",
   "metadata": {
    "execution": {
     "iopub.execute_input": "2021-10-13T14:16:06.707993Z",
     "iopub.status.busy": "2021-10-13T14:16:06.707060Z",
     "iopub.status.idle": "2021-10-13T14:16:06.722684Z",
     "shell.execute_reply": "2021-10-13T14:16:06.723186Z",
     "shell.execute_reply.started": "2021-10-13T14:11:56.623590Z"
    },
    "papermill": {
     "duration": 0.132039,
     "end_time": "2021-10-13T14:16:06.723465",
     "exception": false,
     "start_time": "2021-10-13T14:16:06.591426",
     "status": "completed"
    },
    "tags": []
   },
   "outputs": [],
   "source": [
    "model.compile(\n",
    "    loss = tf.keras.losses.binary_crossentropy, \n",
    "    optimizer = tf.keras.optimizers.SGD(), \n",
    "    metrics = ['acc']\n",
    ")"
   ]
  },
  {
   "cell_type": "markdown",
   "id": "6cb7aa48",
   "metadata": {
    "papermill": {
     "duration": 0.125292,
     "end_time": "2021-10-13T14:16:06.958024",
     "exception": false,
     "start_time": "2021-10-13T14:16:06.832732",
     "status": "completed"
    },
    "tags": []
   },
   "source": [
    "Entrenamos nuestro modelo pasándole el conjunto de características de entramiento y la salida final.\n",
    "\n",
    "Un tamaño de batch_size = 32 es habitual."
   ]
  },
  {
   "cell_type": "code",
   "execution_count": 59,
   "id": "20a4ddf9",
   "metadata": {
    "execution": {
     "iopub.execute_input": "2021-10-13T14:16:07.202012Z",
     "iopub.status.busy": "2021-10-13T14:16:07.201217Z",
     "iopub.status.idle": "2021-10-13T14:16:11.408473Z",
     "shell.execute_reply": "2021-10-13T14:16:11.407861Z",
     "shell.execute_reply.started": "2021-10-13T14:12:52.482399Z"
    },
    "papermill": {
     "duration": 4.331509,
     "end_time": "2021-10-13T14:16:11.408624",
     "exception": false,
     "start_time": "2021-10-13T14:16:07.077115",
     "status": "completed"
    },
    "tags": []
   },
   "outputs": [
    {
     "name": "stderr",
     "output_type": "stream",
     "text": [
      "2021-10-13 14:16:07.301972: I tensorflow/compiler/mlir/mlir_graph_optimization_pass.cc:116] None of the MLIR optimization passes are enabled (registered 2)\n",
      "2021-10-13 14:16:07.316742: I tensorflow/core/platform/profile_utils/cpu_utils.cc:112] CPU Frequency: 2199995000 Hz\n"
     ]
    },
    {
     "name": "stdout",
     "output_type": "stream",
     "text": [
      "Epoch 1/60\n",
      "28/28 - 1s - loss: 0.6572 - acc: 0.6386\n",
      "Epoch 2/60\n",
      "28/28 - 0s - loss: 0.6106 - acc: 0.6700\n",
      "Epoch 3/60\n",
      "28/28 - 0s - loss: 0.5675 - acc: 0.7407\n",
      "Epoch 4/60\n",
      "28/28 - 0s - loss: 0.5655 - acc: 0.7104\n",
      "Epoch 5/60\n",
      "28/28 - 0s - loss: 0.5418 - acc: 0.7329\n",
      "Epoch 6/60\n",
      "28/28 - 0s - loss: 0.5368 - acc: 0.7419\n",
      "Epoch 7/60\n",
      "28/28 - 0s - loss: 0.5023 - acc: 0.7688\n",
      "Epoch 8/60\n",
      "28/28 - 0s - loss: 0.4904 - acc: 0.7834\n",
      "Epoch 9/60\n",
      "28/28 - 0s - loss: 0.4858 - acc: 0.7755\n",
      "Epoch 10/60\n",
      "28/28 - 0s - loss: 0.4805 - acc: 0.7767\n",
      "Epoch 11/60\n",
      "28/28 - 0s - loss: 0.4761 - acc: 0.7823\n",
      "Epoch 12/60\n",
      "28/28 - 0s - loss: 0.4705 - acc: 0.7845\n",
      "Epoch 13/60\n",
      "28/28 - 0s - loss: 0.4619 - acc: 0.7901\n",
      "Epoch 14/60\n",
      "28/28 - 0s - loss: 0.4472 - acc: 0.8070\n",
      "Epoch 15/60\n",
      "28/28 - 0s - loss: 0.4543 - acc: 0.7834\n",
      "Epoch 16/60\n",
      "28/28 - 0s - loss: 0.4450 - acc: 0.8013\n",
      "Epoch 17/60\n",
      "28/28 - 0s - loss: 0.4471 - acc: 0.8070\n",
      "Epoch 18/60\n",
      "28/28 - 0s - loss: 0.4412 - acc: 0.8103\n",
      "Epoch 19/60\n",
      "28/28 - 0s - loss: 0.4337 - acc: 0.8137\n",
      "Epoch 20/60\n",
      "28/28 - 0s - loss: 0.4290 - acc: 0.8070\n",
      "Epoch 21/60\n",
      "28/28 - 0s - loss: 0.4437 - acc: 0.8103\n",
      "Epoch 22/60\n",
      "28/28 - 0s - loss: 0.4335 - acc: 0.8137\n",
      "Epoch 23/60\n",
      "28/28 - 0s - loss: 0.4175 - acc: 0.8103\n",
      "Epoch 24/60\n",
      "28/28 - 0s - loss: 0.4406 - acc: 0.8092\n",
      "Epoch 25/60\n",
      "28/28 - 0s - loss: 0.4310 - acc: 0.8148\n",
      "Epoch 26/60\n",
      "28/28 - 0s - loss: 0.4274 - acc: 0.8103\n",
      "Epoch 27/60\n",
      "28/28 - 0s - loss: 0.4243 - acc: 0.8204\n",
      "Epoch 28/60\n",
      "28/28 - 0s - loss: 0.4305 - acc: 0.7924\n",
      "Epoch 29/60\n",
      "28/28 - 0s - loss: 0.4253 - acc: 0.8182\n",
      "Epoch 30/60\n",
      "28/28 - 0s - loss: 0.4196 - acc: 0.8204\n",
      "Epoch 31/60\n",
      "28/28 - 0s - loss: 0.4277 - acc: 0.8070\n",
      "Epoch 32/60\n",
      "28/28 - 0s - loss: 0.4304 - acc: 0.8159\n",
      "Epoch 33/60\n",
      "28/28 - 0s - loss: 0.4215 - acc: 0.8126\n",
      "Epoch 34/60\n",
      "28/28 - 0s - loss: 0.4237 - acc: 0.8193\n",
      "Epoch 35/60\n",
      "28/28 - 0s - loss: 0.4129 - acc: 0.8204\n",
      "Epoch 36/60\n",
      "28/28 - 0s - loss: 0.4110 - acc: 0.8193\n",
      "Epoch 37/60\n",
      "28/28 - 0s - loss: 0.4134 - acc: 0.8249\n",
      "Epoch 38/60\n",
      "28/28 - 0s - loss: 0.4292 - acc: 0.8148\n",
      "Epoch 39/60\n",
      "28/28 - 0s - loss: 0.4102 - acc: 0.8204\n",
      "Epoch 40/60\n",
      "28/28 - 0s - loss: 0.4065 - acc: 0.8238\n",
      "Epoch 41/60\n",
      "28/28 - 0s - loss: 0.4086 - acc: 0.8238\n",
      "Epoch 42/60\n",
      "28/28 - 0s - loss: 0.4119 - acc: 0.8328\n",
      "Epoch 43/60\n",
      "28/28 - 0s - loss: 0.4060 - acc: 0.8171\n",
      "Epoch 44/60\n",
      "28/28 - 0s - loss: 0.4192 - acc: 0.8272\n",
      "Epoch 45/60\n",
      "28/28 - 0s - loss: 0.4104 - acc: 0.8227\n",
      "Epoch 46/60\n",
      "28/28 - 0s - loss: 0.4045 - acc: 0.8294\n",
      "Epoch 47/60\n",
      "28/28 - 0s - loss: 0.4088 - acc: 0.8260\n",
      "Epoch 48/60\n",
      "28/28 - 0s - loss: 0.3991 - acc: 0.8316\n",
      "Epoch 49/60\n",
      "28/28 - 0s - loss: 0.4123 - acc: 0.8193\n",
      "Epoch 50/60\n",
      "28/28 - 0s - loss: 0.3992 - acc: 0.8272\n",
      "Epoch 51/60\n",
      "28/28 - 0s - loss: 0.4169 - acc: 0.8238\n",
      "Epoch 52/60\n",
      "28/28 - 0s - loss: 0.4155 - acc: 0.8215\n",
      "Epoch 53/60\n",
      "28/28 - 0s - loss: 0.4124 - acc: 0.8305\n",
      "Epoch 54/60\n",
      "28/28 - 0s - loss: 0.3915 - acc: 0.8305\n",
      "Epoch 55/60\n",
      "28/28 - 0s - loss: 0.3811 - acc: 0.8294\n",
      "Epoch 56/60\n",
      "28/28 - 0s - loss: 0.3964 - acc: 0.8283\n",
      "Epoch 57/60\n",
      "28/28 - 0s - loss: 0.3918 - acc: 0.8462\n",
      "Epoch 58/60\n",
      "28/28 - 0s - loss: 0.4087 - acc: 0.8260\n",
      "Epoch 59/60\n",
      "28/28 - 0s - loss: 0.4028 - acc: 0.8171\n",
      "Epoch 60/60\n",
      "28/28 - 0s - loss: 0.3953 - acc: 0.8305\n"
     ]
    },
    {
     "data": {
      "text/plain": [
       "<tensorflow.python.keras.callbacks.History at 0x7fc0a456a8d0>"
      ]
     },
     "execution_count": 59,
     "metadata": {},
     "output_type": "execute_result"
    }
   ],
   "source": [
    "model.fit(X_train, Y_train, batch_size = 32, verbose = 2, epochs = 60)"
   ]
  },
  {
   "cell_type": "markdown",
   "id": "c9da0478",
   "metadata": {
    "papermill": {
     "duration": 0.142779,
     "end_time": "2021-10-13T14:16:11.693554",
     "exception": false,
     "start_time": "2021-10-13T14:16:11.550775",
     "status": "completed"
    },
    "tags": []
   },
   "source": [
    "Una vez realizado el entrenamiento, le pasamos al modelo nuevos ejemplos que no ha visto para que realice una predicción."
   ]
  },
  {
   "cell_type": "code",
   "execution_count": 60,
   "id": "d3084ff0",
   "metadata": {
    "execution": {
     "iopub.execute_input": "2021-10-13T14:16:12.003926Z",
     "iopub.status.busy": "2021-10-13T14:16:12.003214Z",
     "iopub.status.idle": "2021-10-13T14:16:12.185159Z",
     "shell.execute_reply": "2021-10-13T14:16:12.184339Z",
     "shell.execute_reply.started": "2021-10-13T14:12:58.942654Z"
    },
    "papermill": {
     "duration": 0.350337,
     "end_time": "2021-10-13T14:16:12.185369",
     "exception": false,
     "start_time": "2021-10-13T14:16:11.835032",
     "status": "completed"
    },
    "tags": []
   },
   "outputs": [],
   "source": [
    "predict = model.predict(X_test)"
   ]
  },
  {
   "cell_type": "markdown",
   "id": "d373b1d6",
   "metadata": {
    "papermill": {
     "duration": 0.142367,
     "end_time": "2021-10-13T14:16:12.470812",
     "exception": false,
     "start_time": "2021-10-13T14:16:12.328445",
     "status": "completed"
    },
    "tags": []
   },
   "source": [
    "Como estamos en un problema de clasificación binaria miramos cuál sería el output ( Survived o Not Supervived) con la función sigmoide."
   ]
  },
  {
   "cell_type": "code",
   "execution_count": 61,
   "id": "3f934ba2",
   "metadata": {
    "execution": {
     "iopub.execute_input": "2021-10-13T14:16:12.762111Z",
     "iopub.status.busy": "2021-10-13T14:16:12.761401Z",
     "iopub.status.idle": "2021-10-13T14:16:12.766921Z",
     "shell.execute_reply": "2021-10-13T14:16:12.767424Z",
     "shell.execute_reply.started": "2021-10-13T14:13:01.508799Z"
    },
    "papermill": {
     "duration": 0.154642,
     "end_time": "2021-10-13T14:16:12.767619",
     "exception": false,
     "start_time": "2021-10-13T14:16:12.612977",
     "status": "completed"
    },
    "tags": []
   },
   "outputs": [
    {
     "name": "stdout",
     "output_type": "stream",
     "text": [
      "[0 0 0 0 1 0 1 0 1 0 0 0 1 0 1 1 0 0 0 1 0 1 1 1 1 0 1 0 0 0 0 0 0 1 1 0 1\n",
      " 1 0 0 0 0 0 1 1 0 0 0 1 0 0 0 1 1 0 0 0 0 0 1 0 0 0 1 1 1 1 0 0 1 1 0 1 0\n",
      " 1 0 0 1 0 1 1 0 0 0 0 0 1 1 0 1 1 0 1 0 0 0 0 0 1 0 1 0 0 0 1 0 0 0 0 0 0\n",
      " 1 1 1 1 0 0 0 0 1 1 0 1 0 0 0 0 1 0 0 0 0 1 0 0 0 0 0 1 0 0 1 0 0 0 0 0 0\n",
      " 0 0 1 0 0 0 0 0 1 1 0 1 1 1 1 0 0 1 0 0 1 1 0 0 0 0 0 1 1 0 1 1 0 1 1 0 1\n",
      " 0 1 0 0 0 0 0 1 0 1 0 1 1 0 1 1 1 1 1 0 0 1 0 1 0 0 0 0 1 0 0 1 0 1 0 1 0\n",
      " 1 0 1 1 0 1 0 0 0 1 0 0 1 0 0 0 1 1 1 1 0 0 0 0 1 0 1 1 1 0 0 0 0 0 0 0 1\n",
      " 0 0 0 1 0 0 0 0 0 1 0 0 0 1 1 0 1 0 0 0 0 1 1 1 1 0 0 0 0 0 0 0 1 0 0 0 0\n",
      " 1 0 0 0 0 0 0 0 1 1 0 1 0 0 0 0 0 1 1 1 0 0 0 0 0 0 0 0 1 0 1 0 0 0 1 0 0\n",
      " 1 0 0 0 0 0 0 0 0 0 1 0 1 0 1 0 1 1 0 0 0 0 0 1 0 0 1 0 1 1 0 1 0 0 0 1 0\n",
      " 0 1 0 0 1 1 0 0 0 0 0 0 1 1 0 1 0 0 0 1 0 1 1 0 0 1 0 1 0 0 1 0 1 0 0 0 0\n",
      " 0 1 0 1 1 1 0 1 0 0 1]\n"
     ]
    }
   ],
   "source": [
    "predict = (predict > 0.5).astype(int).ravel()\n",
    "print(predict)"
   ]
  },
  {
   "cell_type": "markdown",
   "id": "3ee79e5d",
   "metadata": {
    "papermill": {
     "duration": 0.14394,
     "end_time": "2021-10-13T14:16:13.055849",
     "exception": false,
     "start_time": "2021-10-13T14:16:12.911909",
     "status": "completed"
    },
    "tags": []
   },
   "source": [
    "Creamos el fichero final para submission.csv"
   ]
  },
  {
   "cell_type": "code",
   "execution_count": 62,
   "id": "bf0ac076",
   "metadata": {
    "execution": {
     "iopub.execute_input": "2021-10-13T14:16:13.344775Z",
     "iopub.status.busy": "2021-10-13T14:16:13.344041Z",
     "iopub.status.idle": "2021-10-13T14:16:13.356176Z",
     "shell.execute_reply": "2021-10-13T14:16:13.355601Z",
     "shell.execute_reply.started": "2021-10-13T14:13:03.992459Z"
    },
    "papermill": {
     "duration": 0.158825,
     "end_time": "2021-10-13T14:16:13.356388",
     "exception": false,
     "start_time": "2021-10-13T14:16:13.197563",
     "status": "completed"
    },
    "tags": []
   },
   "outputs": [],
   "source": [
    "submit = pd.DataFrame({\"PassengerId\":test_data.PassengerId, 'Survived':predict})\n",
    "submit.to_csv(\"submission.csv\",index = False)"
   ]
  },
  {
   "cell_type": "markdown",
   "id": "49272497",
   "metadata": {
    "papermill": {
     "duration": 0.140804,
     "end_time": "2021-10-13T14:16:13.641891",
     "exception": false,
     "start_time": "2021-10-13T14:16:13.501087",
     "status": "completed"
    },
    "tags": []
   },
   "source": [
    "He buscado como realizar la matriz de confusión siguiendo la fórmula de distintas métricas"
   ]
  },
  {
   "cell_type": "code",
   "execution_count": 63,
   "id": "95991e2e",
   "metadata": {
    "execution": {
     "iopub.execute_input": "2021-10-13T14:16:13.933216Z",
     "iopub.status.busy": "2021-10-13T14:16:13.932456Z",
     "iopub.status.idle": "2021-10-13T14:16:14.185394Z",
     "shell.execute_reply": "2021-10-13T14:16:14.185948Z",
     "shell.execute_reply.started": "2021-10-13T14:13:10.642597Z"
    },
    "papermill": {
     "duration": 0.402579,
     "end_time": "2021-10-13T14:16:14.186122",
     "exception": false,
     "start_time": "2021-10-13T14:16:13.783543",
     "status": "completed"
    },
    "tags": []
   },
   "outputs": [
    {
     "name": "stdout",
     "output_type": "stream",
     "text": [
      "Precision :  83.73\n",
      "Accuracy :  83.95\n",
      "Recall :  72.22\n",
      "F1 score :  77.55\n",
      "AUC :  81.74\n"
     ]
    }
   ],
   "source": [
    "from sklearn import metrics\n",
    "Y_pred_rand = (model.predict(X_train) > 0.5).astype(int)\n",
    "print('Precision : ', np.round(metrics.precision_score(Y_train, Y_pred_rand)*100,2))\n",
    "print('Accuracy : ', np.round(metrics.accuracy_score(Y_train, Y_pred_rand)*100,2))\n",
    "print('Recall : ', np.round(metrics.recall_score(Y_train, Y_pred_rand)*100,2))\n",
    "print('F1 score : ', np.round(metrics.f1_score(Y_train, Y_pred_rand)*100,2))\n",
    "print('AUC : ', np.round(metrics.roc_auc_score(Y_train, Y_pred_rand)*100,2))"
   ]
  },
  {
   "cell_type": "code",
   "execution_count": 64,
   "id": "66179b35",
   "metadata": {
    "execution": {
     "iopub.execute_input": "2021-10-13T14:16:14.475081Z",
     "iopub.status.busy": "2021-10-13T14:16:14.474125Z",
     "iopub.status.idle": "2021-10-13T14:16:14.693752Z",
     "shell.execute_reply": "2021-10-13T14:16:14.694212Z",
     "shell.execute_reply.started": "2021-10-13T14:12:45.467703Z"
    },
    "papermill": {
     "duration": 0.365725,
     "end_time": "2021-10-13T14:16:14.694404",
     "exception": false,
     "start_time": "2021-10-13T14:16:14.328679",
     "status": "completed"
    },
    "tags": []
   },
   "outputs": [
    {
     "data": {
      "image/png": "[encoded data removed]",
      "text/plain": [
       "<Figure size 432x288 with 2 Axes>"
      ]
     },
     "metadata": {
      "needs_background": "light"
     },
     "output_type": "display_data"
    }
   ],
   "source": [
    "matrix = metrics.confusion_matrix(Y_train, Y_pred_rand)\n",
    "sns.heatmap(matrix, annot = True,fmt = 'g')\n",
    "plt.show()"
   ]
  },
  {
   "cell_type": "code",
   "execution_count": null,
   "id": "839d490c",
   "metadata": {
    "papermill": {
     "duration": 0.146641,
     "end_time": "2021-10-13T14:16:14.985505",
     "exception": false,
     "start_time": "2021-10-13T14:16:14.838864",
     "status": "completed"
    },
    "tags": []
   },
   "outputs": [],
   "source": []
  }
 ],
 "metadata": {
  "kernelspec": {
   "display_name": "Python 3",
   "language": "python",
   "name": "python3"
  },
  "language_info": {
   "codemirror_mode": {
    "name": "ipython",
    "version": 3
   },
   "file_extension": ".py",
   "mimetype": "text/x-python",
   "name": "python",
   "nbconvert_exporter": "python",
   "pygments_lexer": "ipython3",
   "version": "3.7.10"
  },
  "papermill": {
   "default_parameters": {},
   "duration": 59.273202,
   "end_time": "2021-10-13T14:16:18.715128",
   "environment_variables": {},
   "exception": null,
   "input_path": "__notebook__.ipynb",
   "output_path": "__notebook__.ipynb",
   "parameters": {},
   "start_time": "2021-10-13T14:15:19.441926",
   "version": "2.3.3"
  }
 },
 "nbformat": 4,
 "nbformat_minor": 5
}
