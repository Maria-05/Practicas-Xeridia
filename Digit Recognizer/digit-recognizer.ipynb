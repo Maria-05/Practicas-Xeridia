{
 "cells": [
  {
   "cell_type": "markdown",
   "id": "f833102c",
   "metadata": {
    "papermill": {
     "duration": 0.050927,
     "end_time": "2021-11-15T10:06:09.365468",
     "exception": false,
     "start_time": "2021-11-15T10:06:09.314541",
     "status": "completed"
    },
    "tags": []
   },
   "source": [
    "# Digit Recognizer Competition "
   ]
  },
  {
   "cell_type": "markdown",
   "id": "751f96c3",
   "metadata": {
    "papermill": {
     "duration": 0.051502,
     "end_time": "2021-11-15T10:06:09.466597",
     "exception": false,
     "start_time": "2021-11-15T10:06:09.415095",
     "status": "completed"
    },
    "tags": []
   },
   "source": [
    "**RESUMEN**\n",
    "\n",
    "La base de datos del MNIST (base de datos modificada del Instituto Nacional de Normas y Tecnología) es una gran base de datos de dígitos manuscritos que se utiliza comúnmente para la capacitación de diversos sistemas de procesamiento de imágenes. La base de datos también se utiliza ampliamente para la capacitación y el ensayo en el campo del aprendizaje automático. Se creó \"remezclando\" las muestras de los conjuntos de datos originales del NIST.  Además, las imágenes en blanco y negro del NIST fueron normalizadas para que encajaran en un cuadro delimitador de 28x28 píxeles, lo que introdujo niveles de escala de grises.\n",
    "\n",
    "La base de datos del MNIST contiene 42.000 imágenes de entrenamiento y 28.000 imágenes de prueba. En su papel original, utilizan una máquina de soporte vectorial para obtener una tasa de error del 0,8%. En 2017 se ha publicado un conjunto de datos ampliado similar al MNIST llamado EMNIST, que contiene 240.000 imágenes de entrenamiento y 40.000 imágenes de prueba de dígitos y caracteres escritos a mano."
   ]
  },
  {
   "cell_type": "markdown",
   "id": "290d08b2",
   "metadata": {
    "papermill": {
     "duration": 0.049304,
     "end_time": "2021-11-15T10:06:09.565903",
     "exception": false,
     "start_time": "2021-11-15T10:06:09.516599",
     "status": "completed"
    },
    "tags": []
   },
   "source": [
    "**Este Cuaderno tiene tres partes principales:**\n",
    "\n",
    "1. La preparación de datos\n",
    "1. El modelado de la red convolucional\n",
    "1. La predicción y submission de resultados"
   ]
  },
  {
   "cell_type": "markdown",
   "id": "ccb9323a",
   "metadata": {
    "papermill": {
     "duration": 0.050431,
     "end_time": "2021-11-15T10:06:09.666484",
     "exception": false,
     "start_time": "2021-11-15T10:06:09.616053",
     "status": "completed"
    },
    "tags": []
   },
   "source": [
    "Importamos las librerías de tensorflow y keras para nuestro modelo de redes neuronales profundas. Y comprobamos la versión."
   ]
  },
  {
   "cell_type": "code",
   "execution_count": 1,
   "id": "90d8ef71",
   "metadata": {
    "execution": {
     "iopub.execute_input": "2021-11-15T10:06:09.776290Z",
     "iopub.status.busy": "2021-11-15T10:06:09.775616Z",
     "iopub.status.idle": "2021-11-15T10:06:15.100405Z",
     "shell.execute_reply": "2021-11-15T10:06:15.099636Z",
     "shell.execute_reply.started": "2021-11-12T14:14:06.042542Z"
    },
    "papermill": {
     "duration": 5.384725,
     "end_time": "2021-11-15T10:06:15.100557",
     "exception": false,
     "start_time": "2021-11-15T10:06:09.715832",
     "status": "completed"
    },
    "tags": []
   },
   "outputs": [
    {
     "data": {
      "text/plain": [
       "'2.6.0'"
      ]
     },
     "execution_count": 1,
     "metadata": {},
     "output_type": "execute_result"
    }
   ],
   "source": [
    "import tensorflow as tf\n",
    "tf.__version__"
   ]
  },
  {
   "cell_type": "code",
   "execution_count": 2,
   "id": "64212562",
   "metadata": {
    "execution": {
     "iopub.execute_input": "2021-11-15T10:06:15.271171Z",
     "iopub.status.busy": "2021-11-15T10:06:15.270257Z",
     "iopub.status.idle": "2021-11-15T10:06:16.431976Z",
     "shell.execute_reply": "2021-11-15T10:06:16.431225Z",
     "shell.execute_reply.started": "2021-11-12T14:14:06.054827Z"
    },
    "papermill": {
     "duration": 1.217119,
     "end_time": "2021-11-15T10:06:16.432134",
     "exception": false,
     "start_time": "2021-11-15T10:06:15.215015",
     "status": "completed"
    },
    "tags": []
   },
   "outputs": [
    {
     "data": {
      "text/plain": [
       "'2.6.0'"
      ]
     },
     "execution_count": 2,
     "metadata": {},
     "output_type": "execute_result"
    }
   ],
   "source": [
    "from tensorflow import keras\n",
    "keras.__version__"
   ]
  },
  {
   "cell_type": "markdown",
   "id": "da72bc6c",
   "metadata": {
    "papermill": {
     "duration": 0.051558,
     "end_time": "2021-11-15T10:06:16.535344",
     "exception": false,
     "start_time": "2021-11-15T10:06:16.483786",
     "status": "completed"
    },
    "tags": []
   },
   "source": [
    "Añadimos más librerías"
   ]
  },
  {
   "cell_type": "code",
   "execution_count": 3,
   "id": "c2ab342a",
   "metadata": {
    "_cell_guid": "b1076dfc-b9ad-4769-8c92-a6c4dae69d19",
    "_uuid": "8f2839f25d086af736a60e9eeb907d3b93b6e0e5",
    "execution": {
     "iopub.execute_input": "2021-11-15T10:06:16.649160Z",
     "iopub.status.busy": "2021-11-15T10:06:16.648207Z",
     "iopub.status.idle": "2021-11-15T10:06:17.823369Z",
     "shell.execute_reply": "2021-11-15T10:06:17.824294Z",
     "shell.execute_reply.started": "2021-11-12T14:14:06.07212Z"
    },
    "papermill": {
     "duration": 1.235442,
     "end_time": "2021-11-15T10:06:17.824541",
     "exception": false,
     "start_time": "2021-11-15T10:06:16.589099",
     "status": "completed"
    },
    "tags": []
   },
   "outputs": [
    {
     "name": "stdout",
     "output_type": "stream",
     "text": [
      "/kaggle/input/digit-recognizer/sample_submission.csv\n",
      "/kaggle/input/digit-recognizer/train.csv\n",
      "/kaggle/input/digit-recognizer/test.csv\n"
     ]
    }
   ],
   "source": [
    "import pandas as pd\n",
    "import numpy as np\n",
    "import matplotlib.pyplot as plt\n",
    "import matplotlib.image as mpimg\n",
    "import seaborn as sns\n",
    "%matplotlib inline\n",
    "\n",
    "from sklearn.model_selection import train_test_split\n",
    "from sklearn.metrics import confusion_matrix\n",
    "\n",
    "sns.set(style='white', context='notebook', palette='deep')\n",
    "\n",
    "# Los archivos de datos están disponibles en el directorio \"../input/\" \n",
    "\n",
    "import os\n",
    "for dirname, _, filenames in os.walk('/kaggle/input'):\n",
    "    for filename in filenames:\n",
    "        print(os.path.join(dirname, filename))"
   ]
  },
  {
   "cell_type": "markdown",
   "id": "18d9f3ea",
   "metadata": {
    "papermill": {
     "duration": 0.051147,
     "end_time": "2021-11-15T10:06:17.928297",
     "exception": false,
     "start_time": "2021-11-15T10:06:17.877150",
     "status": "completed"
    },
    "tags": []
   },
   "source": [
    "Hay tres archivos que existen en este fichero: (1) train.csv, (2) test.csv, (3) sample_submission.csv "
   ]
  },
  {
   "cell_type": "markdown",
   "id": "d757d856",
   "metadata": {
    "papermill": {
     "duration": 0.052042,
     "end_time": "2021-11-15T10:06:18.032691",
     "exception": false,
     "start_time": "2021-11-15T10:06:17.980649",
     "status": "completed"
    },
    "tags": []
   },
   "source": [
    "En esta parte cargamos y visualizamos los datos que serán los pixeles de entrada para cada imagen. En esta celda cargamos el archivo train.csv."
   ]
  },
  {
   "cell_type": "code",
   "execution_count": 4,
   "id": "64700ed3",
   "metadata": {
    "execution": {
     "iopub.execute_input": "2021-11-15T10:06:18.138457Z",
     "iopub.status.busy": "2021-11-15T10:06:18.137476Z",
     "iopub.status.idle": "2021-11-15T10:06:21.869247Z",
     "shell.execute_reply": "2021-11-15T10:06:21.869820Z",
     "shell.execute_reply.started": "2021-11-12T14:14:06.322615Z"
    },
    "papermill": {
     "duration": 3.786302,
     "end_time": "2021-11-15T10:06:21.870004",
     "exception": false,
     "start_time": "2021-11-15T10:06:18.083702",
     "status": "completed"
    },
    "tags": []
   },
   "outputs": [
    {
     "data": {
      "text/html": [
       "<div>\n",
       "<style scoped>\n",
       "    .dataframe tbody tr th:only-of-type {\n",
       "        vertical-align: middle;\n",
       "    }\n",
       "\n",
       "    .dataframe tbody tr th {\n",
       "        vertical-align: top;\n",
       "    }\n",
       "\n",
       "    .dataframe thead th {\n",
       "        text-align: right;\n",
       "    }\n",
       "</style>\n",
       "<table border=\"1\" class=\"dataframe\">\n",
       "  <thead>\n",
       "    <tr style=\"text-align: right;\">\n",
       "      <th></th>\n",
       "      <th>label</th>\n",
       "      <th>pixel0</th>\n",
       "      <th>pixel1</th>\n",
       "      <th>pixel2</th>\n",
       "      <th>pixel3</th>\n",
       "      <th>pixel4</th>\n",
       "      <th>pixel5</th>\n",
       "      <th>pixel6</th>\n",
       "      <th>pixel7</th>\n",
       "      <th>pixel8</th>\n",
       "      <th>...</th>\n",
       "      <th>pixel774</th>\n",
       "      <th>pixel775</th>\n",
       "      <th>pixel776</th>\n",
       "      <th>pixel777</th>\n",
       "      <th>pixel778</th>\n",
       "      <th>pixel779</th>\n",
       "      <th>pixel780</th>\n",
       "      <th>pixel781</th>\n",
       "      <th>pixel782</th>\n",
       "      <th>pixel783</th>\n",
       "    </tr>\n",
       "  </thead>\n",
       "  <tbody>\n",
       "    <tr>\n",
       "      <th>0</th>\n",
       "      <td>1</td>\n",
       "      <td>0</td>\n",
       "      <td>0</td>\n",
       "      <td>0</td>\n",
       "      <td>0</td>\n",
       "      <td>0</td>\n",
       "      <td>0</td>\n",
       "      <td>0</td>\n",
       "      <td>0</td>\n",
       "      <td>0</td>\n",
       "      <td>...</td>\n",
       "      <td>0</td>\n",
       "      <td>0</td>\n",
       "      <td>0</td>\n",
       "      <td>0</td>\n",
       "      <td>0</td>\n",
       "      <td>0</td>\n",
       "      <td>0</td>\n",
       "      <td>0</td>\n",
       "      <td>0</td>\n",
       "      <td>0</td>\n",
       "    </tr>\n",
       "    <tr>\n",
       "      <th>1</th>\n",
       "      <td>0</td>\n",
       "      <td>0</td>\n",
       "      <td>0</td>\n",
       "      <td>0</td>\n",
       "      <td>0</td>\n",
       "      <td>0</td>\n",
       "      <td>0</td>\n",
       "      <td>0</td>\n",
       "      <td>0</td>\n",
       "      <td>0</td>\n",
       "      <td>...</td>\n",
       "      <td>0</td>\n",
       "      <td>0</td>\n",
       "      <td>0</td>\n",
       "      <td>0</td>\n",
       "      <td>0</td>\n",
       "      <td>0</td>\n",
       "      <td>0</td>\n",
       "      <td>0</td>\n",
       "      <td>0</td>\n",
       "      <td>0</td>\n",
       "    </tr>\n",
       "    <tr>\n",
       "      <th>2</th>\n",
       "      <td>1</td>\n",
       "      <td>0</td>\n",
       "      <td>0</td>\n",
       "      <td>0</td>\n",
       "      <td>0</td>\n",
       "      <td>0</td>\n",
       "      <td>0</td>\n",
       "      <td>0</td>\n",
       "      <td>0</td>\n",
       "      <td>0</td>\n",
       "      <td>...</td>\n",
       "      <td>0</td>\n",
       "      <td>0</td>\n",
       "      <td>0</td>\n",
       "      <td>0</td>\n",
       "      <td>0</td>\n",
       "      <td>0</td>\n",
       "      <td>0</td>\n",
       "      <td>0</td>\n",
       "      <td>0</td>\n",
       "      <td>0</td>\n",
       "    </tr>\n",
       "    <tr>\n",
       "      <th>3</th>\n",
       "      <td>4</td>\n",
       "      <td>0</td>\n",
       "      <td>0</td>\n",
       "      <td>0</td>\n",
       "      <td>0</td>\n",
       "      <td>0</td>\n",
       "      <td>0</td>\n",
       "      <td>0</td>\n",
       "      <td>0</td>\n",
       "      <td>0</td>\n",
       "      <td>...</td>\n",
       "      <td>0</td>\n",
       "      <td>0</td>\n",
       "      <td>0</td>\n",
       "      <td>0</td>\n",
       "      <td>0</td>\n",
       "      <td>0</td>\n",
       "      <td>0</td>\n",
       "      <td>0</td>\n",
       "      <td>0</td>\n",
       "      <td>0</td>\n",
       "    </tr>\n",
       "    <tr>\n",
       "      <th>4</th>\n",
       "      <td>0</td>\n",
       "      <td>0</td>\n",
       "      <td>0</td>\n",
       "      <td>0</td>\n",
       "      <td>0</td>\n",
       "      <td>0</td>\n",
       "      <td>0</td>\n",
       "      <td>0</td>\n",
       "      <td>0</td>\n",
       "      <td>0</td>\n",
       "      <td>...</td>\n",
       "      <td>0</td>\n",
       "      <td>0</td>\n",
       "      <td>0</td>\n",
       "      <td>0</td>\n",
       "      <td>0</td>\n",
       "      <td>0</td>\n",
       "      <td>0</td>\n",
       "      <td>0</td>\n",
       "      <td>0</td>\n",
       "      <td>0</td>\n",
       "    </tr>\n",
       "  </tbody>\n",
       "</table>\n",
       "<p>5 rows × 785 columns</p>\n",
       "</div>"
      ],
      "text/plain": [
       "   label  pixel0  pixel1  pixel2  pixel3  pixel4  pixel5  pixel6  pixel7  \\\n",
       "0      1       0       0       0       0       0       0       0       0   \n",
       "1      0       0       0       0       0       0       0       0       0   \n",
       "2      1       0       0       0       0       0       0       0       0   \n",
       "3      4       0       0       0       0       0       0       0       0   \n",
       "4      0       0       0       0       0       0       0       0       0   \n",
       "\n",
       "   pixel8  ...  pixel774  pixel775  pixel776  pixel777  pixel778  pixel779  \\\n",
       "0       0  ...         0         0         0         0         0         0   \n",
       "1       0  ...         0         0         0         0         0         0   \n",
       "2       0  ...         0         0         0         0         0         0   \n",
       "3       0  ...         0         0         0         0         0         0   \n",
       "4       0  ...         0         0         0         0         0         0   \n",
       "\n",
       "   pixel780  pixel781  pixel782  pixel783  \n",
       "0         0         0         0         0  \n",
       "1         0         0         0         0  \n",
       "2         0         0         0         0  \n",
       "3         0         0         0         0  \n",
       "4         0         0         0         0  \n",
       "\n",
       "[5 rows x 785 columns]"
      ]
     },
     "execution_count": 4,
     "metadata": {},
     "output_type": "execute_result"
    }
   ],
   "source": [
    "train = pd.read_csv(\"../input/digit-recognizer/train.csv\")\n",
    "train.head()"
   ]
  },
  {
   "cell_type": "markdown",
   "id": "6c14204c",
   "metadata": {
    "papermill": {
     "duration": 0.051913,
     "end_time": "2021-11-15T10:06:21.974562",
     "exception": false,
     "start_time": "2021-11-15T10:06:21.922649",
     "status": "completed"
    },
    "tags": []
   },
   "source": [
    "Tenemos 785 columnas de características (cada pixel) y 42000 instancias de datos"
   ]
  },
  {
   "cell_type": "code",
   "execution_count": 5,
   "id": "efc1083d",
   "metadata": {
    "execution": {
     "iopub.execute_input": "2021-11-15T10:06:22.082839Z",
     "iopub.status.busy": "2021-11-15T10:06:22.081779Z",
     "iopub.status.idle": "2021-11-15T10:06:22.089883Z",
     "shell.execute_reply": "2021-11-15T10:06:22.088837Z",
     "shell.execute_reply.started": "2021-11-12T14:14:09.058368Z"
    },
    "papermill": {
     "duration": 0.063731,
     "end_time": "2021-11-15T10:06:22.090083",
     "exception": false,
     "start_time": "2021-11-15T10:06:22.026352",
     "status": "completed"
    },
    "tags": []
   },
   "outputs": [
    {
     "name": "stdout",
     "output_type": "stream",
     "text": [
      "Tamaño del dataset de entrenamiento (42000, 785)\n"
     ]
    }
   ],
   "source": [
    "print(\"Tamaño del dataset de entrenamiento\", train.shape)"
   ]
  },
  {
   "cell_type": "markdown",
   "id": "080deb1e",
   "metadata": {
    "papermill": {
     "duration": 0.051997,
     "end_time": "2021-11-15T10:06:22.194287",
     "exception": false,
     "start_time": "2021-11-15T10:06:22.142290",
     "status": "completed"
    },
    "tags": []
   },
   "source": [
    "En esta celda cargamos el archivo test.csv."
   ]
  },
  {
   "cell_type": "code",
   "execution_count": 6,
   "id": "d1e7f438",
   "metadata": {
    "execution": {
     "iopub.execute_input": "2021-11-15T10:06:22.303885Z",
     "iopub.status.busy": "2021-11-15T10:06:22.302962Z",
     "iopub.status.idle": "2021-11-15T10:06:24.353532Z",
     "shell.execute_reply": "2021-11-15T10:06:24.354070Z",
     "shell.execute_reply.started": "2021-11-12T14:14:09.064681Z"
    },
    "papermill": {
     "duration": 2.107861,
     "end_time": "2021-11-15T10:06:24.354246",
     "exception": false,
     "start_time": "2021-11-15T10:06:22.246385",
     "status": "completed"
    },
    "tags": []
   },
   "outputs": [
    {
     "data": {
      "text/html": [
       "<div>\n",
       "<style scoped>\n",
       "    .dataframe tbody tr th:only-of-type {\n",
       "        vertical-align: middle;\n",
       "    }\n",
       "\n",
       "    .dataframe tbody tr th {\n",
       "        vertical-align: top;\n",
       "    }\n",
       "\n",
       "    .dataframe thead th {\n",
       "        text-align: right;\n",
       "    }\n",
       "</style>\n",
       "<table border=\"1\" class=\"dataframe\">\n",
       "  <thead>\n",
       "    <tr style=\"text-align: right;\">\n",
       "      <th></th>\n",
       "      <th>pixel0</th>\n",
       "      <th>pixel1</th>\n",
       "      <th>pixel2</th>\n",
       "      <th>pixel3</th>\n",
       "      <th>pixel4</th>\n",
       "      <th>pixel5</th>\n",
       "      <th>pixel6</th>\n",
       "      <th>pixel7</th>\n",
       "      <th>pixel8</th>\n",
       "      <th>pixel9</th>\n",
       "      <th>...</th>\n",
       "      <th>pixel774</th>\n",
       "      <th>pixel775</th>\n",
       "      <th>pixel776</th>\n",
       "      <th>pixel777</th>\n",
       "      <th>pixel778</th>\n",
       "      <th>pixel779</th>\n",
       "      <th>pixel780</th>\n",
       "      <th>pixel781</th>\n",
       "      <th>pixel782</th>\n",
       "      <th>pixel783</th>\n",
       "    </tr>\n",
       "  </thead>\n",
       "  <tbody>\n",
       "    <tr>\n",
       "      <th>0</th>\n",
       "      <td>0</td>\n",
       "      <td>0</td>\n",
       "      <td>0</td>\n",
       "      <td>0</td>\n",
       "      <td>0</td>\n",
       "      <td>0</td>\n",
       "      <td>0</td>\n",
       "      <td>0</td>\n",
       "      <td>0</td>\n",
       "      <td>0</td>\n",
       "      <td>...</td>\n",
       "      <td>0</td>\n",
       "      <td>0</td>\n",
       "      <td>0</td>\n",
       "      <td>0</td>\n",
       "      <td>0</td>\n",
       "      <td>0</td>\n",
       "      <td>0</td>\n",
       "      <td>0</td>\n",
       "      <td>0</td>\n",
       "      <td>0</td>\n",
       "    </tr>\n",
       "    <tr>\n",
       "      <th>1</th>\n",
       "      <td>0</td>\n",
       "      <td>0</td>\n",
       "      <td>0</td>\n",
       "      <td>0</td>\n",
       "      <td>0</td>\n",
       "      <td>0</td>\n",
       "      <td>0</td>\n",
       "      <td>0</td>\n",
       "      <td>0</td>\n",
       "      <td>0</td>\n",
       "      <td>...</td>\n",
       "      <td>0</td>\n",
       "      <td>0</td>\n",
       "      <td>0</td>\n",
       "      <td>0</td>\n",
       "      <td>0</td>\n",
       "      <td>0</td>\n",
       "      <td>0</td>\n",
       "      <td>0</td>\n",
       "      <td>0</td>\n",
       "      <td>0</td>\n",
       "    </tr>\n",
       "    <tr>\n",
       "      <th>2</th>\n",
       "      <td>0</td>\n",
       "      <td>0</td>\n",
       "      <td>0</td>\n",
       "      <td>0</td>\n",
       "      <td>0</td>\n",
       "      <td>0</td>\n",
       "      <td>0</td>\n",
       "      <td>0</td>\n",
       "      <td>0</td>\n",
       "      <td>0</td>\n",
       "      <td>...</td>\n",
       "      <td>0</td>\n",
       "      <td>0</td>\n",
       "      <td>0</td>\n",
       "      <td>0</td>\n",
       "      <td>0</td>\n",
       "      <td>0</td>\n",
       "      <td>0</td>\n",
       "      <td>0</td>\n",
       "      <td>0</td>\n",
       "      <td>0</td>\n",
       "    </tr>\n",
       "    <tr>\n",
       "      <th>3</th>\n",
       "      <td>0</td>\n",
       "      <td>0</td>\n",
       "      <td>0</td>\n",
       "      <td>0</td>\n",
       "      <td>0</td>\n",
       "      <td>0</td>\n",
       "      <td>0</td>\n",
       "      <td>0</td>\n",
       "      <td>0</td>\n",
       "      <td>0</td>\n",
       "      <td>...</td>\n",
       "      <td>0</td>\n",
       "      <td>0</td>\n",
       "      <td>0</td>\n",
       "      <td>0</td>\n",
       "      <td>0</td>\n",
       "      <td>0</td>\n",
       "      <td>0</td>\n",
       "      <td>0</td>\n",
       "      <td>0</td>\n",
       "      <td>0</td>\n",
       "    </tr>\n",
       "    <tr>\n",
       "      <th>4</th>\n",
       "      <td>0</td>\n",
       "      <td>0</td>\n",
       "      <td>0</td>\n",
       "      <td>0</td>\n",
       "      <td>0</td>\n",
       "      <td>0</td>\n",
       "      <td>0</td>\n",
       "      <td>0</td>\n",
       "      <td>0</td>\n",
       "      <td>0</td>\n",
       "      <td>...</td>\n",
       "      <td>0</td>\n",
       "      <td>0</td>\n",
       "      <td>0</td>\n",
       "      <td>0</td>\n",
       "      <td>0</td>\n",
       "      <td>0</td>\n",
       "      <td>0</td>\n",
       "      <td>0</td>\n",
       "      <td>0</td>\n",
       "      <td>0</td>\n",
       "    </tr>\n",
       "  </tbody>\n",
       "</table>\n",
       "<p>5 rows × 784 columns</p>\n",
       "</div>"
      ],
      "text/plain": [
       "   pixel0  pixel1  pixel2  pixel3  pixel4  pixel5  pixel6  pixel7  pixel8  \\\n",
       "0       0       0       0       0       0       0       0       0       0   \n",
       "1       0       0       0       0       0       0       0       0       0   \n",
       "2       0       0       0       0       0       0       0       0       0   \n",
       "3       0       0       0       0       0       0       0       0       0   \n",
       "4       0       0       0       0       0       0       0       0       0   \n",
       "\n",
       "   pixel9  ...  pixel774  pixel775  pixel776  pixel777  pixel778  pixel779  \\\n",
       "0       0  ...         0         0         0         0         0         0   \n",
       "1       0  ...         0         0         0         0         0         0   \n",
       "2       0  ...         0         0         0         0         0         0   \n",
       "3       0  ...         0         0         0         0         0         0   \n",
       "4       0  ...         0         0         0         0         0         0   \n",
       "\n",
       "   pixel780  pixel781  pixel782  pixel783  \n",
       "0         0         0         0         0  \n",
       "1         0         0         0         0  \n",
       "2         0         0         0         0  \n",
       "3         0         0         0         0  \n",
       "4         0         0         0         0  \n",
       "\n",
       "[5 rows x 784 columns]"
      ]
     },
     "execution_count": 6,
     "metadata": {},
     "output_type": "execute_result"
    }
   ],
   "source": [
    "test = pd.read_csv(\"../input/digit-recognizer/test.csv\")\n",
    "test.head()"
   ]
  },
  {
   "cell_type": "markdown",
   "id": "8d93d2ea",
   "metadata": {
    "papermill": {
     "duration": 0.052593,
     "end_time": "2021-11-15T10:06:24.460010",
     "exception": false,
     "start_time": "2021-11-15T10:06:24.407417",
     "status": "completed"
    },
    "tags": []
   },
   "source": [
    "Tenemos 784 columnas de características, ya que no contamos con la etiqueta final y 28000 instancias de datos. "
   ]
  },
  {
   "cell_type": "code",
   "execution_count": 7,
   "id": "1da5c6cd",
   "metadata": {
    "execution": {
     "iopub.execute_input": "2021-11-15T10:06:24.570861Z",
     "iopub.status.busy": "2021-11-15T10:06:24.570045Z",
     "iopub.status.idle": "2021-11-15T10:06:24.573231Z",
     "shell.execute_reply": "2021-11-15T10:06:24.573976Z",
     "shell.execute_reply.started": "2021-11-12T14:14:10.752057Z"
    },
    "papermill": {
     "duration": 0.061502,
     "end_time": "2021-11-15T10:06:24.574195",
     "exception": false,
     "start_time": "2021-11-15T10:06:24.512693",
     "status": "completed"
    },
    "tags": []
   },
   "outputs": [
    {
     "name": "stdout",
     "output_type": "stream",
     "text": [
      "Tamaño del dataset de prueba (28000, 784)\n"
     ]
    }
   ],
   "source": [
    "print(\"Tamaño del dataset de prueba\", test.shape)"
   ]
  },
  {
   "cell_type": "markdown",
   "id": "876a1232",
   "metadata": {
    "papermill": {
     "duration": 0.05334,
     "end_time": "2021-11-15T10:06:24.681731",
     "exception": false,
     "start_time": "2021-11-15T10:06:24.628391",
     "status": "completed"
    },
    "tags": []
   },
   "source": [
    "Guardamos la etiqueta de salida en la variable y_train. Además quitamos la etiqueta del conjunto de datos"
   ]
  },
  {
   "cell_type": "code",
   "execution_count": 8,
   "id": "90f0dd48",
   "metadata": {
    "execution": {
     "iopub.execute_input": "2021-11-15T10:06:24.793884Z",
     "iopub.status.busy": "2021-11-15T10:06:24.793069Z",
     "iopub.status.idle": "2021-11-15T10:06:24.913159Z",
     "shell.execute_reply": "2021-11-15T10:06:24.912496Z",
     "shell.execute_reply.started": "2021-11-12T14:14:10.759271Z"
    },
    "papermill": {
     "duration": 0.177163,
     "end_time": "2021-11-15T10:06:24.913317",
     "exception": false,
     "start_time": "2021-11-15T10:06:24.736154",
     "status": "completed"
    },
    "tags": []
   },
   "outputs": [
    {
     "data": {
      "text/plain": [
       "0    1\n",
       "1    0\n",
       "2    1\n",
       "3    4\n",
       "4    0\n",
       "Name: label, dtype: int64"
      ]
     },
     "execution_count": 8,
     "metadata": {},
     "output_type": "execute_result"
    }
   ],
   "source": [
    "Y_train = train[\"label\"]\n",
    "\n",
    "X_train = train.drop(labels = [\"label\"],axis = 1) \n",
    "\n",
    "Y_train.head()"
   ]
  },
  {
   "cell_type": "markdown",
   "id": "fcab09dc",
   "metadata": {
    "papermill": {
     "duration": 0.055137,
     "end_time": "2021-11-15T10:06:25.022941",
     "exception": false,
     "start_time": "2021-11-15T10:06:24.967804",
     "status": "completed"
    },
    "tags": []
   },
   "source": [
    "Realizamos una **visualización** de unas de las primeras imágenes con la etiqueta correspondiente que tienen."
   ]
  },
  {
   "cell_type": "code",
   "execution_count": 9,
   "id": "7e6cafbc",
   "metadata": {
    "execution": {
     "iopub.execute_input": "2021-11-15T10:06:25.137226Z",
     "iopub.status.busy": "2021-11-15T10:06:25.136462Z",
     "iopub.status.idle": "2021-11-15T10:06:25.139269Z",
     "shell.execute_reply": "2021-11-15T10:06:25.138592Z",
     "shell.execute_reply.started": "2021-11-12T14:14:10.891714Z"
    },
    "papermill": {
     "duration": 0.062467,
     "end_time": "2021-11-15T10:06:25.139415",
     "exception": false,
     "start_time": "2021-11-15T10:06:25.076948",
     "status": "completed"
    },
    "tags": []
   },
   "outputs": [],
   "source": [
    "sns.set(palette=\"tab10\")\n",
    "plt.rcParams['figure.dpi'] = 120"
   ]
  },
  {
   "cell_type": "code",
   "execution_count": 10,
   "id": "74f08c59",
   "metadata": {
    "execution": {
     "iopub.execute_input": "2021-11-15T10:06:25.273873Z",
     "iopub.status.busy": "2021-11-15T10:06:25.273040Z",
     "iopub.status.idle": "2021-11-15T10:06:26.584930Z",
     "shell.execute_reply": "2021-11-15T10:06:26.584353Z",
     "shell.execute_reply.started": "2021-11-12T14:14:10.903315Z"
    },
    "papermill": {
     "duration": 1.390851,
     "end_time": "2021-11-15T10:06:26.585076",
     "exception": false,
     "start_time": "2021-11-15T10:06:25.194225",
     "status": "completed"
    },
    "tags": []
   },
   "outputs": [
    {
     "data": {
      "image/png": "[encoded data removed]",
      "text/plain": [
       "<Figure size 2400x1200 with 27 Axes>"
      ]
     },
     "metadata": {},
     "output_type": "display_data"
    }
   ],
   "source": [
    "plt.figure(figsize=(20, 10))\n",
    "for i in range(27):\n",
    "    plt.subplot(3, 9, i + 1)\n",
    "    plt.xticks([])\n",
    "    plt.yticks([])\n",
    "    plt.grid(False)\n",
    "    plt.imshow(X_train.iloc[i].to_numpy().reshape((28,28,1)))\n",
    "    plt.title(Y_train[i],size = 20)\n",
    "plt.show()"
   ]
  },
  {
   "cell_type": "markdown",
   "id": "e2d510f8",
   "metadata": {
    "papermill": {
     "duration": 0.054833,
     "end_time": "2021-11-15T10:06:26.695708",
     "exception": false,
     "start_time": "2021-11-15T10:06:26.640875",
     "status": "completed"
    },
    "tags": []
   },
   "source": [
    "Miramos el número de ejemplos por cada etiqueta de salida. Vemos que todas tienen un valor similar de 4000 ejemplos, pero realizamos un gráfico para verlo de manera más visual."
   ]
  },
  {
   "cell_type": "code",
   "execution_count": 11,
   "id": "3b25a2bd",
   "metadata": {
    "execution": {
     "iopub.execute_input": "2021-11-15T10:06:26.818793Z",
     "iopub.status.busy": "2021-11-15T10:06:26.817887Z",
     "iopub.status.idle": "2021-11-15T10:06:26.821466Z",
     "shell.execute_reply": "2021-11-15T10:06:26.821986Z",
     "shell.execute_reply.started": "2021-11-12T14:14:12.53672Z"
    },
    "papermill": {
     "duration": 0.069527,
     "end_time": "2021-11-15T10:06:26.822158",
     "exception": false,
     "start_time": "2021-11-15T10:06:26.752631",
     "status": "completed"
    },
    "tags": []
   },
   "outputs": [
    {
     "data": {
      "text/plain": [
       "1    4684\n",
       "7    4401\n",
       "3    4351\n",
       "9    4188\n",
       "2    4177\n",
       "6    4137\n",
       "0    4132\n",
       "4    4072\n",
       "8    4063\n",
       "5    3795\n",
       "Name: label, dtype: int64"
      ]
     },
     "execution_count": 11,
     "metadata": {},
     "output_type": "execute_result"
    }
   ],
   "source": [
    "Y_train.value_counts()"
   ]
  },
  {
   "cell_type": "markdown",
   "id": "1d7b54eb",
   "metadata": {
    "papermill": {
     "duration": 0.058053,
     "end_time": "2021-11-15T10:06:26.937235",
     "exception": false,
     "start_time": "2021-11-15T10:06:26.879182",
     "status": "completed"
    },
    "tags": []
   },
   "source": [
    "Realizamos dos gráficos diferentes para visualizar el número de etiquetas de salida que podemos obtener en el problema. Que serán datos etiquetados del 1 al 10."
   ]
  },
  {
   "cell_type": "code",
   "execution_count": 12,
   "id": "2bda8f6c",
   "metadata": {
    "execution": {
     "iopub.execute_input": "2021-11-15T10:06:27.055862Z",
     "iopub.status.busy": "2021-11-15T10:06:27.054820Z",
     "iopub.status.idle": "2021-11-15T10:06:27.062031Z",
     "shell.execute_reply": "2021-11-15T10:06:27.062628Z",
     "shell.execute_reply.started": "2021-11-12T14:14:12.545234Z"
    },
    "papermill": {
     "duration": 0.068773,
     "end_time": "2021-11-15T10:06:27.062810",
     "exception": false,
     "start_time": "2021-11-15T10:06:26.994037",
     "status": "completed"
    },
    "tags": []
   },
   "outputs": [],
   "source": [
    "grafico = dict(train['label'].value_counts())\n",
    "grafico = dict(sorted(grafico.items()))"
   ]
  },
  {
   "cell_type": "code",
   "execution_count": 13,
   "id": "60b42dad",
   "metadata": {
    "execution": {
     "iopub.execute_input": "2021-11-15T10:06:27.182429Z",
     "iopub.status.busy": "2021-11-15T10:06:27.178559Z",
     "iopub.status.idle": "2021-11-15T10:06:27.671235Z",
     "shell.execute_reply": "2021-11-15T10:06:27.671786Z",
     "shell.execute_reply.started": "2021-11-12T14:14:12.559792Z"
    },
    "papermill": {
     "duration": 0.554038,
     "end_time": "2021-11-15T10:06:27.671964",
     "exception": false,
     "start_time": "2021-11-15T10:06:27.117926",
     "status": "completed"
    },
    "tags": []
   },
   "outputs": [
    {
     "name": "stderr",
     "output_type": "stream",
     "text": [
      "/opt/conda/lib/python3.7/site-packages/seaborn/_decorators.py:43: FutureWarning: Pass the following variable as a keyword arg: x. From version 0.12, the only valid positional argument will be `data`, and passing other arguments without an explicit keyword will result in an error or misinterpretation.\n",
      "  FutureWarning\n"
     ]
    },
    {
     "data": {
      "image/png": "[encoded data removed]",
      "text/plain": [
       "<Figure size 1680x720 with 2 Axes>"
      ]
     },
     "metadata": {},
     "output_type": "display_data"
    }
   ],
   "source": [
    "fig, (ax1, ax2) = plt.subplots(1, 2, figsize =(14,6))\n",
    "background_color = '#faf9f4'\n",
    "ax1.set_facecolor(background_color)\n",
    "ax2.set_facecolor(background_color) \n",
    "ax1.pie(grafico.values(),wedgeprops=dict(width=0.3, edgecolor='w') ,labels=grafico.items(), radius=1)\n",
    "ax2 = sns.countplot(train['label'])\n",
    "plt.show()"
   ]
  },
  {
   "cell_type": "markdown",
   "id": "42cf9ece",
   "metadata": {
    "papermill": {
     "duration": 0.059121,
     "end_time": "2021-11-15T10:06:27.792684",
     "exception": false,
     "start_time": "2021-11-15T10:06:27.733563",
     "status": "completed"
    },
    "tags": []
   },
   "source": [
    "Tenemos números similares para los 10 dígitos."
   ]
  },
  {
   "cell_type": "markdown",
   "id": "8f6e9afd",
   "metadata": {
    "papermill": {
     "duration": 0.058551,
     "end_time": "2021-11-15T10:06:27.910118",
     "exception": false,
     "start_time": "2021-11-15T10:06:27.851567",
     "status": "completed"
    },
    "tags": []
   },
   "source": [
    "Vamos a comenzar a controlar el total de los valores nulos de las celdas."
   ]
  },
  {
   "cell_type": "code",
   "execution_count": 14,
   "id": "26a21266",
   "metadata": {
    "execution": {
     "iopub.execute_input": "2021-11-15T10:06:28.035057Z",
     "iopub.status.busy": "2021-11-15T10:06:28.034213Z",
     "iopub.status.idle": "2021-11-15T10:06:28.063414Z",
     "shell.execute_reply": "2021-11-15T10:06:28.063957Z",
     "shell.execute_reply.started": "2021-11-12T14:14:13.019322Z"
    },
    "papermill": {
     "duration": 0.094835,
     "end_time": "2021-11-15T10:06:28.064142",
     "exception": false,
     "start_time": "2021-11-15T10:06:27.969307",
     "status": "completed"
    },
    "tags": []
   },
   "outputs": [
    {
     "data": {
      "text/html": [
       "<div>\n",
       "<style scoped>\n",
       "    .dataframe tbody tr th:only-of-type {\n",
       "        vertical-align: middle;\n",
       "    }\n",
       "\n",
       "    .dataframe tbody tr th {\n",
       "        vertical-align: top;\n",
       "    }\n",
       "\n",
       "    .dataframe thead th {\n",
       "        text-align: right;\n",
       "    }\n",
       "</style>\n",
       "<table border=\"1\" class=\"dataframe\">\n",
       "  <thead>\n",
       "    <tr style=\"text-align: right;\">\n",
       "      <th></th>\n",
       "      <th>pixel0</th>\n",
       "      <th>pixel1</th>\n",
       "      <th>pixel2</th>\n",
       "      <th>pixel3</th>\n",
       "      <th>pixel4</th>\n",
       "      <th>pixel5</th>\n",
       "      <th>pixel6</th>\n",
       "      <th>pixel7</th>\n",
       "      <th>pixel8</th>\n",
       "      <th>pixel9</th>\n",
       "      <th>...</th>\n",
       "      <th>pixel774</th>\n",
       "      <th>pixel775</th>\n",
       "      <th>pixel776</th>\n",
       "      <th>pixel777</th>\n",
       "      <th>pixel778</th>\n",
       "      <th>pixel779</th>\n",
       "      <th>pixel780</th>\n",
       "      <th>pixel781</th>\n",
       "      <th>pixel782</th>\n",
       "      <th>pixel783</th>\n",
       "    </tr>\n",
       "  </thead>\n",
       "  <tbody>\n",
       "    <tr>\n",
       "      <th>0</th>\n",
       "      <td>False</td>\n",
       "      <td>False</td>\n",
       "      <td>False</td>\n",
       "      <td>False</td>\n",
       "      <td>False</td>\n",
       "      <td>False</td>\n",
       "      <td>False</td>\n",
       "      <td>False</td>\n",
       "      <td>False</td>\n",
       "      <td>False</td>\n",
       "      <td>...</td>\n",
       "      <td>False</td>\n",
       "      <td>False</td>\n",
       "      <td>False</td>\n",
       "      <td>False</td>\n",
       "      <td>False</td>\n",
       "      <td>False</td>\n",
       "      <td>False</td>\n",
       "      <td>False</td>\n",
       "      <td>False</td>\n",
       "      <td>False</td>\n",
       "    </tr>\n",
       "    <tr>\n",
       "      <th>1</th>\n",
       "      <td>False</td>\n",
       "      <td>False</td>\n",
       "      <td>False</td>\n",
       "      <td>False</td>\n",
       "      <td>False</td>\n",
       "      <td>False</td>\n",
       "      <td>False</td>\n",
       "      <td>False</td>\n",
       "      <td>False</td>\n",
       "      <td>False</td>\n",
       "      <td>...</td>\n",
       "      <td>False</td>\n",
       "      <td>False</td>\n",
       "      <td>False</td>\n",
       "      <td>False</td>\n",
       "      <td>False</td>\n",
       "      <td>False</td>\n",
       "      <td>False</td>\n",
       "      <td>False</td>\n",
       "      <td>False</td>\n",
       "      <td>False</td>\n",
       "    </tr>\n",
       "    <tr>\n",
       "      <th>2</th>\n",
       "      <td>False</td>\n",
       "      <td>False</td>\n",
       "      <td>False</td>\n",
       "      <td>False</td>\n",
       "      <td>False</td>\n",
       "      <td>False</td>\n",
       "      <td>False</td>\n",
       "      <td>False</td>\n",
       "      <td>False</td>\n",
       "      <td>False</td>\n",
       "      <td>...</td>\n",
       "      <td>False</td>\n",
       "      <td>False</td>\n",
       "      <td>False</td>\n",
       "      <td>False</td>\n",
       "      <td>False</td>\n",
       "      <td>False</td>\n",
       "      <td>False</td>\n",
       "      <td>False</td>\n",
       "      <td>False</td>\n",
       "      <td>False</td>\n",
       "    </tr>\n",
       "    <tr>\n",
       "      <th>3</th>\n",
       "      <td>False</td>\n",
       "      <td>False</td>\n",
       "      <td>False</td>\n",
       "      <td>False</td>\n",
       "      <td>False</td>\n",
       "      <td>False</td>\n",
       "      <td>False</td>\n",
       "      <td>False</td>\n",
       "      <td>False</td>\n",
       "      <td>False</td>\n",
       "      <td>...</td>\n",
       "      <td>False</td>\n",
       "      <td>False</td>\n",
       "      <td>False</td>\n",
       "      <td>False</td>\n",
       "      <td>False</td>\n",
       "      <td>False</td>\n",
       "      <td>False</td>\n",
       "      <td>False</td>\n",
       "      <td>False</td>\n",
       "      <td>False</td>\n",
       "    </tr>\n",
       "    <tr>\n",
       "      <th>4</th>\n",
       "      <td>False</td>\n",
       "      <td>False</td>\n",
       "      <td>False</td>\n",
       "      <td>False</td>\n",
       "      <td>False</td>\n",
       "      <td>False</td>\n",
       "      <td>False</td>\n",
       "      <td>False</td>\n",
       "      <td>False</td>\n",
       "      <td>False</td>\n",
       "      <td>...</td>\n",
       "      <td>False</td>\n",
       "      <td>False</td>\n",
       "      <td>False</td>\n",
       "      <td>False</td>\n",
       "      <td>False</td>\n",
       "      <td>False</td>\n",
       "      <td>False</td>\n",
       "      <td>False</td>\n",
       "      <td>False</td>\n",
       "      <td>False</td>\n",
       "    </tr>\n",
       "    <tr>\n",
       "      <th>...</th>\n",
       "      <td>...</td>\n",
       "      <td>...</td>\n",
       "      <td>...</td>\n",
       "      <td>...</td>\n",
       "      <td>...</td>\n",
       "      <td>...</td>\n",
       "      <td>...</td>\n",
       "      <td>...</td>\n",
       "      <td>...</td>\n",
       "      <td>...</td>\n",
       "      <td>...</td>\n",
       "      <td>...</td>\n",
       "      <td>...</td>\n",
       "      <td>...</td>\n",
       "      <td>...</td>\n",
       "      <td>...</td>\n",
       "      <td>...</td>\n",
       "      <td>...</td>\n",
       "      <td>...</td>\n",
       "      <td>...</td>\n",
       "      <td>...</td>\n",
       "    </tr>\n",
       "    <tr>\n",
       "      <th>41995</th>\n",
       "      <td>False</td>\n",
       "      <td>False</td>\n",
       "      <td>False</td>\n",
       "      <td>False</td>\n",
       "      <td>False</td>\n",
       "      <td>False</td>\n",
       "      <td>False</td>\n",
       "      <td>False</td>\n",
       "      <td>False</td>\n",
       "      <td>False</td>\n",
       "      <td>...</td>\n",
       "      <td>False</td>\n",
       "      <td>False</td>\n",
       "      <td>False</td>\n",
       "      <td>False</td>\n",
       "      <td>False</td>\n",
       "      <td>False</td>\n",
       "      <td>False</td>\n",
       "      <td>False</td>\n",
       "      <td>False</td>\n",
       "      <td>False</td>\n",
       "    </tr>\n",
       "    <tr>\n",
       "      <th>41996</th>\n",
       "      <td>False</td>\n",
       "      <td>False</td>\n",
       "      <td>False</td>\n",
       "      <td>False</td>\n",
       "      <td>False</td>\n",
       "      <td>False</td>\n",
       "      <td>False</td>\n",
       "      <td>False</td>\n",
       "      <td>False</td>\n",
       "      <td>False</td>\n",
       "      <td>...</td>\n",
       "      <td>False</td>\n",
       "      <td>False</td>\n",
       "      <td>False</td>\n",
       "      <td>False</td>\n",
       "      <td>False</td>\n",
       "      <td>False</td>\n",
       "      <td>False</td>\n",
       "      <td>False</td>\n",
       "      <td>False</td>\n",
       "      <td>False</td>\n",
       "    </tr>\n",
       "    <tr>\n",
       "      <th>41997</th>\n",
       "      <td>False</td>\n",
       "      <td>False</td>\n",
       "      <td>False</td>\n",
       "      <td>False</td>\n",
       "      <td>False</td>\n",
       "      <td>False</td>\n",
       "      <td>False</td>\n",
       "      <td>False</td>\n",
       "      <td>False</td>\n",
       "      <td>False</td>\n",
       "      <td>...</td>\n",
       "      <td>False</td>\n",
       "      <td>False</td>\n",
       "      <td>False</td>\n",
       "      <td>False</td>\n",
       "      <td>False</td>\n",
       "      <td>False</td>\n",
       "      <td>False</td>\n",
       "      <td>False</td>\n",
       "      <td>False</td>\n",
       "      <td>False</td>\n",
       "    </tr>\n",
       "    <tr>\n",
       "      <th>41998</th>\n",
       "      <td>False</td>\n",
       "      <td>False</td>\n",
       "      <td>False</td>\n",
       "      <td>False</td>\n",
       "      <td>False</td>\n",
       "      <td>False</td>\n",
       "      <td>False</td>\n",
       "      <td>False</td>\n",
       "      <td>False</td>\n",
       "      <td>False</td>\n",
       "      <td>...</td>\n",
       "      <td>False</td>\n",
       "      <td>False</td>\n",
       "      <td>False</td>\n",
       "      <td>False</td>\n",
       "      <td>False</td>\n",
       "      <td>False</td>\n",
       "      <td>False</td>\n",
       "      <td>False</td>\n",
       "      <td>False</td>\n",
       "      <td>False</td>\n",
       "    </tr>\n",
       "    <tr>\n",
       "      <th>41999</th>\n",
       "      <td>False</td>\n",
       "      <td>False</td>\n",
       "      <td>False</td>\n",
       "      <td>False</td>\n",
       "      <td>False</td>\n",
       "      <td>False</td>\n",
       "      <td>False</td>\n",
       "      <td>False</td>\n",
       "      <td>False</td>\n",
       "      <td>False</td>\n",
       "      <td>...</td>\n",
       "      <td>False</td>\n",
       "      <td>False</td>\n",
       "      <td>False</td>\n",
       "      <td>False</td>\n",
       "      <td>False</td>\n",
       "      <td>False</td>\n",
       "      <td>False</td>\n",
       "      <td>False</td>\n",
       "      <td>False</td>\n",
       "      <td>False</td>\n",
       "    </tr>\n",
       "  </tbody>\n",
       "</table>\n",
       "<p>42000 rows × 784 columns</p>\n",
       "</div>"
      ],
      "text/plain": [
       "       pixel0  pixel1  pixel2  pixel3  pixel4  pixel5  pixel6  pixel7  pixel8  \\\n",
       "0       False   False   False   False   False   False   False   False   False   \n",
       "1       False   False   False   False   False   False   False   False   False   \n",
       "2       False   False   False   False   False   False   False   False   False   \n",
       "3       False   False   False   False   False   False   False   False   False   \n",
       "4       False   False   False   False   False   False   False   False   False   \n",
       "...       ...     ...     ...     ...     ...     ...     ...     ...     ...   \n",
       "41995   False   False   False   False   False   False   False   False   False   \n",
       "41996   False   False   False   False   False   False   False   False   False   \n",
       "41997   False   False   False   False   False   False   False   False   False   \n",
       "41998   False   False   False   False   False   False   False   False   False   \n",
       "41999   False   False   False   False   False   False   False   False   False   \n",
       "\n",
       "       pixel9  ...  pixel774  pixel775  pixel776  pixel777  pixel778  \\\n",
       "0       False  ...     False     False     False     False     False   \n",
       "1       False  ...     False     False     False     False     False   \n",
       "2       False  ...     False     False     False     False     False   \n",
       "3       False  ...     False     False     False     False     False   \n",
       "4       False  ...     False     False     False     False     False   \n",
       "...       ...  ...       ...       ...       ...       ...       ...   \n",
       "41995   False  ...     False     False     False     False     False   \n",
       "41996   False  ...     False     False     False     False     False   \n",
       "41997   False  ...     False     False     False     False     False   \n",
       "41998   False  ...     False     False     False     False     False   \n",
       "41999   False  ...     False     False     False     False     False   \n",
       "\n",
       "       pixel779  pixel780  pixel781  pixel782  pixel783  \n",
       "0         False     False     False     False     False  \n",
       "1         False     False     False     False     False  \n",
       "2         False     False     False     False     False  \n",
       "3         False     False     False     False     False  \n",
       "4         False     False     False     False     False  \n",
       "...         ...       ...       ...       ...       ...  \n",
       "41995     False     False     False     False     False  \n",
       "41996     False     False     False     False     False  \n",
       "41997     False     False     False     False     False  \n",
       "41998     False     False     False     False     False  \n",
       "41999     False     False     False     False     False  \n",
       "\n",
       "[42000 rows x 784 columns]"
      ]
     },
     "execution_count": 14,
     "metadata": {},
     "output_type": "execute_result"
    }
   ],
   "source": [
    "X_train.isnull()"
   ]
  },
  {
   "cell_type": "markdown",
   "id": "931037b8",
   "metadata": {
    "papermill": {
     "duration": 0.05978,
     "end_time": "2021-11-15T10:06:28.185436",
     "exception": false,
     "start_time": "2021-11-15T10:06:28.125656",
     "status": "completed"
    },
    "tags": []
   },
   "source": [
    "Contamos el número de valores nulos para cada columnas"
   ]
  },
  {
   "cell_type": "code",
   "execution_count": 15,
   "id": "a952dbe2",
   "metadata": {
    "execution": {
     "iopub.execute_input": "2021-11-15T10:06:28.308188Z",
     "iopub.status.busy": "2021-11-15T10:06:28.307525Z",
     "iopub.status.idle": "2021-11-15T10:06:28.358234Z",
     "shell.execute_reply": "2021-11-15T10:06:28.358735Z",
     "shell.execute_reply.started": "2021-11-12T14:14:13.054211Z"
    },
    "papermill": {
     "duration": 0.112984,
     "end_time": "2021-11-15T10:06:28.358917",
     "exception": false,
     "start_time": "2021-11-15T10:06:28.245933",
     "status": "completed"
    },
    "tags": []
   },
   "outputs": [
    {
     "name": "stdout",
     "output_type": "stream",
     "text": [
      "Columnas nulas en conjunto de entrenamiento pixel0      0\n",
      "pixel1      0\n",
      "pixel2      0\n",
      "pixel3      0\n",
      "pixel4      0\n",
      "           ..\n",
      "pixel779    0\n",
      "pixel780    0\n",
      "pixel781    0\n",
      "pixel782    0\n",
      "pixel783    0\n",
      "Length: 784, dtype: int64\n"
     ]
    }
   ],
   "source": [
    "print(\"Columnas nulas en conjunto de entrenamiento\", X_train.isnull().sum())"
   ]
  },
  {
   "cell_type": "code",
   "execution_count": 16,
   "id": "eab45189",
   "metadata": {
    "execution": {
     "iopub.execute_input": "2021-11-15T10:06:28.481972Z",
     "iopub.status.busy": "2021-11-15T10:06:28.481228Z",
     "iopub.status.idle": "2021-11-15T10:06:28.501802Z",
     "shell.execute_reply": "2021-11-15T10:06:28.502353Z",
     "shell.execute_reply.started": "2021-11-12T14:14:13.109363Z"
    },
    "papermill": {
     "duration": 0.083899,
     "end_time": "2021-11-15T10:06:28.502521",
     "exception": false,
     "start_time": "2021-11-15T10:06:28.418622",
     "status": "completed"
    },
    "tags": []
   },
   "outputs": [
    {
     "data": {
      "text/plain": [
       "count       784\n",
       "unique        1\n",
       "top       False\n",
       "freq        784\n",
       "dtype: object"
      ]
     },
     "execution_count": 16,
     "metadata": {},
     "output_type": "execute_result"
    }
   ],
   "source": [
    "X_train.isnull().any().describe()"
   ]
  },
  {
   "cell_type": "markdown",
   "id": "4cf30f2a",
   "metadata": {
    "papermill": {
     "duration": 0.059345,
     "end_time": "2021-11-15T10:06:28.621525",
     "exception": false,
     "start_time": "2021-11-15T10:06:28.562180",
     "status": "completed"
    },
    "tags": []
   },
   "source": [
    "No hay valores nulos en el conjunto de datos de prueba y test. Podemos seguir adelante sin problema. "
   ]
  },
  {
   "cell_type": "markdown",
   "id": "679b7a0c",
   "metadata": {
    "papermill": {
     "duration": 0.059955,
     "end_time": "2021-11-15T10:06:28.741329",
     "exception": false,
     "start_time": "2021-11-15T10:06:28.681374",
     "status": "completed"
    },
    "tags": []
   },
   "source": [
    "Realizamos un Normalización de los datos tanto en entrenamiento como test. Si realizamos la normalización, CNN funciona más rápido."
   ]
  },
  {
   "cell_type": "markdown",
   "id": "9d66101d",
   "metadata": {
    "papermill": {
     "duration": 0.060495,
     "end_time": "2021-11-15T10:06:28.862207",
     "exception": false,
     "start_time": "2021-11-15T10:06:28.801712",
     "status": "completed"
    },
    "tags": []
   },
   "source": [
    "**Realizamos una normalización de escala de grises. De esta manera, a menudo se puede aumentar la claridad de la imagen.**"
   ]
  },
  {
   "cell_type": "code",
   "execution_count": 17,
   "id": "e3c67b72",
   "metadata": {
    "execution": {
     "iopub.execute_input": "2021-11-15T10:06:28.986556Z",
     "iopub.status.busy": "2021-11-15T10:06:28.985537Z",
     "iopub.status.idle": "2021-11-15T10:06:29.094861Z",
     "shell.execute_reply": "2021-11-15T10:06:29.094149Z",
     "shell.execute_reply.started": "2021-11-12T14:14:13.131463Z"
    },
    "papermill": {
     "duration": 0.172783,
     "end_time": "2021-11-15T10:06:29.095008",
     "exception": false,
     "start_time": "2021-11-15T10:06:28.922225",
     "status": "completed"
    },
    "tags": []
   },
   "outputs": [],
   "source": [
    "X_train = X_train / 255.0\n",
    "test = test / 255.0"
   ]
  },
  {
   "cell_type": "markdown",
   "id": "0458eafd",
   "metadata": {
    "papermill": {
     "duration": 0.059329,
     "end_time": "2021-11-15T10:06:29.214200",
     "exception": false,
     "start_time": "2021-11-15T10:06:29.154871",
     "status": "completed"
    },
    "tags": []
   },
   "source": [
    "Se han almacenado imágenes de entrenamiento y prueba (28px x 28px) en un Dataframe de Pandas como vectores de 784 valores."
   ]
  },
  {
   "cell_type": "markdown",
   "id": "2503c96b",
   "metadata": {
    "papermill": {
     "duration": 0.059191,
     "end_time": "2021-11-15T10:06:29.333047",
     "exception": false,
     "start_time": "2021-11-15T10:06:29.273856",
     "status": "completed"
    },
    "tags": []
   },
   "source": [
    "Realizamos además un reshape de los datos de entrada.\n",
    "- Reformamos todos los datos en matrices 3D de 28x28x1.\n",
    "- Keras necesita al final una dimensión extra que corresponde a los canales. Nuestras imágenes están en escala de grises, por lo que solo usan un canal."
   ]
  },
  {
   "cell_type": "code",
   "execution_count": 18,
   "id": "43ab291c",
   "metadata": {
    "execution": {
     "iopub.execute_input": "2021-11-15T10:06:29.459474Z",
     "iopub.status.busy": "2021-11-15T10:06:29.458645Z",
     "iopub.status.idle": "2021-11-15T10:06:29.461661Z",
     "shell.execute_reply": "2021-11-15T10:06:29.462170Z",
     "shell.execute_reply.started": "2021-11-12T14:14:13.228351Z"
    },
    "papermill": {
     "duration": 0.070023,
     "end_time": "2021-11-15T10:06:29.462377",
     "exception": false,
     "start_time": "2021-11-15T10:06:29.392354",
     "status": "completed"
    },
    "tags": []
   },
   "outputs": [
    {
     "name": "stdout",
     "output_type": "stream",
     "text": [
      "Tamaño del dataset de entrenamiento (42000, 28, 28, 1)\n",
      "Tamaño del dataset de prueba (28000, 28, 28, 1)\n"
     ]
    }
   ],
   "source": [
    "X_train = X_train.values.reshape(-1,28,28,1)\n",
    "test = test.values.reshape(-1,28,28,1)\n",
    "\n",
    "print(\"Tamaño del dataset de entrenamiento\", X_train.shape)\n",
    "print(\"Tamaño del dataset de prueba\", test.shape)"
   ]
  },
  {
   "cell_type": "markdown",
   "id": "5510f0b7",
   "metadata": {
    "papermill": {
     "duration": 0.062927,
     "end_time": "2021-11-15T10:06:29.586730",
     "exception": false,
     "start_time": "2021-11-15T10:06:29.523803",
     "status": "completed"
    },
    "tags": []
   },
   "source": [
    "Las etiquetas son números de 10 dígitos del 0 al 9. Necesitamos codificar las etiquetas en un one hot vectors ([0,0,1,0,0,0,0,0,0,0,0])\n",
    "\n",
    "Un one-hot vector -> es 0 en la mayoría de las dimensiones y 1 en una sola dimensión."
   ]
  },
  {
   "cell_type": "code",
   "execution_count": 19,
   "id": "39baf16c",
   "metadata": {
    "execution": {
     "iopub.execute_input": "2021-11-15T10:06:29.713060Z",
     "iopub.status.busy": "2021-11-15T10:06:29.712026Z",
     "iopub.status.idle": "2021-11-15T10:06:29.717078Z",
     "shell.execute_reply": "2021-11-15T10:06:29.717815Z",
     "shell.execute_reply.started": "2021-11-12T14:14:13.236733Z"
    },
    "papermill": {
     "duration": 0.070646,
     "end_time": "2021-11-15T10:06:29.717992",
     "exception": false,
     "start_time": "2021-11-15T10:06:29.647346",
     "status": "completed"
    },
    "tags": []
   },
   "outputs": [],
   "source": [
    "from keras.utils.np_utils import to_categorical\n",
    "Y_train = to_categorical(Y_train, num_classes = 10)"
   ]
  },
  {
   "cell_type": "markdown",
   "id": "155fce97",
   "metadata": {
    "papermill": {
     "duration": 0.063139,
     "end_time": "2021-11-15T10:06:29.844161",
     "exception": false,
     "start_time": "2021-11-15T10:06:29.781022",
     "status": "completed"
    },
    "tags": []
   },
   "source": [
    " Inicializamos la semilla para la división del conjunto de datos"
   ]
  },
  {
   "cell_type": "code",
   "execution_count": 20,
   "id": "dcc75619",
   "metadata": {
    "execution": {
     "iopub.execute_input": "2021-11-15T10:06:29.970293Z",
     "iopub.status.busy": "2021-11-15T10:06:29.969231Z",
     "iopub.status.idle": "2021-11-15T10:06:29.972802Z",
     "shell.execute_reply": "2021-11-15T10:06:29.973341Z",
     "shell.execute_reply.started": "2021-11-12T14:14:13.247205Z"
    },
    "papermill": {
     "duration": 0.067768,
     "end_time": "2021-11-15T10:06:29.973527",
     "exception": false,
     "start_time": "2021-11-15T10:06:29.905759",
     "status": "completed"
    },
    "tags": []
   },
   "outputs": [],
   "source": [
    "random_seed = 2"
   ]
  },
  {
   "cell_type": "markdown",
   "id": "dfdfe3e7",
   "metadata": {
    "papermill": {
     "duration": 0.060034,
     "end_time": "2021-11-15T10:06:30.094149",
     "exception": false,
     "start_time": "2021-11-15T10:06:30.034115",
     "status": "completed"
    },
    "tags": []
   },
   "source": [
    "Dividimos el conjunto de datos de entrenamiento y el conjunto de test.\n",
    "- tamaño de entrenamiento es 90%\n",
    "- tamaño de test es 10%"
   ]
  },
  {
   "cell_type": "code",
   "execution_count": 21,
   "id": "392e31bf",
   "metadata": {
    "execution": {
     "iopub.execute_input": "2021-11-15T10:06:30.219040Z",
     "iopub.status.busy": "2021-11-15T10:06:30.217984Z",
     "iopub.status.idle": "2021-11-15T10:06:30.660312Z",
     "shell.execute_reply": "2021-11-15T10:06:30.660977Z",
     "shell.execute_reply.started": "2021-11-12T14:14:13.258811Z"
    },
    "papermill": {
     "duration": 0.506897,
     "end_time": "2021-11-15T10:06:30.661223",
     "exception": false,
     "start_time": "2021-11-15T10:06:30.154326",
     "status": "completed"
    },
    "tags": []
   },
   "outputs": [],
   "source": [
    "X_train, X_val, Y_train, Y_val = train_test_split(X_train, Y_train, test_size = 0.10, random_state=random_seed)"
   ]
  },
  {
   "cell_type": "markdown",
   "id": "a3c4a03c",
   "metadata": {
    "papermill": {
     "duration": 0.061303,
     "end_time": "2021-11-15T10:06:30.792590",
     "exception": false,
     "start_time": "2021-11-15T10:06:30.731287",
     "status": "completed"
    },
    "tags": []
   },
   "source": [
    "Miramos la longitud tras realizar la división"
   ]
  },
  {
   "cell_type": "markdown",
   "id": "1f713608",
   "metadata": {
    "papermill": {
     "duration": 0.059566,
     "end_time": "2021-11-15T10:06:30.912164",
     "exception": false,
     "start_time": "2021-11-15T10:06:30.852598",
     "status": "completed"
    },
    "tags": []
   },
   "source": [
    "En el conjunto de entrenamiento tenemos 37800 datos"
   ]
  },
  {
   "cell_type": "code",
   "execution_count": 22,
   "id": "2eed24bc",
   "metadata": {
    "execution": {
     "iopub.execute_input": "2021-11-15T10:06:31.038395Z",
     "iopub.status.busy": "2021-11-15T10:06:31.037670Z",
     "iopub.status.idle": "2021-11-15T10:06:31.040407Z",
     "shell.execute_reply": "2021-11-15T10:06:31.040911Z",
     "shell.execute_reply.started": "2021-11-12T14:14:13.671288Z"
    },
    "papermill": {
     "duration": 0.067693,
     "end_time": "2021-11-15T10:06:31.041087",
     "exception": false,
     "start_time": "2021-11-15T10:06:30.973394",
     "status": "completed"
    },
    "tags": []
   },
   "outputs": [
    {
     "name": "stdout",
     "output_type": "stream",
     "text": [
      "37800\n"
     ]
    }
   ],
   "source": [
    "print(len(X_train))"
   ]
  },
  {
   "cell_type": "markdown",
   "id": "15d90d3f",
   "metadata": {
    "papermill": {
     "duration": 0.059913,
     "end_time": "2021-11-15T10:06:31.162919",
     "exception": false,
     "start_time": "2021-11-15T10:06:31.103006",
     "status": "completed"
    },
    "tags": []
   },
   "source": [
    "Mientras que en el conjunto de test tenemos 4200 datos"
   ]
  },
  {
   "cell_type": "code",
   "execution_count": 23,
   "id": "c493ab94",
   "metadata": {
    "execution": {
     "iopub.execute_input": "2021-11-15T10:06:31.286489Z",
     "iopub.status.busy": "2021-11-15T10:06:31.285755Z",
     "iopub.status.idle": "2021-11-15T10:06:31.291161Z",
     "shell.execute_reply": "2021-11-15T10:06:31.290499Z",
     "shell.execute_reply.started": "2021-11-12T14:14:13.677666Z"
    },
    "papermill": {
     "duration": 0.068311,
     "end_time": "2021-11-15T10:06:31.291329",
     "exception": false,
     "start_time": "2021-11-15T10:06:31.223018",
     "status": "completed"
    },
    "tags": []
   },
   "outputs": [
    {
     "name": "stdout",
     "output_type": "stream",
     "text": [
      "4200\n"
     ]
    }
   ],
   "source": [
    "print(len(X_val))"
   ]
  },
  {
   "cell_type": "markdown",
   "id": "f97c4bdd",
   "metadata": {
    "papermill": {
     "duration": 0.060745,
     "end_time": "2021-11-15T10:06:31.415493",
     "exception": false,
     "start_time": "2021-11-15T10:06:31.354748",
     "status": "completed"
    },
    "tags": []
   },
   "source": [
    "Definimos nuestro modelo CNN. Se utiliza para clasificación de imágenes."
   ]
  },
  {
   "cell_type": "code",
   "execution_count": 24,
   "id": "0ef9d940",
   "metadata": {
    "execution": {
     "iopub.execute_input": "2021-11-15T10:06:31.543448Z",
     "iopub.status.busy": "2021-11-15T10:06:31.542398Z",
     "iopub.status.idle": "2021-11-15T10:06:31.548098Z",
     "shell.execute_reply": "2021-11-15T10:06:31.548619Z",
     "shell.execute_reply.started": "2021-11-12T14:14:13.689236Z"
    },
    "papermill": {
     "duration": 0.070835,
     "end_time": "2021-11-15T10:06:31.548814",
     "exception": false,
     "start_time": "2021-11-15T10:06:31.477979",
     "status": "completed"
    },
    "tags": []
   },
   "outputs": [],
   "source": [
    "from keras.utils.np_utils import to_categorical # convert to one-hot-encoding\n",
    "from keras.models import Sequential\n",
    "from keras.layers import Dense, Dropout, Flatten, Conv2D, MaxPool2D\n",
    "from tensorflow.keras.optimizers import RMSprop\n",
    "from tensorflow.keras.optimizers import Adam\n",
    "from keras.preprocessing.image import ImageDataGenerator\n",
    "from keras.callbacks import ReduceLROnPlateau"
   ]
  },
  {
   "cell_type": "markdown",
   "id": "015ac5e5",
   "metadata": {
    "papermill": {
     "duration": 0.060646,
     "end_time": "2021-11-15T10:06:31.670226",
     "exception": false,
     "start_time": "2021-11-15T10:06:31.609580",
     "status": "completed"
    },
    "tags": []
   },
   "source": [
    "La extracción de características consta de tres operaciones básicas:\n",
    "1. Filtrar una imagen para una característica en particular (convolución)\n",
    "2. Detecta esa característica dentro de la imagen filtrada (ReLU)\n",
    "3. Condensar la imagen para mejorar las características (maximum pooling)\n",
    "\n",
    "-------------------------------------------------------------------------------------------------------------\n",
    "Una capa convolucional realiza el paso de filtrado. Los pesos que aprende una capa convolucional los llamamos kernels. Funciona escaneando una imagen y produciendo una suma ponderada de valores de píxeles.\n",
    "\n",
    "Los kernels definen cómo se conecta una capa convolucional a la capa que sigue. Al establecer las dimensiones de los kernels con kernel_size, le está diciendo al convnet cómo formar estas conexiones. La mayoría de las veces, un kernel tendrá dimensiones impares, como kernel_size = (3, 3) o (5, 5)\n",
    "\n",
    "Los kernels en una capa convolucional determinan qué tipo de características crea. Durante el entrenamiento, un convnet intenta aprender qué características necesita para resolver el problema de clasificación.\n",
    "\n",
    "-------------------------------------------------------------------------------------------------------------\n",
    "\n",
    "Las activaciones en la red las llamamos feature maps. Resultan cuando aplicamos un filtro a una imagen; ya que contienen las características visuales del kernel. En este caso utilizamos la función ReLU.\n",
    "\n",
    "La activación de ReLU dice que los valores negativos no son importantes y, por lo tanto, los establece en 0.\n",
    "\n",
    "------------------------------------------------------------------------------------------------------------\n",
    "\n",
    "La última es la de maximum pooling, que en Keras se realiza mediante una capa.\n",
    "\n",
    "Una capa MaxPool2D sa una función máxima  en lugar de un kernel, con el parámetro pool_size. Sin embargo, una capa MaxPool2D no tiene pesos entrenables.\n",
    "\n",
    "Después de aplicar la función ReLU, el mapa de características termina con una gran cantidad de \"espacio muerto\", es decir, áreas grandes que contienen solo ceros. Hay que condensar el mapa de características para retener solo la parte más útil.\n",
    "La agrupación máxima toma las activaciones en el mapa de características  y las reemplaza con la activación máxima."
   ]
  },
  {
   "cell_type": "code",
   "execution_count": 25,
   "id": "b2d49081",
   "metadata": {
    "execution": {
     "iopub.execute_input": "2021-11-15T10:06:31.801391Z",
     "iopub.status.busy": "2021-11-15T10:06:31.799965Z",
     "iopub.status.idle": "2021-11-15T10:06:31.997389Z",
     "shell.execute_reply": "2021-11-15T10:06:31.997930Z",
     "shell.execute_reply.started": "2021-11-12T14:14:13.700113Z"
    },
    "papermill": {
     "duration": 0.266968,
     "end_time": "2021-11-15T10:06:31.998103",
     "exception": false,
     "start_time": "2021-11-15T10:06:31.731135",
     "status": "completed"
    },
    "tags": []
   },
   "outputs": [
    {
     "name": "stderr",
     "output_type": "stream",
     "text": [
      "\n",
      "User settings:\n",
      "\n",
      "   KMP_AFFINITY=granularity=fine,verbose,compact,1,0\n",
      "   KMP_BLOCKTIME=0\n",
      "   KMP_DUPLICATE_LIB_OK=True\n",
      "   KMP_INIT_AT_FORK=FALSE\n",
      "   KMP_SETTINGS=1\n",
      "   KMP_WARNINGS=0\n",
      "\n",
      "Effective settings:\n",
      "\n",
      "   KMP_ABORT_DELAY=0\n",
      "   KMP_ADAPTIVE_LOCK_PROPS='1,1024'\n",
      "   KMP_ALIGN_ALLOC=64\n",
      "   KMP_ALL_THREADPRIVATE=128\n",
      "   KMP_ATOMIC_MODE=2\n",
      "   KMP_BLOCKTIME=0\n",
      "   KMP_CPUINFO_FILE: value is not defined\n",
      "   KMP_DETERMINISTIC_REDUCTION=false\n",
      "   KMP_DEVICE_THREAD_LIMIT=2147483647\n",
      "   KMP_DISP_NUM_BUFFERS=7\n",
      "   KMP_DUPLICATE_LIB_OK=true\n",
      "   KMP_ENABLE_TASK_THROTTLING=true\n",
      "   KMP_FORCE_REDUCTION: value is not defined\n",
      "   KMP_FOREIGN_THREADS_THREADPRIVATE=true\n",
      "   KMP_FORKJOIN_BARRIER='2,2'\n",
      "   KMP_FORKJOIN_BARRIER_PATTERN='hyper,hyper'\n",
      "   KMP_GTID_MODE=3\n",
      "   KMP_HANDLE_SIGNALS=false\n",
      "   KMP_HOT_TEAMS_MAX_LEVEL=1\n",
      "   KMP_HOT_TEAMS_MODE=0\n",
      "   KMP_INIT_AT_FORK=true\n",
      "   KMP_LIBRARY=throughput\n",
      "   KMP_LOCK_KIND=queuing\n",
      "   KMP_MALLOC_POOL_INCR=1M\n",
      "   KMP_NUM_LOCKS_IN_BLOCK=1\n",
      "   KMP_PLAIN_BARRIER='2,2'\n",
      "   KMP_PLAIN_BARRIER_PATTERN='hyper,hyper'\n",
      "   KMP_REDUCTION_BARRIER='1,1'\n",
      "   KMP_REDUCTION_BARRIER_PATTERN='hyper,hyper'\n",
      "   KMP_SCHEDULE='static,balanced;guided,iterative'\n",
      "   KMP_SETTINGS=true\n",
      "   KMP_SPIN_BACKOFF_PARAMS='4096,100'\n",
      "   KMP_STACKOFFSET=64\n",
      "   KMP_STACKPAD=0\n",
      "   KMP_STACKSIZE=8M\n",
      "   KMP_STORAGE_MAP=false\n",
      "   KMP_TASKING=2\n",
      "   KMP_TASKLOOP_MIN_TASKS=0\n",
      "   KMP_TASK_STEALING_CONSTRAINT=1\n",
      "   KMP_TEAMS_THREAD_LIMIT=4\n",
      "   KMP_TOPOLOGY_METHOD=all\n",
      "   KMP_USE_YIELD=1\n",
      "   KMP_VERSION=false\n",
      "   KMP_WARNINGS=false\n",
      "   OMP_AFFINITY_FORMAT='OMP: pid %P tid %i thread %n bound to OS proc set {%A}'\n",
      "   OMP_ALLOCATOR=omp_default_mem_alloc\n",
      "   OMP_CANCELLATION=false\n",
      "   OMP_DEFAULT_DEVICE=0\n",
      "   OMP_DISPLAY_AFFINITY=false\n",
      "   OMP_DISPLAY_ENV=false\n",
      "   OMP_DYNAMIC=false\n",
      "   OMP_MAX_ACTIVE_LEVELS=1\n",
      "   OMP_MAX_TASK_PRIORITY=0\n",
      "   OMP_NESTED: deprecated; max-active-levels-var=1\n",
      "   OMP_NUM_THREADS: value is not defined\n",
      "   OMP_PLACES: value is not defined\n",
      "   OMP_PROC_BIND='intel'\n",
      "   OMP_SCHEDULE='static'\n",
      "   OMP_STACKSIZE=8M\n",
      "   OMP_TARGET_OFFLOAD=DEFAULT\n",
      "   OMP_THREAD_LIMIT=2147483647\n",
      "   OMP_WAIT_POLICY=PASSIVE\n",
      "   KMP_AFFINITY='verbose,warnings,respect,granularity=fine,compact,1,0'\n",
      "\n",
      "2021-11-15 10:06:31.841715: I tensorflow/core/common_runtime/process_util.cc:146] Creating new thread pool with default inter op setting: 2. Tune using inter_op_parallelism_threads for best performance.\n"
     ]
    }
   ],
   "source": [
    "model = Sequential()\n",
    "\n",
    "model.add(Conv2D(filters = 32, kernel_size = (5,5),padding = 'Same', activation ='relu', input_shape = (28,28,1)))\n",
    "model.add(Conv2D(filters = 32, kernel_size = (5,5),padding = 'Same', activation ='relu'))\n",
    "model.add(MaxPool2D(pool_size=(2,2)))\n",
    "model.add(Dropout(0.25))\n",
    "model.add(Conv2D(filters = 64, kernel_size = (3,3),padding = 'Same', activation ='relu'))\n",
    "model.add(Conv2D(filters = 64, kernel_size = (3,3),padding = 'Same', activation ='relu'))\n",
    "model.add(MaxPool2D(pool_size=(2,2), strides=(2,2)))\n",
    "model.add(Dropout(0.25))\n",
    "model.add(Flatten())\n",
    "model.add(Dense(256, activation = \"relu\"))\n",
    "model.add(Dropout(0.5))\n",
    "model.add(Dense(10, activation = \"softmax\"))"
   ]
  },
  {
   "cell_type": "markdown",
   "id": "2814b9b6",
   "metadata": {
    "papermill": {
     "duration": 0.062631,
     "end_time": "2021-11-15T10:06:32.122841",
     "exception": false,
     "start_time": "2021-11-15T10:06:32.060210",
     "status": "completed"
    },
    "tags": []
   },
   "source": [
    "Comprobamos cual es el resumen de las capas de nuestro modelo"
   ]
  },
  {
   "cell_type": "code",
   "execution_count": 26,
   "id": "4919b576",
   "metadata": {
    "execution": {
     "iopub.execute_input": "2021-11-15T10:06:32.250093Z",
     "iopub.status.busy": "2021-11-15T10:06:32.249011Z",
     "iopub.status.idle": "2021-11-15T10:06:32.258231Z",
     "shell.execute_reply": "2021-11-15T10:06:32.257536Z",
     "shell.execute_reply.started": "2021-11-12T14:14:13.789171Z"
    },
    "papermill": {
     "duration": 0.074657,
     "end_time": "2021-11-15T10:06:32.258392",
     "exception": false,
     "start_time": "2021-11-15T10:06:32.183735",
     "status": "completed"
    },
    "tags": []
   },
   "outputs": [
    {
     "name": "stdout",
     "output_type": "stream",
     "text": [
      "Model: \"sequential\"\n",
      "_________________________________________________________________\n",
      "Layer (type)                 Output Shape              Param #   \n",
      "=================================================================\n",
      "conv2d (Conv2D)              (None, 28, 28, 32)        832       \n",
      "_________________________________________________________________\n",
      "conv2d_1 (Conv2D)            (None, 28, 28, 32)        25632     \n",
      "_________________________________________________________________\n",
      "max_pooling2d (MaxPooling2D) (None, 14, 14, 32)        0         \n",
      "_________________________________________________________________\n",
      "dropout (Dropout)            (None, 14, 14, 32)        0         \n",
      "_________________________________________________________________\n",
      "conv2d_2 (Conv2D)            (None, 14, 14, 64)        18496     \n",
      "_________________________________________________________________\n",
      "conv2d_3 (Conv2D)            (None, 14, 14, 64)        36928     \n",
      "_________________________________________________________________\n",
      "max_pooling2d_1 (MaxPooling2 (None, 7, 7, 64)          0         \n",
      "_________________________________________________________________\n",
      "dropout_1 (Dropout)          (None, 7, 7, 64)          0         \n",
      "_________________________________________________________________\n",
      "flatten (Flatten)            (None, 3136)              0         \n",
      "_________________________________________________________________\n",
      "dense (Dense)                (None, 256)               803072    \n",
      "_________________________________________________________________\n",
      "dropout_2 (Dropout)          (None, 256)               0         \n",
      "_________________________________________________________________\n",
      "dense_1 (Dense)              (None, 10)                2570      \n",
      "=================================================================\n",
      "Total params: 887,530\n",
      "Trainable params: 887,530\n",
      "Non-trainable params: 0\n",
      "_________________________________________________________________\n"
     ]
    }
   ],
   "source": [
    " model.summary()"
   ]
  },
  {
   "cell_type": "markdown",
   "id": "25afcc29",
   "metadata": {
    "papermill": {
     "duration": 0.061325,
     "end_time": "2021-11-15T10:06:32.381197",
     "exception": false,
     "start_time": "2021-11-15T10:06:32.319872",
     "status": "completed"
    },
    "tags": []
   },
   "source": [
    "La primera es la capa convolucional (Conv2D). Establecí 32 filtros para las dos primeras y 64 filtros para las dos últimas. La matriz de filtro de kernel se aplica a toda la imagen. \n",
    "\n",
    "La segunda capa importante es la capa MaxPool2D. Esta capa simplemente actúa como un filtro de reducción de resolución. Elige el valor máximo. Estos se utilizan para reducir el costo computacional.\n",
    "\n",
    "Se usan capas de Dropout, donde una proporción se ignora aleatoriamente (estableciendo sus pesos en cero) para cada muestra de entrenamiento. Esta técnica  reduce el sobreajuste.\n",
    "\n",
    "La capa Flatten se utiliza para convertir los mapas de características finales en un solo vector 1D.\n",
    "\n",
    "En la última capa (activación = \"softmax\") -> probabilidad de cada clase en la salida."
   ]
  },
  {
   "cell_type": "code",
   "execution_count": 27,
   "id": "d6a52eb0",
   "metadata": {
    "execution": {
     "iopub.execute_input": "2021-11-15T10:06:32.509543Z",
     "iopub.status.busy": "2021-11-15T10:06:32.508793Z",
     "iopub.status.idle": "2021-11-15T10:06:32.512058Z",
     "shell.execute_reply": "2021-11-15T10:06:32.512644Z",
     "shell.execute_reply.started": "2021-11-12T14:14:13.801238Z"
    },
    "papermill": {
     "duration": 0.070338,
     "end_time": "2021-11-15T10:06:32.512816",
     "exception": false,
     "start_time": "2021-11-15T10:06:32.442478",
     "status": "completed"
    },
    "tags": []
   },
   "outputs": [],
   "source": [
    "optimizer = Adam(learning_rate=0.001, beta_1=0.9, beta_2=0.999)"
   ]
  },
  {
   "cell_type": "markdown",
   "id": "64928323",
   "metadata": {
    "papermill": {
     "duration": 0.06183,
     "end_time": "2021-11-15T10:06:32.636594",
     "exception": false,
     "start_time": "2021-11-15T10:06:32.574764",
     "status": "completed"
    },
    "tags": []
   },
   "source": [
    "- Definimos la función de pérdida para medir el rendimiento de nuestro modelo.\n",
    "\n",
    "- La función más importante es el optimizador. Esta función mejorará iterativamente los  los valores del kernel y los pesos  para minimizar la pérdida. RMSprop  o Adam son optimizadores muy efectivos.\n",
    "\n",
    "- La función métrica \"accuracy\" "
   ]
  },
  {
   "cell_type": "code",
   "execution_count": 28,
   "id": "80c702fe",
   "metadata": {
    "execution": {
     "iopub.execute_input": "2021-11-15T10:06:32.763331Z",
     "iopub.status.busy": "2021-11-15T10:06:32.762373Z",
     "iopub.status.idle": "2021-11-15T10:06:32.775305Z",
     "shell.execute_reply": "2021-11-15T10:06:32.775830Z",
     "shell.execute_reply.started": "2021-11-12T14:14:13.810342Z"
    },
    "papermill": {
     "duration": 0.078066,
     "end_time": "2021-11-15T10:06:32.776026",
     "exception": false,
     "start_time": "2021-11-15T10:06:32.697960",
     "status": "completed"
    },
    "tags": []
   },
   "outputs": [],
   "source": [
    "model.compile(optimizer = optimizer , loss = \"categorical_crossentropy\", metrics=[\"accuracy\"])"
   ]
  },
  {
   "cell_type": "markdown",
   "id": "765967e2",
   "metadata": {
    "papermill": {
     "duration": 0.062021,
     "end_time": "2021-11-15T10:06:32.899624",
     "exception": false,
     "start_time": "2021-11-15T10:06:32.837603",
     "status": "completed"
    },
    "tags": []
   },
   "source": [
    "Para hacer que el optimizador converja más rápido se utiliza una tasa de aprendizaje decreciente durante el entrenamiento para alcanzar de manera eficiente el mínimo global de la función de pérdida.\n",
    "\n",
    "En este caso se disminuye el LR cada epoch dependiendo de si es necesario. Para ello se utiliza los callbacks."
   ]
  },
  {
   "cell_type": "code",
   "execution_count": 29,
   "id": "e0ae5ee6",
   "metadata": {
    "execution": {
     "iopub.execute_input": "2021-11-15T10:06:33.030537Z",
     "iopub.status.busy": "2021-11-15T10:06:33.029825Z",
     "iopub.status.idle": "2021-11-15T10:06:33.034126Z",
     "shell.execute_reply": "2021-11-15T10:06:33.034729Z",
     "shell.execute_reply.started": "2021-11-12T14:14:13.826459Z"
    },
    "papermill": {
     "duration": 0.070847,
     "end_time": "2021-11-15T10:06:33.034905",
     "exception": false,
     "start_time": "2021-11-15T10:06:32.964058",
     "status": "completed"
    },
    "tags": []
   },
   "outputs": [],
   "source": [
    "learning_rate_reduction = ReduceLROnPlateau(monitor='val_acc', \n",
    "                                            patience=3, \n",
    "                                            verbose=1, \n",
    "                                            factor=0.5, \n",
    "                                            min_lr=0.00001)"
   ]
  },
  {
   "cell_type": "markdown",
   "id": "94685759",
   "metadata": {
    "papermill": {
     "duration": 0.061404,
     "end_time": "2021-11-15T10:06:33.160001",
     "exception": false,
     "start_time": "2021-11-15T10:06:33.098597",
     "status": "completed"
    },
    "tags": []
   },
   "source": [
    "La mejor forma de mejorar el rendimiento de un modelo de aprendizaje automático es entrenarlo con más datos. \n",
    "\n",
    "Una forma sencilla de obtener más datos es utilizar los datos que ya tiene. Si podemos transformar las imágenes en nuestro conjunto de datos de manera que conserven la clase, podemos enseñar a nuestro clasificador a ignorar ese tipo de transformaciones. \n",
    "\n",
    "Y esa es toda la idea detrás del aumento de datos: agregar algunos datos falsos adicionales que se parezcan razonablemente a los datos reales y el clasificador mejorará."
   ]
  },
  {
   "cell_type": "code",
   "execution_count": 30,
   "id": "a152e234",
   "metadata": {
    "execution": {
     "iopub.execute_input": "2021-11-15T10:06:33.287780Z",
     "iopub.status.busy": "2021-11-15T10:06:33.287044Z",
     "iopub.status.idle": "2021-11-15T10:06:33.292166Z",
     "shell.execute_reply": "2021-11-15T10:06:33.292807Z",
     "shell.execute_reply.started": "2021-11-12T14:14:13.835707Z"
    },
    "papermill": {
     "duration": 0.07057,
     "end_time": "2021-11-15T10:06:33.292994",
     "exception": false,
     "start_time": "2021-11-15T10:06:33.222424",
     "status": "completed"
    },
    "tags": []
   },
   "outputs": [],
   "source": [
    "datagen = ImageDataGenerator(\n",
    "        featurewise_center=False,  \n",
    "        samplewise_center=False,  \n",
    "        featurewise_std_normalization=False,  \n",
    "        samplewise_std_normalization=False,  \n",
    "        zca_whitening=False,  \n",
    "        rotation_range=10, \n",
    "        zoom_range = 0.1,\n",
    "        width_shift_range=0.1,  \n",
    "        height_shift_range=0.1,  \n",
    "        horizontal_flip=False, \n",
    "        vertical_flip=False)  "
   ]
  },
  {
   "cell_type": "markdown",
   "id": "02affa1f",
   "metadata": {
    "papermill": {
     "duration": 0.061982,
     "end_time": "2021-11-15T10:06:33.418627",
     "exception": false,
     "start_time": "2021-11-15T10:06:33.356645",
     "status": "completed"
    },
    "tags": []
   },
   "source": [
    "- Rote aleatoriamente algunas imágenes \n",
    "- Zoom aleatorio algunas imágenes de entrenamiento\n",
    "- Cambiar las imágenes en un 10% del ancho\n",
    "- Cambiar las imágenes verticalmente en un 10% de la altura\n",
    "- etc ...\n",
    "\n",
    "DESPUES ENTRENAMOS EL CONJUNTO DE DATOS DE ENTRENAMIENTO"
   ]
  },
  {
   "cell_type": "code",
   "execution_count": 31,
   "id": "a57dbf44",
   "metadata": {
    "execution": {
     "iopub.execute_input": "2021-11-15T10:06:33.547742Z",
     "iopub.status.busy": "2021-11-15T10:06:33.547014Z",
     "iopub.status.idle": "2021-11-15T10:06:33.648017Z",
     "shell.execute_reply": "2021-11-15T10:06:33.647347Z",
     "shell.execute_reply.started": "2021-11-12T14:14:13.850496Z"
    },
    "papermill": {
     "duration": 0.167129,
     "end_time": "2021-11-15T10:06:33.648180",
     "exception": false,
     "start_time": "2021-11-15T10:06:33.481051",
     "status": "completed"
    },
    "tags": []
   },
   "outputs": [],
   "source": [
    "datagen.fit(X_train)"
   ]
  },
  {
   "cell_type": "markdown",
   "id": "dbc77fff",
   "metadata": {
    "papermill": {
     "duration": 0.061737,
     "end_time": "2021-11-15T10:06:33.772454",
     "exception": false,
     "start_time": "2021-11-15T10:06:33.710717",
     "status": "completed"
    },
    "tags": []
   },
   "source": [
    "Entrenamos nuestro modelo pasándole el conjunto de características de entramiento y la salida final.\n",
    "\n",
    "Un tamaño de batch_size = 80 es habitual. Y con 30 epochs."
   ]
  },
  {
   "cell_type": "code",
   "execution_count": 32,
   "id": "f980a881",
   "metadata": {
    "execution": {
     "iopub.execute_input": "2021-11-15T10:06:33.902056Z",
     "iopub.status.busy": "2021-11-15T10:06:33.901250Z",
     "iopub.status.idle": "2021-11-15T10:07:56.827991Z",
     "shell.execute_reply": "2021-11-15T10:07:56.828544Z",
     "shell.execute_reply.started": "2021-11-12T14:14:13.952105Z"
    },
    "papermill": {
     "duration": 82.994109,
     "end_time": "2021-11-15T10:07:56.828743",
     "exception": false,
     "start_time": "2021-11-15T10:06:33.834634",
     "status": "completed"
    },
    "tags": []
   },
   "outputs": [
    {
     "name": "stderr",
     "output_type": "stream",
     "text": [
      "2021-11-15 10:06:34.070452: I tensorflow/compiler/mlir/mlir_graph_optimization_pass.cc:185] None of the MLIR Optimization Passes are enabled (registered 2)\n"
     ]
    },
    {
     "name": "stdout",
     "output_type": "stream",
     "text": [
      "37800/37800 - 83s - loss: 0.4164 - accuracy: 0.8663 - val_loss: 0.0645 - val_accuracy: 0.9795\n"
     ]
    }
   ],
   "source": [
    "history = model.fit(datagen.flow(X_train,Y_train, batch_size=86),\n",
    "                              epochs = 1, validation_data = (X_val,Y_val),\n",
    "                              verbose = 2, steps_per_epoch=X_train.shape[0], \n",
    "                              callbacks=[learning_rate_reduction])"
   ]
  },
  {
   "cell_type": "code",
   "execution_count": 33,
   "id": "2d22eea4",
   "metadata": {
    "execution": {
     "iopub.execute_input": "2021-11-15T10:07:56.959486Z",
     "iopub.status.busy": "2021-11-15T10:07:56.957401Z",
     "iopub.status.idle": "2021-11-15T10:07:56.962548Z",
     "shell.execute_reply": "2021-11-15T10:07:56.963100Z",
     "shell.execute_reply.started": "2021-11-12T14:15:34.058795Z"
    },
    "papermill": {
     "duration": 0.071501,
     "end_time": "2021-11-15T10:07:56.963287",
     "exception": false,
     "start_time": "2021-11-15T10:07:56.891786",
     "status": "completed"
    },
    "tags": []
   },
   "outputs": [
    {
     "name": "stdout",
     "output_type": "stream",
     "text": [
      "Loss     : 0.41637954115867615 \n",
      "Accuracy : 0.8662962913513184\n"
     ]
    }
   ],
   "source": [
    "print('Loss     : {} \\nAccuracy : {}'.format(history.history['loss'][-1],history.history['accuracy'][-1]))"
   ]
  },
  {
   "cell_type": "markdown",
   "id": "cfee9372",
   "metadata": {
    "papermill": {
     "duration": 0.062498,
     "end_time": "2021-11-15T10:07:57.088376",
     "exception": false,
     "start_time": "2021-11-15T10:07:57.025878",
     "status": "completed"
    },
    "tags": []
   },
   "source": [
    "Predecimos los resultados para el cojunto de datos de test. Una vez realizado el entrenamiento, le pasamos al modelo nuevos ejemplos que no ha visto para que realice una predicción."
   ]
  },
  {
   "cell_type": "code",
   "execution_count": 34,
   "id": "4cceef19",
   "metadata": {
    "execution": {
     "iopub.execute_input": "2021-11-15T10:07:57.216131Z",
     "iopub.status.busy": "2021-11-15T10:07:57.215471Z",
     "iopub.status.idle": "2021-11-15T10:07:59.915671Z",
     "shell.execute_reply": "2021-11-15T10:07:59.914974Z",
     "shell.execute_reply.started": "2021-11-12T14:15:34.066004Z"
    },
    "papermill": {
     "duration": 2.765249,
     "end_time": "2021-11-15T10:07:59.915831",
     "exception": false,
     "start_time": "2021-11-15T10:07:57.150582",
     "status": "completed"
    },
    "tags": []
   },
   "outputs": [],
   "source": [
    "Y_pred = model.predict(X_val)"
   ]
  },
  {
   "cell_type": "code",
   "execution_count": 35,
   "id": "8608db3d",
   "metadata": {
    "execution": {
     "iopub.execute_input": "2021-11-15T10:08:00.046570Z",
     "iopub.status.busy": "2021-11-15T10:08:00.045809Z",
     "iopub.status.idle": "2021-11-15T10:08:00.050134Z",
     "shell.execute_reply": "2021-11-15T10:08:00.050690Z",
     "shell.execute_reply.started": "2021-11-12T14:15:36.662768Z"
    },
    "papermill": {
     "duration": 0.070557,
     "end_time": "2021-11-15T10:08:00.050868",
     "exception": false,
     "start_time": "2021-11-15T10:07:59.980311",
     "status": "completed"
    },
    "tags": []
   },
   "outputs": [],
   "source": [
    "Y_pred_classes = np.argmax(Y_pred ,axis = 1) \n",
    "Y_true = np.argmax(Y_val, axis=1)"
   ]
  },
  {
   "cell_type": "code",
   "execution_count": 36,
   "id": "a7652121",
   "metadata": {
    "execution": {
     "iopub.execute_input": "2021-11-15T10:08:00.183007Z",
     "iopub.status.busy": "2021-11-15T10:08:00.181938Z",
     "iopub.status.idle": "2021-11-15T10:08:01.182534Z",
     "shell.execute_reply": "2021-11-15T10:08:01.183038Z",
     "shell.execute_reply.started": "2021-11-12T14:15:36.669595Z"
    },
    "papermill": {
     "duration": 1.069445,
     "end_time": "2021-11-15T10:08:01.183214",
     "exception": false,
     "start_time": "2021-11-15T10:08:00.113769",
     "status": "completed"
    },
    "tags": []
   },
   "outputs": [
    {
     "data": {
      "image/png": "[encoded data removed]",
      "text/plain": [
       "<Figure size 1920x960 with 2 Axes>"
      ]
     },
     "metadata": {},
     "output_type": "display_data"
    }
   ],
   "source": [
    "confusion_mtx = confusion_matrix(Y_true, Y_pred_classes)\n",
    "f,ax = plt.subplots(figsize=(16,8))\n",
    "sns.heatmap(confusion_mtx, annot=True, linewidths=0.01, cmap=\"Blues\", linecolor=\"Green\", fmt='.1f', ax=ax)\n",
    "plt.xlabel(\"Valor predicho\")\n",
    "plt.ylabel(\"Valor real\")\n",
    "plt.title(\"Matriz de confusión\")\n",
    "plt.show()"
   ]
  },
  {
   "cell_type": "markdown",
   "id": "9414346d",
   "metadata": {
    "papermill": {
     "duration": 0.064566,
     "end_time": "2021-11-15T10:08:01.312895",
     "exception": false,
     "start_time": "2021-11-15T10:08:01.248329",
     "status": "completed"
    },
    "tags": []
   },
   "source": [
    "Representamos algunas de las imágenes con el valor predecido para ver si es correcto."
   ]
  },
  {
   "cell_type": "code",
   "execution_count": 37,
   "id": "c2d2d70e",
   "metadata": {
    "execution": {
     "iopub.execute_input": "2021-11-15T10:08:01.446787Z",
     "iopub.status.busy": "2021-11-15T10:08:01.446050Z",
     "iopub.status.idle": "2021-11-15T10:08:19.749228Z",
     "shell.execute_reply": "2021-11-15T10:08:19.749864Z",
     "shell.execute_reply.started": "2021-11-12T14:15:38.463813Z"
    },
    "papermill": {
     "duration": 18.372151,
     "end_time": "2021-11-15T10:08:19.750070",
     "exception": false,
     "start_time": "2021-11-15T10:08:01.377919",
     "status": "completed"
    },
    "tags": []
   },
   "outputs": [
    {
     "data": {
      "image/png": "[encoded data removed]",
      "text/plain": [
       "<Figure size 1440x960 with 24 Axes>"
      ]
     },
     "metadata": {},
     "output_type": "display_data"
    }
   ],
   "source": [
    "Y_pred = model.predict(test)\n",
    "Y_pred_classes = np.argmax(Y_pred,axis = 1) \n",
    "rows = 4\n",
    "cols = 6\n",
    "f = plt.figure(figsize=(2*cols,2*rows))\n",
    "f.suptitle(\"Predicciones\", fontsize=20)\n",
    "for i in range(rows*cols): \n",
    "    f.add_subplot(rows,cols,i+1)\n",
    "    img = test[i]\n",
    "    img = img.reshape((28,28))\n",
    "    plt.imshow(img,\n",
    "               cmap='gray')\n",
    "    plt.axis(\"off\")\n",
    "    plt.title(\"Predicción: {}\".format(Y_pred_classes[i]),\n",
    "              y=-0.35,color=\"green\")\n",
    "f.tight_layout()\n",
    "    \n",
    "f.show()"
   ]
  },
  {
   "cell_type": "markdown",
   "id": "a06e998c",
   "metadata": {
    "papermill": {
     "duration": 0.066719,
     "end_time": "2021-11-15T10:08:19.885639",
     "exception": false,
     "start_time": "2021-11-15T10:08:19.818920",
     "status": "completed"
    },
    "tags": []
   },
   "source": [
    "Guardamos en archivo de submission los resultados"
   ]
  },
  {
   "cell_type": "code",
   "execution_count": 38,
   "id": "f246063d",
   "metadata": {
    "execution": {
     "iopub.execute_input": "2021-11-15T10:08:20.026286Z",
     "iopub.status.busy": "2021-11-15T10:08:20.025577Z",
     "iopub.status.idle": "2021-11-15T10:08:20.086842Z",
     "shell.execute_reply": "2021-11-15T10:08:20.086084Z",
     "shell.execute_reply.started": "2021-11-12T14:15:56.111834Z"
    },
    "papermill": {
     "duration": 0.132694,
     "end_time": "2021-11-15T10:08:20.086990",
     "exception": false,
     "start_time": "2021-11-15T10:08:19.954296",
     "status": "completed"
    },
    "tags": []
   },
   "outputs": [],
   "source": [
    "submission = pd.DataFrame({'ImageId': range(1,28001), 'Label': Y_pred_classes})\n",
    "submission.to_csv('submission.csv', index=False)"
   ]
  },
  {
   "cell_type": "code",
   "execution_count": 39,
   "id": "55a77ccc",
   "metadata": {
    "execution": {
     "iopub.execute_input": "2021-11-15T10:08:20.233051Z",
     "iopub.status.busy": "2021-11-15T10:08:20.232318Z",
     "iopub.status.idle": "2021-11-15T10:08:20.236841Z",
     "shell.execute_reply": "2021-11-15T10:08:20.236229Z",
     "shell.execute_reply.started": "2021-11-12T14:15:56.172385Z"
    },
    "papermill": {
     "duration": 0.082578,
     "end_time": "2021-11-15T10:08:20.237006",
     "exception": false,
     "start_time": "2021-11-15T10:08:20.154428",
     "status": "completed"
    },
    "tags": []
   },
   "outputs": [
    {
     "data": {
      "text/html": [
       "<div>\n",
       "<style scoped>\n",
       "    .dataframe tbody tr th:only-of-type {\n",
       "        vertical-align: middle;\n",
       "    }\n",
       "\n",
       "    .dataframe tbody tr th {\n",
       "        vertical-align: top;\n",
       "    }\n",
       "\n",
       "    .dataframe thead th {\n",
       "        text-align: right;\n",
       "    }\n",
       "</style>\n",
       "<table border=\"1\" class=\"dataframe\">\n",
       "  <thead>\n",
       "    <tr style=\"text-align: right;\">\n",
       "      <th></th>\n",
       "      <th>ImageId</th>\n",
       "      <th>Label</th>\n",
       "    </tr>\n",
       "  </thead>\n",
       "  <tbody>\n",
       "    <tr>\n",
       "      <th>0</th>\n",
       "      <td>1</td>\n",
       "      <td>2</td>\n",
       "    </tr>\n",
       "    <tr>\n",
       "      <th>1</th>\n",
       "      <td>2</td>\n",
       "      <td>0</td>\n",
       "    </tr>\n",
       "    <tr>\n",
       "      <th>2</th>\n",
       "      <td>3</td>\n",
       "      <td>9</td>\n",
       "    </tr>\n",
       "    <tr>\n",
       "      <th>3</th>\n",
       "      <td>4</td>\n",
       "      <td>0</td>\n",
       "    </tr>\n",
       "    <tr>\n",
       "      <th>4</th>\n",
       "      <td>5</td>\n",
       "      <td>3</td>\n",
       "    </tr>\n",
       "    <tr>\n",
       "      <th>...</th>\n",
       "      <td>...</td>\n",
       "      <td>...</td>\n",
       "    </tr>\n",
       "    <tr>\n",
       "      <th>27995</th>\n",
       "      <td>27996</td>\n",
       "      <td>9</td>\n",
       "    </tr>\n",
       "    <tr>\n",
       "      <th>27996</th>\n",
       "      <td>27997</td>\n",
       "      <td>7</td>\n",
       "    </tr>\n",
       "    <tr>\n",
       "      <th>27997</th>\n",
       "      <td>27998</td>\n",
       "      <td>3</td>\n",
       "    </tr>\n",
       "    <tr>\n",
       "      <th>27998</th>\n",
       "      <td>27999</td>\n",
       "      <td>9</td>\n",
       "    </tr>\n",
       "    <tr>\n",
       "      <th>27999</th>\n",
       "      <td>28000</td>\n",
       "      <td>2</td>\n",
       "    </tr>\n",
       "  </tbody>\n",
       "</table>\n",
       "<p>28000 rows × 2 columns</p>\n",
       "</div>"
      ],
      "text/plain": [
       "       ImageId  Label\n",
       "0            1      2\n",
       "1            2      0\n",
       "2            3      9\n",
       "3            4      0\n",
       "4            5      3\n",
       "...        ...    ...\n",
       "27995    27996      9\n",
       "27996    27997      7\n",
       "27997    27998      3\n",
       "27998    27999      9\n",
       "27999    28000      2\n",
       "\n",
       "[28000 rows x 2 columns]"
      ]
     },
     "execution_count": 39,
     "metadata": {},
     "output_type": "execute_result"
    }
   ],
   "source": [
    "submission"
   ]
  }
 ],
 "metadata": {
  "kernelspec": {
   "display_name": "Python 3",
   "language": "python",
   "name": "python3"
  },
  "language_info": {
   "codemirror_mode": {
    "name": "ipython",
    "version": 3
   },
   "file_extension": ".py",
   "mimetype": "text/x-python",
   "name": "python",
   "nbconvert_exporter": "python",
   "pygments_lexer": "ipython3",
   "version": "3.7.10"
  },
  "papermill": {
   "default_parameters": {},
   "duration": 143.896538,
   "end_time": "2021-11-15T10:08:23.580066",
   "environment_variables": {},
   "exception": null,
   "input_path": "__notebook__.ipynb",
   "output_path": "__notebook__.ipynb",
   "parameters": {},
   "start_time": "2021-11-15T10:05:59.683528",
   "version": "2.3.3"
  }
 },
 "nbformat": 4,
 "nbformat_minor": 5
}
