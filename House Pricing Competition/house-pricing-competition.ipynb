{
 "cells": [
  {
   "cell_type": "markdown",
   "id": "aa29007b",
   "metadata": {
    "papermill": {
     "duration": 0.061916,
     "end_time": "2021-10-23T11:12:45.872405",
     "exception": false,
     "start_time": "2021-10-23T11:12:45.810489",
     "status": "completed"
    },
    "tags": []
   },
   "source": [
    "# House Pricing Competition\n",
    "\n",
    "**with Neural Network and Random Forest**"
   ]
  },
  {
   "cell_type": "markdown",
   "id": "8c344542",
   "metadata": {
    "papermill": {
     "duration": 0.05946,
     "end_time": "2021-10-23T11:12:45.994952",
     "exception": false,
     "start_time": "2021-10-23T11:12:45.935492",
     "status": "completed"
    },
    "tags": []
   },
   "source": [
    "Importamos las libreías de tensorflow y keras para nuestro modelo de redes neuronales profundas. Y comprobamos la versión."
   ]
  },
  {
   "cell_type": "code",
   "execution_count": 1,
   "id": "254738c1",
   "metadata": {
    "execution": {
     "iopub.execute_input": "2021-10-23T11:12:46.190977Z",
     "iopub.status.busy": "2021-10-23T11:12:46.190310Z",
     "iopub.status.idle": "2021-10-23T11:12:51.526735Z",
     "shell.execute_reply": "2021-10-23T11:12:51.525919Z",
     "shell.execute_reply.started": "2021-10-23T11:10:38.518333Z"
    },
    "papermill": {
     "duration": 5.470718,
     "end_time": "2021-10-23T11:12:51.526904",
     "exception": false,
     "start_time": "2021-10-23T11:12:46.056186",
     "status": "completed"
    },
    "tags": []
   },
   "outputs": [
    {
     "data": {
      "text/plain": [
       "'2.6.0'"
      ]
     },
     "execution_count": 1,
     "metadata": {},
     "output_type": "execute_result"
    }
   ],
   "source": [
    "import tensorflow as tf\n",
    "tf.__version__"
   ]
  },
  {
   "cell_type": "code",
   "execution_count": 2,
   "id": "75c8fbab",
   "metadata": {
    "execution": {
     "iopub.execute_input": "2021-10-23T11:12:51.655185Z",
     "iopub.status.busy": "2021-10-23T11:12:51.654420Z",
     "iopub.status.idle": "2021-10-23T11:12:52.819520Z",
     "shell.execute_reply": "2021-10-23T11:12:52.818540Z",
     "shell.execute_reply.started": "2021-10-23T11:10:38.549892Z"
    },
    "papermill": {
     "duration": 1.231237,
     "end_time": "2021-10-23T11:12:52.819712",
     "exception": false,
     "start_time": "2021-10-23T11:12:51.588475",
     "status": "completed"
    },
    "tags": []
   },
   "outputs": [
    {
     "data": {
      "text/plain": [
       "'2.6.0'"
      ]
     },
     "execution_count": 2,
     "metadata": {},
     "output_type": "execute_result"
    }
   ],
   "source": [
    "from tensorflow import keras\n",
    "keras.__version__"
   ]
  },
  {
   "cell_type": "markdown",
   "id": "c89a2228",
   "metadata": {
    "papermill": {
     "duration": 0.062503,
     "end_time": "2021-10-23T11:12:52.947529",
     "exception": false,
     "start_time": "2021-10-23T11:12:52.885026",
     "status": "completed"
    },
    "tags": []
   },
   "source": [
    "Añadimos nuevas librerías"
   ]
  },
  {
   "cell_type": "code",
   "execution_count": 3,
   "id": "4209d1b1",
   "metadata": {
    "_cell_guid": "b1076dfc-b9ad-4769-8c92-a6c4dae69d19",
    "_uuid": "8f2839f25d086af736a60e9eeb907d3b93b6e0e5",
    "execution": {
     "iopub.execute_input": "2021-10-23T11:12:53.081085Z",
     "iopub.status.busy": "2021-10-23T11:12:53.080305Z",
     "iopub.status.idle": "2021-10-23T11:12:54.024280Z",
     "shell.execute_reply": "2021-10-23T11:12:54.024838Z",
     "shell.execute_reply.started": "2021-10-23T11:10:38.605082Z"
    },
    "papermill": {
     "duration": 1.016222,
     "end_time": "2021-10-23T11:12:54.025053",
     "exception": false,
     "start_time": "2021-10-23T11:12:53.008831",
     "status": "completed"
    },
    "tags": []
   },
   "outputs": [
    {
     "name": "stdout",
     "output_type": "stream",
     "text": [
      "/kaggle/input/house-prices-advanced-regression-techniques/sample_submission.csv\n",
      "/kaggle/input/house-prices-advanced-regression-techniques/data_description.txt\n",
      "/kaggle/input/house-prices-advanced-regression-techniques/train.csv\n",
      "/kaggle/input/house-prices-advanced-regression-techniques/test.csv\n"
     ]
    }
   ],
   "source": [
    "import numpy as np \n",
    "import pandas as pd \n",
    "from sklearn.model_selection import train_test_split\n",
    "import matplotlib.pyplot as plt\n",
    "import seaborn as sns\n",
    "plt.style.use('fivethirtyeight')\n",
    "import warnings\n",
    "warnings.filterwarnings('ignore')\n",
    "%matplotlib inline\n",
    "\n",
    "# Los archivos de datos están disponibles en el directorio \"../input/\" \n",
    "\n",
    "import os\n",
    "for dirname, _, filenames in os.walk('/kaggle/input'):\n",
    "    for filename in filenames:\n",
    "        print(os.path.join(dirname, filename))"
   ]
  },
  {
   "cell_type": "markdown",
   "id": "e9bc780b",
   "metadata": {
    "papermill": {
     "duration": 0.060958,
     "end_time": "2021-10-23T11:12:54.148878",
     "exception": false,
     "start_time": "2021-10-23T11:12:54.087920",
     "status": "completed"
    },
    "tags": []
   },
   "source": [
    "Hay cuatro archivos que existen en este fichero: (1) train.csv, (2) test.csv, (3) sample_submission.csv y (4) data_description.txt\n",
    "\n",
    "Vamos a mirar cuáles son las características de nuestros datos :\n",
    "\n",
    "- MSSubClass: Identifica el tipo de vivienda involucrada en la venta.\n",
    "\n",
    "- MSZoning: Identifica la clasificación de zonificación general de la venta.\n",
    "\n",
    "- LoteFrontage: Pies lineales de calle conectados a la propiedad\n",
    "\n",
    "- LotArea: Tamaño del lote en pies cuadrados\n",
    "\n",
    "- Calle: Tipo de vía de acceso a la propiedad\n",
    "       \n",
    "- Callejón: Tipo de callejón de acceso a la propiedad.\n",
    "\n",
    "- LotShape: Forma general de la propiedad\n",
    "       \n",
    "- LandContour: Planitud de la propiedad\n",
    "\n",
    "- Utilidades: tipo de utilidades disponibles\n",
    "\n",
    "- LotConfig: configuración del lote\n",
    "\n",
    "- LandSlope: Pendiente de la propiedad\n",
    "\n",
    "- Vecindario: ubicaciones físicas dentro de los límites de la ciudad de Ames\n",
    "\n",
    "- Condición 1: proximidad a diversas condiciones\n",
    "\n",
    "- Condición 2: proximidad a varias condiciones (si hay más de una)\n",
    "\n",
    "- BldgType: Tipo de vivienda\n",
    "\n",
    "- HouseStyle: estilo de vivienda\n",
    "\n",
    "- OverallQual: Califica el material general y el acabado de la casa.\n",
    "\n",
    "- OverallCond: Valora el estado general de la casa.\n",
    "\n",
    "- Año de construcción: fecha de construcción original\n",
    "\n",
    "- YearRemodAdd: fecha de remodelación (igual que la fecha de construcción si no hay remodelaciones o adiciones)\n",
    "\n",
    "- RoofStyle: Tipo de techo\n",
    "\n",
    "- RoofMatl: material del techo\n",
    "\n",
    "- Exterior1st: Revestimiento exterior de la casa\n",
    "\n",
    "- Exterior2nd: Revestimiento exterior de la casa (si hay más de un material)\n",
    "\n",
    "- MasVnrType: tipo de chapa \n",
    "\n",
    "- MasVnrArea: Área de revestimiento de mampostería en pies cuadrados\n",
    "\n",
    "- ExterQual: Evalúa la calidad del material en el exterior\n",
    "\n",
    "- ExterCond: Evalúa el estado actual del material en el exterior.\n",
    "\n",
    "- Fundación: Tipo de fundación\n",
    "\n",
    "- BsmtQual: Evalúa la altura del sótano\n",
    "\n",
    "- BsmtCond: Evalúa el estado general del sótano\n",
    "\n",
    "- BsmtExposure: se refiere a muros a nivel de jardín o de huelga\n",
    "\n",
    "- BsmtFinType1: Calificación del área terminada del sótano\n",
    "\n",
    "- BsmtFinSF1: pies cuadrados terminados tipo 1\n",
    "\n",
    "- BsmtFinType2: Calificación del área terminada del sótano (si hay varios tipos)\n",
    "\n",
    "- BsmtFinSF2: pies cuadrados con acabado tipo 2\n",
    "\n",
    "- BsmtUnfSF: pies cuadrados sin terminar de área del sótano\n",
    "\n",
    "- TotalBsmtSF: Total de pies cuadrados de área del sótano\n",
    "\n",
    "- Calefacción: Tipo de calefacción\n",
    "\n",
    "- Calefacción QC: calidad y estado de la calefacción\n",
    "\n",
    "- CentralAir: aire acondicionado central\n",
    "\n",
    "- Eléctrico: sistema eléctrico\n",
    "\n",
    "- 1stFlrSF: pies cuadrados del primer piso\n",
    " \n",
    "- 2ndFlrSF: pies cuadrados del segundo piso\n",
    "\n",
    "- LowQualFinSF: pies cuadrados con acabado de baja calidad (todos los pisos)\n",
    "\n",
    "- GrLivArea: pies cuadrados de área habitable sobre el nivel (suelo)\n",
    "\n",
    "- BsmtFullBath: Baños completos en el sótano\n",
    "\n",
    "- BsmtHalfBath: Medios baños en el sótano\n",
    "\n",
    "- FullBath: baños completos sobre rasante\n",
    "\n",
    "- HalfBath: Medios baños sobre el nivel del suelo\n",
    "\n",
    "- Dormitorio: dormitorios sobre el nivel del suelo (NO incluye dormitorios en el sótano)\n",
    "\n",
    "- Cocina: Cocinas sobre rasante\n",
    "\n",
    "- KitchenQual: calidad de la cocina\n",
    "       \n",
    "- TotRmsAbvGrd: Total de habitaciones sobre rasante (no incluye baños)\n",
    "\n",
    "- Funcional: funcionalidad del hogar (suponga que es típico a menos que se justifiquen las deducciones)\n",
    "\n",
    "- Chimeneas: Número de chimeneas\n",
    "\n",
    "- FireplaceQu: Calidad de chimenea\n",
    "\n",
    "- GarageType: Alquiler de garaje\n",
    "\n",
    "- GarageYrBlt: año en que se construyó el garaje\n",
    "\n",
    "- GarageFinish: Acabado interior del garaje\n",
    "\n",
    "- GarageCars: Tamaño del garaje en capacidad de automóvil\n",
    "\n",
    "- GarageArea: Tamaño del garaje en pies cuadrados\n",
    "\n",
    "- GarageQual: Calidad de garaje\n",
    "\n",
    "- GarageCond: Estado del garaje\n",
    "\n",
    "- PavedDrive: entrada pavimentada\n",
    "\n",
    "- WoodDeckSF: Área de la plataforma de madera en pies cuadrados\n",
    "\n",
    "- OpenPorchSF: Área de porche abierto en pies cuadrados\n",
    "\n",
    "- Porche cerrado: área de porche cerrado en pies cuadrados\n",
    "\n",
    "- 3SsnPorch: área de porche de tres estaciones en pies cuadrados\n",
    "\n",
    "- ScreenPorch: Área del porche de la pantalla en pies cuadrados\n",
    "\n",
    "- PoolArea: Área de la piscina en pies cuadrados\n",
    "\n",
    "- PoolQC: Calidad de la piscina\n",
    "\n",
    "- Valla: calidad de la valla\n",
    "\n",
    "- MoSold: Mes vendido (MM)\n",
    "\n",
    "- YrSold: año vendido (YYYY)\n",
    "\n",
    "- SaleType: Tipo de venta\n",
    "\n",
    "- SaleCondition: Condición de venta"
   ]
  },
  {
   "cell_type": "markdown",
   "id": "85366445",
   "metadata": {
    "papermill": {
     "duration": 0.062601,
     "end_time": "2021-10-23T11:12:54.274031",
     "exception": false,
     "start_time": "2021-10-23T11:12:54.211430",
     "status": "completed"
    },
    "tags": []
   },
   "source": [
    "Observamos que tenemos demasiadas características con datos muy diversos, tanto datos **númericos como características categóricas**"
   ]
  },
  {
   "cell_type": "markdown",
   "id": "88f28cc8",
   "metadata": {
    "papermill": {
     "duration": 0.061862,
     "end_time": "2021-10-23T11:12:54.397052",
     "exception": false,
     "start_time": "2021-10-23T11:12:54.335190",
     "status": "completed"
    },
    "tags": []
   },
   "source": [
    "En esta celda cargamos el archivo train.csv.\n",
    "\n",
    "El valor en la columna \"SalePrice\" determina el precio de la vivienda. Está es la caracterítica etiquetada que intentaremos predecir."
   ]
  },
  {
   "cell_type": "code",
   "execution_count": 4,
   "id": "00760472",
   "metadata": {
    "execution": {
     "iopub.execute_input": "2021-10-23T11:12:54.523322Z",
     "iopub.status.busy": "2021-10-23T11:12:54.522531Z",
     "iopub.status.idle": "2021-10-23T11:12:54.779740Z",
     "shell.execute_reply": "2021-10-23T11:12:54.779128Z",
     "shell.execute_reply.started": "2021-10-23T11:10:39.687941Z"
    },
    "papermill": {
     "duration": 0.321187,
     "end_time": "2021-10-23T11:12:54.779908",
     "exception": false,
     "start_time": "2021-10-23T11:12:54.458721",
     "status": "completed"
    },
    "tags": []
   },
   "outputs": [
    {
     "data": {
      "text/html": [
       "<div>\n",
       "<style scoped>\n",
       "    .dataframe tbody tr th:only-of-type {\n",
       "        vertical-align: middle;\n",
       "    }\n",
       "\n",
       "    .dataframe tbody tr th {\n",
       "        vertical-align: top;\n",
       "    }\n",
       "\n",
       "    .dataframe thead th {\n",
       "        text-align: right;\n",
       "    }\n",
       "</style>\n",
       "<table border=\"1\" class=\"dataframe\">\n",
       "  <thead>\n",
       "    <tr style=\"text-align: right;\">\n",
       "      <th></th>\n",
       "      <th>MSSubClass</th>\n",
       "      <th>MSZoning</th>\n",
       "      <th>LotFrontage</th>\n",
       "      <th>LotArea</th>\n",
       "      <th>Street</th>\n",
       "      <th>Alley</th>\n",
       "      <th>LotShape</th>\n",
       "      <th>LandContour</th>\n",
       "      <th>Utilities</th>\n",
       "      <th>LotConfig</th>\n",
       "      <th>...</th>\n",
       "      <th>PoolArea</th>\n",
       "      <th>PoolQC</th>\n",
       "      <th>Fence</th>\n",
       "      <th>MiscFeature</th>\n",
       "      <th>MiscVal</th>\n",
       "      <th>MoSold</th>\n",
       "      <th>YrSold</th>\n",
       "      <th>SaleType</th>\n",
       "      <th>SaleCondition</th>\n",
       "      <th>SalePrice</th>\n",
       "    </tr>\n",
       "    <tr>\n",
       "      <th>Id</th>\n",
       "      <th></th>\n",
       "      <th></th>\n",
       "      <th></th>\n",
       "      <th></th>\n",
       "      <th></th>\n",
       "      <th></th>\n",
       "      <th></th>\n",
       "      <th></th>\n",
       "      <th></th>\n",
       "      <th></th>\n",
       "      <th></th>\n",
       "      <th></th>\n",
       "      <th></th>\n",
       "      <th></th>\n",
       "      <th></th>\n",
       "      <th></th>\n",
       "      <th></th>\n",
       "      <th></th>\n",
       "      <th></th>\n",
       "      <th></th>\n",
       "      <th></th>\n",
       "    </tr>\n",
       "  </thead>\n",
       "  <tbody>\n",
       "    <tr>\n",
       "      <th>1</th>\n",
       "      <td>60</td>\n",
       "      <td>RL</td>\n",
       "      <td>65.0</td>\n",
       "      <td>8450</td>\n",
       "      <td>Pave</td>\n",
       "      <td>NaN</td>\n",
       "      <td>Reg</td>\n",
       "      <td>Lvl</td>\n",
       "      <td>AllPub</td>\n",
       "      <td>Inside</td>\n",
       "      <td>...</td>\n",
       "      <td>0</td>\n",
       "      <td>NaN</td>\n",
       "      <td>NaN</td>\n",
       "      <td>NaN</td>\n",
       "      <td>0</td>\n",
       "      <td>2</td>\n",
       "      <td>2008</td>\n",
       "      <td>WD</td>\n",
       "      <td>Normal</td>\n",
       "      <td>208500</td>\n",
       "    </tr>\n",
       "    <tr>\n",
       "      <th>2</th>\n",
       "      <td>20</td>\n",
       "      <td>RL</td>\n",
       "      <td>80.0</td>\n",
       "      <td>9600</td>\n",
       "      <td>Pave</td>\n",
       "      <td>NaN</td>\n",
       "      <td>Reg</td>\n",
       "      <td>Lvl</td>\n",
       "      <td>AllPub</td>\n",
       "      <td>FR2</td>\n",
       "      <td>...</td>\n",
       "      <td>0</td>\n",
       "      <td>NaN</td>\n",
       "      <td>NaN</td>\n",
       "      <td>NaN</td>\n",
       "      <td>0</td>\n",
       "      <td>5</td>\n",
       "      <td>2007</td>\n",
       "      <td>WD</td>\n",
       "      <td>Normal</td>\n",
       "      <td>181500</td>\n",
       "    </tr>\n",
       "    <tr>\n",
       "      <th>3</th>\n",
       "      <td>60</td>\n",
       "      <td>RL</td>\n",
       "      <td>68.0</td>\n",
       "      <td>11250</td>\n",
       "      <td>Pave</td>\n",
       "      <td>NaN</td>\n",
       "      <td>IR1</td>\n",
       "      <td>Lvl</td>\n",
       "      <td>AllPub</td>\n",
       "      <td>Inside</td>\n",
       "      <td>...</td>\n",
       "      <td>0</td>\n",
       "      <td>NaN</td>\n",
       "      <td>NaN</td>\n",
       "      <td>NaN</td>\n",
       "      <td>0</td>\n",
       "      <td>9</td>\n",
       "      <td>2008</td>\n",
       "      <td>WD</td>\n",
       "      <td>Normal</td>\n",
       "      <td>223500</td>\n",
       "    </tr>\n",
       "    <tr>\n",
       "      <th>4</th>\n",
       "      <td>70</td>\n",
       "      <td>RL</td>\n",
       "      <td>60.0</td>\n",
       "      <td>9550</td>\n",
       "      <td>Pave</td>\n",
       "      <td>NaN</td>\n",
       "      <td>IR1</td>\n",
       "      <td>Lvl</td>\n",
       "      <td>AllPub</td>\n",
       "      <td>Corner</td>\n",
       "      <td>...</td>\n",
       "      <td>0</td>\n",
       "      <td>NaN</td>\n",
       "      <td>NaN</td>\n",
       "      <td>NaN</td>\n",
       "      <td>0</td>\n",
       "      <td>2</td>\n",
       "      <td>2006</td>\n",
       "      <td>WD</td>\n",
       "      <td>Abnorml</td>\n",
       "      <td>140000</td>\n",
       "    </tr>\n",
       "    <tr>\n",
       "      <th>5</th>\n",
       "      <td>60</td>\n",
       "      <td>RL</td>\n",
       "      <td>84.0</td>\n",
       "      <td>14260</td>\n",
       "      <td>Pave</td>\n",
       "      <td>NaN</td>\n",
       "      <td>IR1</td>\n",
       "      <td>Lvl</td>\n",
       "      <td>AllPub</td>\n",
       "      <td>FR2</td>\n",
       "      <td>...</td>\n",
       "      <td>0</td>\n",
       "      <td>NaN</td>\n",
       "      <td>NaN</td>\n",
       "      <td>NaN</td>\n",
       "      <td>0</td>\n",
       "      <td>12</td>\n",
       "      <td>2008</td>\n",
       "      <td>WD</td>\n",
       "      <td>Normal</td>\n",
       "      <td>250000</td>\n",
       "    </tr>\n",
       "  </tbody>\n",
       "</table>\n",
       "<p>5 rows × 80 columns</p>\n",
       "</div>"
      ],
      "text/plain": [
       "    MSSubClass MSZoning  LotFrontage  LotArea Street Alley LotShape  \\\n",
       "Id                                                                    \n",
       "1           60       RL         65.0     8450   Pave   NaN      Reg   \n",
       "2           20       RL         80.0     9600   Pave   NaN      Reg   \n",
       "3           60       RL         68.0    11250   Pave   NaN      IR1   \n",
       "4           70       RL         60.0     9550   Pave   NaN      IR1   \n",
       "5           60       RL         84.0    14260   Pave   NaN      IR1   \n",
       "\n",
       "   LandContour Utilities LotConfig  ... PoolArea PoolQC Fence MiscFeature  \\\n",
       "Id                                  ...                                     \n",
       "1          Lvl    AllPub    Inside  ...        0    NaN   NaN         NaN   \n",
       "2          Lvl    AllPub       FR2  ...        0    NaN   NaN         NaN   \n",
       "3          Lvl    AllPub    Inside  ...        0    NaN   NaN         NaN   \n",
       "4          Lvl    AllPub    Corner  ...        0    NaN   NaN         NaN   \n",
       "5          Lvl    AllPub       FR2  ...        0    NaN   NaN         NaN   \n",
       "\n",
       "   MiscVal MoSold  YrSold  SaleType  SaleCondition  SalePrice  \n",
       "Id                                                             \n",
       "1        0      2    2008        WD         Normal     208500  \n",
       "2        0      5    2007        WD         Normal     181500  \n",
       "3        0      9    2008        WD         Normal     223500  \n",
       "4        0      2    2006        WD        Abnorml     140000  \n",
       "5        0     12    2008        WD         Normal     250000  \n",
       "\n",
       "[5 rows x 80 columns]"
      ]
     },
     "execution_count": 4,
     "metadata": {},
     "output_type": "execute_result"
    }
   ],
   "source": [
    "train_data = pd.read_csv(\"/kaggle/input/house-prices-advanced-regression-techniques/train.csv\", index_col='Id')\n",
    "train_data.head()"
   ]
  },
  {
   "cell_type": "markdown",
   "id": "26103909",
   "metadata": {
    "papermill": {
     "duration": 0.062627,
     "end_time": "2021-10-23T11:12:54.904430",
     "exception": false,
     "start_time": "2021-10-23T11:12:54.841803",
     "status": "completed"
    },
    "tags": []
   },
   "source": [
    "Podemos ver que existen tanto características categóricas como numéricas.\n",
    "\n",
    "Además las características numéricas están en rangos muy diversos, esto va a suponer un problema. - > Usar **estandarización**"
   ]
  },
  {
   "cell_type": "markdown",
   "id": "935d4cb8",
   "metadata": {
    "papermill": {
     "duration": 0.061405,
     "end_time": "2021-10-23T11:12:55.028766",
     "exception": false,
     "start_time": "2021-10-23T11:12:54.967361",
     "status": "completed"
    },
    "tags": []
   },
   "source": [
    "En esta celda cargamos el archivo test.csv, contiene información de nuevas viviendas. A partir de los patrones de train.csv, se va predecir el precio de la vivienda."
   ]
  },
  {
   "cell_type": "code",
   "execution_count": 5,
   "id": "2d401b2b",
   "metadata": {
    "execution": {
     "iopub.execute_input": "2021-10-23T11:12:55.159193Z",
     "iopub.status.busy": "2021-10-23T11:12:55.158170Z",
     "iopub.status.idle": "2021-10-23T11:12:55.220663Z",
     "shell.execute_reply": "2021-10-23T11:12:55.221296Z",
     "shell.execute_reply.started": "2021-10-23T11:10:40.731517Z"
    },
    "papermill": {
     "duration": 0.129879,
     "end_time": "2021-10-23T11:12:55.221475",
     "exception": false,
     "start_time": "2021-10-23T11:12:55.091596",
     "status": "completed"
    },
    "tags": []
   },
   "outputs": [
    {
     "data": {
      "text/html": [
       "<div>\n",
       "<style scoped>\n",
       "    .dataframe tbody tr th:only-of-type {\n",
       "        vertical-align: middle;\n",
       "    }\n",
       "\n",
       "    .dataframe tbody tr th {\n",
       "        vertical-align: top;\n",
       "    }\n",
       "\n",
       "    .dataframe thead th {\n",
       "        text-align: right;\n",
       "    }\n",
       "</style>\n",
       "<table border=\"1\" class=\"dataframe\">\n",
       "  <thead>\n",
       "    <tr style=\"text-align: right;\">\n",
       "      <th></th>\n",
       "      <th>MSSubClass</th>\n",
       "      <th>MSZoning</th>\n",
       "      <th>LotFrontage</th>\n",
       "      <th>LotArea</th>\n",
       "      <th>Street</th>\n",
       "      <th>Alley</th>\n",
       "      <th>LotShape</th>\n",
       "      <th>LandContour</th>\n",
       "      <th>Utilities</th>\n",
       "      <th>LotConfig</th>\n",
       "      <th>...</th>\n",
       "      <th>ScreenPorch</th>\n",
       "      <th>PoolArea</th>\n",
       "      <th>PoolQC</th>\n",
       "      <th>Fence</th>\n",
       "      <th>MiscFeature</th>\n",
       "      <th>MiscVal</th>\n",
       "      <th>MoSold</th>\n",
       "      <th>YrSold</th>\n",
       "      <th>SaleType</th>\n",
       "      <th>SaleCondition</th>\n",
       "    </tr>\n",
       "    <tr>\n",
       "      <th>Id</th>\n",
       "      <th></th>\n",
       "      <th></th>\n",
       "      <th></th>\n",
       "      <th></th>\n",
       "      <th></th>\n",
       "      <th></th>\n",
       "      <th></th>\n",
       "      <th></th>\n",
       "      <th></th>\n",
       "      <th></th>\n",
       "      <th></th>\n",
       "      <th></th>\n",
       "      <th></th>\n",
       "      <th></th>\n",
       "      <th></th>\n",
       "      <th></th>\n",
       "      <th></th>\n",
       "      <th></th>\n",
       "      <th></th>\n",
       "      <th></th>\n",
       "      <th></th>\n",
       "    </tr>\n",
       "  </thead>\n",
       "  <tbody>\n",
       "    <tr>\n",
       "      <th>1461</th>\n",
       "      <td>20</td>\n",
       "      <td>RH</td>\n",
       "      <td>80.0</td>\n",
       "      <td>11622</td>\n",
       "      <td>Pave</td>\n",
       "      <td>NaN</td>\n",
       "      <td>Reg</td>\n",
       "      <td>Lvl</td>\n",
       "      <td>AllPub</td>\n",
       "      <td>Inside</td>\n",
       "      <td>...</td>\n",
       "      <td>120</td>\n",
       "      <td>0</td>\n",
       "      <td>NaN</td>\n",
       "      <td>MnPrv</td>\n",
       "      <td>NaN</td>\n",
       "      <td>0</td>\n",
       "      <td>6</td>\n",
       "      <td>2010</td>\n",
       "      <td>WD</td>\n",
       "      <td>Normal</td>\n",
       "    </tr>\n",
       "    <tr>\n",
       "      <th>1462</th>\n",
       "      <td>20</td>\n",
       "      <td>RL</td>\n",
       "      <td>81.0</td>\n",
       "      <td>14267</td>\n",
       "      <td>Pave</td>\n",
       "      <td>NaN</td>\n",
       "      <td>IR1</td>\n",
       "      <td>Lvl</td>\n",
       "      <td>AllPub</td>\n",
       "      <td>Corner</td>\n",
       "      <td>...</td>\n",
       "      <td>0</td>\n",
       "      <td>0</td>\n",
       "      <td>NaN</td>\n",
       "      <td>NaN</td>\n",
       "      <td>Gar2</td>\n",
       "      <td>12500</td>\n",
       "      <td>6</td>\n",
       "      <td>2010</td>\n",
       "      <td>WD</td>\n",
       "      <td>Normal</td>\n",
       "    </tr>\n",
       "    <tr>\n",
       "      <th>1463</th>\n",
       "      <td>60</td>\n",
       "      <td>RL</td>\n",
       "      <td>74.0</td>\n",
       "      <td>13830</td>\n",
       "      <td>Pave</td>\n",
       "      <td>NaN</td>\n",
       "      <td>IR1</td>\n",
       "      <td>Lvl</td>\n",
       "      <td>AllPub</td>\n",
       "      <td>Inside</td>\n",
       "      <td>...</td>\n",
       "      <td>0</td>\n",
       "      <td>0</td>\n",
       "      <td>NaN</td>\n",
       "      <td>MnPrv</td>\n",
       "      <td>NaN</td>\n",
       "      <td>0</td>\n",
       "      <td>3</td>\n",
       "      <td>2010</td>\n",
       "      <td>WD</td>\n",
       "      <td>Normal</td>\n",
       "    </tr>\n",
       "    <tr>\n",
       "      <th>1464</th>\n",
       "      <td>60</td>\n",
       "      <td>RL</td>\n",
       "      <td>78.0</td>\n",
       "      <td>9978</td>\n",
       "      <td>Pave</td>\n",
       "      <td>NaN</td>\n",
       "      <td>IR1</td>\n",
       "      <td>Lvl</td>\n",
       "      <td>AllPub</td>\n",
       "      <td>Inside</td>\n",
       "      <td>...</td>\n",
       "      <td>0</td>\n",
       "      <td>0</td>\n",
       "      <td>NaN</td>\n",
       "      <td>NaN</td>\n",
       "      <td>NaN</td>\n",
       "      <td>0</td>\n",
       "      <td>6</td>\n",
       "      <td>2010</td>\n",
       "      <td>WD</td>\n",
       "      <td>Normal</td>\n",
       "    </tr>\n",
       "    <tr>\n",
       "      <th>1465</th>\n",
       "      <td>120</td>\n",
       "      <td>RL</td>\n",
       "      <td>43.0</td>\n",
       "      <td>5005</td>\n",
       "      <td>Pave</td>\n",
       "      <td>NaN</td>\n",
       "      <td>IR1</td>\n",
       "      <td>HLS</td>\n",
       "      <td>AllPub</td>\n",
       "      <td>Inside</td>\n",
       "      <td>...</td>\n",
       "      <td>144</td>\n",
       "      <td>0</td>\n",
       "      <td>NaN</td>\n",
       "      <td>NaN</td>\n",
       "      <td>NaN</td>\n",
       "      <td>0</td>\n",
       "      <td>1</td>\n",
       "      <td>2010</td>\n",
       "      <td>WD</td>\n",
       "      <td>Normal</td>\n",
       "    </tr>\n",
       "  </tbody>\n",
       "</table>\n",
       "<p>5 rows × 79 columns</p>\n",
       "</div>"
      ],
      "text/plain": [
       "      MSSubClass MSZoning  LotFrontage  LotArea Street Alley LotShape  \\\n",
       "Id                                                                      \n",
       "1461          20       RH         80.0    11622   Pave   NaN      Reg   \n",
       "1462          20       RL         81.0    14267   Pave   NaN      IR1   \n",
       "1463          60       RL         74.0    13830   Pave   NaN      IR1   \n",
       "1464          60       RL         78.0     9978   Pave   NaN      IR1   \n",
       "1465         120       RL         43.0     5005   Pave   NaN      IR1   \n",
       "\n",
       "     LandContour Utilities LotConfig  ... ScreenPorch PoolArea PoolQC  Fence  \\\n",
       "Id                                    ...                                      \n",
       "1461         Lvl    AllPub    Inside  ...         120        0    NaN  MnPrv   \n",
       "1462         Lvl    AllPub    Corner  ...           0        0    NaN    NaN   \n",
       "1463         Lvl    AllPub    Inside  ...           0        0    NaN  MnPrv   \n",
       "1464         Lvl    AllPub    Inside  ...           0        0    NaN    NaN   \n",
       "1465         HLS    AllPub    Inside  ...         144        0    NaN    NaN   \n",
       "\n",
       "     MiscFeature MiscVal  MoSold  YrSold  SaleType  SaleCondition  \n",
       "Id                                                                 \n",
       "1461         NaN       0       6    2010        WD         Normal  \n",
       "1462        Gar2   12500       6    2010        WD         Normal  \n",
       "1463         NaN       0       3    2010        WD         Normal  \n",
       "1464         NaN       0       6    2010        WD         Normal  \n",
       "1465         NaN       0       1    2010        WD         Normal  \n",
       "\n",
       "[5 rows x 79 columns]"
      ]
     },
     "execution_count": 5,
     "metadata": {},
     "output_type": "execute_result"
    }
   ],
   "source": [
    "test_data = pd.read_csv(\"/kaggle/input/house-prices-advanced-regression-techniques/test.csv\", index_col='Id')\n",
    "test_data.head()"
   ]
  },
  {
   "cell_type": "markdown",
   "id": "979bd4dd",
   "metadata": {
    "papermill": {
     "duration": 0.061932,
     "end_time": "2021-10-23T11:12:55.345758",
     "exception": false,
     "start_time": "2021-10-23T11:12:55.283826",
     "status": "completed"
    },
    "tags": []
   },
   "source": [
    "Importamos las librerías necesarias para nuestro modelo que vamos a utilizar"
   ]
  },
  {
   "cell_type": "code",
   "execution_count": 6,
   "id": "5772ac39",
   "metadata": {
    "execution": {
     "iopub.execute_input": "2021-10-23T11:12:55.476629Z",
     "iopub.status.busy": "2021-10-23T11:12:55.475624Z",
     "iopub.status.idle": "2021-10-23T11:12:55.478740Z",
     "shell.execute_reply": "2021-10-23T11:12:55.478082Z",
     "shell.execute_reply.started": "2021-10-23T11:10:40.779169Z"
    },
    "papermill": {
     "duration": 0.070888,
     "end_time": "2021-10-23T11:12:55.478900",
     "exception": false,
     "start_time": "2021-10-23T11:12:55.408012",
     "status": "completed"
    },
    "tags": []
   },
   "outputs": [],
   "source": [
    "from sklearn.preprocessing import StandardScaler \n",
    "from sklearn.model_selection import train_test_split\n",
    "from keras.models import Sequential\n",
    "from keras.layers import Dense, Dropout\n",
    "from keras import metrics"
   ]
  },
  {
   "cell_type": "markdown",
   "id": "d82292ee",
   "metadata": {
    "papermill": {
     "duration": 0.06171,
     "end_time": "2021-10-23T11:12:55.603076",
     "exception": false,
     "start_time": "2021-10-23T11:12:55.541366",
     "status": "completed"
    },
    "tags": []
   },
   "source": [
    "El método describe() devuelve información estadística de los datos del dataframe. Miramos la información que nos devuelve la columna que funciona como etiqueta del modelo."
   ]
  },
  {
   "cell_type": "code",
   "execution_count": 7,
   "id": "134cc651",
   "metadata": {
    "execution": {
     "iopub.execute_input": "2021-10-23T11:12:55.737117Z",
     "iopub.status.busy": "2021-10-23T11:12:55.736252Z",
     "iopub.status.idle": "2021-10-23T11:12:55.745040Z",
     "shell.execute_reply": "2021-10-23T11:12:55.745631Z",
     "shell.execute_reply.started": "2021-10-23T11:10:40.784731Z"
    },
    "papermill": {
     "duration": 0.080686,
     "end_time": "2021-10-23T11:12:55.745842",
     "exception": false,
     "start_time": "2021-10-23T11:12:55.665156",
     "status": "completed"
    },
    "tags": []
   },
   "outputs": [
    {
     "data": {
      "text/plain": [
       "count      1460.000000\n",
       "mean     180921.195890\n",
       "std       79442.502883\n",
       "min       34900.000000\n",
       "25%      129975.000000\n",
       "50%      163000.000000\n",
       "75%      214000.000000\n",
       "max      755000.000000\n",
       "Name: SalePrice, dtype: float64"
      ]
     },
     "execution_count": 7,
     "metadata": {},
     "output_type": "execute_result"
    }
   ],
   "source": [
    "train_data['SalePrice'].describe()"
   ]
  },
  {
   "cell_type": "markdown",
   "id": "5eb2993d",
   "metadata": {
    "papermill": {
     "duration": 0.062675,
     "end_time": "2021-10-23T11:12:55.871505",
     "exception": false,
     "start_time": "2021-10-23T11:12:55.808830",
     "status": "completed"
    },
    "tags": []
   },
   "source": [
    "Realizamos un gráfico de la proporción en los precios de las distintas viviendas"
   ]
  },
  {
   "cell_type": "code",
   "execution_count": 8,
   "id": "7972ae3f",
   "metadata": {
    "execution": {
     "iopub.execute_input": "2021-10-23T11:12:56.002466Z",
     "iopub.status.busy": "2021-10-23T11:12:56.001740Z",
     "iopub.status.idle": "2021-10-23T11:12:56.411725Z",
     "shell.execute_reply": "2021-10-23T11:12:56.410436Z",
     "shell.execute_reply.started": "2021-10-23T11:10:40.820045Z"
    },
    "papermill": {
     "duration": 0.477489,
     "end_time": "2021-10-23T11:12:56.411898",
     "exception": false,
     "start_time": "2021-10-23T11:12:55.934409",
     "status": "completed"
    },
    "tags": []
   },
   "outputs": [
    {
     "data": {
      "image/png": "[encoded data removed]",
      "text/plain": [
       "<Figure size 432x288 with 1 Axes>"
      ]
     },
     "metadata": {
      "needs_background": "light"
     },
     "output_type": "display_data"
    }
   ],
   "source": [
    "sns.distplot(train_data['SalePrice'], color=\"orange\");"
   ]
  },
  {
   "cell_type": "markdown",
   "id": "5af52249",
   "metadata": {
    "papermill": {
     "duration": 0.063594,
     "end_time": "2021-10-23T11:12:56.540315",
     "exception": false,
     "start_time": "2021-10-23T11:12:56.476721",
     "status": "completed"
    },
    "tags": []
   },
   "source": [
    "Vamos a mirar la correlación entre caracterísiticas con nuestro heatmap."
   ]
  },
  {
   "cell_type": "code",
   "execution_count": 9,
   "id": "51fc92db",
   "metadata": {
    "execution": {
     "iopub.execute_input": "2021-10-23T11:12:56.673757Z",
     "iopub.status.busy": "2021-10-23T11:12:56.673055Z",
     "iopub.status.idle": "2021-10-23T11:12:57.697933Z",
     "shell.execute_reply": "2021-10-23T11:12:57.698511Z",
     "shell.execute_reply.started": "2021-10-23T11:10:41.198397Z"
    },
    "papermill": {
     "duration": 1.09287,
     "end_time": "2021-10-23T11:12:57.698714",
     "exception": false,
     "start_time": "2021-10-23T11:12:56.605844",
     "status": "completed"
    },
    "tags": []
   },
   "outputs": [
    {
     "data": {
      "image/png": "[encoded data removed]",
      "text/plain": [
       "<Figure size 720x576 with 2 Axes>"
      ]
     },
     "metadata": {
      "needs_background": "light"
     },
     "output_type": "display_data"
    }
   ],
   "source": [
    "corrmat = train_data.corr()\n",
    "f, ax = plt.subplots(figsize=(30, 25))\n",
    "sns.heatmap(corrmat, vmax=.8, square=True, cmap='RdYlGn',linewidths=0.4);\n",
    "fig=plt.gcf()\n",
    "fig.set_size_inches(10,8)\n",
    "plt.show()"
   ]
  },
  {
   "cell_type": "markdown",
   "id": "6d96ca8b",
   "metadata": {
    "papermill": {
     "duration": 0.06654,
     "end_time": "2021-10-23T11:12:57.832643",
     "exception": false,
     "start_time": "2021-10-23T11:12:57.766103",
     "status": "completed"
    },
    "tags": []
   },
   "source": [
    "- POSITIVE CORRELATION: If an increase in feature A leads to increase in feature B, then they are positively correlated. A value 1 means perfect positive correlation.\n",
    "\n",
    "- NEGATIVE CORRELATION: If an increase in feature A leads to decrease in feature B, then they are negatively correlated. A value -1 means perfect negative correlation.\n",
    "\n",
    "Si dos características están correlacionadas positivamente, indica que la información que contienen es muy similar. Esto se conoce como MultiColinearity.\n",
    "\n",
    "A lo mejor esa información es rebundante y no necesitamos usarla. En el proceso de entrenamiento debemos intentar eliminar este tipo de información."
   ]
  },
  {
   "cell_type": "markdown",
   "id": "a4706977",
   "metadata": {
    "papermill": {
     "duration": 0.065351,
     "end_time": "2021-10-23T11:12:57.963907",
     "exception": false,
     "start_time": "2021-10-23T11:12:57.898556",
     "status": "completed"
    },
    "tags": []
   },
   "source": [
    "DECIDIMOS MANTENER ESTAS CARACTERÍSTICAS PARA NUESTRO MODELO\n",
    "\n",
    "- SalePrice \n",
    "- OverallQual\n",
    "- GrLivArea\n",
    "- GarageCars\n",
    "- TotalBsmtSF\n",
    "- FullBath\n",
    "- YearBuilt"
   ]
  },
  {
   "cell_type": "markdown",
   "id": "2167e36c",
   "metadata": {
    "papermill": {
     "duration": 0.065454,
     "end_time": "2021-10-23T11:12:58.095812",
     "exception": false,
     "start_time": "2021-10-23T11:12:58.030358",
     "status": "completed"
    },
    "tags": []
   },
   "source": [
    "Intentamos encontrar las relaciones entre las variables que mantenemos"
   ]
  },
  {
   "cell_type": "code",
   "execution_count": 10,
   "id": "388814dd",
   "metadata": {
    "execution": {
     "iopub.execute_input": "2021-10-23T11:12:58.231639Z",
     "iopub.status.busy": "2021-10-23T11:12:58.230953Z",
     "iopub.status.idle": "2021-10-23T11:13:08.581610Z",
     "shell.execute_reply": "2021-10-23T11:13:08.582161Z",
     "shell.execute_reply.started": "2021-10-23T11:10:42.327662Z"
    },
    "papermill": {
     "duration": 10.420156,
     "end_time": "2021-10-23T11:13:08.582335",
     "exception": false,
     "start_time": "2021-10-23T11:12:58.162179",
     "status": "completed"
    },
    "tags": []
   },
   "outputs": [
    {
     "data": {
      "image/png": "[encoded data removed]",
      "text/plain": [
       "<Figure size 1260x1260 with 56 Axes>"
      ]
     },
     "metadata": {},
     "output_type": "display_data"
    }
   ],
   "source": [
    "sns.set()\n",
    "cols = ['SalePrice', 'OverallQual', 'GrLivArea', 'GarageCars', 'TotalBsmtSF', 'FullBath', 'YearBuilt']\n",
    "sns.pairplot(train_data[cols], size = 2.5)\n",
    "plt.show();"
   ]
  },
  {
   "cell_type": "markdown",
   "id": "78fa5570",
   "metadata": {
    "papermill": {
     "duration": 0.075818,
     "end_time": "2021-10-23T11:13:08.733669",
     "exception": false,
     "start_time": "2021-10-23T11:13:08.657851",
     "status": "completed"
    },
    "tags": []
   },
   "source": [
    "Vamos a comenzar a controlar el total de los valores nulos de las celdas."
   ]
  },
  {
   "cell_type": "code",
   "execution_count": 11,
   "id": "391a5749",
   "metadata": {
    "execution": {
     "iopub.execute_input": "2021-10-23T11:13:08.888513Z",
     "iopub.status.busy": "2021-10-23T11:13:08.887698Z",
     "iopub.status.idle": "2021-10-23T11:13:08.903047Z",
     "shell.execute_reply": "2021-10-23T11:13:08.903602Z",
     "shell.execute_reply.started": "2021-10-23T11:10:52.236116Z"
    },
    "papermill": {
     "duration": 0.094329,
     "end_time": "2021-10-23T11:13:08.903803",
     "exception": false,
     "start_time": "2021-10-23T11:13:08.809474",
     "status": "completed"
    },
    "tags": []
   },
   "outputs": [
    {
     "name": "stdout",
     "output_type": "stream",
     "text": [
      "Columnas nulas en conjunto de entrenamiento MSSubClass         0\n",
      "MSZoning           0\n",
      "LotFrontage      259\n",
      "LotArea            0\n",
      "Street             0\n",
      "                ... \n",
      "MoSold             0\n",
      "YrSold             0\n",
      "SaleType           0\n",
      "SaleCondition      0\n",
      "SalePrice          0\n",
      "Length: 80, dtype: int64\n"
     ]
    }
   ],
   "source": [
    "print(\"Columnas nulas en conjunto de entrenamiento\", train_data.isnull().sum())"
   ]
  },
  {
   "cell_type": "markdown",
   "id": "0f0d8778",
   "metadata": {
    "papermill": {
     "duration": 0.076147,
     "end_time": "2021-10-23T11:13:09.057972",
     "exception": false,
     "start_time": "2021-10-23T11:13:08.981825",
     "status": "completed"
    },
    "tags": []
   },
   "source": [
    "Tenemos 80 columnas de características y 1460 instancias de datos"
   ]
  },
  {
   "cell_type": "code",
   "execution_count": 12,
   "id": "55eccb69",
   "metadata": {
    "execution": {
     "iopub.execute_input": "2021-10-23T11:13:09.218492Z",
     "iopub.status.busy": "2021-10-23T11:13:09.217668Z",
     "iopub.status.idle": "2021-10-23T11:13:09.222235Z",
     "shell.execute_reply": "2021-10-23T11:13:09.222969Z",
     "shell.execute_reply.started": "2021-10-23T11:10:52.253843Z"
    },
    "papermill": {
     "duration": 0.087173,
     "end_time": "2021-10-23T11:13:09.223204",
     "exception": false,
     "start_time": "2021-10-23T11:13:09.136031",
     "status": "completed"
    },
    "tags": []
   },
   "outputs": [
    {
     "name": "stdout",
     "output_type": "stream",
     "text": [
      "Tamaño del dataset de entrenamiento (1460, 80)\n"
     ]
    },
    {
     "data": {
      "text/plain": [
       "(1460, 80)"
      ]
     },
     "execution_count": 12,
     "metadata": {},
     "output_type": "execute_result"
    }
   ],
   "source": [
    "print(\"Tamaño del dataset de entrenamiento\", train_data.shape)\n",
    "train_data.shape"
   ]
  },
  {
   "cell_type": "markdown",
   "id": "bad3a81f",
   "metadata": {
    "papermill": {
     "duration": 0.0759,
     "end_time": "2021-10-23T11:13:09.378032",
     "exception": false,
     "start_time": "2021-10-23T11:13:09.302132",
     "status": "completed"
    },
    "tags": []
   },
   "source": [
    "En el conjunto de datos de test tenemos 79 características, ya que no contamos con la etiqueta final"
   ]
  },
  {
   "cell_type": "code",
   "execution_count": 13,
   "id": "e2b0b9fa",
   "metadata": {
    "execution": {
     "iopub.execute_input": "2021-10-23T11:13:09.535105Z",
     "iopub.status.busy": "2021-10-23T11:13:09.534400Z",
     "iopub.status.idle": "2021-10-23T11:13:09.540514Z",
     "shell.execute_reply": "2021-10-23T11:13:09.541097Z",
     "shell.execute_reply.started": "2021-10-23T11:10:52.266090Z"
    },
    "papermill": {
     "duration": 0.085881,
     "end_time": "2021-10-23T11:13:09.541286",
     "exception": false,
     "start_time": "2021-10-23T11:13:09.455405",
     "status": "completed"
    },
    "tags": []
   },
   "outputs": [
    {
     "name": "stdout",
     "output_type": "stream",
     "text": [
      "Tamaño del dataset de prueba (1459, 79)\n"
     ]
    },
    {
     "data": {
      "text/plain": [
       "(1459, 79)"
      ]
     },
     "execution_count": 13,
     "metadata": {},
     "output_type": "execute_result"
    }
   ],
   "source": [
    "print(\"Tamaño del dataset de prueba\", test_data.shape)\n",
    "test_data.shape"
   ]
  },
  {
   "cell_type": "markdown",
   "id": "6b8de327",
   "metadata": {
    "papermill": {
     "duration": 0.077244,
     "end_time": "2021-10-23T11:13:09.696203",
     "exception": false,
     "start_time": "2021-10-23T11:13:09.618959",
     "status": "completed"
    },
    "tags": []
   },
   "source": [
    "Contamos el número de valores nulos para cada columnas y el porcentaje que representan.\n",
    "\n",
    "Creamos una tabla con los valores."
   ]
  },
  {
   "cell_type": "code",
   "execution_count": 14,
   "id": "5e278a39",
   "metadata": {
    "execution": {
     "iopub.execute_input": "2021-10-23T11:13:09.854990Z",
     "iopub.status.busy": "2021-10-23T11:13:09.854272Z",
     "iopub.status.idle": "2021-10-23T11:13:09.895333Z",
     "shell.execute_reply": "2021-10-23T11:13:09.894639Z",
     "shell.execute_reply.started": "2021-10-23T11:10:52.279073Z"
    },
    "papermill": {
     "duration": 0.121508,
     "end_time": "2021-10-23T11:13:09.895484",
     "exception": false,
     "start_time": "2021-10-23T11:13:09.773976",
     "status": "completed"
    },
    "tags": []
   },
   "outputs": [
    {
     "data": {
      "text/html": [
       "<div>\n",
       "<style scoped>\n",
       "    .dataframe tbody tr th:only-of-type {\n",
       "        vertical-align: middle;\n",
       "    }\n",
       "\n",
       "    .dataframe tbody tr th {\n",
       "        vertical-align: top;\n",
       "    }\n",
       "\n",
       "    .dataframe thead th {\n",
       "        text-align: right;\n",
       "    }\n",
       "</style>\n",
       "<table border=\"1\" class=\"dataframe\">\n",
       "  <thead>\n",
       "    <tr style=\"text-align: right;\">\n",
       "      <th></th>\n",
       "      <th>Total</th>\n",
       "      <th>Porcentaje</th>\n",
       "    </tr>\n",
       "  </thead>\n",
       "  <tbody>\n",
       "    <tr>\n",
       "      <th>PoolQC</th>\n",
       "      <td>1453</td>\n",
       "      <td>0.995205</td>\n",
       "    </tr>\n",
       "    <tr>\n",
       "      <th>MiscFeature</th>\n",
       "      <td>1406</td>\n",
       "      <td>0.963014</td>\n",
       "    </tr>\n",
       "    <tr>\n",
       "      <th>Alley</th>\n",
       "      <td>1369</td>\n",
       "      <td>0.937671</td>\n",
       "    </tr>\n",
       "    <tr>\n",
       "      <th>Fence</th>\n",
       "      <td>1179</td>\n",
       "      <td>0.807534</td>\n",
       "    </tr>\n",
       "    <tr>\n",
       "      <th>FireplaceQu</th>\n",
       "      <td>690</td>\n",
       "      <td>0.472603</td>\n",
       "    </tr>\n",
       "    <tr>\n",
       "      <th>LotFrontage</th>\n",
       "      <td>259</td>\n",
       "      <td>0.177397</td>\n",
       "    </tr>\n",
       "    <tr>\n",
       "      <th>GarageYrBlt</th>\n",
       "      <td>81</td>\n",
       "      <td>0.055479</td>\n",
       "    </tr>\n",
       "    <tr>\n",
       "      <th>GarageCond</th>\n",
       "      <td>81</td>\n",
       "      <td>0.055479</td>\n",
       "    </tr>\n",
       "    <tr>\n",
       "      <th>GarageType</th>\n",
       "      <td>81</td>\n",
       "      <td>0.055479</td>\n",
       "    </tr>\n",
       "    <tr>\n",
       "      <th>GarageFinish</th>\n",
       "      <td>81</td>\n",
       "      <td>0.055479</td>\n",
       "    </tr>\n",
       "    <tr>\n",
       "      <th>GarageQual</th>\n",
       "      <td>81</td>\n",
       "      <td>0.055479</td>\n",
       "    </tr>\n",
       "    <tr>\n",
       "      <th>BsmtExposure</th>\n",
       "      <td>38</td>\n",
       "      <td>0.026027</td>\n",
       "    </tr>\n",
       "    <tr>\n",
       "      <th>BsmtFinType2</th>\n",
       "      <td>38</td>\n",
       "      <td>0.026027</td>\n",
       "    </tr>\n",
       "    <tr>\n",
       "      <th>BsmtCond</th>\n",
       "      <td>37</td>\n",
       "      <td>0.025342</td>\n",
       "    </tr>\n",
       "    <tr>\n",
       "      <th>BsmtQual</th>\n",
       "      <td>37</td>\n",
       "      <td>0.025342</td>\n",
       "    </tr>\n",
       "    <tr>\n",
       "      <th>BsmtFinType1</th>\n",
       "      <td>37</td>\n",
       "      <td>0.025342</td>\n",
       "    </tr>\n",
       "    <tr>\n",
       "      <th>MasVnrArea</th>\n",
       "      <td>8</td>\n",
       "      <td>0.005479</td>\n",
       "    </tr>\n",
       "    <tr>\n",
       "      <th>MasVnrType</th>\n",
       "      <td>8</td>\n",
       "      <td>0.005479</td>\n",
       "    </tr>\n",
       "    <tr>\n",
       "      <th>Electrical</th>\n",
       "      <td>1</td>\n",
       "      <td>0.000685</td>\n",
       "    </tr>\n",
       "    <tr>\n",
       "      <th>MSSubClass</th>\n",
       "      <td>0</td>\n",
       "      <td>0.000000</td>\n",
       "    </tr>\n",
       "    <tr>\n",
       "      <th>Fireplaces</th>\n",
       "      <td>0</td>\n",
       "      <td>0.000000</td>\n",
       "    </tr>\n",
       "    <tr>\n",
       "      <th>Functional</th>\n",
       "      <td>0</td>\n",
       "      <td>0.000000</td>\n",
       "    </tr>\n",
       "    <tr>\n",
       "      <th>KitchenQual</th>\n",
       "      <td>0</td>\n",
       "      <td>0.000000</td>\n",
       "    </tr>\n",
       "    <tr>\n",
       "      <th>KitchenAbvGr</th>\n",
       "      <td>0</td>\n",
       "      <td>0.000000</td>\n",
       "    </tr>\n",
       "    <tr>\n",
       "      <th>BedroomAbvGr</th>\n",
       "      <td>0</td>\n",
       "      <td>0.000000</td>\n",
       "    </tr>\n",
       "  </tbody>\n",
       "</table>\n",
       "</div>"
      ],
      "text/plain": [
       "              Total  Porcentaje\n",
       "PoolQC         1453    0.995205\n",
       "MiscFeature    1406    0.963014\n",
       "Alley          1369    0.937671\n",
       "Fence          1179    0.807534\n",
       "FireplaceQu     690    0.472603\n",
       "LotFrontage     259    0.177397\n",
       "GarageYrBlt      81    0.055479\n",
       "GarageCond       81    0.055479\n",
       "GarageType       81    0.055479\n",
       "GarageFinish     81    0.055479\n",
       "GarageQual       81    0.055479\n",
       "BsmtExposure     38    0.026027\n",
       "BsmtFinType2     38    0.026027\n",
       "BsmtCond         37    0.025342\n",
       "BsmtQual         37    0.025342\n",
       "BsmtFinType1     37    0.025342\n",
       "MasVnrArea        8    0.005479\n",
       "MasVnrType        8    0.005479\n",
       "Electrical        1    0.000685\n",
       "MSSubClass        0    0.000000\n",
       "Fireplaces        0    0.000000\n",
       "Functional        0    0.000000\n",
       "KitchenQual       0    0.000000\n",
       "KitchenAbvGr      0    0.000000\n",
       "BedroomAbvGr      0    0.000000"
      ]
     },
     "execution_count": 14,
     "metadata": {},
     "output_type": "execute_result"
    }
   ],
   "source": [
    "total = train_data.isnull().sum().sort_values(ascending=False)\n",
    "porcentaje = (train_data.isnull().sum()/train_data.isnull().count()).sort_values(ascending=False)\n",
    "missing_data = pd.concat([total, porcentaje], axis=1, keys=['Total', 'Porcentaje'])\n",
    "\n",
    "#Mostramos para los primeros 25 valores\n",
    "missing_data.head(25)"
   ]
  },
  {
   "cell_type": "markdown",
   "id": "79b4b618",
   "metadata": {
    "papermill": {
     "duration": 0.079993,
     "end_time": "2021-10-23T11:13:10.054104",
     "exception": false,
     "start_time": "2021-10-23T11:13:09.974111",
     "status": "completed"
    },
    "tags": []
   },
   "source": [
    "Algunas de estas características son de interés para nosotros y no muestran una escasez masiva de datos, así que rellenamos  con la media de los valores de cada columna."
   ]
  },
  {
   "cell_type": "code",
   "execution_count": 15,
   "id": "3dd5326d",
   "metadata": {
    "execution": {
     "iopub.execute_input": "2021-10-23T11:13:10.219656Z",
     "iopub.status.busy": "2021-10-23T11:13:10.218830Z",
     "iopub.status.idle": "2021-10-23T11:13:10.253848Z",
     "shell.execute_reply": "2021-10-23T11:13:10.253161Z",
     "shell.execute_reply.started": "2021-10-23T11:10:52.322968Z"
    },
    "papermill": {
     "duration": 0.120189,
     "end_time": "2021-10-23T11:13:10.254002",
     "exception": false,
     "start_time": "2021-10-23T11:13:10.133813",
     "status": "completed"
    },
    "tags": []
   },
   "outputs": [],
   "source": [
    "train_data = train_data.fillna(train_data.mean())"
   ]
  },
  {
   "cell_type": "markdown",
   "id": "27d7dc76",
   "metadata": {
    "papermill": {
     "duration": 0.077795,
     "end_time": "2021-10-23T11:13:10.410908",
     "exception": false,
     "start_time": "2021-10-23T11:13:10.333113",
     "status": "completed"
    },
    "tags": []
   },
   "source": [
    "Ahora debemos eliminar los valores atípicos, por ejemplo, los datos que no coinciden con lo que esperamos.\n",
    "\n",
    "Para hacer esto, estandarizamos los datos para que la media sea 0 y una desviación estándar de 1.\n",
    "\n",
    "StandardScaler realiza la tarea de Estandarización para la característica de salida \"SalePrice\""
   ]
  },
  {
   "cell_type": "code",
   "execution_count": 16,
   "id": "3a55dd38",
   "metadata": {
    "execution": {
     "iopub.execute_input": "2021-10-23T11:13:10.575089Z",
     "iopub.status.busy": "2021-10-23T11:13:10.574323Z",
     "iopub.status.idle": "2021-10-23T11:13:10.580849Z",
     "shell.execute_reply": "2021-10-23T11:13:10.580212Z",
     "shell.execute_reply.started": "2021-10-23T11:10:52.364680Z"
    },
    "papermill": {
     "duration": 0.092409,
     "end_time": "2021-10-23T11:13:10.581001",
     "exception": false,
     "start_time": "2021-10-23T11:13:10.488592",
     "status": "completed"
    },
    "tags": []
   },
   "outputs": [
    {
     "name": "stdout",
     "output_type": "stream",
     "text": [
      "Rangos de la distribución bajo\n",
      "[[-1.83870376]\n",
      " [-1.83352844]\n",
      " [-1.80092766]\n",
      " [-1.78329881]\n",
      " [-1.77448439]\n",
      " [-1.62337999]\n",
      " [-1.61708398]\n",
      " [-1.58560389]\n",
      " [-1.58560389]\n",
      " [-1.5731    ]]\n",
      "Rangos de la distribución alto\n",
      "[[3.82897043]\n",
      " [4.04098249]\n",
      " [4.49634819]\n",
      " [4.71041276]\n",
      " [4.73032076]\n",
      " [5.06214602]\n",
      " [5.42383959]\n",
      " [5.59185509]\n",
      " [7.10289909]\n",
      " [7.22881942]]\n"
     ]
    }
   ],
   "source": [
    "saleprice_scaled = StandardScaler().fit_transform(train_data['SalePrice'][:,np.newaxis]);\n",
    "low_range = saleprice_scaled[saleprice_scaled[:,0].argsort()][:10]\n",
    "high_range= saleprice_scaled[saleprice_scaled[:,0].argsort()][-10:]\n",
    "print('Rangos de la distribución bajo')\n",
    "print(low_range)\n",
    "print('Rangos de la distribución alto')\n",
    "print(high_range)"
   ]
  },
  {
   "cell_type": "markdown",
   "id": "b44e3148",
   "metadata": {
    "papermill": {
     "duration": 0.079342,
     "end_time": "2021-10-23T11:13:10.740207",
     "exception": false,
     "start_time": "2021-10-23T11:13:10.660865",
     "status": "completed"
    },
    "tags": []
   },
   "source": [
    "- Los valores similares entre sí se mantendrán cerca de 0\n",
    "- Los valores que son un poco extraños obtienen valores altos como los 7 valores."
   ]
  },
  {
   "cell_type": "markdown",
   "id": "2d96b769",
   "metadata": {
    "papermill": {
     "duration": 0.079326,
     "end_time": "2021-10-23T11:13:10.898357",
     "exception": false,
     "start_time": "2021-10-23T11:13:10.819031",
     "status": "completed"
    },
    "tags": []
   },
   "source": [
    "En este momento gracias al análisis de características y correlación, tenemos una idea de qué tipo de datos nos interesan.\n",
    "\n",
    "Recargamos los datos en otra variable para que podamos comenzar de nuevo."
   ]
  },
  {
   "cell_type": "code",
   "execution_count": 17,
   "id": "3d89b61a",
   "metadata": {
    "execution": {
     "iopub.execute_input": "2021-10-23T11:13:11.061451Z",
     "iopub.status.busy": "2021-10-23T11:13:11.060670Z",
     "iopub.status.idle": "2021-10-23T11:13:11.082763Z",
     "shell.execute_reply": "2021-10-23T11:13:11.083279Z",
     "shell.execute_reply.started": "2021-10-23T11:10:52.377784Z"
    },
    "papermill": {
     "duration": 0.105437,
     "end_time": "2021-10-23T11:13:11.083474",
     "exception": false,
     "start_time": "2021-10-23T11:13:10.978037",
     "status": "completed"
    },
    "tags": []
   },
   "outputs": [],
   "source": [
    "df_train = pd.read_csv(\"/kaggle/input/house-prices-advanced-regression-techniques/train.csv\")"
   ]
  },
  {
   "cell_type": "markdown",
   "id": "404c34a3",
   "metadata": {
    "papermill": {
     "duration": 0.077713,
     "end_time": "2021-10-23T11:13:11.241172",
     "exception": false,
     "start_time": "2021-10-23T11:13:11.163459",
     "status": "completed"
    },
    "tags": []
   },
   "source": [
    "Una red neuronal es bastante buena para trabajar con datos no lineales. Probamos con un modelo de red neuronal"
   ]
  },
  {
   "cell_type": "markdown",
   "id": "29c066fb",
   "metadata": {
    "papermill": {
     "duration": 0.077415,
     "end_time": "2021-10-23T11:13:11.396324",
     "exception": false,
     "start_time": "2021-10-23T11:13:11.318909",
     "status": "completed"
    },
    "tags": []
   },
   "source": [
    "Creamos variables dummies. * *A dummy variable is a variable that takes values of 0 and 1, where the values indicate the presence or absence of something.*\n",
    "\n",
    "Para nuestra red necesitamos variables numéricas asi que este proceso nos sirve para la reconversión.\n",
    "\n",
    "Escogemos las columnas SalePrice, OverallQual, GrLivArea, GarageCars, FullBath y YearBuilt como características de entrada de nuestro modelo"
   ]
  },
  {
   "cell_type": "code",
   "execution_count": 18,
   "id": "4681dec0",
   "metadata": {
    "execution": {
     "iopub.execute_input": "2021-10-23T11:13:11.555970Z",
     "iopub.status.busy": "2021-10-23T11:13:11.555302Z",
     "iopub.status.idle": "2021-10-23T11:13:11.566730Z",
     "shell.execute_reply": "2021-10-23T11:13:11.567305Z",
     "shell.execute_reply.started": "2021-10-23T11:10:52.404329Z"
    },
    "papermill": {
     "duration": 0.092522,
     "end_time": "2021-10-23T11:13:11.567483",
     "exception": false,
     "start_time": "2021-10-23T11:13:11.474961",
     "status": "completed"
    },
    "tags": []
   },
   "outputs": [
    {
     "data": {
      "text/html": [
       "<div>\n",
       "<style scoped>\n",
       "    .dataframe tbody tr th:only-of-type {\n",
       "        vertical-align: middle;\n",
       "    }\n",
       "\n",
       "    .dataframe tbody tr th {\n",
       "        vertical-align: top;\n",
       "    }\n",
       "\n",
       "    .dataframe thead th {\n",
       "        text-align: right;\n",
       "    }\n",
       "</style>\n",
       "<table border=\"1\" class=\"dataframe\">\n",
       "  <thead>\n",
       "    <tr style=\"text-align: right;\">\n",
       "      <th></th>\n",
       "      <th>SalePrice</th>\n",
       "      <th>OverallQual</th>\n",
       "      <th>GrLivArea</th>\n",
       "      <th>GarageCars</th>\n",
       "      <th>FullBath</th>\n",
       "      <th>YearBuilt</th>\n",
       "    </tr>\n",
       "  </thead>\n",
       "  <tbody>\n",
       "    <tr>\n",
       "      <th>0</th>\n",
       "      <td>208500</td>\n",
       "      <td>7</td>\n",
       "      <td>1710</td>\n",
       "      <td>2</td>\n",
       "      <td>2</td>\n",
       "      <td>2003</td>\n",
       "    </tr>\n",
       "    <tr>\n",
       "      <th>1</th>\n",
       "      <td>181500</td>\n",
       "      <td>6</td>\n",
       "      <td>1262</td>\n",
       "      <td>2</td>\n",
       "      <td>2</td>\n",
       "      <td>1976</td>\n",
       "    </tr>\n",
       "    <tr>\n",
       "      <th>2</th>\n",
       "      <td>223500</td>\n",
       "      <td>7</td>\n",
       "      <td>1786</td>\n",
       "      <td>2</td>\n",
       "      <td>2</td>\n",
       "      <td>2001</td>\n",
       "    </tr>\n",
       "    <tr>\n",
       "      <th>3</th>\n",
       "      <td>140000</td>\n",
       "      <td>7</td>\n",
       "      <td>1717</td>\n",
       "      <td>3</td>\n",
       "      <td>1</td>\n",
       "      <td>1915</td>\n",
       "    </tr>\n",
       "    <tr>\n",
       "      <th>4</th>\n",
       "      <td>250000</td>\n",
       "      <td>8</td>\n",
       "      <td>2198</td>\n",
       "      <td>3</td>\n",
       "      <td>2</td>\n",
       "      <td>2000</td>\n",
       "    </tr>\n",
       "  </tbody>\n",
       "</table>\n",
       "</div>"
      ],
      "text/plain": [
       "   SalePrice  OverallQual  GrLivArea  GarageCars  FullBath  YearBuilt\n",
       "0     208500            7       1710           2         2       2003\n",
       "1     181500            6       1262           2         2       1976\n",
       "2     223500            7       1786           2         2       2001\n",
       "3     140000            7       1717           3         1       1915\n",
       "4     250000            8       2198           3         2       2000"
      ]
     },
     "execution_count": 18,
     "metadata": {},
     "output_type": "execute_result"
    }
   ],
   "source": [
    "cols = ['SalePrice','OverallQual', 'GrLivArea', 'GarageCars', 'FullBath', 'YearBuilt']\n",
    "df_train = df_train[cols]\n",
    "\n",
    "df_train.head()"
   ]
  },
  {
   "cell_type": "code",
   "execution_count": 19,
   "id": "e6628021",
   "metadata": {
    "execution": {
     "iopub.execute_input": "2021-10-23T11:13:11.728512Z",
     "iopub.status.busy": "2021-10-23T11:13:11.727751Z",
     "iopub.status.idle": "2021-10-23T11:13:11.742659Z",
     "shell.execute_reply": "2021-10-23T11:13:11.743507Z",
     "shell.execute_reply.started": "2021-10-23T11:10:52.418634Z"
    },
    "papermill": {
     "duration": 0.097842,
     "end_time": "2021-10-23T11:13:11.743763",
     "exception": false,
     "start_time": "2021-10-23T11:13:11.645921",
     "status": "completed"
    },
    "tags": []
   },
   "outputs": [],
   "source": [
    "# Creamos dummies variables\n",
    "df_train = pd.get_dummies(df_train)\n",
    "\n",
    "# Rellenamos las variables nulos con la media de cada columna\n",
    "df_train = df_train.fillna(df_train.mean())\n",
    "\n",
    "# Usar la standard scale como antes\n",
    "scale = StandardScaler()\n",
    "X_train = df_train[['OverallQual', 'GrLivArea', 'GarageCars', 'FullBath', 'YearBuilt']]\n",
    "X_train = scale.fit_transform(X_train)\n",
    "\n",
    "# Y es la columna de'SalePrice' \n",
    "y = df_train['SalePrice'].values\n",
    "seed = 7\n",
    "np.random.seed(seed)"
   ]
  },
  {
   "cell_type": "code",
   "execution_count": 20,
   "id": "35170c0c",
   "metadata": {
    "execution": {
     "iopub.execute_input": "2021-10-23T11:13:11.905476Z",
     "iopub.status.busy": "2021-10-23T11:13:11.904669Z",
     "iopub.status.idle": "2021-10-23T11:13:11.910899Z",
     "shell.execute_reply": "2021-10-23T11:13:11.911515Z",
     "shell.execute_reply.started": "2021-10-23T11:10:52.440451Z"
    },
    "papermill": {
     "duration": 0.089394,
     "end_time": "2021-10-23T11:13:11.911728",
     "exception": false,
     "start_time": "2021-10-23T11:13:11.822334",
     "status": "completed"
    },
    "tags": []
   },
   "outputs": [],
   "source": [
    "# Dividimos con nuestra función train_test_split nuestros datos en entrenamiento y validación\n",
    "X_train, X_val, y_train, y_val = train_test_split(X_train, y, test_size=0.33, random_state=seed)"
   ]
  },
  {
   "cell_type": "markdown",
   "id": "fcbfe8af",
   "metadata": {
    "papermill": {
     "duration": 0.082211,
     "end_time": "2021-10-23T11:13:12.074952",
     "exception": false,
     "start_time": "2021-10-23T11:13:11.992741",
     "status": "completed"
    },
    "tags": []
   },
   "source": [
    "Definimos nuestro modelo con las siguientes layers\n",
    "\n",
    "Añadimos como función de pérdida **mean_square_error**, que es la adecuada para un problema de regresión.\n",
    "\n",
    "También añadimos como función de **optimización Adam**\n",
    "\n",
    "Finalmente queremos obtener como métrica **el error medio absoluto** del problema."
   ]
  },
  {
   "cell_type": "markdown",
   "id": "432d8f44",
   "metadata": {
    "papermill": {
     "duration": 0.078659,
     "end_time": "2021-10-23T11:13:12.234631",
     "exception": false,
     "start_time": "2021-10-23T11:13:12.155972",
     "status": "completed"
    },
    "tags": []
   },
   "source": [
    "COMO ES UN PROBLEMA DE REGRESIÓN **NO TIENE QUE EXISTIR UNA FUNCION DE ACTIVACIÓN EN LA ÚLTIMA LAYER**\n",
    "\n",
    "QUEREMOS QUE DEVUELVA EL VALOR NÚMERICO PREDECIDO"
   ]
  },
  {
   "cell_type": "code",
   "execution_count": 21,
   "id": "88577c3e",
   "metadata": {
    "execution": {
     "iopub.execute_input": "2021-10-23T11:13:12.397516Z",
     "iopub.status.busy": "2021-10-23T11:13:12.396663Z",
     "iopub.status.idle": "2021-10-23T11:13:12.403219Z",
     "shell.execute_reply": "2021-10-23T11:13:12.403797Z",
     "shell.execute_reply.started": "2021-10-23T11:10:52.447276Z"
    },
    "papermill": {
     "duration": 0.088818,
     "end_time": "2021-10-23T11:13:12.403985",
     "exception": false,
     "start_time": "2021-10-23T11:13:12.315167",
     "status": "completed"
    },
    "tags": []
   },
   "outputs": [],
   "source": [
    "def create_model():\n",
    "    model = Sequential()\n",
    "    model.add(Dense(10, input_dim=X_train.shape[1], activation='relu'))\n",
    "    model.add(Dense(30, activation='relu'))\n",
    "    model.add(Dropout(0.1))\n",
    "    model.add(Dense(40, activation='relu'))\n",
    "    model.add(Dense(1))\n",
    "    \n",
    "    model.compile(\n",
    "        optimizer ='adam', \n",
    "        loss = 'mean_squared_error', \n",
    "        metrics =[metrics.mae]\n",
    "    )\n",
    "    \n",
    "    return model"
   ]
  },
  {
   "cell_type": "markdown",
   "id": "76c11157",
   "metadata": {
    "papermill": {
     "duration": 0.078091,
     "end_time": "2021-10-23T11:13:12.560566",
     "exception": false,
     "start_time": "2021-10-23T11:13:12.482475",
     "status": "completed"
    },
    "tags": []
   },
   "source": [
    "Comprobamos cual es el resumen de las capas de nuestro modelo. Existen 1671 parámetros a entrenar"
   ]
  },
  {
   "cell_type": "code",
   "execution_count": 22,
   "id": "c2499d41",
   "metadata": {
    "execution": {
     "iopub.execute_input": "2021-10-23T11:13:12.721544Z",
     "iopub.status.busy": "2021-10-23T11:13:12.720772Z",
     "iopub.status.idle": "2021-10-23T11:13:12.893101Z",
     "shell.execute_reply": "2021-10-23T11:13:12.892276Z",
     "shell.execute_reply.started": "2021-10-23T11:10:52.458957Z"
    },
    "papermill": {
     "duration": 0.254106,
     "end_time": "2021-10-23T11:13:12.893294",
     "exception": false,
     "start_time": "2021-10-23T11:13:12.639188",
     "status": "completed"
    },
    "tags": []
   },
   "outputs": [
    {
     "name": "stdout",
     "output_type": "stream",
     "text": [
      "Model: \"sequential\"\n",
      "_________________________________________________________________\n",
      "Layer (type)                 Output Shape              Param #   \n",
      "=================================================================\n",
      "dense (Dense)                (None, 10)                60        \n",
      "_________________________________________________________________\n",
      "dense_1 (Dense)              (None, 30)                330       \n",
      "_________________________________________________________________\n",
      "dropout (Dropout)            (None, 30)                0         \n",
      "_________________________________________________________________\n",
      "dense_2 (Dense)              (None, 40)                1240      \n",
      "_________________________________________________________________\n",
      "dense_3 (Dense)              (None, 1)                 41        \n",
      "=================================================================\n",
      "Total params: 1,671\n",
      "Trainable params: 1,671\n",
      "Non-trainable params: 0\n",
      "_________________________________________________________________\n"
     ]
    },
    {
     "name": "stderr",
     "output_type": "stream",
     "text": [
      "\n",
      "User settings:\n",
      "\n",
      "   KMP_AFFINITY=granularity=fine,verbose,compact,1,0\n",
      "   KMP_BLOCKTIME=0\n",
      "   KMP_DUPLICATE_LIB_OK=True\n",
      "   KMP_INIT_AT_FORK=FALSE\n",
      "   KMP_SETTINGS=1\n",
      "   KMP_WARNINGS=0\n",
      "\n",
      "Effective settings:\n",
      "\n",
      "   KMP_ABORT_DELAY=0\n",
      "   KMP_ADAPTIVE_LOCK_PROPS='1,1024'\n",
      "   KMP_ALIGN_ALLOC=64\n",
      "   KMP_ALL_THREADPRIVATE=128\n",
      "   KMP_ATOMIC_MODE=2\n",
      "   KMP_BLOCKTIME=0\n",
      "   KMP_CPUINFO_FILE: value is not defined\n",
      "   KMP_DETERMINISTIC_REDUCTION=false\n",
      "   KMP_DEVICE_THREAD_LIMIT=2147483647\n",
      "   KMP_DISP_NUM_BUFFERS=7\n",
      "   KMP_DUPLICATE_LIB_OK=true\n",
      "   KMP_ENABLE_TASK_THROTTLING=true\n",
      "   KMP_FORCE_REDUCTION: value is not defined\n",
      "   KMP_FOREIGN_THREADS_THREADPRIVATE=true\n",
      "   KMP_FORKJOIN_BARRIER='2,2'\n",
      "   KMP_FORKJOIN_BARRIER_PATTERN='hyper,hyper'\n",
      "   KMP_GTID_MODE=3\n",
      "   KMP_HANDLE_SIGNALS=false\n",
      "   KMP_HOT_TEAMS_MAX_LEVEL=1\n",
      "   KMP_HOT_TEAMS_MODE=0\n",
      "   KMP_INIT_AT_FORK=true\n",
      "   KMP_LIBRARY=throughput\n",
      "   KMP_LOCK_KIND=queuing\n",
      "   KMP_MALLOC_POOL_INCR=1M\n",
      "   KMP_NUM_LOCKS_IN_BLOCK=1\n",
      "   KMP_PLAIN_BARRIER='2,2'\n",
      "   KMP_PLAIN_BARRIER_PATTERN='hyper,hyper'\n",
      "   KMP_REDUCTION_BARRIER='1,1'\n",
      "   KMP_REDUCTION_BARRIER_PATTERN='hyper,hyper'\n",
      "   KMP_SCHEDULE='static,balanced;guided,iterative'\n",
      "   KMP_SETTINGS=true\n",
      "   KMP_SPIN_BACKOFF_PARAMS='4096,100'\n",
      "   KMP_STACKOFFSET=64\n",
      "   KMP_STACKPAD=0\n",
      "   KMP_STACKSIZE=8M\n",
      "   KMP_STORAGE_MAP=false\n",
      "   KMP_TASKING=2\n",
      "   KMP_TASKLOOP_MIN_TASKS=0\n",
      "   KMP_TASK_STEALING_CONSTRAINT=1\n",
      "   KMP_TEAMS_THREAD_LIMIT=4\n",
      "   KMP_TOPOLOGY_METHOD=all\n",
      "   KMP_USE_YIELD=1\n",
      "   KMP_VERSION=false\n",
      "   KMP_WARNINGS=false\n",
      "   OMP_AFFINITY_FORMAT='OMP: pid %P tid %i thread %n bound to OS proc set {%A}'\n",
      "   OMP_ALLOCATOR=omp_default_mem_alloc\n",
      "   OMP_CANCELLATION=false\n",
      "   OMP_DEFAULT_DEVICE=0\n",
      "   OMP_DISPLAY_AFFINITY=false\n",
      "   OMP_DISPLAY_ENV=false\n",
      "   OMP_DYNAMIC=false\n",
      "   OMP_MAX_ACTIVE_LEVELS=1\n",
      "   OMP_MAX_TASK_PRIORITY=0\n",
      "   OMP_NESTED: deprecated; max-active-levels-var=1\n",
      "   OMP_NUM_THREADS: value is not defined\n",
      "   OMP_PLACES: value is not defined\n",
      "   OMP_PROC_BIND='intel'\n",
      "   OMP_SCHEDULE='static'\n",
      "   OMP_STACKSIZE=8M\n",
      "   OMP_TARGET_OFFLOAD=DEFAULT\n",
      "   OMP_THREAD_LIMIT=2147483647\n",
      "   OMP_WAIT_POLICY=PASSIVE\n",
      "   KMP_AFFINITY='verbose,warnings,respect,granularity=fine,compact,1,0'\n",
      "\n",
      "2021-10-23 11:13:12.779466: I tensorflow/core/common_runtime/process_util.cc:146] Creating new thread pool with default inter op setting: 2. Tune using inter_op_parallelism_threads for best performance.\n"
     ]
    }
   ],
   "source": [
    "model = create_model()\n",
    "model.summary()"
   ]
  },
  {
   "cell_type": "code",
   "execution_count": 23,
   "id": "a094c4c4",
   "metadata": {
    "execution": {
     "iopub.execute_input": "2021-10-23T11:13:13.063528Z",
     "iopub.status.busy": "2021-10-23T11:13:13.062464Z",
     "iopub.status.idle": "2021-10-23T11:13:13.068449Z",
     "shell.execute_reply": "2021-10-23T11:13:13.069131Z",
     "shell.execute_reply.started": "2021-10-23T11:10:52.516188Z"
    },
    "papermill": {
     "duration": 0.095317,
     "end_time": "2021-10-23T11:13:13.069323",
     "exception": false,
     "start_time": "2021-10-23T11:13:12.974006",
     "status": "completed"
    },
    "tags": []
   },
   "outputs": [
    {
     "data": {
      "text/plain": [
       "[<keras.layers.core.Dense at 0x7f9a8aa73e10>,\n",
       " <keras.layers.core.Dense at 0x7f9a8a7a6690>,\n",
       " <keras.layers.core.Dropout at 0x7f9a8a9472d0>,\n",
       " <keras.layers.core.Dense at 0x7f9a8a7a68d0>,\n",
       " <keras.layers.core.Dense at 0x7f9a9a443210>]"
      ]
     },
     "execution_count": 23,
     "metadata": {},
     "output_type": "execute_result"
    }
   ],
   "source": [
    "model.layers"
   ]
  },
  {
   "cell_type": "code",
   "execution_count": 24,
   "id": "2a8f856e",
   "metadata": {
    "execution": {
     "iopub.execute_input": "2021-10-23T11:13:13.235572Z",
     "iopub.status.busy": "2021-10-23T11:13:13.234887Z",
     "iopub.status.idle": "2021-10-23T11:13:13.238914Z",
     "shell.execute_reply": "2021-10-23T11:13:13.239499Z",
     "shell.execute_reply.started": "2021-10-23T11:10:52.523275Z"
    },
    "papermill": {
     "duration": 0.089437,
     "end_time": "2021-10-23T11:13:13.239703",
     "exception": false,
     "start_time": "2021-10-23T11:13:13.150266",
     "status": "completed"
    },
    "tags": []
   },
   "outputs": [],
   "source": [
    "hidden1 = model.layers[1]"
   ]
  },
  {
   "cell_type": "markdown",
   "id": "d0e513e2",
   "metadata": {
    "papermill": {
     "duration": 0.082567,
     "end_time": "2021-10-23T11:13:13.402918",
     "exception": false,
     "start_time": "2021-10-23T11:13:13.320351",
     "status": "completed"
    },
    "tags": []
   },
   "source": [
    "Podemos comprobra los **pesos** que se inician **aleatoriamente** para la hidden layer 1"
   ]
  },
  {
   "cell_type": "code",
   "execution_count": 25,
   "id": "c4347a9e",
   "metadata": {
    "execution": {
     "iopub.execute_input": "2021-10-23T11:13:13.568058Z",
     "iopub.status.busy": "2021-10-23T11:13:13.566221Z",
     "iopub.status.idle": "2021-10-23T11:13:13.572895Z",
     "shell.execute_reply": "2021-10-23T11:13:13.573446Z",
     "shell.execute_reply.started": "2021-10-23T11:10:52.533772Z"
    },
    "papermill": {
     "duration": 0.0901,
     "end_time": "2021-10-23T11:13:13.573631",
     "exception": false,
     "start_time": "2021-10-23T11:13:13.483531",
     "status": "completed"
    },
    "tags": []
   },
   "outputs": [],
   "source": [
    "weights, biases = hidden1.get_weights()"
   ]
  },
  {
   "cell_type": "code",
   "execution_count": 26,
   "id": "2129d43c",
   "metadata": {
    "execution": {
     "iopub.execute_input": "2021-10-23T11:13:13.747095Z",
     "iopub.status.busy": "2021-10-23T11:13:13.745903Z",
     "iopub.status.idle": "2021-10-23T11:13:13.754971Z",
     "shell.execute_reply": "2021-10-23T11:13:13.755535Z",
     "shell.execute_reply.started": "2021-10-23T11:10:52.544400Z"
    },
    "papermill": {
     "duration": 0.099794,
     "end_time": "2021-10-23T11:13:13.755762",
     "exception": false,
     "start_time": "2021-10-23T11:13:13.655968",
     "status": "completed"
    },
    "tags": []
   },
   "outputs": [
    {
     "data": {
      "text/plain": [
       "array([[ 0.37119013,  0.02791125,  0.02458918, -0.32700193, -0.02547672,\n",
       "         0.0268369 , -0.10717738, -0.2691254 , -0.15089394, -0.13750274,\n",
       "         0.25025535,  0.10536566, -0.21673848, -0.32159427,  0.15516317,\n",
       "        -0.32222116,  0.00862753,  0.37042505,  0.13487494, -0.2419044 ,\n",
       "         0.08928102, -0.2526968 ,  0.11521053, -0.35984722,  0.38025212,\n",
       "        -0.24505427,  0.02998537, -0.27759773,  0.07766625, -0.36301675],\n",
       "       [-0.16845186, -0.14321133,  0.19095105,  0.04857028, -0.10303965,\n",
       "        -0.35697898,  0.37461245, -0.09032336, -0.06351399, -0.22451629,\n",
       "        -0.08276698, -0.33724758, -0.17427588,  0.13394558,  0.28587192,\n",
       "        -0.30565125, -0.32394835, -0.14290947,  0.00090307, -0.35538927,\n",
       "         0.04469121, -0.3367496 ,  0.3551528 , -0.3021121 ,  0.23211855,\n",
       "         0.27348745,  0.12873662,  0.3641889 , -0.25072047, -0.3005018 ],\n",
       "       [ 0.01483059,  0.15290427,  0.17236185,  0.19848663,  0.10755503,\n",
       "         0.18111664, -0.11203367,  0.10777444, -0.3580806 ,  0.12512845,\n",
       "         0.20630306, -0.03776124,  0.04832068, -0.31350774, -0.3753888 ,\n",
       "        -0.04685998, -0.3148123 ,  0.02333704, -0.21194866,  0.26506186,\n",
       "         0.17802244, -0.11909151, -0.35172498,  0.3650893 ,  0.3272801 ,\n",
       "         0.13763767,  0.16928953, -0.05683371,  0.21924818,  0.01388365],\n",
       "       [ 0.13027775, -0.09664029,  0.03343266, -0.21731043, -0.31075448,\n",
       "         0.10462409,  0.19994968, -0.32915562, -0.21022174, -0.23230639,\n",
       "        -0.10290843,  0.28351903, -0.02068284,  0.06340742,  0.11441213,\n",
       "        -0.18880035,  0.22560257,  0.01730177,  0.11566842,  0.14973438,\n",
       "        -0.29335445,  0.03454232, -0.22879003,  0.21211386, -0.27064013,\n",
       "        -0.10170904, -0.12211895, -0.13693947, -0.12904078,  0.07336703],\n",
       "       [-0.0461497 , -0.16601188, -0.28939873,  0.23944062, -0.2939831 ,\n",
       "        -0.19140136, -0.02233341, -0.2869319 , -0.02883604,  0.01438025,\n",
       "         0.3249569 ,  0.18131119, -0.12849414,  0.02171215,  0.22078323,\n",
       "         0.20689529, -0.00286278,  0.27562213, -0.26581532,  0.34721744,\n",
       "         0.05748543, -0.38526013,  0.3868429 ,  0.34412658, -0.27516004,\n",
       "        -0.2520173 , -0.3814348 , -0.38380414,  0.31377995, -0.06592098],\n",
       "       [-0.18136743, -0.363169  , -0.00214726, -0.12713066, -0.32453102,\n",
       "        -0.14008823,  0.17394686,  0.06138429,  0.37931353, -0.30781257,\n",
       "         0.14086646, -0.25081855,  0.10873753, -0.36868203, -0.27911717,\n",
       "        -0.00279444, -0.2823349 , -0.19975889, -0.2585318 ,  0.03453317,\n",
       "         0.34180832, -0.0556623 ,  0.25701863,  0.31762028, -0.10896331,\n",
       "         0.15587443, -0.36077532,  0.17227876, -0.16251454,  0.2680155 ],\n",
       "       [ 0.28768057,  0.09440815, -0.31075522,  0.07194677, -0.31490928,\n",
       "        -0.06749722,  0.09605578, -0.03221545,  0.13780653, -0.22611801,\n",
       "         0.04895443,  0.02088138, -0.09226146,  0.32203943,  0.11207911,\n",
       "        -0.38574824, -0.26541856, -0.38569498, -0.34641096, -0.14065842,\n",
       "        -0.36439124,  0.34279478, -0.14338668,  0.09990069, -0.08081445,\n",
       "        -0.18927802, -0.259243  , -0.18162394, -0.11014903, -0.10837528],\n",
       "       [-0.2754305 ,  0.36444193, -0.01942641,  0.20392281,  0.26902968,\n",
       "         0.33820605,  0.13958436,  0.1894046 ,  0.38035834,  0.18651378,\n",
       "        -0.07191879,  0.10399896, -0.04828534, -0.24003702, -0.06302783,\n",
       "         0.26915956, -0.37277284,  0.02206507, -0.16664247,  0.08149233,\n",
       "        -0.01778582,  0.11656916,  0.2566213 ,  0.29785746,  0.01136482,\n",
       "        -0.22506294, -0.20822953,  0.07423207, -0.02086607, -0.16492127],\n",
       "       [-0.3844618 ,  0.3131625 ,  0.08351585,  0.07730484, -0.10436508,\n",
       "        -0.08709842, -0.34936395,  0.24032736, -0.03567347,  0.3298599 ,\n",
       "         0.1520108 , -0.35682774, -0.35162985,  0.15081435, -0.06597906,\n",
       "        -0.12299302,  0.32939088, -0.24634019, -0.29994488, -0.00392035,\n",
       "        -0.33399466,  0.19714385, -0.26989424, -0.06649035, -0.2522319 ,\n",
       "        -0.15886281, -0.30074906,  0.29749912, -0.0289267 , -0.24949384],\n",
       "       [ 0.04565033,  0.2797352 , -0.20219322,  0.18014282,  0.1653139 ,\n",
       "         0.19684005, -0.04859069,  0.38258433, -0.25107598, -0.30940688,\n",
       "         0.12431526, -0.25547647,  0.04234433,  0.14123058, -0.18234964,\n",
       "        -0.12681171, -0.33577892,  0.12201929,  0.12882692, -0.19916883,\n",
       "         0.25962585,  0.3439259 , -0.369032  ,  0.27991247,  0.0034579 ,\n",
       "         0.05408064,  0.08856061, -0.26553178, -0.01264179,  0.36196297]],\n",
       "      dtype=float32)"
      ]
     },
     "execution_count": 26,
     "metadata": {},
     "output_type": "execute_result"
    }
   ],
   "source": [
    "weights"
   ]
  },
  {
   "cell_type": "markdown",
   "id": "c0d63efb",
   "metadata": {
    "papermill": {
     "duration": 0.081592,
     "end_time": "2021-10-23T11:13:13.920455",
     "exception": false,
     "start_time": "2021-10-23T11:13:13.838863",
     "status": "completed"
    },
    "tags": []
   },
   "source": [
    "Los bias term se inician con valor 0"
   ]
  },
  {
   "cell_type": "code",
   "execution_count": 27,
   "id": "730d05ba",
   "metadata": {
    "execution": {
     "iopub.execute_input": "2021-10-23T11:13:14.087741Z",
     "iopub.status.busy": "2021-10-23T11:13:14.087061Z",
     "iopub.status.idle": "2021-10-23T11:13:14.092506Z",
     "shell.execute_reply": "2021-10-23T11:13:14.093082Z",
     "shell.execute_reply.started": "2021-10-23T11:10:52.561471Z"
    },
    "papermill": {
     "duration": 0.09107,
     "end_time": "2021-10-23T11:13:14.093273",
     "exception": false,
     "start_time": "2021-10-23T11:13:14.002203",
     "status": "completed"
    },
    "tags": []
   },
   "outputs": [
    {
     "data": {
      "text/plain": [
       "array([0., 0., 0., 0., 0., 0., 0., 0., 0., 0., 0., 0., 0., 0., 0., 0., 0.,\n",
       "       0., 0., 0., 0., 0., 0., 0., 0., 0., 0., 0., 0., 0.], dtype=float32)"
      ]
     },
     "execution_count": 27,
     "metadata": {},
     "output_type": "execute_result"
    }
   ],
   "source": [
    "biases"
   ]
  },
  {
   "cell_type": "markdown",
   "id": "7913db57",
   "metadata": {
    "papermill": {
     "duration": 0.081236,
     "end_time": "2021-10-23T11:13:14.256071",
     "exception": false,
     "start_time": "2021-10-23T11:13:14.174835",
     "status": "completed"
    },
    "tags": []
   },
   "source": [
    "Entrenamos nuestro modelo pasándole el conjunto de características de entramiento y la salida final.\n",
    "\n",
    "Un tamaño de batch_size = 32 es habitual. \n",
    "Usaremos como conjunto de datos de validación los datos de prueba, aunque deberíamos crear una conjunto de validación para tratar el overfitting y underfitting. Más tarde veremos que igualmente nuestra red neuronal no va a funcionar tan bien como queremos y usaremos otro modelo."
   ]
  },
  {
   "cell_type": "code",
   "execution_count": 28,
   "id": "74f83016",
   "metadata": {
    "execution": {
     "iopub.execute_input": "2021-10-23T11:13:14.424706Z",
     "iopub.status.busy": "2021-10-23T11:13:14.423614Z",
     "iopub.status.idle": "2021-10-23T11:13:34.261808Z",
     "shell.execute_reply": "2021-10-23T11:13:34.262386Z",
     "shell.execute_reply.started": "2021-10-23T11:10:52.568663Z"
    },
    "papermill": {
     "duration": 19.925917,
     "end_time": "2021-10-23T11:13:34.262566",
     "exception": false,
     "start_time": "2021-10-23T11:13:14.336649",
     "status": "completed"
    },
    "tags": []
   },
   "outputs": [
    {
     "name": "stderr",
     "output_type": "stream",
     "text": [
      "2021-10-23 11:13:14.503527: I tensorflow/compiler/mlir/mlir_graph_optimization_pass.cc:185] None of the MLIR Optimization Passes are enabled (registered 2)\n"
     ]
    },
    {
     "name": "stdout",
     "output_type": "stream",
     "text": [
      "Epoch 1/150\n",
      "31/31 [==============================] - 1s 10ms/step - loss: 38028689408.0000 - mean_absolute_error: 179315.4844 - val_loss: 41088978944.0000 - val_mean_absolute_error: 184177.4844\n",
      "Epoch 2/150\n",
      "31/31 [==============================] - 0s 4ms/step - loss: 38027964416.0000 - mean_absolute_error: 179313.8750 - val_loss: 41087643648.0000 - val_mean_absolute_error: 184174.6875\n",
      "Epoch 3/150\n",
      "31/31 [==============================] - 0s 4ms/step - loss: 38025633792.0000 - mean_absolute_error: 179308.7656 - val_loss: 41083338752.0000 - val_mean_absolute_error: 184165.7500\n",
      "Epoch 4/150\n",
      "31/31 [==============================] - 0s 4ms/step - loss: 38018613248.0000 - mean_absolute_error: 179293.2656 - val_loss: 41070989312.0000 - val_mean_absolute_error: 184140.1250\n",
      "Epoch 5/150\n",
      "31/31 [==============================] - 0s 4ms/step - loss: 37999988736.0000 - mean_absolute_error: 179252.6719 - val_loss: 41040588800.0000 - val_mean_absolute_error: 184077.3750\n",
      "Epoch 6/150\n",
      "31/31 [==============================] - 0s 4ms/step - loss: 37959204864.0000 - mean_absolute_error: 179163.1875 - val_loss: 40978739200.0000 - val_mean_absolute_error: 183950.5781\n",
      "Epoch 7/150\n",
      "31/31 [==============================] - 0s 4ms/step - loss: 37879517184.0000 - mean_absolute_error: 178994.0000 - val_loss: 40865824768.0000 - val_mean_absolute_error: 183720.5000\n",
      "Epoch 8/150\n",
      "31/31 [==============================] - 0s 4ms/step - loss: 37745008640.0000 - mean_absolute_error: 178697.2344 - val_loss: 40675127296.0000 - val_mean_absolute_error: 183332.8125\n",
      "Epoch 9/150\n",
      "31/31 [==============================] - 0s 4ms/step - loss: 37520850944.0000 - mean_absolute_error: 178225.3125 - val_loss: 40376258560.0000 - val_mean_absolute_error: 182726.7344\n",
      "Epoch 10/150\n",
      "31/31 [==============================] - 0s 4ms/step - loss: 37182521344.0000 - mean_absolute_error: 177503.1719 - val_loss: 39935287296.0000 - val_mean_absolute_error: 181833.8750\n",
      "Epoch 11/150\n",
      "31/31 [==============================] - 0s 4ms/step - loss: 36690374656.0000 - mean_absolute_error: 176450.7031 - val_loss: 39316295680.0000 - val_mean_absolute_error: 180575.5469\n",
      "Epoch 12/150\n",
      "31/31 [==============================] - 0s 4ms/step - loss: 36037918720.0000 - mean_absolute_error: 175026.7031 - val_loss: 38484910080.0000 - val_mean_absolute_error: 178871.1719\n",
      "Epoch 13/150\n",
      "31/31 [==============================] - 0s 4ms/step - loss: 35166474240.0000 - mean_absolute_error: 173149.3750 - val_loss: 37457006592.0000 - val_mean_absolute_error: 176730.4531\n",
      "Epoch 14/150\n",
      "31/31 [==============================] - 0s 4ms/step - loss: 34057482240.0000 - mean_absolute_error: 170679.3438 - val_loss: 36111110144.0000 - val_mean_absolute_error: 173883.2344\n",
      "Epoch 15/150\n",
      "31/31 [==============================] - 0s 4ms/step - loss: 32756674560.0000 - mean_absolute_error: 167704.2656 - val_loss: 34508316672.0000 - val_mean_absolute_error: 170401.8281\n",
      "Epoch 16/150\n",
      "31/31 [==============================] - 0s 4ms/step - loss: 31161122816.0000 - mean_absolute_error: 163992.5781 - val_loss: 32670705664.0000 - val_mean_absolute_error: 166276.0156\n",
      "Epoch 17/150\n",
      "31/31 [==============================] - 0s 4ms/step - loss: 29304563712.0000 - mean_absolute_error: 159445.6719 - val_loss: 30516938752.0000 - val_mean_absolute_error: 161246.4688\n",
      "Epoch 18/150\n",
      "31/31 [==============================] - 0s 4ms/step - loss: 27234396160.0000 - mean_absolute_error: 154180.7344 - val_loss: 28179568640.0000 - val_mean_absolute_error: 155507.0469\n",
      "Epoch 19/150\n",
      "31/31 [==============================] - 0s 4ms/step - loss: 25011566592.0000 - mean_absolute_error: 148230.7969 - val_loss: 25684934656.0000 - val_mean_absolute_error: 149000.5156\n",
      "Epoch 20/150\n",
      "31/31 [==============================] - 0s 4ms/step - loss: 22574413824.0000 - mean_absolute_error: 141517.6250 - val_loss: 23031126016.0000 - val_mean_absolute_error: 141564.9688\n",
      "Epoch 21/150\n",
      "31/31 [==============================] - 0s 5ms/step - loss: 20213450752.0000 - mean_absolute_error: 134211.7031 - val_loss: 20363984896.0000 - val_mean_absolute_error: 133401.9844\n",
      "Epoch 22/150\n",
      "31/31 [==============================] - 0s 4ms/step - loss: 17741709312.0000 - mean_absolute_error: 125760.5469 - val_loss: 17858557952.0000 - val_mean_absolute_error: 124910.3906\n",
      "Epoch 23/150\n",
      "31/31 [==============================] - 0s 4ms/step - loss: 15647036416.0000 - mean_absolute_error: 117905.0703 - val_loss: 15511861248.0000 - val_mean_absolute_error: 116015.0156\n",
      "Epoch 24/150\n",
      "31/31 [==============================] - 0s 4ms/step - loss: 13496547328.0000 - mean_absolute_error: 108754.9531 - val_loss: 13438080000.0000 - val_mean_absolute_error: 106973.1484\n",
      "Epoch 25/150\n",
      "31/31 [==============================] - 0s 4ms/step - loss: 11927753728.0000 - mean_absolute_error: 100462.8984 - val_loss: 11752984576.0000 - val_mean_absolute_error: 98530.2734\n",
      "Epoch 26/150\n",
      "31/31 [==============================] - 0s 4ms/step - loss: 10493327360.0000 - mean_absolute_error: 92811.0625 - val_loss: 10358070272.0000 - val_mean_absolute_error: 90608.7969\n",
      "Epoch 27/150\n",
      "31/31 [==============================] - 0s 4ms/step - loss: 9480986624.0000 - mean_absolute_error: 85906.3203 - val_loss: 9296380928.0000 - val_mean_absolute_error: 84167.8906\n",
      "Epoch 28/150\n",
      "31/31 [==============================] - 0s 4ms/step - loss: 8804551680.0000 - mean_absolute_error: 81296.7500 - val_loss: 8588426752.0000 - val_mean_absolute_error: 79668.7266\n",
      "Epoch 29/150\n",
      "31/31 [==============================] - 0s 4ms/step - loss: 8217036288.0000 - mean_absolute_error: 77097.5781 - val_loss: 8038151168.0000 - val_mean_absolute_error: 76062.0000\n",
      "Epoch 30/150\n",
      "31/31 [==============================] - 0s 4ms/step - loss: 7807874048.0000 - mean_absolute_error: 73752.4219 - val_loss: 7629117952.0000 - val_mean_absolute_error: 73398.2188\n",
      "Epoch 31/150\n",
      "31/31 [==============================] - 0s 4ms/step - loss: 7531439616.0000 - mean_absolute_error: 72264.4766 - val_loss: 7321043968.0000 - val_mean_absolute_error: 71393.5547\n",
      "Epoch 32/150\n",
      "31/31 [==============================] - 0s 4ms/step - loss: 7249344512.0000 - mean_absolute_error: 70026.7422 - val_loss: 7062802432.0000 - val_mean_absolute_error: 69770.4766\n",
      "Epoch 33/150\n",
      "31/31 [==============================] - 0s 4ms/step - loss: 6903408640.0000 - mean_absolute_error: 67922.4922 - val_loss: 6844809216.0000 - val_mean_absolute_error: 68386.3047\n",
      "Epoch 34/150\n",
      "31/31 [==============================] - 0s 4ms/step - loss: 6852242432.0000 - mean_absolute_error: 67578.5859 - val_loss: 6634766336.0000 - val_mean_absolute_error: 67009.3438\n",
      "Epoch 35/150\n",
      "31/31 [==============================] - 0s 4ms/step - loss: 6682906624.0000 - mean_absolute_error: 66157.5156 - val_loss: 6451589120.0000 - val_mean_absolute_error: 65815.8047\n",
      "Epoch 36/150\n",
      "31/31 [==============================] - 0s 4ms/step - loss: 6433540608.0000 - mean_absolute_error: 65081.4219 - val_loss: 6280175104.0000 - val_mean_absolute_error: 64686.5469\n",
      "Epoch 37/150\n",
      "31/31 [==============================] - 0s 4ms/step - loss: 6285206528.0000 - mean_absolute_error: 64138.6094 - val_loss: 6108900864.0000 - val_mean_absolute_error: 63561.2188\n",
      "Epoch 38/150\n",
      "31/31 [==============================] - 0s 4ms/step - loss: 6175702528.0000 - mean_absolute_error: 63005.2227 - val_loss: 5931242496.0000 - val_mean_absolute_error: 62374.4961\n",
      "Epoch 39/150\n",
      "31/31 [==============================] - 0s 4ms/step - loss: 5974456832.0000 - mean_absolute_error: 61805.2578 - val_loss: 5765262336.0000 - val_mean_absolute_error: 61274.6914\n",
      "Epoch 40/150\n",
      "31/31 [==============================] - 0s 4ms/step - loss: 5756176896.0000 - mean_absolute_error: 60948.4414 - val_loss: 5608287232.0000 - val_mean_absolute_error: 60217.0664\n",
      "Epoch 41/150\n",
      "31/31 [==============================] - 0s 8ms/step - loss: 5762834944.0000 - mean_absolute_error: 60065.6328 - val_loss: 5462323712.0000 - val_mean_absolute_error: 59250.2500\n",
      "Epoch 42/150\n",
      "31/31 [==============================] - 0s 10ms/step - loss: 5538863616.0000 - mean_absolute_error: 58710.9062 - val_loss: 5306797568.0000 - val_mean_absolute_error: 58228.8906\n",
      "Epoch 43/150\n",
      "31/31 [==============================] - 0s 7ms/step - loss: 5476472320.0000 - mean_absolute_error: 57803.3242 - val_loss: 5166415360.0000 - val_mean_absolute_error: 57337.2617\n",
      "Epoch 44/150\n",
      "31/31 [==============================] - 0s 4ms/step - loss: 5205952000.0000 - mean_absolute_error: 56898.3164 - val_loss: 5013598208.0000 - val_mean_absolute_error: 56374.5859\n",
      "Epoch 45/150\n",
      "31/31 [==============================] - 0s 4ms/step - loss: 5152345600.0000 - mean_absolute_error: 56490.0781 - val_loss: 4876578304.0000 - val_mean_absolute_error: 55480.9922\n",
      "Epoch 46/150\n",
      "31/31 [==============================] - 0s 4ms/step - loss: 5010419200.0000 - mean_absolute_error: 55095.2148 - val_loss: 4743108608.0000 - val_mean_absolute_error: 54586.2188\n",
      "Epoch 47/150\n",
      "31/31 [==============================] - 0s 4ms/step - loss: 4919556608.0000 - mean_absolute_error: 54884.6562 - val_loss: 4613769728.0000 - val_mean_absolute_error: 53715.5508\n",
      "Epoch 48/150\n",
      "31/31 [==============================] - 0s 4ms/step - loss: 4824763904.0000 - mean_absolute_error: 53125.4180 - val_loss: 4500877824.0000 - val_mean_absolute_error: 52940.5234\n",
      "Epoch 49/150\n",
      "31/31 [==============================] - 0s 4ms/step - loss: 4570832384.0000 - mean_absolute_error: 52328.8086 - val_loss: 4381317632.0000 - val_mean_absolute_error: 52133.7383\n",
      "Epoch 50/150\n",
      "31/31 [==============================] - 0s 4ms/step - loss: 4418868224.0000 - mean_absolute_error: 51696.7266 - val_loss: 4263959040.0000 - val_mean_absolute_error: 51356.3555\n",
      "Epoch 51/150\n",
      "31/31 [==============================] - 0s 4ms/step - loss: 4324211200.0000 - mean_absolute_error: 50725.8047 - val_loss: 4145680896.0000 - val_mean_absolute_error: 50531.0664\n",
      "Epoch 52/150\n",
      "31/31 [==============================] - 0s 4ms/step - loss: 4228600576.0000 - mean_absolute_error: 49909.2344 - val_loss: 4051109120.0000 - val_mean_absolute_error: 49878.6523\n",
      "Epoch 53/150\n",
      "31/31 [==============================] - 0s 5ms/step - loss: 4176078336.0000 - mean_absolute_error: 49431.4609 - val_loss: 3943933696.0000 - val_mean_absolute_error: 49145.0156\n",
      "Epoch 54/150\n",
      "31/31 [==============================] - 0s 4ms/step - loss: 4183677184.0000 - mean_absolute_error: 48718.3242 - val_loss: 3858304000.0000 - val_mean_absolute_error: 48536.3945\n",
      "Epoch 55/150\n",
      "31/31 [==============================] - 0s 4ms/step - loss: 4029769472.0000 - mean_absolute_error: 47601.4766 - val_loss: 3776815872.0000 - val_mean_absolute_error: 47948.1250\n",
      "Epoch 56/150\n",
      "31/31 [==============================] - 0s 4ms/step - loss: 4063878656.0000 - mean_absolute_error: 47620.9688 - val_loss: 3691058688.0000 - val_mean_absolute_error: 47292.4102\n",
      "Epoch 57/150\n",
      "31/31 [==============================] - 0s 4ms/step - loss: 3913630976.0000 - mean_absolute_error: 47374.2539 - val_loss: 3609752320.0000 - val_mean_absolute_error: 46666.2227\n",
      "Epoch 58/150\n",
      "31/31 [==============================] - 0s 4ms/step - loss: 3754669312.0000 - mean_absolute_error: 46196.1523 - val_loss: 3512391424.0000 - val_mean_absolute_error: 45916.3945\n",
      "Epoch 59/150\n",
      "31/31 [==============================] - 0s 4ms/step - loss: 3715333632.0000 - mean_absolute_error: 45489.2305 - val_loss: 3445310208.0000 - val_mean_absolute_error: 45382.2148\n",
      "Epoch 60/150\n",
      "31/31 [==============================] - 0s 4ms/step - loss: 3648577024.0000 - mean_absolute_error: 45102.7227 - val_loss: 3388099072.0000 - val_mean_absolute_error: 44921.6758\n",
      "Epoch 61/150\n",
      "31/31 [==============================] - 0s 4ms/step - loss: 3599670272.0000 - mean_absolute_error: 44825.2109 - val_loss: 3320861696.0000 - val_mean_absolute_error: 44404.3398\n",
      "Epoch 62/150\n",
      "31/31 [==============================] - 0s 4ms/step - loss: 3633396224.0000 - mean_absolute_error: 44135.9297 - val_loss: 3251389696.0000 - val_mean_absolute_error: 43870.3398\n",
      "Epoch 63/150\n",
      "31/31 [==============================] - 0s 4ms/step - loss: 3437088000.0000 - mean_absolute_error: 43135.7656 - val_loss: 3189063680.0000 - val_mean_absolute_error: 43377.2500\n",
      "Epoch 64/150\n",
      "31/31 [==============================] - 0s 4ms/step - loss: 3453518336.0000 - mean_absolute_error: 43020.5312 - val_loss: 3141941504.0000 - val_mean_absolute_error: 42985.3984\n",
      "Epoch 65/150\n",
      "31/31 [==============================] - 0s 4ms/step - loss: 3424306432.0000 - mean_absolute_error: 43211.6367 - val_loss: 3078313216.0000 - val_mean_absolute_error: 42485.5781\n",
      "Epoch 66/150\n",
      "31/31 [==============================] - 0s 4ms/step - loss: 3333974528.0000 - mean_absolute_error: 41687.4492 - val_loss: 3036513792.0000 - val_mean_absolute_error: 42135.3281\n",
      "Epoch 67/150\n",
      "31/31 [==============================] - 0s 4ms/step - loss: 3265417472.0000 - mean_absolute_error: 42205.8750 - val_loss: 2984334080.0000 - val_mean_absolute_error: 41717.7344\n",
      "Epoch 68/150\n",
      "31/31 [==============================] - 0s 4ms/step - loss: 3122898944.0000 - mean_absolute_error: 41202.2578 - val_loss: 2918432512.0000 - val_mean_absolute_error: 41196.3711\n",
      "Epoch 69/150\n",
      "31/31 [==============================] - 0s 4ms/step - loss: 3102960640.0000 - mean_absolute_error: 40770.1992 - val_loss: 2876073472.0000 - val_mean_absolute_error: 40851.8242\n",
      "Epoch 70/150\n",
      "31/31 [==============================] - 0s 4ms/step - loss: 3121876736.0000 - mean_absolute_error: 40797.4844 - val_loss: 2852350464.0000 - val_mean_absolute_error: 40628.4844\n",
      "Epoch 71/150\n",
      "31/31 [==============================] - 0s 4ms/step - loss: 3099398656.0000 - mean_absolute_error: 40483.5820 - val_loss: 2806934016.0000 - val_mean_absolute_error: 40244.6211\n",
      "Epoch 72/150\n",
      "31/31 [==============================] - 0s 4ms/step - loss: 3189732096.0000 - mean_absolute_error: 40735.2422 - val_loss: 2767888640.0000 - val_mean_absolute_error: 39910.0117\n",
      "Epoch 73/150\n",
      "31/31 [==============================] - 0s 4ms/step - loss: 3014324992.0000 - mean_absolute_error: 39602.8672 - val_loss: 2718281984.0000 - val_mean_absolute_error: 39482.0859\n",
      "Epoch 74/150\n",
      "31/31 [==============================] - 0s 4ms/step - loss: 2963860736.0000 - mean_absolute_error: 39260.6133 - val_loss: 2678194944.0000 - val_mean_absolute_error: 39142.0664\n",
      "Epoch 75/150\n",
      "31/31 [==============================] - 0s 4ms/step - loss: 3063061504.0000 - mean_absolute_error: 39533.9414 - val_loss: 2629778176.0000 - val_mean_absolute_error: 38734.4141\n",
      "Epoch 76/150\n",
      "31/31 [==============================] - 0s 4ms/step - loss: 2833542656.0000 - mean_absolute_error: 38654.8047 - val_loss: 2602917120.0000 - val_mean_absolute_error: 38486.1797\n",
      "Epoch 77/150\n",
      "31/31 [==============================] - 0s 4ms/step - loss: 2771239680.0000 - mean_absolute_error: 38075.2344 - val_loss: 2554672896.0000 - val_mean_absolute_error: 38077.9258\n",
      "Epoch 78/150\n",
      "31/31 [==============================] - 0s 4ms/step - loss: 2850626816.0000 - mean_absolute_error: 38030.5703 - val_loss: 2524817664.0000 - val_mean_absolute_error: 37804.0938\n",
      "Epoch 79/150\n",
      "31/31 [==============================] - 0s 4ms/step - loss: 2886454784.0000 - mean_absolute_error: 37696.4062 - val_loss: 2485868032.0000 - val_mean_absolute_error: 37454.1641\n",
      "Epoch 80/150\n",
      "31/31 [==============================] - 0s 4ms/step - loss: 2760218112.0000 - mean_absolute_error: 37289.3711 - val_loss: 2451878400.0000 - val_mean_absolute_error: 37135.9219\n",
      "Epoch 81/150\n",
      "31/31 [==============================] - 0s 4ms/step - loss: 2712273664.0000 - mean_absolute_error: 37000.5742 - val_loss: 2407846912.0000 - val_mean_absolute_error: 36750.3242\n",
      "Epoch 82/150\n",
      "31/31 [==============================] - 0s 4ms/step - loss: 2686097152.0000 - mean_absolute_error: 36701.0195 - val_loss: 2382604544.0000 - val_mean_absolute_error: 36522.4844\n",
      "Epoch 83/150\n",
      "31/31 [==============================] - 0s 4ms/step - loss: 2513058048.0000 - mean_absolute_error: 36238.3672 - val_loss: 2341645056.0000 - val_mean_absolute_error: 36165.6172\n",
      "Epoch 84/150\n",
      "31/31 [==============================] - 0s 4ms/step - loss: 2559201280.0000 - mean_absolute_error: 36191.1484 - val_loss: 2309591040.0000 - val_mean_absolute_error: 35871.2852\n",
      "Epoch 85/150\n",
      "31/31 [==============================] - 0s 4ms/step - loss: 2543463680.0000 - mean_absolute_error: 36023.9961 - val_loss: 2282080000.0000 - val_mean_absolute_error: 35605.3477\n",
      "Epoch 86/150\n",
      "31/31 [==============================] - 0s 4ms/step - loss: 2687421696.0000 - mean_absolute_error: 36117.7500 - val_loss: 2245701632.0000 - val_mean_absolute_error: 35280.4844\n",
      "Epoch 87/150\n",
      "31/31 [==============================] - 0s 4ms/step - loss: 2441132800.0000 - mean_absolute_error: 35135.9297 - val_loss: 2202817792.0000 - val_mean_absolute_error: 34894.6523\n",
      "Epoch 88/150\n",
      "31/31 [==============================] - 0s 4ms/step - loss: 2502348800.0000 - mean_absolute_error: 34780.1211 - val_loss: 2192076032.0000 - val_mean_absolute_error: 34720.4531\n",
      "Epoch 89/150\n",
      "31/31 [==============================] - 0s 4ms/step - loss: 2387668224.0000 - mean_absolute_error: 34428.3438 - val_loss: 2158741760.0000 - val_mean_absolute_error: 34403.3164\n",
      "Epoch 90/150\n",
      "31/31 [==============================] - 0s 4ms/step - loss: 2481757696.0000 - mean_absolute_error: 34502.9414 - val_loss: 2119783680.0000 - val_mean_absolute_error: 34006.8594\n",
      "Epoch 91/150\n",
      "31/31 [==============================] - 0s 4ms/step - loss: 2439504640.0000 - mean_absolute_error: 34402.4648 - val_loss: 2094689152.0000 - val_mean_absolute_error: 33744.5742\n",
      "Epoch 92/150\n",
      "31/31 [==============================] - 0s 4ms/step - loss: 2283029760.0000 - mean_absolute_error: 33827.1914 - val_loss: 2056697600.0000 - val_mean_absolute_error: 33402.8867\n",
      "Epoch 93/150\n",
      "31/31 [==============================] - 0s 4ms/step - loss: 2473239040.0000 - mean_absolute_error: 34203.6445 - val_loss: 2050966784.0000 - val_mean_absolute_error: 33294.1055\n",
      "Epoch 94/150\n",
      "31/31 [==============================] - 0s 4ms/step - loss: 2367084544.0000 - mean_absolute_error: 33775.9609 - val_loss: 2025185920.0000 - val_mean_absolute_error: 33020.4727\n",
      "Epoch 95/150\n",
      "31/31 [==============================] - 0s 4ms/step - loss: 2256687616.0000 - mean_absolute_error: 33015.3281 - val_loss: 1991120128.0000 - val_mean_absolute_error: 32671.0586\n",
      "Epoch 96/150\n",
      "31/31 [==============================] - 0s 4ms/step - loss: 2258036992.0000 - mean_absolute_error: 33229.2969 - val_loss: 1956377600.0000 - val_mean_absolute_error: 32317.0312\n",
      "Epoch 97/150\n",
      "31/31 [==============================] - 0s 4ms/step - loss: 2260270592.0000 - mean_absolute_error: 32711.9004 - val_loss: 1937104896.0000 - val_mean_absolute_error: 32080.0000\n",
      "Epoch 98/150\n",
      "31/31 [==============================] - 0s 4ms/step - loss: 2208652544.0000 - mean_absolute_error: 32957.7031 - val_loss: 1916705792.0000 - val_mean_absolute_error: 31841.3789\n",
      "Epoch 99/150\n",
      "31/31 [==============================] - 0s 4ms/step - loss: 2244738816.0000 - mean_absolute_error: 32597.3379 - val_loss: 1883315968.0000 - val_mean_absolute_error: 31520.7051\n",
      "Epoch 100/150\n",
      "31/31 [==============================] - 0s 4ms/step - loss: 2125440000.0000 - mean_absolute_error: 31436.8867 - val_loss: 1853824128.0000 - val_mean_absolute_error: 31209.7930\n",
      "Epoch 101/150\n",
      "31/31 [==============================] - 0s 4ms/step - loss: 2193401088.0000 - mean_absolute_error: 31725.1543 - val_loss: 1829220480.0000 - val_mean_absolute_error: 30970.4043\n",
      "Epoch 102/150\n",
      "31/31 [==============================] - 0s 4ms/step - loss: 2136653952.0000 - mean_absolute_error: 31378.0098 - val_loss: 1835405056.0000 - val_mean_absolute_error: 30921.5898\n",
      "Epoch 103/150\n",
      "31/31 [==============================] - 0s 4ms/step - loss: 2095576832.0000 - mean_absolute_error: 31053.8105 - val_loss: 1805486208.0000 - val_mean_absolute_error: 30614.9785\n",
      "Epoch 104/150\n",
      "31/31 [==============================] - 0s 4ms/step - loss: 1970189312.0000 - mean_absolute_error: 30366.3340 - val_loss: 1794225920.0000 - val_mean_absolute_error: 30448.5879\n",
      "Epoch 105/150\n",
      "31/31 [==============================] - 0s 4ms/step - loss: 2021772544.0000 - mean_absolute_error: 30915.3496 - val_loss: 1776993536.0000 - val_mean_absolute_error: 30222.3867\n",
      "Epoch 106/150\n",
      "31/31 [==============================] - 0s 4ms/step - loss: 2064476160.0000 - mean_absolute_error: 30500.7852 - val_loss: 1750208000.0000 - val_mean_absolute_error: 29939.5801\n",
      "Epoch 107/150\n",
      "31/31 [==============================] - 0s 5ms/step - loss: 1942781056.0000 - mean_absolute_error: 30265.2949 - val_loss: 1727691776.0000 - val_mean_absolute_error: 29708.3027\n",
      "Epoch 108/150\n",
      "31/31 [==============================] - 0s 4ms/step - loss: 1977244672.0000 - mean_absolute_error: 30422.6895 - val_loss: 1711900032.0000 - val_mean_absolute_error: 29540.8672\n",
      "Epoch 109/150\n",
      "31/31 [==============================] - 0s 4ms/step - loss: 1921328000.0000 - mean_absolute_error: 29431.5664 - val_loss: 1698457088.0000 - val_mean_absolute_error: 29355.2012\n",
      "Epoch 110/150\n",
      "31/31 [==============================] - 0s 4ms/step - loss: 1918175104.0000 - mean_absolute_error: 29421.2578 - val_loss: 1682263680.0000 - val_mean_absolute_error: 29182.4512\n",
      "Epoch 111/150\n",
      "31/31 [==============================] - 0s 4ms/step - loss: 1956172544.0000 - mean_absolute_error: 29668.7734 - val_loss: 1672490496.0000 - val_mean_absolute_error: 29044.9727\n",
      "Epoch 112/150\n",
      "31/31 [==============================] - 0s 4ms/step - loss: 1937728000.0000 - mean_absolute_error: 29254.1387 - val_loss: 1659715200.0000 - val_mean_absolute_error: 28909.6074\n",
      "Epoch 113/150\n",
      "31/31 [==============================] - 0s 4ms/step - loss: 1788396800.0000 - mean_absolute_error: 28680.8691 - val_loss: 1649104000.0000 - val_mean_absolute_error: 28774.9883\n",
      "Epoch 114/150\n",
      "31/31 [==============================] - 0s 4ms/step - loss: 2057978112.0000 - mean_absolute_error: 29361.8984 - val_loss: 1638521344.0000 - val_mean_absolute_error: 28641.5566\n",
      "Epoch 115/150\n",
      "31/31 [==============================] - 0s 4ms/step - loss: 1769912320.0000 - mean_absolute_error: 28274.5137 - val_loss: 1619542144.0000 - val_mean_absolute_error: 28483.9082\n",
      "Epoch 116/150\n",
      "31/31 [==============================] - 0s 4ms/step - loss: 1798613760.0000 - mean_absolute_error: 28785.3086 - val_loss: 1620289408.0000 - val_mean_absolute_error: 28424.0156\n",
      "Epoch 117/150\n",
      "31/31 [==============================] - 0s 4ms/step - loss: 1799632128.0000 - mean_absolute_error: 28556.3594 - val_loss: 1601091584.0000 - val_mean_absolute_error: 28259.7637\n",
      "Epoch 118/150\n",
      "31/31 [==============================] - 0s 4ms/step - loss: 1866186112.0000 - mean_absolute_error: 29163.5664 - val_loss: 1596201728.0000 - val_mean_absolute_error: 28179.0000\n",
      "Epoch 119/150\n",
      "31/31 [==============================] - 0s 4ms/step - loss: 1850043008.0000 - mean_absolute_error: 28618.4414 - val_loss: 1592307712.0000 - val_mean_absolute_error: 28086.9414\n",
      "Epoch 120/150\n",
      "31/31 [==============================] - 0s 4ms/step - loss: 1872514304.0000 - mean_absolute_error: 29166.1191 - val_loss: 1573126272.0000 - val_mean_absolute_error: 27953.6094\n",
      "Epoch 121/150\n",
      "31/31 [==============================] - 0s 4ms/step - loss: 1793483008.0000 - mean_absolute_error: 28293.9746 - val_loss: 1569541248.0000 - val_mean_absolute_error: 27877.9316\n",
      "Epoch 122/150\n",
      "31/31 [==============================] - 0s 4ms/step - loss: 1893830400.0000 - mean_absolute_error: 28576.9219 - val_loss: 1551332352.0000 - val_mean_absolute_error: 27746.8770\n",
      "Epoch 123/150\n",
      "31/31 [==============================] - 0s 4ms/step - loss: 1842411904.0000 - mean_absolute_error: 28382.6211 - val_loss: 1559945344.0000 - val_mean_absolute_error: 27723.9570\n",
      "Epoch 124/150\n",
      "31/31 [==============================] - 0s 4ms/step - loss: 1775049472.0000 - mean_absolute_error: 28152.2305 - val_loss: 1547923840.0000 - val_mean_absolute_error: 27627.4238\n",
      "Epoch 125/150\n",
      "31/31 [==============================] - 0s 4ms/step - loss: 1797079680.0000 - mean_absolute_error: 27741.2598 - val_loss: 1539180800.0000 - val_mean_absolute_error: 27550.4961\n",
      "Epoch 126/150\n",
      "31/31 [==============================] - 0s 4ms/step - loss: 1860766080.0000 - mean_absolute_error: 28070.7500 - val_loss: 1542988928.0000 - val_mean_absolute_error: 27510.2148\n",
      "Epoch 127/150\n",
      "31/31 [==============================] - 0s 4ms/step - loss: 1758956160.0000 - mean_absolute_error: 27823.5664 - val_loss: 1538948992.0000 - val_mean_absolute_error: 27447.4590\n",
      "Epoch 128/150\n",
      "31/31 [==============================] - 0s 4ms/step - loss: 1705497856.0000 - mean_absolute_error: 27419.8125 - val_loss: 1535579264.0000 - val_mean_absolute_error: 27382.0449\n",
      "Epoch 129/150\n",
      "31/31 [==============================] - 0s 4ms/step - loss: 1802870784.0000 - mean_absolute_error: 27645.7930 - val_loss: 1526537472.0000 - val_mean_absolute_error: 27301.7715\n",
      "Epoch 130/150\n",
      "31/31 [==============================] - 0s 4ms/step - loss: 1633611904.0000 - mean_absolute_error: 26840.0762 - val_loss: 1530103168.0000 - val_mean_absolute_error: 27275.5430\n",
      "Epoch 131/150\n",
      "31/31 [==============================] - 0s 4ms/step - loss: 1721745152.0000 - mean_absolute_error: 27528.9922 - val_loss: 1511799552.0000 - val_mean_absolute_error: 27154.5371\n",
      "Epoch 132/150\n",
      "31/31 [==============================] - 0s 4ms/step - loss: 1592967040.0000 - mean_absolute_error: 26434.4609 - val_loss: 1506973312.0000 - val_mean_absolute_error: 27096.0391\n",
      "Epoch 133/150\n",
      "31/31 [==============================] - 0s 4ms/step - loss: 1747926144.0000 - mean_absolute_error: 27018.1426 - val_loss: 1501434752.0000 - val_mean_absolute_error: 27047.6738\n",
      "Epoch 134/150\n",
      "31/31 [==============================] - 0s 4ms/step - loss: 1596827264.0000 - mean_absolute_error: 26745.8887 - val_loss: 1505168768.0000 - val_mean_absolute_error: 27009.7344\n",
      "Epoch 135/150\n",
      "31/31 [==============================] - 0s 4ms/step - loss: 1666253696.0000 - mean_absolute_error: 27254.8164 - val_loss: 1496037504.0000 - val_mean_absolute_error: 26944.9961\n",
      "Epoch 136/150\n",
      "31/31 [==============================] - 0s 4ms/step - loss: 1731631616.0000 - mean_absolute_error: 26757.9902 - val_loss: 1494054528.0000 - val_mean_absolute_error: 26905.5527\n",
      "Epoch 137/150\n",
      "31/31 [==============================] - 0s 4ms/step - loss: 1648050560.0000 - mean_absolute_error: 26528.8652 - val_loss: 1495336960.0000 - val_mean_absolute_error: 26876.4102\n",
      "Epoch 138/150\n",
      "31/31 [==============================] - 0s 4ms/step - loss: 1707538048.0000 - mean_absolute_error: 26868.7539 - val_loss: 1490850944.0000 - val_mean_absolute_error: 26825.7715\n",
      "Epoch 139/150\n",
      "31/31 [==============================] - 0s 4ms/step - loss: 1671232512.0000 - mean_absolute_error: 26942.6133 - val_loss: 1472396544.0000 - val_mean_absolute_error: 26761.0488\n",
      "Epoch 140/150\n",
      "31/31 [==============================] - 0s 4ms/step - loss: 1696945152.0000 - mean_absolute_error: 26919.5391 - val_loss: 1481494144.0000 - val_mean_absolute_error: 26737.9941\n",
      "Epoch 141/150\n",
      "31/31 [==============================] - 0s 4ms/step - loss: 1630738304.0000 - mean_absolute_error: 26581.6484 - val_loss: 1474614912.0000 - val_mean_absolute_error: 26690.8008\n",
      "Epoch 142/150\n",
      "31/31 [==============================] - 0s 4ms/step - loss: 1684849024.0000 - mean_absolute_error: 26878.4355 - val_loss: 1477279488.0000 - val_mean_absolute_error: 26665.8711\n",
      "Epoch 143/150\n",
      "31/31 [==============================] - 0s 4ms/step - loss: 1633580160.0000 - mean_absolute_error: 26875.2422 - val_loss: 1491035264.0000 - val_mean_absolute_error: 26673.3926\n",
      "Epoch 144/150\n",
      "31/31 [==============================] - 0s 4ms/step - loss: 1655430912.0000 - mean_absolute_error: 26537.5234 - val_loss: 1485863296.0000 - val_mean_absolute_error: 26626.3730\n",
      "Epoch 145/150\n",
      "31/31 [==============================] - 0s 4ms/step - loss: 1581082112.0000 - mean_absolute_error: 26190.9395 - val_loss: 1474934016.0000 - val_mean_absolute_error: 26571.9473\n",
      "Epoch 146/150\n",
      "31/31 [==============================] - 0s 4ms/step - loss: 1571715328.0000 - mean_absolute_error: 26313.6934 - val_loss: 1471007616.0000 - val_mean_absolute_error: 26540.7734\n",
      "Epoch 147/150\n",
      "31/31 [==============================] - 0s 4ms/step - loss: 1609905536.0000 - mean_absolute_error: 26787.7363 - val_loss: 1461680384.0000 - val_mean_absolute_error: 26500.9082\n",
      "Epoch 148/150\n",
      "31/31 [==============================] - 0s 4ms/step - loss: 1531374336.0000 - mean_absolute_error: 25855.6289 - val_loss: 1455333248.0000 - val_mean_absolute_error: 26459.5566\n",
      "Epoch 149/150\n",
      "31/31 [==============================] - 0s 4ms/step - loss: 1592572672.0000 - mean_absolute_error: 26100.8750 - val_loss: 1443860480.0000 - val_mean_absolute_error: 26410.8281\n",
      "Epoch 150/150\n",
      "31/31 [==============================] - 0s 4ms/step - loss: 1641009792.0000 - mean_absolute_error: 26593.7520 - val_loss: 1460929536.0000 - val_mean_absolute_error: 26402.3809\n"
     ]
    }
   ],
   "source": [
    "history = model.fit(X_train, y_train, validation_data=(X_val,y_val), epochs=150, batch_size=32)"
   ]
  },
  {
   "cell_type": "markdown",
   "id": "b4fb1fa5",
   "metadata": {
    "papermill": {
     "duration": 0.22193,
     "end_time": "2021-10-23T11:13:34.707925",
     "exception": false,
     "start_time": "2021-10-23T11:13:34.485995",
     "status": "completed"
    },
    "tags": []
   },
   "source": [
    "Vamos a mirar que tal ha funcionado el modelo. "
   ]
  },
  {
   "cell_type": "code",
   "execution_count": 29,
   "id": "4b0cae61",
   "metadata": {
    "execution": {
     "iopub.execute_input": "2021-10-23T11:13:35.173675Z",
     "iopub.status.busy": "2021-10-23T11:13:35.172310Z",
     "iopub.status.idle": "2021-10-23T11:13:35.773857Z",
     "shell.execute_reply": "2021-10-23T11:13:35.774432Z",
     "shell.execute_reply.started": "2021-10-23T11:11:10.128658Z"
    },
    "papermill": {
     "duration": 0.840687,
     "end_time": "2021-10-23T11:13:35.774630",
     "exception": false,
     "start_time": "2021-10-23T11:13:34.933943",
     "status": "completed"
    },
    "tags": []
   },
   "outputs": [
    {
     "data": {
      "image/png": "[encoded data removed]",
      "text/plain": [
       "<Figure size 432x288 with 1 Axes>"
      ]
     },
     "metadata": {},
     "output_type": "display_data"
    },
    {
     "data": {
      "image/png": "[encoded data removed]",
      "text/plain": [
       "<Figure size 432x288 with 1 Axes>"
      ]
     },
     "metadata": {},
     "output_type": "display_data"
    }
   ],
   "source": [
    "# Miramos el gráfico del accuracy para el conjunto de entrenamiento y prueba\n",
    "plt.plot(history.history['mean_absolute_error'])\n",
    "plt.plot(history.history['val_mean_absolute_error'])\n",
    "plt.title('Model Accuracy')\n",
    "plt.ylabel('Accuracy')\n",
    "plt.xlabel('Número de Epoch')\n",
    "plt.legend(['Entrenamiento', 'Validación'], loc='upper left')\n",
    "plt.show()\n",
    "\n",
    "# Miramos el gráfico de pérdida para el conjunto de entrenamiento y prueba\n",
    "plt.plot(history.history['loss'])\n",
    "plt.plot(history.history['val_loss'])\n",
    "plt.title('Model Loss')\n",
    "plt.ylabel('Loss')\n",
    "plt.xlabel('Número de Epoch')\n",
    "plt.legend(['Entrenamiento', 'Validación'], loc='upper left')\n",
    "plt.show()"
   ]
  },
  {
   "cell_type": "markdown",
   "id": "700312ff",
   "metadata": {
    "papermill": {
     "duration": 0.226869,
     "end_time": "2021-10-23T11:13:36.238803",
     "exception": false,
     "start_time": "2021-10-23T11:13:36.011934",
     "status": "completed"
    },
    "tags": []
   },
   "source": [
    "Recargamos los datos de test para predecir."
   ]
  },
  {
   "cell_type": "code",
   "execution_count": 30,
   "id": "6fa56bc1",
   "metadata": {
    "execution": {
     "iopub.execute_input": "2021-10-23T11:13:36.691720Z",
     "iopub.status.busy": "2021-10-23T11:13:36.691026Z",
     "iopub.status.idle": "2021-10-23T11:13:36.717124Z",
     "shell.execute_reply": "2021-10-23T11:13:36.716474Z",
     "shell.execute_reply.started": "2021-10-23T11:11:10.613447Z"
    },
    "papermill": {
     "duration": 0.253962,
     "end_time": "2021-10-23T11:13:36.717280",
     "exception": false,
     "start_time": "2021-10-23T11:13:36.463318",
     "status": "completed"
    },
    "tags": []
   },
   "outputs": [],
   "source": [
    "df_test = pd.read_csv(\"/kaggle/input/house-prices-advanced-regression-techniques/test.csv\")"
   ]
  },
  {
   "cell_type": "markdown",
   "id": "ea2b2c73",
   "metadata": {
    "papermill": {
     "duration": 0.226997,
     "end_time": "2021-10-23T11:13:37.175432",
     "exception": false,
     "start_time": "2021-10-23T11:13:36.948435",
     "status": "completed"
    },
    "tags": []
   },
   "source": [
    "Escogemos como datos de entrada claramente las mismas columnas que para datos de entrenamiento. Y realizamos el mismo procedimiento de estandarización"
   ]
  },
  {
   "cell_type": "code",
   "execution_count": 31,
   "id": "8524c23b",
   "metadata": {
    "execution": {
     "iopub.execute_input": "2021-10-23T11:13:37.636558Z",
     "iopub.status.busy": "2021-10-23T11:13:37.635810Z",
     "iopub.status.idle": "2021-10-23T11:13:37.731864Z",
     "shell.execute_reply": "2021-10-23T11:13:37.731234Z",
     "shell.execute_reply.started": "2021-10-23T11:11:10.640253Z"
    },
    "papermill": {
     "duration": 0.331551,
     "end_time": "2021-10-23T11:13:37.732016",
     "exception": false,
     "start_time": "2021-10-23T11:13:37.400465",
     "status": "completed"
    },
    "tags": []
   },
   "outputs": [],
   "source": [
    "cols = ['OverallQual', 'GrLivArea', 'GarageCars', 'FullBath', 'YearBuilt']\n",
    "id_col = df_test['Id'].values.tolist()\n",
    "df_test['GrLivArea'] = np.log1p(df_test['GrLivArea'])\n",
    "df_test = pd.get_dummies(df_test)\n",
    "df_test = df_test.fillna(df_test.mean())\n",
    "X_test = df_test[cols].values\n",
    "\n",
    "# Volvemos a usar la estandarización \n",
    "scale = StandardScaler()\n",
    "X_test = scale.fit_transform(X_test)"
   ]
  },
  {
   "cell_type": "markdown",
   "id": "82840f4d",
   "metadata": {
    "papermill": {
     "duration": 0.23034,
     "end_time": "2021-10-23T11:13:38.191447",
     "exception": false,
     "start_time": "2021-10-23T11:13:37.961107",
     "status": "completed"
    },
    "tags": []
   },
   "source": [
    "Una vez realizado el entrenamiento, le pasamos al modelo nuevos ejemplos que no ha visto para que realice una predicción."
   ]
  },
  {
   "cell_type": "code",
   "execution_count": 32,
   "id": "f204f22a",
   "metadata": {
    "execution": {
     "iopub.execute_input": "2021-10-23T11:13:38.651477Z",
     "iopub.status.busy": "2021-10-23T11:13:38.650701Z",
     "iopub.status.idle": "2021-10-23T11:13:39.173548Z",
     "shell.execute_reply": "2021-10-23T11:13:39.172940Z",
     "shell.execute_reply.started": "2021-10-23T11:11:10.737961Z"
    },
    "papermill": {
     "duration": 0.755357,
     "end_time": "2021-10-23T11:13:39.173729",
     "exception": false,
     "start_time": "2021-10-23T11:13:38.418372",
     "status": "completed"
    },
    "tags": []
   },
   "outputs": [],
   "source": [
    "prediction = model.predict(X_test)"
   ]
  },
  {
   "cell_type": "markdown",
   "id": "d42c114f",
   "metadata": {
    "papermill": {
     "duration": 0.225569,
     "end_time": "2021-10-23T11:13:39.624485",
     "exception": false,
     "start_time": "2021-10-23T11:13:39.398916",
     "status": "completed"
    },
    "tags": []
   },
   "source": [
    "Como queremos ver un ejemplode valor real, vamos a crear una variable X_new que nos sirva como nuevo ejemplo de un dato que el algoritmo nunca ha visto. Debemos preprocesar este nuevo ejemplo antes de predecirlo"
   ]
  },
  {
   "cell_type": "code",
   "execution_count": 33,
   "id": "64f4d2f8",
   "metadata": {
    "execution": {
     "iopub.execute_input": "2021-10-23T11:13:40.107117Z",
     "iopub.status.busy": "2021-10-23T11:13:40.106072Z",
     "iopub.status.idle": "2021-10-23T11:13:40.112859Z",
     "shell.execute_reply": "2021-10-23T11:13:40.113948Z",
     "shell.execute_reply.started": "2021-10-23T11:11:10.877528Z"
    },
    "papermill": {
     "duration": 0.259946,
     "end_time": "2021-10-23T11:13:40.114294",
     "exception": false,
     "start_time": "2021-10-23T11:13:39.854348",
     "status": "completed"
    },
    "tags": []
   },
   "outputs": [
    {
     "name": "stdout",
     "output_type": "stream",
     "text": [
      "[0.64134693 0.50690378 0.30162251 0.77308345 1.07447637]\n"
     ]
    }
   ],
   "source": [
    "X_new = X_test[30]\n",
    "print(X_new)\n",
    "\n",
    "scale = StandardScaler()\n",
    "X_new = scale.fit_transform(X_test)"
   ]
  },
  {
   "cell_type": "markdown",
   "id": "2cb54d03",
   "metadata": {
    "papermill": {
     "duration": 0.224663,
     "end_time": "2021-10-23T11:13:40.572504",
     "exception": false,
     "start_time": "2021-10-23T11:13:40.347841",
     "status": "completed"
    },
    "tags": []
   },
   "source": [
    "Realizamos la predicción"
   ]
  },
  {
   "cell_type": "code",
   "execution_count": 34,
   "id": "7da0fd26",
   "metadata": {
    "execution": {
     "iopub.execute_input": "2021-10-23T11:13:41.039488Z",
     "iopub.status.busy": "2021-10-23T11:13:41.038775Z",
     "iopub.status.idle": "2021-10-23T11:13:41.145011Z",
     "shell.execute_reply": "2021-10-23T11:13:41.143528Z",
     "shell.execute_reply.started": "2021-10-23T11:11:10.885699Z"
    },
    "papermill": {
     "duration": 0.340449,
     "end_time": "2021-10-23T11:13:41.145189",
     "exception": false,
     "start_time": "2021-10-23T11:13:40.804740",
     "status": "completed"
    },
    "tags": []
   },
   "outputs": [],
   "source": [
    "Y_predict = model.predict(X_new)"
   ]
  },
  {
   "cell_type": "markdown",
   "id": "2042fb9b",
   "metadata": {
    "papermill": {
     "duration": 0.22633,
     "end_time": "2021-10-23T11:13:41.597486",
     "exception": false,
     "start_time": "2021-10-23T11:13:41.371156",
     "status": "completed"
    },
    "tags": []
   },
   "source": [
    "Comparamos la predicción con el valor original"
   ]
  },
  {
   "cell_type": "code",
   "execution_count": 35,
   "id": "17e57d3a",
   "metadata": {
    "execution": {
     "iopub.execute_input": "2021-10-23T11:13:42.060831Z",
     "iopub.status.busy": "2021-10-23T11:13:42.059814Z",
     "iopub.status.idle": "2021-10-23T11:13:42.063399Z",
     "shell.execute_reply": "2021-10-23T11:13:42.063940Z",
     "shell.execute_reply.started": "2021-10-23T11:11:10.991722Z"
    },
    "papermill": {
     "duration": 0.239801,
     "end_time": "2021-10-23T11:13:42.064126",
     "exception": false,
     "start_time": "2021-10-23T11:13:41.824325",
     "status": "completed"
    },
    "tags": []
   },
   "outputs": [
    {
     "name": "stdout",
     "output_type": "stream",
     "text": [
      " Predicción realizada por el modelo [220745.14]\n",
      " Valor original  162900\n"
     ]
    }
   ],
   "source": [
    "print ( \" Predicción realizada por el modelo\", Y_predict[30].round(2))\n",
    "print (\" Valor original \", y_val[30])"
   ]
  },
  {
   "cell_type": "markdown",
   "id": "ff54cd20",
   "metadata": {
    "papermill": {
     "duration": 0.229834,
     "end_time": "2021-10-23T11:13:42.525510",
     "exception": false,
     "start_time": "2021-10-23T11:13:42.295676",
     "status": "completed"
    },
    "tags": []
   },
   "source": [
    "Creamos el fichero final para submission.csv"
   ]
  },
  {
   "cell_type": "code",
   "execution_count": 36,
   "id": "52d0793b",
   "metadata": {
    "execution": {
     "iopub.execute_input": "2021-10-23T11:13:42.990402Z",
     "iopub.status.busy": "2021-10-23T11:13:42.989408Z",
     "iopub.status.idle": "2021-10-23T11:13:42.992769Z",
     "shell.execute_reply": "2021-10-23T11:13:42.992203Z",
     "shell.execute_reply.started": "2021-10-23T11:11:11.000058Z"
    },
    "papermill": {
     "duration": 0.237422,
     "end_time": "2021-10-23T11:13:42.992920",
     "exception": false,
     "start_time": "2021-10-23T11:13:42.755498",
     "status": "completed"
    },
    "tags": []
   },
   "outputs": [],
   "source": [
    "#submission = pd.DataFrame()\n",
    "#submission['Id'] = id_col\n",
    "#submission['SalePrice'] = prediction"
   ]
  },
  {
   "cell_type": "code",
   "execution_count": 37,
   "id": "d1aa42a7",
   "metadata": {
    "execution": {
     "iopub.execute_input": "2021-10-23T11:13:43.451952Z",
     "iopub.status.busy": "2021-10-23T11:13:43.451233Z",
     "iopub.status.idle": "2021-10-23T11:13:43.454169Z",
     "shell.execute_reply": "2021-10-23T11:13:43.454746Z",
     "shell.execute_reply.started": "2021-10-23T11:11:11.011342Z"
    },
    "papermill": {
     "duration": 0.232594,
     "end_time": "2021-10-23T11:13:43.454927",
     "exception": false,
     "start_time": "2021-10-23T11:13:43.222333",
     "status": "completed"
    },
    "tags": []
   },
   "outputs": [],
   "source": [
    "#submission.to_csv('submission.csv', index=False)"
   ]
  },
  {
   "cell_type": "markdown",
   "id": "062b254e",
   "metadata": {
    "papermill": {
     "duration": 0.228242,
     "end_time": "2021-10-23T11:13:43.911788",
     "exception": false,
     "start_time": "2021-10-23T11:13:43.683546",
     "status": "completed"
    },
    "tags": []
   },
   "source": [
    "Como creemos que podemos mejorar el modelo, vamos a intentar con **RandomForest** como algoritmo de predicción"
   ]
  },
  {
   "cell_type": "markdown",
   "id": "f9af1230",
   "metadata": {
    "papermill": {
     "duration": 0.224836,
     "end_time": "2021-10-23T11:13:44.363777",
     "exception": false,
     "start_time": "2021-10-23T11:13:44.138941",
     "status": "completed"
    },
    "tags": []
   },
   "source": [
    "Volvemos a cargar el fichero de datos de entrenamiento"
   ]
  },
  {
   "cell_type": "code",
   "execution_count": 38,
   "id": "d1f0e669",
   "metadata": {
    "execution": {
     "iopub.execute_input": "2021-10-23T11:13:44.830452Z",
     "iopub.status.busy": "2021-10-23T11:13:44.829664Z",
     "iopub.status.idle": "2021-10-23T11:13:45.062461Z",
     "shell.execute_reply": "2021-10-23T11:13:45.061826Z",
     "shell.execute_reply.started": "2021-10-23T11:11:11.023884Z"
    },
    "papermill": {
     "duration": 0.467758,
     "end_time": "2021-10-23T11:13:45.062609",
     "exception": false,
     "start_time": "2021-10-23T11:13:44.594851",
     "status": "completed"
    },
    "tags": []
   },
   "outputs": [],
   "source": [
    "from sklearn.ensemble import RandomForestRegressor\n",
    "from sklearn.metrics import mean_absolute_error\n",
    "from sklearn.model_selection import train_test_split\n",
    "\n",
    "# Load the data, and separate the target\n",
    "file_path = '/kaggle/input/house-prices-advanced-regression-techniques/train.csv'\n",
    "home_data = pd.read_csv(file_path)"
   ]
  },
  {
   "cell_type": "markdown",
   "id": "7ecc7e6e",
   "metadata": {
    "papermill": {
     "duration": 0.227853,
     "end_time": "2021-10-23T11:13:45.521201",
     "exception": false,
     "start_time": "2021-10-23T11:13:45.293348",
     "status": "completed"
    },
    "tags": []
   },
   "source": [
    "Escogemos como características de entrada algunas de las columnas del conjunto de datos. Claramente seleccionaremos las características más relevantes y que no tengan valores nulos\n",
    "\n",
    "Añadimos las columnas a nuestro conjunto de datos de entrada X"
   ]
  },
  {
   "cell_type": "code",
   "execution_count": 39,
   "id": "48e3f838",
   "metadata": {
    "execution": {
     "iopub.execute_input": "2021-10-23T11:13:45.986269Z",
     "iopub.status.busy": "2021-10-23T11:13:45.985180Z",
     "iopub.status.idle": "2021-10-23T11:13:46.005778Z",
     "shell.execute_reply": "2021-10-23T11:13:46.006302Z",
     "shell.execute_reply.started": "2021-10-23T11:11:11.057068Z"
    },
    "papermill": {
     "duration": 0.255309,
     "end_time": "2021-10-23T11:13:46.006504",
     "exception": false,
     "start_time": "2021-10-23T11:13:45.751195",
     "status": "completed"
    },
    "tags": []
   },
   "outputs": [
    {
     "data": {
      "text/html": [
       "<div>\n",
       "<style scoped>\n",
       "    .dataframe tbody tr th:only-of-type {\n",
       "        vertical-align: middle;\n",
       "    }\n",
       "\n",
       "    .dataframe tbody tr th {\n",
       "        vertical-align: top;\n",
       "    }\n",
       "\n",
       "    .dataframe thead th {\n",
       "        text-align: right;\n",
       "    }\n",
       "</style>\n",
       "<table border=\"1\" class=\"dataframe\">\n",
       "  <thead>\n",
       "    <tr style=\"text-align: right;\">\n",
       "      <th></th>\n",
       "      <th>LotArea</th>\n",
       "      <th>YearBuilt</th>\n",
       "      <th>1stFlrSF</th>\n",
       "      <th>2ndFlrSF</th>\n",
       "      <th>FullBath</th>\n",
       "      <th>BedroomAbvGr</th>\n",
       "      <th>TotRmsAbvGrd</th>\n",
       "      <th>MSSubClass</th>\n",
       "      <th>OverallQual</th>\n",
       "      <th>OverallCond</th>\n",
       "      <th>...</th>\n",
       "      <th>Fireplaces</th>\n",
       "      <th>WoodDeckSF</th>\n",
       "      <th>OpenPorchSF</th>\n",
       "      <th>EnclosedPorch</th>\n",
       "      <th>3SsnPorch</th>\n",
       "      <th>ScreenPorch</th>\n",
       "      <th>PoolArea</th>\n",
       "      <th>MiscVal</th>\n",
       "      <th>MoSold</th>\n",
       "      <th>YrSold</th>\n",
       "    </tr>\n",
       "  </thead>\n",
       "  <tbody>\n",
       "    <tr>\n",
       "      <th>0</th>\n",
       "      <td>8450</td>\n",
       "      <td>2003</td>\n",
       "      <td>856</td>\n",
       "      <td>854</td>\n",
       "      <td>2</td>\n",
       "      <td>3</td>\n",
       "      <td>8</td>\n",
       "      <td>60</td>\n",
       "      <td>7</td>\n",
       "      <td>5</td>\n",
       "      <td>...</td>\n",
       "      <td>0</td>\n",
       "      <td>0</td>\n",
       "      <td>61</td>\n",
       "      <td>0</td>\n",
       "      <td>0</td>\n",
       "      <td>0</td>\n",
       "      <td>0</td>\n",
       "      <td>0</td>\n",
       "      <td>2</td>\n",
       "      <td>2008</td>\n",
       "    </tr>\n",
       "    <tr>\n",
       "      <th>1</th>\n",
       "      <td>9600</td>\n",
       "      <td>1976</td>\n",
       "      <td>1262</td>\n",
       "      <td>0</td>\n",
       "      <td>2</td>\n",
       "      <td>3</td>\n",
       "      <td>6</td>\n",
       "      <td>20</td>\n",
       "      <td>6</td>\n",
       "      <td>8</td>\n",
       "      <td>...</td>\n",
       "      <td>1</td>\n",
       "      <td>298</td>\n",
       "      <td>0</td>\n",
       "      <td>0</td>\n",
       "      <td>0</td>\n",
       "      <td>0</td>\n",
       "      <td>0</td>\n",
       "      <td>0</td>\n",
       "      <td>5</td>\n",
       "      <td>2007</td>\n",
       "    </tr>\n",
       "    <tr>\n",
       "      <th>2</th>\n",
       "      <td>11250</td>\n",
       "      <td>2001</td>\n",
       "      <td>920</td>\n",
       "      <td>866</td>\n",
       "      <td>2</td>\n",
       "      <td>3</td>\n",
       "      <td>6</td>\n",
       "      <td>60</td>\n",
       "      <td>7</td>\n",
       "      <td>5</td>\n",
       "      <td>...</td>\n",
       "      <td>1</td>\n",
       "      <td>0</td>\n",
       "      <td>42</td>\n",
       "      <td>0</td>\n",
       "      <td>0</td>\n",
       "      <td>0</td>\n",
       "      <td>0</td>\n",
       "      <td>0</td>\n",
       "      <td>9</td>\n",
       "      <td>2008</td>\n",
       "    </tr>\n",
       "    <tr>\n",
       "      <th>3</th>\n",
       "      <td>9550</td>\n",
       "      <td>1915</td>\n",
       "      <td>961</td>\n",
       "      <td>756</td>\n",
       "      <td>1</td>\n",
       "      <td>3</td>\n",
       "      <td>7</td>\n",
       "      <td>70</td>\n",
       "      <td>7</td>\n",
       "      <td>5</td>\n",
       "      <td>...</td>\n",
       "      <td>1</td>\n",
       "      <td>0</td>\n",
       "      <td>35</td>\n",
       "      <td>272</td>\n",
       "      <td>0</td>\n",
       "      <td>0</td>\n",
       "      <td>0</td>\n",
       "      <td>0</td>\n",
       "      <td>2</td>\n",
       "      <td>2006</td>\n",
       "    </tr>\n",
       "    <tr>\n",
       "      <th>4</th>\n",
       "      <td>14260</td>\n",
       "      <td>2000</td>\n",
       "      <td>1145</td>\n",
       "      <td>1053</td>\n",
       "      <td>2</td>\n",
       "      <td>4</td>\n",
       "      <td>9</td>\n",
       "      <td>60</td>\n",
       "      <td>8</td>\n",
       "      <td>5</td>\n",
       "      <td>...</td>\n",
       "      <td>1</td>\n",
       "      <td>192</td>\n",
       "      <td>84</td>\n",
       "      <td>0</td>\n",
       "      <td>0</td>\n",
       "      <td>0</td>\n",
       "      <td>0</td>\n",
       "      <td>0</td>\n",
       "      <td>12</td>\n",
       "      <td>2008</td>\n",
       "    </tr>\n",
       "  </tbody>\n",
       "</table>\n",
       "<p>5 rows × 25 columns</p>\n",
       "</div>"
      ],
      "text/plain": [
       "   LotArea  YearBuilt  1stFlrSF  2ndFlrSF  FullBath  BedroomAbvGr  \\\n",
       "0     8450       2003       856       854         2             3   \n",
       "1     9600       1976      1262         0         2             3   \n",
       "2    11250       2001       920       866         2             3   \n",
       "3     9550       1915       961       756         1             3   \n",
       "4    14260       2000      1145      1053         2             4   \n",
       "\n",
       "   TotRmsAbvGrd  MSSubClass  OverallQual  OverallCond  ...  Fireplaces  \\\n",
       "0             8          60            7            5  ...           0   \n",
       "1             6          20            6            8  ...           1   \n",
       "2             6          60            7            5  ...           1   \n",
       "3             7          70            7            5  ...           1   \n",
       "4             9          60            8            5  ...           1   \n",
       "\n",
       "   WoodDeckSF  OpenPorchSF  EnclosedPorch  3SsnPorch  ScreenPorch  PoolArea  \\\n",
       "0           0           61              0          0            0         0   \n",
       "1         298            0              0          0            0         0   \n",
       "2           0           42              0          0            0         0   \n",
       "3           0           35            272          0            0         0   \n",
       "4         192           84              0          0            0         0   \n",
       "\n",
       "   MiscVal  MoSold  YrSold  \n",
       "0        0       2    2008  \n",
       "1        0       5    2007  \n",
       "2        0       9    2008  \n",
       "3        0       2    2006  \n",
       "4        0      12    2008  \n",
       "\n",
       "[5 rows x 25 columns]"
      ]
     },
     "execution_count": 39,
     "metadata": {},
     "output_type": "execute_result"
    }
   ],
   "source": [
    "features = ['LotArea', 'YearBuilt', '1stFlrSF', '2ndFlrSF', 'FullBath', 'BedroomAbvGr', 'TotRmsAbvGrd', 'MSSubClass',\n",
    "            'OverallQual', 'OverallCond', 'YearRemodAdd', 'LowQualFinSF', 'GrLivArea', 'HalfBath', 'KitchenAbvGr',\n",
    "            'Fireplaces', 'WoodDeckSF', 'OpenPorchSF', 'EnclosedPorch', '3SsnPorch', 'ScreenPorch', 'PoolArea',    \n",
    "            'MiscVal', 'MoSold', 'YrSold']\n",
    "\n",
    "# Select columns corresponding to features, and preview the data\n",
    "X = home_data[features]\n",
    "X.head()"
   ]
  },
  {
   "cell_type": "markdown",
   "id": "9a678e25",
   "metadata": {
    "papermill": {
     "duration": 0.22456,
     "end_time": "2021-10-23T11:13:46.458045",
     "exception": false,
     "start_time": "2021-10-23T11:13:46.233485",
     "status": "completed"
    },
    "tags": []
   },
   "source": [
    "y será la etiqueta de salida, \"SalePrice\""
   ]
  },
  {
   "cell_type": "code",
   "execution_count": 40,
   "id": "d67ed3a4",
   "metadata": {
    "execution": {
     "iopub.execute_input": "2021-10-23T11:13:46.917477Z",
     "iopub.status.busy": "2021-10-23T11:13:46.916437Z",
     "iopub.status.idle": "2021-10-23T11:13:46.920293Z",
     "shell.execute_reply": "2021-10-23T11:13:46.920771Z",
     "shell.execute_reply.started": "2021-10-23T11:11:11.078556Z"
    },
    "papermill": {
     "duration": 0.236863,
     "end_time": "2021-10-23T11:13:46.920948",
     "exception": false,
     "start_time": "2021-10-23T11:13:46.684085",
     "status": "completed"
    },
    "tags": []
   },
   "outputs": [],
   "source": [
    "y = home_data.SalePrice"
   ]
  },
  {
   "cell_type": "markdown",
   "id": "172efd47",
   "metadata": {
    "papermill": {
     "duration": 0.227891,
     "end_time": "2021-10-23T11:13:47.377651",
     "exception": false,
     "start_time": "2021-10-23T11:13:47.149760",
     "status": "completed"
    },
    "tags": []
   },
   "source": [
    "Dividimos el conjunto de datos X en entrenamiento y validación con la función train_test_spit"
   ]
  },
  {
   "cell_type": "code",
   "execution_count": 41,
   "id": "1b2f764c",
   "metadata": {
    "execution": {
     "iopub.execute_input": "2021-10-23T11:13:47.832934Z",
     "iopub.status.busy": "2021-10-23T11:13:47.831879Z",
     "iopub.status.idle": "2021-10-23T11:13:47.838132Z",
     "shell.execute_reply": "2021-10-23T11:13:47.838628Z",
     "shell.execute_reply.started": "2021-10-23T11:11:11.093314Z"
    },
    "papermill": {
     "duration": 0.235423,
     "end_time": "2021-10-23T11:13:47.838844",
     "exception": false,
     "start_time": "2021-10-23T11:13:47.603421",
     "status": "completed"
    },
    "tags": []
   },
   "outputs": [],
   "source": [
    "train_X, val_X, train_y, val_y = train_test_split(X, y, random_state=1)"
   ]
  },
  {
   "cell_type": "markdown",
   "id": "6f23dfa3",
   "metadata": {
    "papermill": {
     "duration": 0.228603,
     "end_time": "2021-10-23T11:13:48.298881",
     "exception": false,
     "start_time": "2021-10-23T11:13:48.070278",
     "status": "completed"
    },
    "tags": []
   },
   "source": [
    "Creamos nuestro modelo Random Forest.\n",
    "\n",
    "* random_state : semilla para que los resultados sean reproducibles."
   ]
  },
  {
   "cell_type": "code",
   "execution_count": 42,
   "id": "56798bec",
   "metadata": {
    "execution": {
     "iopub.execute_input": "2021-10-23T11:13:48.757959Z",
     "iopub.status.busy": "2021-10-23T11:13:48.757102Z",
     "iopub.status.idle": "2021-10-23T11:13:48.759977Z",
     "shell.execute_reply": "2021-10-23T11:13:48.759382Z",
     "shell.execute_reply.started": "2021-10-23T11:11:11.105801Z"
    },
    "papermill": {
     "duration": 0.235201,
     "end_time": "2021-10-23T11:13:48.760137",
     "exception": false,
     "start_time": "2021-10-23T11:13:48.524936",
     "status": "completed"
    },
    "tags": []
   },
   "outputs": [],
   "source": [
    "rf_model = RandomForestRegressor(random_state=1)"
   ]
  },
  {
   "cell_type": "markdown",
   "id": "01764039",
   "metadata": {
    "papermill": {
     "duration": 0.230094,
     "end_time": "2021-10-23T11:13:49.220251",
     "exception": false,
     "start_time": "2021-10-23T11:13:48.990157",
     "status": "completed"
    },
    "tags": []
   },
   "source": [
    "Entrenamos el modelo y predecimos con el conjunto de datos de validación.\n",
    "Comprobamos el valor absoluto medio."
   ]
  },
  {
   "cell_type": "code",
   "execution_count": 43,
   "id": "ea23dc96",
   "metadata": {
    "execution": {
     "iopub.execute_input": "2021-10-23T11:13:49.682465Z",
     "iopub.status.busy": "2021-10-23T11:13:49.681728Z",
     "iopub.status.idle": "2021-10-23T11:13:50.627168Z",
     "shell.execute_reply": "2021-10-23T11:13:50.626332Z",
     "shell.execute_reply.started": "2021-10-23T11:11:11.114798Z"
    },
    "papermill": {
     "duration": 1.180413,
     "end_time": "2021-10-23T11:13:50.627387",
     "exception": false,
     "start_time": "2021-10-23T11:13:49.446974",
     "status": "completed"
    },
    "tags": []
   },
   "outputs": [
    {
     "name": "stdout",
     "output_type": "stream",
     "text": [
      "Validation MAE for Random Forest Model: 17,747\n"
     ]
    }
   ],
   "source": [
    "rf_model.fit(train_X, train_y)\n",
    "rf_val_predictions = rf_model.predict(val_X)\n",
    "rf_val_mae = mean_absolute_error(rf_val_predictions, val_y)\n",
    "\n",
    "print(\"Validation MAE for Random Forest Model: {:,.0f}\".format(rf_val_mae))"
   ]
  },
  {
   "cell_type": "markdown",
   "id": "f42a0c2e",
   "metadata": {
    "papermill": {
     "duration": 0.248857,
     "end_time": "2021-10-23T11:13:51.104977",
     "exception": false,
     "start_time": "2021-10-23T11:13:50.856120",
     "status": "completed"
    },
    "tags": []
   },
   "source": [
    "Como vemos que el error no os demasiado grande, podemos mantener este modelo"
   ]
  },
  {
   "cell_type": "code",
   "execution_count": 44,
   "id": "143f70b7",
   "metadata": {
    "execution": {
     "iopub.execute_input": "2021-10-23T11:13:51.583467Z",
     "iopub.status.busy": "2021-10-23T11:13:51.582469Z",
     "iopub.status.idle": "2021-10-23T11:13:52.812639Z",
     "shell.execute_reply": "2021-10-23T11:13:52.812063Z",
     "shell.execute_reply.started": "2021-10-23T11:11:12.065892Z"
    },
    "papermill": {
     "duration": 1.462576,
     "end_time": "2021-10-23T11:13:52.812840",
     "exception": false,
     "start_time": "2021-10-23T11:13:51.350264",
     "status": "completed"
    },
    "tags": []
   },
   "outputs": [
    {
     "data": {
      "text/plain": [
       "RandomForestRegressor()"
      ]
     },
     "execution_count": 44,
     "metadata": {},
     "output_type": "execute_result"
    }
   ],
   "source": [
    "rf_model_on_full_data = RandomForestRegressor()\n",
    "rf_model_on_full_data.fit(X, y)"
   ]
  },
  {
   "cell_type": "markdown",
   "id": "8834bf43",
   "metadata": {
    "papermill": {
     "duration": 0.232068,
     "end_time": "2021-10-23T11:13:53.289301",
     "exception": false,
     "start_time": "2021-10-23T11:13:53.057233",
     "status": "completed"
    },
    "tags": []
   },
   "source": [
    "Prededimos con valores nuevos que no conoce el modelo "
   ]
  },
  {
   "cell_type": "code",
   "execution_count": 45,
   "id": "82be91d5",
   "metadata": {
    "execution": {
     "iopub.execute_input": "2021-10-23T11:13:53.757230Z",
     "iopub.status.busy": "2021-10-23T11:13:53.756508Z",
     "iopub.status.idle": "2021-10-23T11:13:53.814663Z",
     "shell.execute_reply": "2021-10-23T11:13:53.814056Z",
     "shell.execute_reply.started": "2021-10-23T11:11:13.293805Z"
    },
    "papermill": {
     "duration": 0.294477,
     "end_time": "2021-10-23T11:13:53.814838",
     "exception": false,
     "start_time": "2021-10-23T11:13:53.520361",
     "status": "completed"
    },
    "tags": []
   },
   "outputs": [],
   "source": [
    "test_data_path = '/kaggle/input/house-prices-advanced-regression-techniques/test.csv'\n",
    "test_dataF = pd.read_csv(test_data_path)\n",
    "\n",
    "test_X = test_dataF[features]\n",
    "test_preds = rf_model_on_full_data.predict(test_X)"
   ]
  },
  {
   "cell_type": "markdown",
   "id": "66a56709",
   "metadata": {
    "papermill": {
     "duration": 0.227113,
     "end_time": "2021-10-23T11:13:54.271405",
     "exception": false,
     "start_time": "2021-10-23T11:13:54.044292",
     "status": "completed"
    },
    "tags": []
   },
   "source": [
    "Guardamos en archivo de submission los resultados"
   ]
  },
  {
   "cell_type": "code",
   "execution_count": 46,
   "id": "8131c431",
   "metadata": {
    "execution": {
     "iopub.execute_input": "2021-10-23T11:13:54.730308Z",
     "iopub.status.busy": "2021-10-23T11:13:54.729268Z",
     "iopub.status.idle": "2021-10-23T11:13:54.743378Z",
     "shell.execute_reply": "2021-10-23T11:13:54.742760Z",
     "shell.execute_reply.started": "2021-10-23T11:11:13.350196Z"
    },
    "papermill": {
     "duration": 0.243348,
     "end_time": "2021-10-23T11:13:54.743524",
     "exception": false,
     "start_time": "2021-10-23T11:13:54.500176",
     "status": "completed"
    },
    "tags": []
   },
   "outputs": [],
   "source": [
    "output = pd.DataFrame({'Id': test_dataF.Id,\n",
    "                       'SalePrice': test_preds})\n",
    "\n",
    "output.to_csv('submission.csv', index=False)"
   ]
  },
  {
   "cell_type": "code",
   "execution_count": null,
   "id": "6e8da64f",
   "metadata": {
    "papermill": {
     "duration": 0.227903,
     "end_time": "2021-10-23T11:13:55.201418",
     "exception": false,
     "start_time": "2021-10-23T11:13:54.973515",
     "status": "completed"
    },
    "tags": []
   },
   "outputs": [],
   "source": []
  },
  {
   "cell_type": "markdown",
   "id": "3d6b3566",
   "metadata": {
    "papermill": {
     "duration": 0.226097,
     "end_time": "2021-10-23T11:13:55.655845",
     "exception": false,
     "start_time": "2021-10-23T11:13:55.429748",
     "status": "completed"
    },
    "tags": []
   },
   "source": [
    "Al principio hemos pensado que una red neuronal podía ser un buen modelo, pero acabamos de ver que el algoritmo RandomForest que es más sencillo funciona mejor para datos nuevos.\n",
    "\n",
    "Seguramente nuestra red neuronal esté produciendo overfitting o incluso las características de entrada no sean las adecuadas para el proceso de entrenamiento."
   ]
  }
 ],
 "metadata": {
  "kernelspec": {
   "display_name": "Python 3",
   "language": "python",
   "name": "python3"
  },
  "language_info": {
   "codemirror_mode": {
    "name": "ipython",
    "version": 3
   },
   "file_extension": ".py",
   "mimetype": "text/x-python",
   "name": "python",
   "nbconvert_exporter": "python",
   "pygments_lexer": "ipython3",
   "version": "3.7.10"
  },
  "papermill": {
   "default_parameters": {},
   "duration": 83.079492,
   "end_time": "2021-10-23T11:13:58.973529",
   "environment_variables": {},
   "exception": null,
   "input_path": "__notebook__.ipynb",
   "output_path": "__notebook__.ipynb",
   "parameters": {},
   "start_time": "2021-10-23T11:12:35.894037",
   "version": "2.3.3"
  }
 },
 "nbformat": 4,
 "nbformat_minor": 5
}
